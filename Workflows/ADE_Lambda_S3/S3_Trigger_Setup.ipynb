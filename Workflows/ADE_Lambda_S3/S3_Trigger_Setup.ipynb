{
 "cells": [
  {
   "cell_type": "markdown",
   "metadata": {},
   "source": [
    "# S3 Trigger Setup - Automatic Document Processing with ADE"
   ]
  },
  {
   "cell_type": "code",
   "execution_count": 1,
   "metadata": {},
   "outputs": [],
   "source": [
    "# ---\n",
    "# LandingAI Applied AI Content Notebook Template\n",
    "# ---\n",
    "# Title: S3 Trigger Setup - Automatic Document Processing with ADE\n",
    "# Author: Ava Xia\n",
    "# Description: Streamlined notebook for testing and using the deployed Lambda function\n",
    "# Target Audience: [Developers, Partners, Customers]\n",
    "# Content Type: [Tutorial, How-To]\n",
    "# Publish Date: 2025-09-23\n",
    "# ADE Version: v0.1.5\n",
    "# Change Log:\n",
    "#    - v1.0: Initial draft\n",
    "#    - v1.1: Modularized with utility functions\n",
    "# ---"
   ]
  },
  {
   "cell_type": "markdown",
   "metadata": {},
   "source": [
    "This notebook configures automatic processing when documents are uploaded to S3."
   ]
  },
  {
   "cell_type": "markdown",
   "metadata": {},
   "source": [
    "## How S3 Triggers Work\n",
    "\n",
    "```\n",
    "┌──────────┐      ┌──────────┐      ┌──────────┐      ┌──────────┐\n",
    "│  Upload  │ ---> │    S3    │ ---> │  Trigger │ ---> │  Lambda  │\n",
    "│   PDF    │      │  Bucket  │      │  Event   │      │ Process  │\n",
    "└──────────┘      └──────────┘      └──────────┘      └──────────┘\n",
    "                                           │                 │\n",
    "                                           ↓                 ↓\n",
    "                                    Automatic         Save Results\n",
    "```\n",
    "\n",
    "When you upload a PDF to the configured S3 folder:\n",
    "1. S3 generates an event\n",
    "2. Event triggers Lambda function\n",
    "3. Lambda processes the document\n",
    "4. Results saved to `ade-results/` folder"
   ]
  },
  {
   "cell_type": "markdown",
   "metadata": {},
   "source": [
    "## 1. Initialize Environment"
   ]
  },
  {
   "cell_type": "code",
   "execution_count": 2,
   "metadata": {},
   "outputs": [
    {
     "name": "stdout",
     "output_type": "stream",
     "text": [
      "✅ AWS Environment configured\n",
      "   Profile: workload-dev-2\n",
      "   Region: us-east-2\n",
      "   Account: 970073041993\n",
      "\n",
      "✅ Ready to configure S3 triggers!\n",
      "   Bucket: cf-mle-testing\n",
      "   Lambda: ade-lambda-s3\n"
     ]
    }
   ],
   "source": [
    "import time\n",
    "from datetime import datetime\n",
    "from utils import (\n",
    "    setup_aws_environment,\n",
    "    setup_s3_trigger,\n",
    "    list_s3_files,\n",
    "    get_lambda_invocation_stats,\n",
    "    get_error_logs\n",
    ")\n",
    "\n",
    "# Initialize AWS environment\n",
    "config, clients, account_id, aws_session = setup_aws_environment()\n",
    "\n",
    "BUCKET_NAME = config['bucket_name']\n",
    "FUNCTION_NAME = config['function_name']\n",
    "\n",
    "print(f\"\\n✅ Ready to configure S3 triggers!\")\n",
    "print(f\"   Bucket: {BUCKET_NAME}\")\n",
    "print(f\"   Lambda: {FUNCTION_NAME}\")"
   ]
  },
  {
   "cell_type": "markdown",
   "metadata": {},
   "source": [
    "## 2. Configure S3 Trigger\n",
    "\n",
    "Set up automatic processing for a specific folder."
   ]
  },
  {
   "cell_type": "code",
   "execution_count": 3,
   "metadata": {},
   "outputs": [
    {
     "name": "stdout",
     "output_type": "stream",
     "text": [
      "🎯 Setting up S3 trigger for: invoices/\n",
      "\n",
      "✅ Added S3 permission to Lambda\n",
      "✅ S3 trigger configured!\n",
      "   📤 Upload PDFs to: s3://cf-mle-testing/invoices/\n",
      "   ⚡ They will auto-process with Lambda\n",
      "\n",
      "✅ S3 trigger is active!\n",
      "   Any PDF uploaded to s3://cf-mle-testing/invoices/\n",
      "   will be automatically processed\n"
     ]
    }
   ],
   "source": [
    "# Configure S3 trigger for invoices folder\n",
    "trigger_folder = \"invoices/\"\n",
    "\n",
    "print(f\"🎯 Setting up S3 trigger for: {trigger_folder}\")\n",
    "print()\n",
    "\n",
    "success = setup_s3_trigger(\n",
    "    clients['s3'],\n",
    "    clients['lambda'],\n",
    "    BUCKET_NAME,\n",
    "    FUNCTION_NAME,\n",
    "    folder=trigger_folder\n",
    ")\n",
    "\n",
    "if success:\n",
    "    print(\"\\n✅ S3 trigger is active!\")\n",
    "    print(f\"   Any PDF uploaded to s3://{BUCKET_NAME}/{trigger_folder}\")\n",
    "    print(\"   will be automatically processed\")"
   ]
  },
  {
   "cell_type": "markdown",
   "metadata": {},
   "source": [
    "## 3. Test the Trigger\n",
    "\n",
    "Upload a test file to verify the trigger works."
   ]
  },
  {
   "cell_type": "code",
   "execution_count": 4,
   "metadata": {},
   "outputs": [
    {
     "name": "stdout",
     "output_type": "stream",
     "text": [
      "📤 Uploading test file...\n",
      "   From: input_folder/invoice_1.pdf\n",
      "   To: s3://cf-mle-testing/invoices/test_trigger_20250925_134718.pdf\n",
      "\n",
      "✅ File uploaded successfully!\n",
      "⏳ Waiting for Lambda to process...\n",
      "📂 Files in s3://cf-mle-testing/ade-results/\n",
      "Found 5 files\n",
      "\n",
      "✅ Processing complete!\n",
      "   Recent results:\n",
      "   • ade-results/batch_extracted_20250924_195832.json\n",
      "   • ade-results/batch_extracted_20250925_013951.json\n",
      "   • ade-results/batch_extracted_20250925_014051.json\n"
     ]
    }
   ],
   "source": [
    "# Test file upload\n",
    "test_file_path = \"input_folder/invoice_1.pdf\"  # Local file\n",
    "timestamp = datetime.now().strftime('%Y%m%d_%H%M%S')\n",
    "s3_key = f\"{trigger_folder}test_trigger_{timestamp}.pdf\"\n",
    "\n",
    "print(\"📤 Uploading test file...\")\n",
    "print(f\"   From: {test_file_path}\")\n",
    "print(f\"   To: s3://{BUCKET_NAME}/{s3_key}\")\n",
    "print()\n",
    "\n",
    "try:\n",
    "    # Upload the file\n",
    "    clients['s3'].upload_file(test_file_path, BUCKET_NAME, s3_key)\n",
    "    print(\"✅ File uploaded successfully!\")\n",
    "    print(\"⏳ Waiting for Lambda to process...\")\n",
    "    \n",
    "    # Wait for processing\n",
    "    time.sleep(10)\n",
    "    \n",
    "    # Check for results\n",
    "    results = list_s3_files(\n",
    "        clients['s3'],\n",
    "        BUCKET_NAME,\n",
    "        \"ade-results/\",\n",
    "        max_files=5\n",
    "    )\n",
    "    \n",
    "    if results:\n",
    "        print(\"\\n✅ Processing complete!\")\n",
    "        print(\"   Recent results:\")\n",
    "        for r in results[:3]:\n",
    "            print(f\"   • {r['File']}\")\n",
    "    else:\n",
    "        print(\"⚠️ Still processing or no results yet\")\n",
    "        print(\"   Check CloudWatch logs for details\")\n",
    "        \n",
    "except FileNotFoundError:\n",
    "    print(f\"❌ Test file not found: {test_file_path}\")\n",
    "    print(\"   Please update the path to a valid PDF file\")\n",
    "except Exception as e:\n",
    "    print(f\"❌ Upload failed: {e}\")"
   ]
  },
  {
   "cell_type": "markdown",
   "metadata": {},
   "source": [
    "## 4. Monitor Lambda Invocations\n",
    "\n",
    "Check Lambda statistics to see trigger activity."
   ]
  },
  {
   "cell_type": "code",
   "execution_count": 5,
   "metadata": {},
   "outputs": [
    {
     "name": "stdout",
     "output_type": "stream",
     "text": [
      "📊 Lambda Invocation Statistics (last 1 hours)\n",
      "==================================================\n",
      "   Total Invocations: 4\n",
      "\n",
      "📊 Recent Activity (last hour):\n",
      "   Invocations: 4\n",
      "   Success rate: 100%\n"
     ]
    }
   ],
   "source": [
    "# Get Lambda invocation stats\n",
    "stats = get_lambda_invocation_stats(\n",
    "    clients['logs'],\n",
    "    FUNCTION_NAME,\n",
    "    hours_back=1  # Last hour\n",
    ")\n",
    "\n",
    "if stats.get('total_invocations', 0) > 0:\n",
    "    print(f\"\\n📊 Recent Activity (last hour):\")\n",
    "    print(f\"   Invocations: {stats['total_invocations']}\")\n",
    "    print(f\"   Success rate: {stats.get('success_rate', 0):.0f}%\")\n",
    "else:\n",
    "    print(\"\\nℹ️ No recent invocations\")\n",
    "    print(\"   Upload a file to trigger processing\")"
   ]
  },
  {
   "cell_type": "markdown",
   "metadata": {},
   "source": [
    "## 5. Check for Errors"
   ]
  },
  {
   "cell_type": "code",
   "execution_count": 6,
   "metadata": {},
   "outputs": [
    {
     "name": "stdout",
     "output_type": "stream",
     "text": [
      "❌ Error Logs (last 1 hours)\n",
      "==================================================\n",
      "✅ No errors found\n",
      "✅ No errors in the last hour\n"
     ]
    }
   ],
   "source": [
    "# Check for recent errors\n",
    "errors = get_error_logs(\n",
    "    clients['logs'],\n",
    "    FUNCTION_NAME,\n",
    "    hours_back=1\n",
    ")\n",
    "\n",
    "if not errors:\n",
    "    print(\"✅ No errors in the last hour\")\n",
    "else:\n",
    "    print(f\"⚠️ Found {len(errors)} errors\")\n",
    "    print(\"   Check CloudWatch logs for details\")"
   ]
  },
  {
   "cell_type": "markdown",
   "metadata": {},
   "source": [
    "## 6. Multiple Trigger Folders\n",
    "\n",
    "Set up different folders for different processing modes."
   ]
  },
  {
   "cell_type": "code",
   "execution_count": 7,
   "metadata": {},
   "outputs": [
    {
     "name": "stdout",
     "output_type": "stream",
     "text": [
      "🎯 Setting up multiple triggers:\n",
      "\n",
      "📁 invoices/ - Invoice extraction\n",
      "ℹ️  S3 permission already exists\n",
      "✅ S3 trigger configured!\n",
      "   📤 Upload PDFs to: s3://cf-mle-testing/invoices/\n",
      "   ⚡ They will auto-process with Lambda\n",
      "   ✅ Configured\n",
      "\n",
      "📁 receipts/ - Receipt extraction\n",
      "✅ Added S3 permission to Lambda\n",
      "✅ S3 trigger configured!\n",
      "   📤 Upload PDFs to: s3://cf-mle-testing/receipts/\n",
      "   ⚡ They will auto-process with Lambda\n",
      "   ✅ Configured\n",
      "\n",
      "📁 documents/ - General parsing\n",
      "✅ Added S3 permission to Lambda\n",
      "✅ S3 trigger configured!\n",
      "   📤 Upload PDFs to: s3://cf-mle-testing/documents/\n",
      "   ⚡ They will auto-process with Lambda\n",
      "   ✅ Configured\n",
      "\n",
      "💡 Note: Lambda will process based on folder:\n",
      "   • invoices/ → Invoice extraction\n",
      "   • receipts/ → Receipt extraction\n",
      "   • documents/ → General parsing\n"
     ]
    }
   ],
   "source": [
    "# Configure multiple triggers for different document types\n",
    "trigger_configs = [\n",
    "    {\"folder\": \"invoices/\", \"description\": \"Invoice extraction\"},\n",
    "    {\"folder\": \"receipts/\", \"description\": \"Receipt extraction\"},\n",
    "    {\"folder\": \"documents/\", \"description\": \"General parsing\"}\n",
    "]\n",
    "\n",
    "print(\"🎯 Setting up multiple triggers:\")\n",
    "print()\n",
    "\n",
    "for config in trigger_configs:\n",
    "    folder = config['folder']\n",
    "    desc = config['description']\n",
    "    \n",
    "    print(f\"📁 {folder} - {desc}\")\n",
    "    \n",
    "    # Note: In production, you'd modify the Lambda to detect\n",
    "    # document type based on folder\n",
    "    success = setup_s3_trigger(\n",
    "        clients['s3'],\n",
    "        clients['lambda'],\n",
    "        BUCKET_NAME,\n",
    "        FUNCTION_NAME,\n",
    "        folder=folder\n",
    "    )\n",
    "    \n",
    "    if success:\n",
    "        print(f\"   ✅ Configured\")\n",
    "    else:\n",
    "        print(f\"   ❌ Failed\")\n",
    "    print()\n",
    "\n",
    "print(\"💡 Note: Lambda will process based on folder:\")\n",
    "print(\"   • invoices/ → Invoice extraction\")\n",
    "print(\"   • receipts/ → Receipt extraction\")\n",
    "print(\"   • documents/ → General parsing\")"
   ]
  },
  {
   "cell_type": "markdown",
   "metadata": {},
   "source": [
    "## 7. Remove S3 Trigger\n",
    "\n",
    "If needed, remove the S3 trigger configuration."
   ]
  },
  {
   "cell_type": "code",
   "execution_count": 8,
   "metadata": {},
   "outputs": [
    {
     "name": "stdout",
     "output_type": "stream",
     "text": [
      "ℹ️ To remove triggers, uncomment the code above\n"
     ]
    }
   ],
   "source": [
    "# Remove S3 trigger (uncomment to run)\n",
    "\"\"\"\n",
    "print(\"🗑️ Removing S3 trigger...\")\n",
    "\n",
    "try:\n",
    "    # Clear bucket notifications\n",
    "    clients['s3'].put_bucket_notification_configuration(\n",
    "        Bucket=BUCKET_NAME,\n",
    "        NotificationConfiguration={}\n",
    "    )\n",
    "    print(\"✅ S3 trigger removed\")\n",
    "except Exception as e:\n",
    "    print(f\"❌ Error removing trigger: {e}\")\n",
    "\"\"\"\n",
    "\n",
    "print(\"ℹ️ To remove triggers, uncomment the code above\")"
   ]
  },
  {
   "cell_type": "markdown",
   "metadata": {},
   "source": [
    "## 8. Best Practices\n",
    "\n",
    "### Folder Organization\n",
    "```\n",
    "s3://bucket/\n",
    "├── invoices/        # Auto-process with invoice schema\n",
    "├── receipts/        # Auto-process with receipt schema\n",
    "├── documents/       # Auto-process with parsing mode\n",
    "├── ade-results/     # Processing results\n",
    "└── archive/         # Processed files (optional)\n",
    "```\n",
    "\n",
    "### Tips\n",
    "1. **Use specific folders** for different document types\n",
    "2. **Monitor CloudWatch** for processing logs\n",
    "3. **Set up SNS** for processing notifications\n",
    "4. **Archive processed files** to avoid reprocessing\n",
    "5. **Use versioning** on S3 bucket for safety"
   ]
  }
 ],
 "metadata": {
  "kernelspec": {
   "display_name": "Python 3 (ipykernel)",
   "language": "python",
   "name": "python3"
  },
  "language_info": {
   "codemirror_mode": {
    "name": "ipython",
    "version": 3
   },
   "file_extension": ".py",
   "mimetype": "text/x-python",
   "name": "python",
   "nbconvert_exporter": "python",
   "pygments_lexer": "ipython3",
   "version": "3.13.7"
  }
 },
 "nbformat": 4,
 "nbformat_minor": 4
}
