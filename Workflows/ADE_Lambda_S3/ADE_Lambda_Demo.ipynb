{
 "cells": [
  {
   "cell_type": "markdown",
   "metadata": {},
   "source": [
    "#  ADE Lambda S3 - Serverless Document Processing"
   ]
  },
  {
   "cell_type": "code",
   "execution_count": 1,
   "metadata": {},
   "outputs": [],
   "source": [
    "# ---\n",
    "# LandingAI Applied AI Content Notebook Template\n",
    "# ---\n",
    "# Title:  ADE Lambda S3 - Serverless Document Processing\n",
    "# Author: Ava Xia\n",
    "# Description: Streamlined notebook for testing and using the deployed Lambda function\n",
    "# Target Audience: [Developers, Partners, Customers]\n",
    "# Content Type: [Tutorial, How-To]\n",
    "# Publish Date: 2025-09-23\n",
    "# ADE Version: v0.1.5\n",
    "# Change Log:\n",
    "#    - v1.0: Initial draft\n",
    "#    - v1.1: Modularized with utility functions\n",
    "#    - v1.2: Modularized with consolidated utility functions\n",
    "# ---"
   ]
  },
  {
   "cell_type": "markdown",
   "metadata": {},
   "source": [
    "## Files Structure:\n",
    "- **`.env`** - Environment variables (API keys, AWS settings)\n",
    "- **`config.py`** - Pydantic schemas and configuration management  \n",
    "- **`utils.py`** - All utility functions consolidated"
   ]
  },
  {
   "cell_type": "markdown",
   "metadata": {},
   "source": [
    "## 1️⃣ Environment Setup & Configuration"
   ]
  },
  {
   "cell_type": "markdown",
   "metadata": {},
   "source": [
    "### 🔑 Prerequisites\n",
    "\n",
    "Before running this notebook:\n",
    "1. **Copy `.env.example` to `.env`** and fill in your values:\n",
    "   ```bash\n",
    "   cp .env.example .env\n",
    "   # Edit .env with your API keys and AWS settings\n",
    "   ```\n",
    "\n",
    "2. **Login to AWS SSO** (if using SSO):\n",
    "   ```bash\n",
    "   aws configure sso\n",
    "   aws sso login --profile your-profile-name\n",
    "   ```"
   ]
  },
  {
   "cell_type": "code",
   "execution_count": 2,
   "metadata": {},
   "outputs": [
    {
     "name": "stdout",
     "output_type": "stream",
     "text": [
      "============================================================\n",
      "🔧 Initializing AWS environment...\n",
      "============================================================\n",
      "✅ AWS Environment configured\n",
      "   Profile: workload-dev-2\n",
      "   Region: us-east-2\n",
      "   Account: 9700XXXX1993\n",
      "\n",
      "✅ Environment ready!\n",
      "   Lambda: ade-lambda-s3\n",
      "   Bucket: cf-mle-testing\n",
      "   Region: us-east-2\n",
      "============================================================\n"
     ]
    }
   ],
   "source": [
    "# Import consolidated utilities and configuration\n",
    "import os\n",
    "import json\n",
    "from datetime import datetime\n",
    "from pathlib import Path\n",
    "import pandas as pd\n",
    "from IPython.display import display, JSON\n",
    "\n",
    "# Import consolidated modules\n",
    "from config import get_settings, InvoiceExtractionSchema\n",
    "from utils import (\n",
    "    setup_aws_environment,\n",
    "    list_s3_files,\n",
    "    check_lambda_environment,\n",
    "    get_lambda_metrics,\n",
    "    process_single_file,\n",
    "    process_batch_extraction,\n",
    "    display_parsing_result,\n",
    "    display_extraction_result,\n",
    "    display_batch_dataframe\n",
    ")\n",
    "\n",
    "# Initialize environment using config.py and .env\n",
    "print(\"=\"*60)\n",
    "print(\"🔧 Initializing AWS environment...\")\n",
    "print(\"=\"*60)\n",
    "\n",
    "# Load configuration (automatically reads from .env)\n",
    "config, clients, AWS_ACCOUNT_ID, aws_session = setup_aws_environment()\n",
    "\n",
    "# Check if credentials are valid\n",
    "if AWS_ACCOUNT_ID in ['EXPIRED', 'ERROR']:\n",
    "    print(\"\\n⚠️  Please refresh your AWS credentials using the cell above\")\n",
    "else:\n",
    "    # Extract configuration values\n",
    "    BUCKET_NAME = config['bucket_name']\n",
    "    FUNCTION_NAME = config['function_name']\n",
    "    ECR_REPO = config['ecr_repo']\n",
    "    AWS_REGION = config['aws_region']\n",
    "    \n",
    "    print(\"\\n✅ Environment ready!\")\n",
    "    print(f\"   Lambda: {FUNCTION_NAME}\")\n",
    "    print(f\"   Bucket: {BUCKET_NAME}\")\n",
    "    print(f\"   Region: {AWS_REGION}\")\n",
    "    print(\"=\"*60)"
   ]
  },
  {
   "cell_type": "markdown",
   "metadata": {},
   "source": [
    "## 2️⃣ Docker Build & ECR Deployment\n",
    "\n",
    "### Understanding the Architecture\n",
    "Refer to Readme.md for a step-by-step guide on these steps.\n",
    "\n",
    "```\n",
    "┌─────────────┐      ┌─────────────┐      ┌─────────────┐\n",
    "│   Docker    │ ---> │     ECR     │ ---> │   Lambda    │\n",
    "│   Image     │      │ Repository  │      │  Function   │\n",
    "└─────────────┘      └─────────────┘      └─────────────┘\n",
    "     Build              Push                  Deploy\n",
    "```\n",
    "\n"
   ]
  },
  {
   "cell_type": "markdown",
   "metadata": {},
   "source": [
    "## 3️⃣ Verify Lambda deployment status"
   ]
  },
  {
   "cell_type": "code",
   "execution_count": 3,
   "metadata": {},
   "outputs": [
    {
     "name": "stdout",
     "output_type": "stream",
     "text": [
      "🔐 Lambda Environment Configuration\n",
      "==================================================\n",
      "Environment Variables:\n",
      "   ✅ 🔑 LandingAI API Key: bDk2****TlFD\n",
      "   ✅ 🪣 S3 Bucket: cf-mle-testing\n",
      "   ℹ️  🌍 AWS Region: Using default\n",
      "\n",
      "✅ Lambda is deployed and configured!\n",
      "📊 Lambda Function Metrics\n",
      "==================================================\n",
      "   Function: ade-lambda-s3\n",
      "   State: Active\n",
      "   Memory: 1024 MB\n",
      "   Timeout: 300 seconds\n",
      "   Architecture: arm64\n",
      "   Package Type: Image\n",
      "   Last Modified: 2025-09-25T20:44:05.000+0000\n",
      "\n",
      "📊 Function Details:\n",
      "   State: Active\n",
      "   Memory: Unknown\n",
      "   Timeout: 300\n",
      "   Architecture: Unknown\n"
     ]
    }
   ],
   "source": [
    "\n",
    "env_status = check_lambda_environment(clients['lambda'], FUNCTION_NAME)\n",
    "\n",
    "if env_status.get('configured'):\n",
    "    print(\"\\n✅ Lambda is deployed and configured!\")\n",
    "    \n",
    "    # Get Lambda metrics\n",
    "    metrics = get_lambda_metrics(clients['lambda'], FUNCTION_NAME)\n",
    "    print(f\"\\n📊 Function Details:\")\n",
    "    print(f\"   State: {metrics.get('State', 'Unknown')}\")\n",
    "    print(f\"   Memory: {metrics.get('Memory', 'Unknown')}\")\n",
    "    print(f\"   Timeout: {metrics.get('Timeout', 'Unknown')}\")\n",
    "    print(f\"   Architecture: {metrics.get('Architecture', 'Unknown')}\")\n",
    "else:\n",
    "    print(\"\\n⚠️  Lambda not fully configured.\")\n",
    "    print(\"   Please run ./build.sh and ./deploy.sh first.\")"
   ]
  },
  {
   "cell_type": "markdown",
   "metadata": {},
   "source": [
    "## 4️⃣ Browse Available S3 Files\n",
    "\n",
    "View documents available for processing:"
   ]
  },
  {
   "cell_type": "code",
   "execution_count": 4,
   "metadata": {},
   "outputs": [
    {
     "name": "stdout",
     "output_type": "stream",
     "text": [
      "📂 Files in s3://cf-mle-testing/invoices/\n",
      "Found 20 files\n",
      "\n",
      "📋 Available Files:\n"
     ]
    },
    {
     "data": {
      "text/html": [
       "<div>\n",
       "<style scoped>\n",
       "    .dataframe tbody tr th:only-of-type {\n",
       "        vertical-align: middle;\n",
       "    }\n",
       "\n",
       "    .dataframe tbody tr th {\n",
       "        vertical-align: top;\n",
       "    }\n",
       "\n",
       "    .dataframe thead th {\n",
       "        text-align: right;\n",
       "    }\n",
       "</style>\n",
       "<table border=\"1\" class=\"dataframe\">\n",
       "  <thead>\n",
       "    <tr style=\"text-align: right;\">\n",
       "      <th></th>\n",
       "      <th>File</th>\n",
       "      <th>Size</th>\n",
       "      <th>Modified</th>\n",
       "    </tr>\n",
       "  </thead>\n",
       "  <tbody>\n",
       "    <tr>\n",
       "      <th>0</th>\n",
       "      <td>invoices/invoice_1.pdf</td>\n",
       "      <td>381.5 KB</td>\n",
       "      <td>2025-09-23 08:03</td>\n",
       "    </tr>\n",
       "    <tr>\n",
       "      <th>1</th>\n",
       "      <td>invoices/invoice_10.pdf</td>\n",
       "      <td>122.6 KB</td>\n",
       "      <td>2025-09-25 22:39</td>\n",
       "    </tr>\n",
       "    <tr>\n",
       "      <th>2</th>\n",
       "      <td>invoices/invoice_11.pdf</td>\n",
       "      <td>116.5 KB</td>\n",
       "      <td>2025-09-25 22:39</td>\n",
       "    </tr>\n",
       "    <tr>\n",
       "      <th>3</th>\n",
       "      <td>invoices/invoice_12.pdf</td>\n",
       "      <td>57.6 KB</td>\n",
       "      <td>2025-09-25 22:39</td>\n",
       "    </tr>\n",
       "    <tr>\n",
       "      <th>4</th>\n",
       "      <td>invoices/invoice_13.pdf</td>\n",
       "      <td>205.2 KB</td>\n",
       "      <td>2025-09-25 22:39</td>\n",
       "    </tr>\n",
       "    <tr>\n",
       "      <th>5</th>\n",
       "      <td>invoices/invoice_14.pdf</td>\n",
       "      <td>221.3 KB</td>\n",
       "      <td>2025-09-25 22:39</td>\n",
       "    </tr>\n",
       "    <tr>\n",
       "      <th>6</th>\n",
       "      <td>invoices/invoice_15.pdf</td>\n",
       "      <td>210.8 KB</td>\n",
       "      <td>2025-09-25 22:39</td>\n",
       "    </tr>\n",
       "    <tr>\n",
       "      <th>7</th>\n",
       "      <td>invoices/invoice_16.pdf</td>\n",
       "      <td>149.9 KB</td>\n",
       "      <td>2025-09-25 22:39</td>\n",
       "    </tr>\n",
       "    <tr>\n",
       "      <th>8</th>\n",
       "      <td>invoices/invoice_17.pdf</td>\n",
       "      <td>151.1 KB</td>\n",
       "      <td>2025-09-25 22:39</td>\n",
       "    </tr>\n",
       "    <tr>\n",
       "      <th>9</th>\n",
       "      <td>invoices/invoice_18.pdf</td>\n",
       "      <td>43.7 KB</td>\n",
       "      <td>2025-09-25 22:39</td>\n",
       "    </tr>\n",
       "  </tbody>\n",
       "</table>\n",
       "</div>"
      ],
      "text/plain": [
       "                      File      Size          Modified\n",
       "0   invoices/invoice_1.pdf  381.5 KB  2025-09-23 08:03\n",
       "1  invoices/invoice_10.pdf  122.6 KB  2025-09-25 22:39\n",
       "2  invoices/invoice_11.pdf  116.5 KB  2025-09-25 22:39\n",
       "3  invoices/invoice_12.pdf   57.6 KB  2025-09-25 22:39\n",
       "4  invoices/invoice_13.pdf  205.2 KB  2025-09-25 22:39\n",
       "5  invoices/invoice_14.pdf  221.3 KB  2025-09-25 22:39\n",
       "6  invoices/invoice_15.pdf  210.8 KB  2025-09-25 22:39\n",
       "7  invoices/invoice_16.pdf  149.9 KB  2025-09-25 22:39\n",
       "8  invoices/invoice_17.pdf  151.1 KB  2025-09-25 22:39\n",
       "9  invoices/invoice_18.pdf   43.7 KB  2025-09-25 22:39"
      ]
     },
     "metadata": {},
     "output_type": "display_data"
    },
    {
     "name": "stdout",
     "output_type": "stream",
     "text": [
      "\n",
      "... and 10 more files\n"
     ]
    }
   ],
   "source": [
    "# List files in S3 bucket\n",
    "files = list_s3_files(clients['s3'], BUCKET_NAME, \"invoices/\", max_files=20)\n",
    "\n",
    "if files:\n",
    "    # Create DataFrame for better visualization\n",
    "    df_files = pd.DataFrame(files)\n",
    "    print(\"\\n📋 Available Files:\")\n",
    "    display(df_files.head(10))\n",
    "    if len(files) > 10:\n",
    "        print(f\"\\n... and {len(files)-10} more files\")\n",
    "else:\n",
    "    print(\"📂 No files found in invoices/ folder\")\n",
    "    print(\"   Upload some PDF files to process\")"
   ]
  },
  {
   "cell_type": "markdown",
   "metadata": {},
   "source": [
    "## 5️⃣ Single Document Processing\n",
    "\n",
    "Process a single document in two modes:\n",
    "- **Parsing Mode**: Parse the entire document\n",
    "- **Extraction Mode**: Extract structured data based on schema\n",
    "### Option 1: Parsing Mode "
   ]
  },
  {
   "cell_type": "code",
   "execution_count": 5,
   "metadata": {
    "scrolled": true
   },
   "outputs": [
    {
     "name": "stdout",
     "output_type": "stream",
     "text": [
      "Parsing invoices/invoice_4.pdf\n",
      "📄 Parsing document: invoices/invoice_4.pdf\n",
      "============================================================\n",
      "Mode: Parsing (document structure)\n",
      "Returns: List of chunks (text, table, figure types)\n",
      "============================================================\n",
      "\n",
      "✅ Parsing successful!\n",
      "   Results saved to: s3://cf-mle-testing/ade-results/invoice_4_parsed_20250925_224010.json\n",
      "\n",
      "📄 Raw Parsed Output:\n"
     ]
    },
    {
     "data": {
      "application/json": {
       "bucket": "cf-mle-testing",
       "documents": [
        {
         "chunks": [
          {
           "chunk_id": "569f399a-c15b-4b62-ae91-2062a151511a",
           "chunk_type": "figure",
           "grounding": [
            {
             "box": {
              "b": 0.09704755246639252,
              "l": 0.05872124433517456,
              "r": 0.5022231936454773,
              "t": 0.012297030538320541
             },
             "image_path": null,
             "page": 0
            }
           ],
           "text": "Summary : This image displays the logo and bilingual company name for A.E. Blake Sales.\n\nlogo: LES VENTES A.E. BLAKE / A.E. BLAKE SALES\n  Logo Design :\n    • Circular logo with a bold, stylized \"B\" inside.\n    • \"B\" is black, set against a white background, with a thick black circular border.\n  Text Elements :\n    • To the right of the logo, two lines of italicized text:\n      • Top line: \"LES VENTES A.E. BLAKE\" (French)\n      • Bottom line: \"A.E. BLAKE SALES\" (English)\n    • Typeface is serif, italic, and in uppercase.\n  Layout & Dimensions :\n    • Logo is positioned to the left; text is right-aligned and stacked.\n    • Proportions suggest the logo is approximately as tall as both text lines combined.\n  Analysis :\n    • The logo and bilingual text indicate a Canadian or international company, emphasizing both French and English markets.\n    • The bold \"B\" serves as a strong, simple brand mark for easy recognition."
          },
          {
           "chunk_id": "f4eccb12-563f-46c9-beea-fa6942e7a065",
           "chunk_type": "text",
           "grounding": [
            {
             "box": {
              "b": 0.08333122730255127,
              "l": 0.5497387647628784,
              "r": 0.8805419206619263,
              "t": 0.016070984303951263
             },
             "image_path": null,
             "page": 0
            }
           ],
           "text": "A.E. Blake Sales Ltd.\n100 Consilium Place\nSuite 200\nScarborough, ON\nM1H 3E3\n\nTel. 416 431 0440\nFax. 416 431 0450\ntorontosales@aeblake.ca\nwww.aeblake.ca"
          },
          {
           "chunk_id": "ff02f364-9f80-4d48-a010-0d401937ea65",
           "chunk_type": "text",
           "grounding": [
            {
             "box": {
              "b": 0.11659017205238342,
              "l": 0.10226032882928848,
              "r": 0.2734929323196411,
              "t": 0.09643624722957611
             },
             "image_path": null,
             "page": 0
            }
           ],
           "text": "Invoice - Facture"
          },
          {
           "chunk_id": "779d2886-9cf8-45c7-8900-dab208fe8c04",
           "chunk_type": "text",
           "grounding": [
            {
             "box": {
              "b": 0.13108912110328674,
              "l": 0.6352406144142151,
              "r": 0.8020429015159607,
              "t": 0.09443099051713943
             },
             "image_path": null,
             "page": 0
            }
           ],
           "text": "NO:  138277\nDATE:  Jan 24 2022"
          },
          {
           "chunk_id": "c664808d-6644-4d12-9be5-095ebcdc0ffb",
           "chunk_type": "text",
           "grounding": [
            {
             "box": {
              "b": 0.2328242063522339,
              "l": 0.1397334188222885,
              "r": 0.4164574146270752,
              "t": 0.13539642095565796
             },
             "image_path": null,
             "page": 0
            }
           ],
           "text": "Vendu à - Sold To\n\nNELSON INDUSTRIAL FABRICATORS\n1155 Squires Beach Road\nInvoices: ap@nelsonindust.com\nPICKERING, Ontario, Canada\nL1W 3T9"
          },
          {
           "chunk_id": "b4406cab-2587-43c2-b681-e8176e7a8ea2",
           "chunk_type": "text",
           "grounding": [
            {
             "box": {
              "b": 0.23249714076519012,
              "l": 0.5114427208900452,
              "r": 0.7873041033744812,
              "t": 0.13564376533031464
             },
             "image_path": null,
             "page": 0
            }
           ],
           "text": "Livré à - Ship To\n\nNELSON INDUSTRIAL FABRICATORS\n1155 Squires Beach Road\nInvoices: ap@nelsonindust.com\nPICKERING, Ontario, Canada\nL1W 3T9"
          },
          {
           "chunk_id": "502e692c-14bd-4603-bd8a-727e52c09ba6",
           "chunk_type": "text",
           "grounding": [
            {
             "box": {
              "b": 0.39259812235832214,
              "l": 0.06313544511795044,
              "r": 0.9476998448371887,
              "t": 0.25394877791404724
             },
             "image_path": null,
             "page": 0
            }
           ],
           "text": "COMPTE CLIENT/ CUSTOMER ACCOUNT: 10101978\n\nBON D'ACHAT CLIENT/ CUSTOMER PO: P.067967\n\nDATE COMMANDÉ/ ORDER DATE: Jan 19 2022\n\nCOMMANDE AEB/ AEB ORDER: 50002892\n\nTERMES/ TERMS: Net 30 Days\n\nREPRÉSENTANT/ REPRESENTATIVE: Perry Chan OR Jeff Kang\n\nCONDITIONS D’EXPÉDITION/ SHIPPING TERMS: Prepaid on orders over $600\n\nLIVRÉ PAR/ SHIP VIA: UPS 3rd Party 139 2X5"
          },
          {
           "chunk_id": "212607ee-44b7-4160-ad58-acda522de6b1",
           "chunk_type": "table",
           "grounding": [
            {
             "box": {
              "b": 0.5586436986923218,
              "l": 0.06539735198020935,
              "r": 0.9454770088195801,
              "t": 0.3929578959941864
             },
             "image_path": null,
             "page": 0
            }
           ],
           "text": "<table><thead><tr><th>#</th><th>ITEM</th><th>DESCRIPTION</th><th>QTÉ/QTY</th><th>PRIX/PRICE</th><th>U/M</th><th>EXTENSION</th></tr></thead><tbody><tr><td>30</td><td>110947</td><td>HD Graphite Canvas 6\"x 50yds<br>50 yards/roll</td><td>1</td><td>$734.27</td><td>Each</td><td>$734.27</td></tr><tr><td>40</td><td>102044</td><td>3M 777F RBC Belt 6\"x202\" 60YF<br>10belts/case (+/-10%)</td><td>20</td><td>$68.45</td><td>Each</td><td>$1,369.00</td></tr><tr><td>50</td><td>102046</td><td>3M 777F RBC Belt 6\"x202\" 80YF<br>10belts/case (+/-10%)</td><td>10</td><td>$63.98</td><td>Each</td><td>$639.80</td></tr></tbody></table>"
          },
          {
           "chunk_id": "4cd369c3-718b-4a7d-affd-9d7cb5b5298b",
           "chunk_type": "text",
           "grounding": [
            {
             "box": {
              "b": 0.8299582004547119,
              "l": 0.06555040925741196,
              "r": 0.23937982320785522,
              "t": 0.8150616884231567
             },
             "image_path": null,
             "page": 0
            }
           ],
           "text": "*Courrier / Carrier:* *JD SMITH*"
          },
          {
           "chunk_id": "501a1029-307b-4a71-92de-1acf5e66c7c6",
           "chunk_type": "text",
           "grounding": [
            {
             "box": {
              "b": 0.851024866104126,
              "l": 0.6197760701179504,
              "r": 0.9100797772407532,
              "t": 0.8152638673782349
             },
             "image_path": null,
             "page": 0
            }
           ],
           "text": "Bon d'emballage / Packing Slip: 50002892-10659\n\nDate D’expédition / Shipping Date: Jan 24 2022"
          },
          {
           "chunk_id": "d16e261d-7e8c-402b-bf4d-fd2da7092038",
           "chunk_type": "text",
           "grounding": [
            {
             "box": {
              "b": 0.850768506526947,
              "l": 0.06393719464540482,
              "r": 0.1723954975605011,
              "t": 0.836329996585846
             },
             "image_path": null,
             "page": 0
            }
           ],
           "text": "*Waybill:* I078685"
          },
          {
           "chunk_id": "b54af4fa-4ada-4cca-91b9-fd4aafca7ba9",
           "chunk_type": "table",
           "grounding": [
            {
             "box": {
              "b": 0.9264295101165771,
              "l": 0.06097608804702759,
              "r": 0.9268947839736938,
              "t": 0.8533155918121338
             },
             "image_path": null,
             "page": 0
            }
           ],
           "text": "<table><tr><td>http://www.aeblake.ca/en/terms.php<br>Merci - Thank you   Votre contact - Your contact: DRAKE</td><td style=\"text-align:right\">S. Total: $ 2,743.07<br>13% HST: $ 356.60</td></tr><tr><td></td><td style=\"text-align:right\">Total: $ 3,099.67<br>CAD</td></tr></table>"
          },
          {
           "chunk_id": "698f9601-aeb4-4d4a-9ff2-2055e6f3cf11",
           "chunk_type": "marginalia",
           "grounding": [
            {
             "box": {
              "b": 0.9551849365234375,
              "l": 0.0648752748966217,
              "r": 0.5041223764419556,
              "t": 0.9402475357055664
             },
             "image_path": null,
             "page": 0
            }
           ],
           "text": "No. T.P.S. - G.S.T. No. : R100064716  No. T.V.Q. - Q.S.T. No. : M1000098741TQ0001JT"
          },
          {
           "chunk_id": "37e60775-8a9d-4354-b992-805f1ba94f06",
           "chunk_type": "marginalia",
           "grounding": [
            {
             "box": {
              "b": 0.9550307393074036,
              "l": 0.8267221450805664,
              "r": 0.8761583566665649,
              "t": 0.9404816031455994
             },
             "image_path": null,
             "page": 0
            }
           ],
           "text": "Page 1/1"
          },
          {
           "chunk_id": "f31766f8-d7e3-41af-9b3e-39ae08d915eb",
           "chunk_type": "marginalia",
           "grounding": [
            {
             "box": {
              "b": 0.9869502186775208,
              "l": 0.43107888102531433,
              "r": 0.5554932951927185,
              "t": 0.9712898135185242
             },
             "image_path": null,
             "page": 0
            }
           ],
           "text": "Montréal - Toronto"
          }
         ],
         "doc_type": "pdf",
         "end_page_idx": 0,
         "errors": [],
         "extraction": null,
         "extraction_error": null,
         "extraction_metadata": null,
         "markdown": "Summary : This image displays the logo and bilingual company name for A.E. Blake Sales.\n\nlogo: LES VENTES A.E. BLAKE / A.E. BLAKE SALES\n  Logo Design :\n    • Circular logo with a bold, stylized \"B\" inside.\n    • \"B\" is black, set against a white background, with a thick black circular border.\n  Text Elements :\n    • To the right of the logo, two lines of italicized text:\n      • Top line: \"LES VENTES A.E. BLAKE\" (French)\n      • Bottom line: \"A.E. BLAKE SALES\" (English)\n    • Typeface is serif, italic, and in uppercase.\n  Layout & Dimensions :\n    • Logo is positioned to the left; text is right-aligned and stacked.\n    • Proportions suggest the logo is approximately as tall as both text lines combined.\n  Analysis :\n    • The logo and bilingual text indicate a Canadian or international company, emphasizing both French and English markets.\n    • The bold \"B\" serves as a strong, simple brand mark for easy recognition. <!-- figure, from page 0 (l=0.059,t=0.012,r=0.502,b=0.097), with ID 569f399a-c15b-4b62-ae91-2062a151511a -->\n\nA.E. Blake Sales Ltd.\n100 Consilium Place\nSuite 200\nScarborough, ON\nM1H 3E3\n\nTel. 416 431 0440\nFax. 416 431 0450\ntorontosales@aeblake.ca\nwww.aeblake.ca <!-- text, from page 0 (l=0.550,t=0.016,r=0.881,b=0.083), with ID f4eccb12-563f-46c9-beea-fa6942e7a065 -->\n\nInvoice - Facture <!-- text, from page 0 (l=0.102,t=0.096,r=0.273,b=0.117), with ID ff02f364-9f80-4d48-a010-0d401937ea65 -->\n\nNO:  138277\nDATE:  Jan 24 2022 <!-- text, from page 0 (l=0.635,t=0.094,r=0.802,b=0.131), with ID 779d2886-9cf8-45c7-8900-dab208fe8c04 -->\n\nVendu à - Sold To\n\nNELSON INDUSTRIAL FABRICATORS\n1155 Squires Beach Road\nInvoices: ap@nelsonindust.com\nPICKERING, Ontario, Canada\nL1W 3T9 <!-- text, from page 0 (l=0.140,t=0.135,r=0.416,b=0.233), with ID c664808d-6644-4d12-9be5-095ebcdc0ffb -->\n\nLivré à - Ship To\n\nNELSON INDUSTRIAL FABRICATORS\n1155 Squires Beach Road\nInvoices: ap@nelsonindust.com\nPICKERING, Ontario, Canada\nL1W 3T9 <!-- text, from page 0 (l=0.511,t=0.136,r=0.787,b=0.232), with ID b4406cab-2587-43c2-b681-e8176e7a8ea2 -->\n\nCOMPTE CLIENT/ CUSTOMER ACCOUNT: 10101978\n\nBON D'ACHAT CLIENT/ CUSTOMER PO: P.067967\n\nDATE COMMANDÉ/ ORDER DATE: Jan 19 2022\n\nCOMMANDE AEB/ AEB ORDER: 50002892\n\nTERMES/ TERMS: Net 30 Days\n\nREPRÉSENTANT/ REPRESENTATIVE: Perry Chan OR Jeff Kang\n\nCONDITIONS D’EXPÉDITION/ SHIPPING TERMS: Prepaid on orders over $600\n\nLIVRÉ PAR/ SHIP VIA: UPS 3rd Party 139 2X5 <!-- text, from page 0 (l=0.063,t=0.254,r=0.948,b=0.393), with ID 502e692c-14bd-4603-bd8a-727e52c09ba6 -->\n\n<table><thead><tr><th>#</th><th>ITEM</th><th>DESCRIPTION</th><th>QTÉ/QTY</th><th>PRIX/PRICE</th><th>U/M</th><th>EXTENSION</th></tr></thead><tbody><tr><td>30</td><td>110947</td><td>HD Graphite Canvas 6\"x 50yds<br>50 yards/roll</td><td>1</td><td>$734.27</td><td>Each</td><td>$734.27</td></tr><tr><td>40</td><td>102044</td><td>3M 777F RBC Belt 6\"x202\" 60YF<br>10belts/case (+/-10%)</td><td>20</td><td>$68.45</td><td>Each</td><td>$1,369.00</td></tr><tr><td>50</td><td>102046</td><td>3M 777F RBC Belt 6\"x202\" 80YF<br>10belts/case (+/-10%)</td><td>10</td><td>$63.98</td><td>Each</td><td>$639.80</td></tr></tbody></table> <!-- table, from page 0 (l=0.065,t=0.393,r=0.945,b=0.559), with ID 212607ee-44b7-4160-ad58-acda522de6b1 -->\n\n*Courrier / Carrier:* *JD SMITH* <!-- text, from page 0 (l=0.066,t=0.815,r=0.239,b=0.830), with ID 4cd369c3-718b-4a7d-affd-9d7cb5b5298b -->\n\nBon d'emballage / Packing Slip: 50002892-10659\n\nDate D’expédition / Shipping Date: Jan 24 2022 <!-- text, from page 0 (l=0.620,t=0.815,r=0.910,b=0.851), with ID 501a1029-307b-4a71-92de-1acf5e66c7c6 -->\n\n*Waybill:* I078685 <!-- text, from page 0 (l=0.064,t=0.836,r=0.172,b=0.851), with ID d16e261d-7e8c-402b-bf4d-fd2da7092038 -->\n\n<table><tr><td>http://www.aeblake.ca/en/terms.php<br>Merci - Thank you   Votre contact - Your contact: DRAKE</td><td style=\"text-align:right\">S. Total: $ 2,743.07<br>13% HST: $ 356.60</td></tr><tr><td></td><td style=\"text-align:right\">Total: $ 3,099.67<br>CAD</td></tr></table> <!-- table, from page 0 (l=0.061,t=0.853,r=0.927,b=0.926), with ID b54af4fa-4ada-4cca-91b9-fd4aafca7ba9 -->\n\nNo. T.P.S. - G.S.T. No. : R100064716  No. T.V.Q. - Q.S.T. No. : M1000098741TQ0001JT <!-- marginalia, from page 0 (l=0.065,t=0.940,r=0.504,b=0.955), with ID 698f9601-aeb4-4d4a-9ff2-2055e6f3cf11 -->\n\nPage 1/1 <!-- marginalia, from page 0 (l=0.827,t=0.940,r=0.876,b=0.955), with ID 37e60775-8a9d-4354-b992-805f1ba94f06 -->\n\nMontréal - Toronto <!-- marginalia, from page 0 (l=0.431,t=0.971,r=0.555,b=0.987), with ID f31766f8-d7e3-41af-9b3e-39ae08d915eb -->",
         "metadata": {
          "document_name": "invoice_4.pdf",
          "filename": "invoice_4_1.pdf",
          "page_count": 1,
          "pages_processed": 1,
          "pages_rotation_angles": {
           "0": 0
          },
          "parse_id": "u3hwhw3mdkylor6npjunbcwv5",
          "processed_at": "2025-09-25T22:40:10.360427+00:00",
          "processing_time_ms": 13182,
          "statistics": {
           "chunk_types": {
            "figure": 1,
            "marginalia": 3,
            "table": 2,
            "text": 9
           },
           "total_chunks": 15,
           "total_pages": 1
          },
          "user_id": "uskl4jlv3d5v"
         },
         "result_path": null,
         "start_page_idx": 0
        }
       ],
       "parsed_count": 1,
       "prefix": null,
       "processed_at": "20250925_224010",
       "specific_file": "invoices/invoice_4.pdf",
       "trigger_type": "manual"
      },
      "text/plain": [
       "<IPython.core.display.JSON object>"
      ]
     },
     "metadata": {
      "application/json": {
       "expanded": false,
       "root": "root"
      }
     },
     "output_type": "display_data"
    }
   ],
   "source": [
    "# Process a single file with parsing mode\n",
    "test_file = \"invoices/invoice_4.pdf\"\n",
    "\n",
    "print(f'Parsing {test_file}')\n",
    "\n",
    "# Process with parsing mode\n",
    "result = process_single_file(\n",
    "    clients['lambda'], \n",
    "    FUNCTION_NAME, \n",
    "    BUCKET_NAME, \n",
    "    test_file,\n",
    "    extraction=False  # Parsing mode\n",
    ")\n",
    "\n",
    "# Display results using utility function with S3 client\n",
    "display_parsing_result(result, test_file, s3_client=clients['s3'])"
   ]
  },
  {
   "cell_type": "markdown",
   "metadata": {},
   "source": [
    "### Option 2: Extraction Mode (Structured Data)"
   ]
  },
  {
   "cell_type": "code",
   "execution_count": 6,
   "metadata": {},
   "outputs": [
    {
     "name": "stdout",
     "output_type": "stream",
     "text": [
      "Extracting invoices/invoice_3.pdf\n",
      "📄 Extracting structured data from: invoices/invoice_3.pdf\n",
      "============================================================\n",
      "Mode: Extraction (structured data)\n",
      "Schema: InvoiceExtractionSchema\n",
      "============================================================\n",
      "\n",
      "✅ Extraction successful!\n",
      "   Results saved to: s3://cf-mle-testing/ade-results/invoice_3_extracted_20250925_224050.json\n",
      "\n",
      "📊 Extracted Data (JSON format):\n",
      "------------------------------------------------------------\n"
     ]
    },
    {
     "data": {
      "application/json": {
       "doc_type": "pdf",
       "document_type": "invoice",
       "extraction": {
        "company_info": {
         "email": "Mat@CustomEandP.com",
         "phone": "336.701.5589",
         "representative": "Mathew",
         "supplier_address": "PO Box 533\nSummerfield, NC  27358",
         "supplier_name": "CUSTOM ELECTRIC & PLUMBING, INC."
        },
        "customer_info": {
         "customer_email": null,
         "sold_to_address": "1000 Sarah Dr\nSummerfield, NC  27358 USA",
         "sold_to_name": "Leo Vincent"
        },
        "invoice_info": {
         "invoice_date": "2022-10-03",
         "invoice_date_raw": "10/03/2022",
         "invoice_number": "52255",
         "order_date": null,
         "po_number": null,
         "status": null
        },
        "line_items": [
         {
          "amount": 1400,
          "description": "Provide and install new 60 Amp 240Vac breaker and 6/2 Copper SE cable feeding new Tesla Wall connector. Install new customer supplied Tesla wall connector. Note: drywall may need to be cut to facilitate work. No drywall repairs or painting are included in this quote.",
          "quantity": 1,
          "sku": null,
          "unit_price": 1400
         },
         {
          "amount": 150,
          "description": "Permit and inspection fees",
          "quantity": 1,
          "sku": null,
          "unit_price": 150
         },
         {
          "amount": 0,
          "description": "Payment Terms: by Cash or Check, All sales final. $750.00 deposit at acceptance of contract balance due upon substantial completion of work. Agreement to include conditions of agreement addendum Clarifications: It is agreed that during the performance of the work drywall will/may be cut at the discretion of the contractor, this quotation does not include any drywall or painting repair or touchup. Parking to be provided onsite for all working personnel. Work will be completed during normal hours from 8:00 AM to 5:00 PM Monday thru Friday, unless approved otherwise. No additional components will be installed outside the scope of work enclosed. All fixtures and lamps are to be furnished on-site by others. Excluded from Bid: Repairs or corrections to existing plumbing, gas, or electrical system deficiencies or code violations. Repairs to any underground utilities (such as sprinkler lines, electrical lines, cable, etc.) not located and clearly marked prior to arrival on-site. Engineered drawings Utility power consumption.",
          "quantity": 1,
          "sku": null,
          "unit_price": 0
         }
        ],
        "totals_summary": {
         "currency": null,
         "shipping": null,
         "subtotal": 1550,
         "tax": 0,
         "total_due": 1550
        }
       },
       "markdown": "CUSTOM ELECTRIC & PLUMBING, INC.\n\nPO Box 533\nSummerfield, NC  27358\n336.701.5589\nMat@CustomEandP.com\nwww.ElectricianOrPlumber.com <!-- text, from page 0 (l=0.023,t=0.041,r=0.336,b=0.137), with ID 9edd99e8-d068-4130-9a0d-ed812ce0ee85 -->\n\nSummary : This is a logo for a company named \"Custom Electric & Plumbing, Inc.\" The design incorporates visual elements representing both electrical and plumbing services.\n\nlogo: Custom Electric & Plumbing, Inc.\n\nCompany Name & Tagline :\n  • Main text: \"Custom Electric & Plumbing, Inc.\"\n  • \"Custom Electric\" is displayed in large, bold uppercase letters.\n  • \"Plumbing, Inc.\" is set within a black pipe graphic.\n\nGraphic Elements :\n  • The \"C\" and \"E\" of \"Custom Electric\" are oversized and stacked vertically on the left.\n  • The \"P\" of \"Plumbing\" is also oversized and placed below the \"C\" and \"E\".\n  • The \"O\" in \"Custom\" is replaced by a lightbulb icon, symbolizing electrical services.\n  • The word \"Plumbing, Inc.\" is written inside a horizontal pipe graphic, which includes a faucet handle on the right end.\n\nDesign & Placement :\n  • All text and graphics are in black and white.\n  • The logo uses a combination of bold and regular serif fonts.\n  • The pipe graphic runs horizontally beneath \"Electric\" and connects to the oversized \"P\".\n  • The faucet handle is positioned at the far right end of the pipe.\n\nAnalysis :\n  • The logo visually integrates symbols for both electric (lightbulb) and plumbing (pipe and faucet handle) services, clearly communicating the dual focus of the business.\n  • The use of oversized initials and graphic elements creates a distinctive and memorable brand identity.\n  • The monochrome palette suggests professionalism and clarity. <!-- figure, from page 0 (l=0.702,t=0.038,r=0.971,b=0.189), with ID 34de95e2-67d9-4f3d-951b-317dc4aa2feb -->\n\nINVOICE\n\nBILL TO\nLeo Vincent\n1000 Sarah Dr\nSummerfield, NC  27358 USA <!-- text, from page 0 (l=0.023,t=0.219,r=0.214,b=0.314), with ID 957f8d9b-3e51-4799-bfdc-9eaed44e6adc -->\n\nINVOICE: 52255\nDATE: 10/03/2022\nDUE DATE: 11/01/2022 <!-- text, from page 0 (l=0.656,t=0.248,r=0.874,b=0.299), with ID a8ddc154-e6db-4a7b-878c-ef12378763c8 -->\n\nSALES REP\nMathew <!-- text, from page 0 (l=0.025,t=0.328,r=0.106,b=0.359), with ID 95532b01-e561-4f52-a13b-d384e6b2052f -->\n\n<table><thead><tr><th>DESCRIPTION</th><th>QTY</th><th>RATE</th><th>AMOUNT</th></tr></thead><tbody><tr><td>Provide and install new 60 Amp 240Vac breaker and 6/2 Copper SE cable feeding new Tesla Wall connector. Install new customer supplied Tesla wall connector. Note: drywall may need to be cut to facilitate work. No drywall repairs or painting are included in this quote.</td><td>1</td><td>1,400.00</td><td>1,400.00</td></tr><tr><td>Permit and inspection fees</td><td>1</td><td>150.00</td><td>150.00</td></tr><tr><td>Payment Terms: by Cash or Check, All sales final. $750.00 deposit at acceptance of contract balance due upon substantial completion of work. Agreement to include conditions of agreement addendum Clarifications: It is agreed that during the performance of the work drywall will/may be cut at the discretion of the contractor, this quotation does not include any drywall or painting repair or touchup. Parking to be provided onsite for all working personnel. Work will be completed during normal hours from 8:00 AM to 5:00 PM Monday thru Friday, unless approved otherwise. No additional components will be installed outside the scope of work enclosed. All fixtures and lamps are to be furnished on-site by others. Excluded from Bid: Repairs or corrections to existing plumbing, gas, or electrical system deficiencies or code violations. Repairs to any underground utilities (such as sprinkler lines, electrical lines, cable, etc.) not located and clearly marked prior to arrival on-site. Engineered drawings Utility power consumption.</td><td>1</td><td>0.00</td><td>0.00</td></tr></tbody></table> <!-- table, from page 0 (l=0.027,t=0.374,r=0.973,b=0.781), with ID cd6925be-19f2-4c23-8e57-816d9e4faeb3 -->\n\nThank you for supporting your local veteran owned and operated small business.\n<table><tr><td>SUBTOTAL</td><td>1,550.00</td></tr><tr><td>TAX</td><td>0.00</td></tr><tr><td>TOTAL</td><td>1,550.00</td></tr><tr><td>BALANCE DUE</td><td>$1,550.00</td></tr></table> <!-- table, from page 0 (l=0.024,t=0.791,r=0.972,b=0.904), with ID c89cbb5a-d7a2-4709-b3bf-8e9f9a6faac3 -->\n\nPage 1 of 1 <!-- marginalia, from page 0 (l=0.467,t=0.968,r=0.533,b=0.983), with ID 8328a9b4-1a56-43b5-a58d-42324e111efb -->",
       "metadata": {
        "document_name": "invoice_3.pdf",
        "extraction_model": "InvoiceExtractionSchema",
        "pages": 0
       },
       "type": "extracted"
      },
      "text/plain": [
       "<IPython.core.display.JSON object>"
      ]
     },
     "metadata": {
      "application/json": {
       "expanded": false,
       "root": "root"
      }
     },
     "output_type": "display_data"
    }
   ],
   "source": [
    "# Process a single file with extraction mode\n",
    "test_file = \"invoices/invoice_3.pdf\"\n",
    "\n",
    "print(f'Extracting {test_file}')\n",
    "\n",
    "# Process with extraction mode\n",
    "result = process_single_file(\n",
    "    clients['lambda'], \n",
    "    FUNCTION_NAME, \n",
    "    BUCKET_NAME, \n",
    "    test_file,\n",
    "    document_type=\"invoice\",  # Specify document type for extraction\n",
    "    extraction=True  # Extraction mode\n",
    ")\n",
    "\n",
    "# Display results using utility function with S3 client\n",
    "display_extraction_result(result, test_file, document_type=\"invoice\", s3_client=clients['s3'])"
   ]
  },
  {
   "cell_type": "markdown",
   "metadata": {},
   "source": [
    "## 6️⃣ Batch Processing"
   ]
  },
  {
   "cell_type": "code",
   "execution_count": 7,
   "metadata": {},
   "outputs": [
    {
     "name": "stdout",
     "output_type": "stream",
     "text": [
      "📋 Batch Invoice Extraction Test\n",
      "================================================================================\n",
      "   Found 26 PDF files to process\n",
      "   ⏱️  Estimated time: 4-5 minutes\n",
      "\n",
      "🚀 Invoking Lambda for batch processing...\n",
      "⏱️  Lambda returned after 203.5 seconds                                         \n",
      "\n",
      "✅ Batch processing successful!\n",
      "   Documents processed: 26\n",
      "   Average time per document: 7.8s\n",
      "   Results location: s3://cf-mle-testing/ade-results/batch_extracted_20250925_224415.json\n",
      "\n",
      "📥 Downloading results from S3...\n",
      "   Processing 26 documents...\n",
      "\n",
      "📊 Extracted Data as DataFrame:\n",
      "------------------------------------------------------------\n"
     ]
    },
    {
     "data": {
      "text/html": [
       "<div>\n",
       "<style scoped>\n",
       "    .dataframe tbody tr th:only-of-type {\n",
       "        vertical-align: middle;\n",
       "    }\n",
       "\n",
       "    .dataframe tbody tr th {\n",
       "        vertical-align: top;\n",
       "    }\n",
       "\n",
       "    .dataframe thead th {\n",
       "        text-align: right;\n",
       "    }\n",
       "</style>\n",
       "<table border=\"1\" class=\"dataframe\">\n",
       "  <thead>\n",
       "    <tr style=\"text-align: right;\">\n",
       "      <th></th>\n",
       "      <th>File</th>\n",
       "      <th>Invoice #</th>\n",
       "      <th>Date</th>\n",
       "      <th>Customer</th>\n",
       "      <th>Supplier</th>\n",
       "      <th>Subtotal</th>\n",
       "      <th>Tax</th>\n",
       "      <th>Total</th>\n",
       "      <th>Currency</th>\n",
       "      <th>Line Items</th>\n",
       "      <th>Status</th>\n",
       "    </tr>\n",
       "  </thead>\n",
       "  <tbody>\n",
       "    <tr>\n",
       "      <th>0</th>\n",
       "      <td>invoice_1.pdf</td>\n",
       "      <td>INV33543191</td>\n",
       "      <td>2020-07-29</td>\n",
       "      <td>Abaxys Tech LLC</td>\n",
       "      <td>Zoom Video Communications Inc.</td>\n",
       "      <td>$149.90</td>\n",
       "      <td>-</td>\n",
       "      <td>-</td>\n",
       "      <td>USD</td>\n",
       "      <td>1</td>\n",
       "      <td>PAID</td>\n",
       "    </tr>\n",
       "    <tr>\n",
       "      <th>1</th>\n",
       "      <td>invoice_10.pdf</td>\n",
       "      <td>1000110140</td>\n",
       "      <td>2025-05-15</td>\n",
       "      <td>ANDREA KROPP</td>\n",
       "      <td>Sheraton Tucson Hotel &amp; Suites</td>\n",
       "      <td>-</td>\n",
       "      <td>-</td>\n",
       "      <td>-</td>\n",
       "      <td>USD</td>\n",
       "      <td>10</td>\n",
       "      <td>None</td>\n",
       "    </tr>\n",
       "    <tr>\n",
       "      <th>2</th>\n",
       "      <td>invoice_11.pdf</td>\n",
       "      <td>2071221</td>\n",
       "      <td>2021-08-30</td>\n",
       "      <td>Souhail Martesse</td>\n",
       "      <td>DollarFulfillment</td>\n",
       "      <td>-</td>\n",
       "      <td>-</td>\n",
       "      <td>$1,800.87</td>\n",
       "      <td>USD</td>\n",
       "      <td>1</td>\n",
       "      <td>None</td>\n",
       "    </tr>\n",
       "    <tr>\n",
       "      <th>3</th>\n",
       "      <td>invoice_12.pdf</td>\n",
       "      <td>11828454</td>\n",
       "      <td>None</td>\n",
       "      <td>ANDREA KROPP</td>\n",
       "      <td>Condor Flugdienst GmbH</td>\n",
       "      <td>-</td>\n",
       "      <td>-</td>\n",
       "      <td>$2,579.96</td>\n",
       "      <td>USD</td>\n",
       "      <td>7</td>\n",
       "      <td>None</td>\n",
       "    </tr>\n",
       "    <tr>\n",
       "      <th>4</th>\n",
       "      <td>invoice_13.pdf</td>\n",
       "      <td>812</td>\n",
       "      <td>2021-12-02</td>\n",
       "      <td>SAGAR ASIA PRIVATE LIMITED</td>\n",
       "      <td>KANDHAN METAL COMPANY</td>\n",
       "      <td>$5,102,920.00</td>\n",
       "      <td>$918,525.60</td>\n",
       "      <td>$6,021,446.00</td>\n",
       "      <td>INR</td>\n",
       "      <td>1</td>\n",
       "      <td>None</td>\n",
       "    </tr>\n",
       "    <tr>\n",
       "      <th>5</th>\n",
       "      <td>invoice_14.pdf</td>\n",
       "      <td>40458946</td>\n",
       "      <td>2019-02-23</td>\n",
       "      <td>Gnr-Grupo Novo Rock, Lda</td>\n",
       "      <td>Thomann GmbH</td>\n",
       "      <td>-</td>\n",
       "      <td>-</td>\n",
       "      <td>$77.24</td>\n",
       "      <td>EUR</td>\n",
       "      <td>5</td>\n",
       "      <td>None</td>\n",
       "    </tr>\n",
       "    <tr>\n",
       "      <th>6</th>\n",
       "      <td>invoice_15.pdf</td>\n",
       "      <td>0000329003</td>\n",
       "      <td>2019-04-04</td>\n",
       "      <td>Nazish</td>\n",
       "      <td>Jade E-Services Pakistan Private Limited</td>\n",
       "      <td>$147.00</td>\n",
       "      <td>-</td>\n",
       "      <td>$147.00</td>\n",
       "      <td>PKR</td>\n",
       "      <td>1</td>\n",
       "      <td>None</td>\n",
       "    </tr>\n",
       "    <tr>\n",
       "      <th>7</th>\n",
       "      <td>invoice_16.pdf</td>\n",
       "      <td>1</td>\n",
       "      <td>2023-03-20</td>\n",
       "      <td>Mansoer Walizada</td>\n",
       "      <td>Walmart</td>\n",
       "      <td>$1,529.94</td>\n",
       "      <td>$110.92</td>\n",
       "      <td>$1,640.86</td>\n",
       "      <td>USD</td>\n",
       "      <td>1</td>\n",
       "      <td>PAID</td>\n",
       "    </tr>\n",
       "    <tr>\n",
       "      <th>8</th>\n",
       "      <td>invoice_17.pdf</td>\n",
       "      <td>2014/00355</td>\n",
       "      <td>2014-12-10</td>\n",
       "      <td>Sandip Patil</td>\n",
       "      <td>Variant Technologies</td>\n",
       "      <td>$2,800.00</td>\n",
       "      <td>-</td>\n",
       "      <td>$2,800.00</td>\n",
       "      <td>None</td>\n",
       "      <td>1</td>\n",
       "      <td>None</td>\n",
       "    </tr>\n",
       "    <tr>\n",
       "      <th>9</th>\n",
       "      <td>invoice_18.pdf</td>\n",
       "      <td>00000116271</td>\n",
       "      <td>2020-02-10</td>\n",
       "      <td>Meridian Venture Services, LLC</td>\n",
       "      <td>Howard Custom Transfers, Inc.</td>\n",
       "      <td>$270.00</td>\n",
       "      <td>-</td>\n",
       "      <td>-</td>\n",
       "      <td>USD</td>\n",
       "      <td>2</td>\n",
       "      <td>PAID</td>\n",
       "    </tr>\n",
       "    <tr>\n",
       "      <th>10</th>\n",
       "      <td>invoice_19.pdf</td>\n",
       "      <td>1457274</td>\n",
       "      <td>2024-08-31</td>\n",
       "      <td>Andrea Kropp</td>\n",
       "      <td>Harvest Hosts</td>\n",
       "      <td>$159.00</td>\n",
       "      <td>$13.83</td>\n",
       "      <td>$172.83</td>\n",
       "      <td>USD</td>\n",
       "      <td>2</td>\n",
       "      <td>PAID</td>\n",
       "    </tr>\n",
       "    <tr>\n",
       "      <th>11</th>\n",
       "      <td>invoice_2.pdf</td>\n",
       "      <td>0001131</td>\n",
       "      <td>2020-01-29</td>\n",
       "      <td>Real Property Management</td>\n",
       "      <td>Roofing Renovations INC</td>\n",
       "      <td>$2,650.00</td>\n",
       "      <td>-</td>\n",
       "      <td>$2,650.00</td>\n",
       "      <td>USD</td>\n",
       "      <td>1</td>\n",
       "      <td>None</td>\n",
       "    </tr>\n",
       "    <tr>\n",
       "      <th>12</th>\n",
       "      <td>invoice_20.pdf</td>\n",
       "      <td>6DC1AEAF-0023</td>\n",
       "      <td>2024-05-26</td>\n",
       "      <td>Andrea Kropp</td>\n",
       "      <td>Posit Software PBC</td>\n",
       "      <td>$14.14</td>\n",
       "      <td>$1.14</td>\n",
       "      <td>$14.14</td>\n",
       "      <td>USD</td>\n",
       "      <td>2</td>\n",
       "      <td>None</td>\n",
       "    </tr>\n",
       "    <tr>\n",
       "      <th>13</th>\n",
       "      <td>invoice_21.pdf</td>\n",
       "      <td>8E8C6122-0016</td>\n",
       "      <td>2024-07-01</td>\n",
       "      <td>Andrea Kropp</td>\n",
       "      <td>Midjourney Inc</td>\n",
       "      <td>$30.00</td>\n",
       "      <td>$2.61</td>\n",
       "      <td>$32.61</td>\n",
       "      <td>USD</td>\n",
       "      <td>1</td>\n",
       "      <td>None</td>\n",
       "    </tr>\n",
       "    <tr>\n",
       "      <th>14</th>\n",
       "      <td>invoice_22.pdf</td>\n",
       "      <td>1009748</td>\n",
       "      <td>2018-08-21</td>\n",
       "      <td>Andrea Kropp</td>\n",
       "      <td>Brainless Tees, Inc.</td>\n",
       "      <td>$279.00</td>\n",
       "      <td>$23.44</td>\n",
       "      <td>-</td>\n",
       "      <td>None</td>\n",
       "      <td>4</td>\n",
       "      <td>PAID</td>\n",
       "    </tr>\n",
       "    <tr>\n",
       "      <th>15</th>\n",
       "      <td>invoice_23.pdf</td>\n",
       "      <td>IY04370868</td>\n",
       "      <td>2024-05-06</td>\n",
       "      <td></td>\n",
       "      <td>Alamy Inc</td>\n",
       "      <td>$45.00</td>\n",
       "      <td>$4.50</td>\n",
       "      <td>$49.50</td>\n",
       "      <td>USD</td>\n",
       "      <td>1</td>\n",
       "      <td>PAID</td>\n",
       "    </tr>\n",
       "    <tr>\n",
       "      <th>16</th>\n",
       "      <td>invoice_24.pdf</td>\n",
       "      <td>F 247120</td>\n",
       "      <td>2025-08-11</td>\n",
       "      <td>Mrs Andrea Kropp</td>\n",
       "      <td>Frankfurt Airport Marriott Hotel</td>\n",
       "      <td>$168.01</td>\n",
       "      <td>$12.99</td>\n",
       "      <td>-</td>\n",
       "      <td>EUR</td>\n",
       "      <td>4</td>\n",
       "      <td>None</td>\n",
       "    </tr>\n",
       "    <tr>\n",
       "      <th>17</th>\n",
       "      <td>invoice_25.pdf</td>\n",
       "      <td>O-0023-14214</td>\n",
       "      <td>2024-05-27</td>\n",
       "      <td>ANDREA KROPP</td>\n",
       "      <td>OILSTOP</td>\n",
       "      <td>$210.32</td>\n",
       "      <td>$17.87</td>\n",
       "      <td>$228.19</td>\n",
       "      <td>None</td>\n",
       "      <td>12</td>\n",
       "      <td>PAID</td>\n",
       "    </tr>\n",
       "    <tr>\n",
       "      <th>18</th>\n",
       "      <td>invoice_26.pdf</td>\n",
       "      <td>2990</td>\n",
       "      <td>2024-08-08</td>\n",
       "      <td>Karl &amp; Andrea Kropp</td>\n",
       "      <td>Three 60 Decks</td>\n",
       "      <td>$33,650.80</td>\n",
       "      <td>$2,927.62</td>\n",
       "      <td>-</td>\n",
       "      <td>None</td>\n",
       "      <td>4</td>\n",
       "      <td>PAID</td>\n",
       "    </tr>\n",
       "    <tr>\n",
       "      <th>19</th>\n",
       "      <td>invoice_27.pdf</td>\n",
       "      <td>TRX5FPX4C-20</td>\n",
       "      <td>2025-03-02</td>\n",
       "      <td>Meridian Venture Services LLC</td>\n",
       "      <td>Amazon Advertising LLC</td>\n",
       "      <td>$103.93</td>\n",
       "      <td>-</td>\n",
       "      <td>$103.93</td>\n",
       "      <td>USD</td>\n",
       "      <td>3</td>\n",
       "      <td>None</td>\n",
       "    </tr>\n",
       "    <tr>\n",
       "      <th>20</th>\n",
       "      <td>invoice_3.pdf</td>\n",
       "      <td>52255</td>\n",
       "      <td>2022-10-03</td>\n",
       "      <td>Leo Vincent</td>\n",
       "      <td>CUSTOM ELECTRIC &amp; PLUMBING, INC.</td>\n",
       "      <td>$1,550.00</td>\n",
       "      <td>-</td>\n",
       "      <td>$1,550.00</td>\n",
       "      <td>None</td>\n",
       "      <td>3</td>\n",
       "      <td>None</td>\n",
       "    </tr>\n",
       "    <tr>\n",
       "      <th>21</th>\n",
       "      <td>invoice_4.pdf</td>\n",
       "      <td>138277</td>\n",
       "      <td>2022-01-24</td>\n",
       "      <td>NELSON INDUSTRIAL FABRICATORS</td>\n",
       "      <td>A.E. Blake Sales Ltd.</td>\n",
       "      <td>$2,743.07</td>\n",
       "      <td>$356.60</td>\n",
       "      <td>$3,099.67</td>\n",
       "      <td>CAD</td>\n",
       "      <td>3</td>\n",
       "      <td>None</td>\n",
       "    </tr>\n",
       "    <tr>\n",
       "      <th>22</th>\n",
       "      <td>invoice_5.pdf</td>\n",
       "      <td>2197</td>\n",
       "      <td>2023-04-01</td>\n",
       "      <td>Leo Charles Vincent Abaxys Tech, LLC</td>\n",
       "      <td>The Nussbaum Center for Entrepreneurship</td>\n",
       "      <td>$346.00</td>\n",
       "      <td>-</td>\n",
       "      <td>$346.00</td>\n",
       "      <td>USD</td>\n",
       "      <td>2</td>\n",
       "      <td>None</td>\n",
       "    </tr>\n",
       "    <tr>\n",
       "      <th>23</th>\n",
       "      <td>invoice_6.pdf</td>\n",
       "      <td>301236</td>\n",
       "      <td>2024-04-26</td>\n",
       "      <td>Andrea Kropp</td>\n",
       "      <td>FROMUTH</td>\n",
       "      <td>$60.00</td>\n",
       "      <td>$6.96</td>\n",
       "      <td>$86.96</td>\n",
       "      <td>USD</td>\n",
       "      <td>3</td>\n",
       "      <td>None</td>\n",
       "    </tr>\n",
       "    <tr>\n",
       "      <th>24</th>\n",
       "      <td>invoice_7.pdf</td>\n",
       "      <td>D33Y350102708514</td>\n",
       "      <td>2023-03-27</td>\n",
       "      <td>Manjula Kannan</td>\n",
       "      <td>Reliance Retail Ltd</td>\n",
       "      <td>$48,304.24</td>\n",
       "      <td>$8,694.76</td>\n",
       "      <td>$56,999.00</td>\n",
       "      <td>None</td>\n",
       "      <td>1</td>\n",
       "      <td>None</td>\n",
       "    </tr>\n",
       "    <tr>\n",
       "      <th>25</th>\n",
       "      <td>invoice_9.pdf</td>\n",
       "      <td>FCL233308</td>\n",
       "      <td>2021-05-26</td>\n",
       "      <td>Leo Charles Vincent</td>\n",
       "      <td>Freshworks Inc.</td>\n",
       "      <td>$10.00</td>\n",
       "      <td>-</td>\n",
       "      <td>-</td>\n",
       "      <td>USD</td>\n",
       "      <td>1</td>\n",
       "      <td>PAID</td>\n",
       "    </tr>\n",
       "  </tbody>\n",
       "</table>\n",
       "</div>"
      ],
      "text/plain": [
       "              File         Invoice #        Date  \\\n",
       "0    invoice_1.pdf       INV33543191  2020-07-29   \n",
       "1   invoice_10.pdf        1000110140  2025-05-15   \n",
       "2   invoice_11.pdf           2071221  2021-08-30   \n",
       "3   invoice_12.pdf          11828454        None   \n",
       "4   invoice_13.pdf               812  2021-12-02   \n",
       "5   invoice_14.pdf          40458946  2019-02-23   \n",
       "6   invoice_15.pdf        0000329003  2019-04-04   \n",
       "7   invoice_16.pdf                 1  2023-03-20   \n",
       "8   invoice_17.pdf        2014/00355  2014-12-10   \n",
       "9   invoice_18.pdf       00000116271  2020-02-10   \n",
       "10  invoice_19.pdf           1457274  2024-08-31   \n",
       "11   invoice_2.pdf           0001131  2020-01-29   \n",
       "12  invoice_20.pdf     6DC1AEAF-0023  2024-05-26   \n",
       "13  invoice_21.pdf     8E8C6122-0016  2024-07-01   \n",
       "14  invoice_22.pdf           1009748  2018-08-21   \n",
       "15  invoice_23.pdf        IY04370868  2024-05-06   \n",
       "16  invoice_24.pdf          F 247120  2025-08-11   \n",
       "17  invoice_25.pdf      O-0023-14214  2024-05-27   \n",
       "18  invoice_26.pdf              2990  2024-08-08   \n",
       "19  invoice_27.pdf      TRX5FPX4C-20  2025-03-02   \n",
       "20   invoice_3.pdf             52255  2022-10-03   \n",
       "21   invoice_4.pdf            138277  2022-01-24   \n",
       "22   invoice_5.pdf              2197  2023-04-01   \n",
       "23   invoice_6.pdf            301236  2024-04-26   \n",
       "24   invoice_7.pdf  D33Y350102708514  2023-03-27   \n",
       "25   invoice_9.pdf         FCL233308  2021-05-26   \n",
       "\n",
       "                                Customer  \\\n",
       "0                        Abaxys Tech LLC   \n",
       "1                           ANDREA KROPP   \n",
       "2                       Souhail Martesse   \n",
       "3                           ANDREA KROPP   \n",
       "4             SAGAR ASIA PRIVATE LIMITED   \n",
       "5               Gnr-Grupo Novo Rock, Lda   \n",
       "6                                 Nazish   \n",
       "7                       Mansoer Walizada   \n",
       "8                           Sandip Patil   \n",
       "9         Meridian Venture Services, LLC   \n",
       "10                          Andrea Kropp   \n",
       "11              Real Property Management   \n",
       "12                          Andrea Kropp   \n",
       "13                          Andrea Kropp   \n",
       "14                          Andrea Kropp   \n",
       "15                                         \n",
       "16                      Mrs Andrea Kropp   \n",
       "17                          ANDREA KROPP   \n",
       "18                   Karl & Andrea Kropp   \n",
       "19         Meridian Venture Services LLC   \n",
       "20                           Leo Vincent   \n",
       "21         NELSON INDUSTRIAL FABRICATORS   \n",
       "22  Leo Charles Vincent Abaxys Tech, LLC   \n",
       "23                          Andrea Kropp   \n",
       "24                        Manjula Kannan   \n",
       "25                   Leo Charles Vincent   \n",
       "\n",
       "                                    Supplier       Subtotal          Tax  \\\n",
       "0             Zoom Video Communications Inc.        $149.90            -   \n",
       "1             Sheraton Tucson Hotel & Suites              -            -   \n",
       "2                          DollarFulfillment              -            -   \n",
       "3                     Condor Flugdienst GmbH              -            -   \n",
       "4                      KANDHAN METAL COMPANY  $5,102,920.00  $918,525.60   \n",
       "5                               Thomann GmbH              -            -   \n",
       "6   Jade E-Services Pakistan Private Limited        $147.00            -   \n",
       "7                                    Walmart      $1,529.94      $110.92   \n",
       "8                       Variant Technologies      $2,800.00            -   \n",
       "9              Howard Custom Transfers, Inc.        $270.00            -   \n",
       "10                             Harvest Hosts        $159.00       $13.83   \n",
       "11                   Roofing Renovations INC      $2,650.00            -   \n",
       "12                        Posit Software PBC         $14.14        $1.14   \n",
       "13                            Midjourney Inc         $30.00        $2.61   \n",
       "14                      Brainless Tees, Inc.        $279.00       $23.44   \n",
       "15                                 Alamy Inc         $45.00        $4.50   \n",
       "16          Frankfurt Airport Marriott Hotel        $168.01       $12.99   \n",
       "17                                   OILSTOP        $210.32       $17.87   \n",
       "18                            Three 60 Decks     $33,650.80    $2,927.62   \n",
       "19                    Amazon Advertising LLC        $103.93            -   \n",
       "20          CUSTOM ELECTRIC & PLUMBING, INC.      $1,550.00            -   \n",
       "21                     A.E. Blake Sales Ltd.      $2,743.07      $356.60   \n",
       "22  The Nussbaum Center for Entrepreneurship        $346.00            -   \n",
       "23                                   FROMUTH         $60.00        $6.96   \n",
       "24                       Reliance Retail Ltd     $48,304.24    $8,694.76   \n",
       "25                           Freshworks Inc.         $10.00            -   \n",
       "\n",
       "            Total Currency  Line Items Status  \n",
       "0               -      USD           1   PAID  \n",
       "1               -      USD          10   None  \n",
       "2       $1,800.87      USD           1   None  \n",
       "3       $2,579.96      USD           7   None  \n",
       "4   $6,021,446.00      INR           1   None  \n",
       "5          $77.24      EUR           5   None  \n",
       "6         $147.00      PKR           1   None  \n",
       "7       $1,640.86      USD           1   PAID  \n",
       "8       $2,800.00     None           1   None  \n",
       "9               -      USD           2   PAID  \n",
       "10        $172.83      USD           2   PAID  \n",
       "11      $2,650.00      USD           1   None  \n",
       "12         $14.14      USD           2   None  \n",
       "13         $32.61      USD           1   None  \n",
       "14              -     None           4   PAID  \n",
       "15         $49.50      USD           1   PAID  \n",
       "16              -      EUR           4   None  \n",
       "17        $228.19     None          12   PAID  \n",
       "18              -     None           4   PAID  \n",
       "19        $103.93      USD           3   None  \n",
       "20      $1,550.00     None           3   None  \n",
       "21      $3,099.67      CAD           3   None  \n",
       "22        $346.00      USD           2   None  \n",
       "23         $86.96      USD           3   None  \n",
       "24     $56,999.00     None           1   None  \n",
       "25              -      USD           1   PAID  "
      ]
     },
     "metadata": {},
     "output_type": "display_data"
    },
    {
     "name": "stdout",
     "output_type": "stream",
     "text": [
      "\n",
      "📈 Summary Statistics:\n",
      "   Total records: 26\n",
      "   Total value: $6,095,824.76\n",
      "   Unique customers: 20\n",
      "   Unique suppliers: 26\n",
      "\n",
      "💾 Results exported to: /Users/avaxia/landingAI/ade-lambda-s3/Workflows/ADE_Lambda_S3/output_folder/extraction_results_20250925_154416.csv\n"
     ]
    }
   ],
   "source": [
    "# Process batch and get DataFrame\n",
    "df_invoices = process_batch_extraction(\n",
    "  clients['lambda'],\n",
    "  clients['s3'],\n",
    "  FUNCTION_NAME,\n",
    "  BUCKET_NAME,\n",
    "  \"invoices/\",\n",
    "  document_type=\"invoice\",\n",
    "  extraction=True,\n",
    "  session=aws_session \n",
    ")\n",
    "\n",
    "# Display the DataFrame using utility function\n",
    "csv_file = display_batch_dataframe(df_invoices, export_csv=True)"
   ]
  }
 ],
 "metadata": {
  "kernelspec": {
   "display_name": "Python 3 (ipykernel)",
   "language": "python",
   "name": "python3"
  },
  "language_info": {
   "codemirror_mode": {
    "name": "ipython",
    "version": 3
   },
   "file_extension": ".py",
   "mimetype": "text/x-python",
   "name": "python",
   "nbconvert_exporter": "python",
   "pygments_lexer": "ipython3",
   "version": "3.13.7"
  }
 },
 "nbformat": 4,
 "nbformat_minor": 4
}
