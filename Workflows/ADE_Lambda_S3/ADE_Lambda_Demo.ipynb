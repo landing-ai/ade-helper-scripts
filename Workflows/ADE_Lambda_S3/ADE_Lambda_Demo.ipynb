{
 "cells": [
  {
   "cell_type": "markdown",
   "metadata": {},
   "source": [
    "#  ADE Lambda S3 - Serverless Document Processing"
   ]
  },
  {
   "cell_type": "code",
   "execution_count": 1,
   "metadata": {},
   "outputs": [],
   "source": [
    "# ---\n",
    "# LandingAI Applied AI Content Notebook Template\n",
    "# ---\n",
    "# Title:  ADE Lambda S3 - Serverless Document Processing\n",
    "# Author: Ava Xia\n",
    "# Description: Streamlined notebook for testing and using the deployed Lambda function\n",
    "# Target Audience: [Developers, Partners, Customers]\n",
    "# Content Type: [Tutorial, How-To]\n",
    "# Publish Date: 2025-09-23\n",
    "# ADE Version: v0.1.5\n",
    "# Change Log:\n",
    "#    - v1.0: Initial draft\n",
    "#    - v1.1: Modularized with utility functions\n",
    "#    - v1.2: Modularized with consolidated utility functions\n",
    "# ---"
   ]
  },
  {
   "cell_type": "markdown",
   "metadata": {},
   "source": [
    "## Files Structure:\n",
    "- **`.env`** - Environment variables (API keys, AWS settings)\n",
    "- **`config.py`** - Pydantic schemas and configuration management  \n",
    "- **`utils.py`** - All utility functions consolidated"
   ]
  },
  {
   "cell_type": "markdown",
   "metadata": {},
   "source": [
    "## 1️⃣ Environment Setup & Configuration"
   ]
  },
  {
   "cell_type": "markdown",
   "metadata": {},
   "source": [
    "### 🔑 Prerequisites\n",
    "\n",
    "Before running this notebook:\n",
    "1. **Copy `.env.example` to `.env`** and fill in your values:\n",
    "   ```bash\n",
    "   cp .env.example .env\n",
    "   # Edit .env with your API keys and AWS settings\n",
    "   ```\n",
    "\n",
    "2. **Login to AWS SSO** (if using SSO):\n",
    "   ```bash\n",
    "   aws configure sso\n",
    "   aws sso login --profile your-profile-name\n",
    "   ```"
   ]
  },
  {
   "cell_type": "code",
   "execution_count": 2,
   "metadata": {},
   "outputs": [
    {
     "name": "stdout",
     "output_type": "stream",
     "text": [
      "============================================================\n",
      "🔧 Initializing AWS environment...\n",
      "============================================================\n",
      "Loading .env from: /Users/avaxia/landingAI/ade-lambda-s3/Workflows/ADE_Lambda_S3/.env\n",
      "Debug - Settings loaded:\n",
      "  - aws_region from settings: us-west-2\n",
      "  - aws_profile from settings: workload-dev-2\n",
      "✅ AWS Environment configured\n",
      "   Profile: workload-dev-2\n",
      "   Region: us-west-2\n",
      "   Account: 9700XXXX1993\n",
      "\n",
      "✅ Environment ready!\n",
      "   Lambda: ade-lambda-s3\n",
      "   Bucket: cf-mle-testing\n",
      "   Region: us-west-2\n",
      "============================================================\n"
     ]
    }
   ],
   "source": [
    "# Import consolidated utilities and configuration\n",
    "import os\n",
    "import json\n",
    "from datetime import datetime\n",
    "from pathlib import Path\n",
    "import pandas as pd\n",
    "from IPython.display import display, JSON\n",
    "\n",
    "# Import consolidated modules\n",
    "from config import get_settings, InvoiceExtractionSchema\n",
    "from utils import (\n",
    "    setup_aws_environment,\n",
    "    list_s3_files,\n",
    "    check_lambda_environment,\n",
    "    get_lambda_metrics,\n",
    "    process_single_file,\n",
    "    process_batch_extraction,\n",
    "    display_parsing_result,\n",
    "    display_extraction_result,\n",
    "    display_batch_dataframe\n",
    ")\n",
    "\n",
    "# Initialize environment using config.py and .env\n",
    "print(\"=\"*60)\n",
    "print(\"🔧 Initializing AWS environment...\")\n",
    "print(\"=\"*60)\n",
    "\n",
    "# Load configuration (automatically reads from .env)\n",
    "config, clients, AWS_ACCOUNT_ID, aws_session = setup_aws_environment()\n",
    "\n",
    "# Check if credentials are valid\n",
    "if AWS_ACCOUNT_ID in ['EXPIRED', 'ERROR']:\n",
    "    print(\"\\n⚠️  Please refresh your AWS credentials using the cell above\")\n",
    "else:\n",
    "    # Extract configuration values\n",
    "    BUCKET_NAME = config['bucket_name']\n",
    "    FUNCTION_NAME = config['function_name']\n",
    "    ECR_REPO = config['ecr_repo']\n",
    "    AWS_REGION = config['aws_region']\n",
    "    \n",
    "    print(\"\\n✅ Environment ready!\")\n",
    "    print(f\"   Lambda: {FUNCTION_NAME}\")\n",
    "    print(f\"   Bucket: {BUCKET_NAME}\")\n",
    "    print(f\"   Region: {AWS_REGION}\")\n",
    "    print(\"=\"*60)"
   ]
  },
  {
   "cell_type": "markdown",
   "metadata": {},
   "source": [
    "## 2️⃣ Docker Build & ECR Deployment\n",
    "\n",
    "### Understanding the Architecture\n",
    "Refer to Readme.md for a step-by-step guide on these steps.\n",
    "\n",
    "```\n",
    "┌─────────────┐      ┌─────────────┐      ┌─────────────┐\n",
    "│   Docker    │ ---> │     ECR     │ ---> │   Lambda    │\n",
    "│   Image     │      │ Repository  │      │  Function   │\n",
    "└─────────────┘      └─────────────┘      └─────────────┘\n",
    "     Build              Push                  Deploy\n",
    "```\n",
    "\n"
   ]
  },
  {
   "cell_type": "markdown",
   "metadata": {},
   "source": [
    "## 3️⃣ Verify Lambda deployment status"
   ]
  },
  {
   "cell_type": "code",
   "execution_count": 3,
   "metadata": {},
   "outputs": [
    {
     "name": "stdout",
     "output_type": "stream",
     "text": [
      "🔐 Lambda Environment Configuration\n",
      "==================================================\n",
      "Environment Variables:\n",
      "   ✅ 🔑 LandingAI API Key: bDk2****TlFD\n",
      "   ✅ 🪣 S3 Bucket: cf-mle-testing\n",
      "   ℹ️  🌍 AWS Region: Using default\n",
      "\n",
      "✅ Lambda is deployed and configured!\n",
      "📊 Lambda Function Metrics\n",
      "==================================================\n",
      "   Function: ade-lambda-s3\n",
      "   State: Active\n",
      "   Memory: 1024 MB\n",
      "   Timeout: 300 seconds\n",
      "   Architecture: arm64\n",
      "   Package Type: Image\n",
      "   Last Modified: 2025-09-25T20:21:22.000+0000\n",
      "\n",
      "📊 Function Details:\n",
      "   State: Active\n",
      "   Memory: Unknown\n",
      "   Timeout: 300\n",
      "   Architecture: Unknown\n"
     ]
    }
   ],
   "source": [
    "\n",
    "env_status = check_lambda_environment(clients['lambda'], FUNCTION_NAME)\n",
    "\n",
    "if env_status.get('configured'):\n",
    "    print(\"\\n✅ Lambda is deployed and configured!\")\n",
    "    \n",
    "    # Get Lambda metrics\n",
    "    metrics = get_lambda_metrics(clients['lambda'], FUNCTION_NAME)\n",
    "    print(f\"\\n📊 Function Details:\")\n",
    "    print(f\"   State: {metrics.get('State', 'Unknown')}\")\n",
    "    print(f\"   Memory: {metrics.get('Memory', 'Unknown')}\")\n",
    "    print(f\"   Timeout: {metrics.get('Timeout', 'Unknown')}\")\n",
    "    print(f\"   Architecture: {metrics.get('Architecture', 'Unknown')}\")\n",
    "else:\n",
    "    print(\"\\n⚠️  Lambda not fully configured.\")\n",
    "    print(\"   Please run ./build.sh and ./deploy.sh first.\")"
   ]
  },
  {
   "cell_type": "markdown",
   "metadata": {},
   "source": [
    "## 4️⃣ Browse Available S3 Files\n",
    "\n",
    "View documents available for processing:"
   ]
  },
  {
   "cell_type": "code",
   "execution_count": 4,
   "metadata": {},
   "outputs": [
    {
     "name": "stdout",
     "output_type": "stream",
     "text": [
      "📂 Files in s3://cf-mle-testing/invoices/\n",
      "Found 20 files\n",
      "\n",
      "📋 Available Files:\n"
     ]
    },
    {
     "data": {
      "text/html": [
       "<div>\n",
       "<style scoped>\n",
       "    .dataframe tbody tr th:only-of-type {\n",
       "        vertical-align: middle;\n",
       "    }\n",
       "\n",
       "    .dataframe tbody tr th {\n",
       "        vertical-align: top;\n",
       "    }\n",
       "\n",
       "    .dataframe thead th {\n",
       "        text-align: right;\n",
       "    }\n",
       "</style>\n",
       "<table border=\"1\" class=\"dataframe\">\n",
       "  <thead>\n",
       "    <tr style=\"text-align: right;\">\n",
       "      <th></th>\n",
       "      <th>File</th>\n",
       "      <th>Size</th>\n",
       "      <th>Modified</th>\n",
       "    </tr>\n",
       "  </thead>\n",
       "  <tbody>\n",
       "    <tr>\n",
       "      <th>0</th>\n",
       "      <td>invoices/invoice_1.pdf</td>\n",
       "      <td>381.5 KB</td>\n",
       "      <td>2025-09-23 08:03</td>\n",
       "    </tr>\n",
       "    <tr>\n",
       "      <th>1</th>\n",
       "      <td>invoices/invoice_11.pdf</td>\n",
       "      <td>116.5 KB</td>\n",
       "      <td>2025-09-25 01:18</td>\n",
       "    </tr>\n",
       "    <tr>\n",
       "      <th>2</th>\n",
       "      <td>invoices/invoice_15.pdf</td>\n",
       "      <td>210.8 KB</td>\n",
       "      <td>2025-09-25 01:18</td>\n",
       "    </tr>\n",
       "    <tr>\n",
       "      <th>3</th>\n",
       "      <td>invoices/invoice_18.pdf</td>\n",
       "      <td>43.7 KB</td>\n",
       "      <td>2025-09-25 01:18</td>\n",
       "    </tr>\n",
       "    <tr>\n",
       "      <th>4</th>\n",
       "      <td>invoices/invoice_19.pdf</td>\n",
       "      <td>50.9 KB</td>\n",
       "      <td>2025-09-25 01:18</td>\n",
       "    </tr>\n",
       "    <tr>\n",
       "      <th>5</th>\n",
       "      <td>invoices/invoice_2.pdf</td>\n",
       "      <td>311.9 KB</td>\n",
       "      <td>2025-09-25 01:18</td>\n",
       "    </tr>\n",
       "    <tr>\n",
       "      <th>6</th>\n",
       "      <td>invoices/invoice_21.pdf</td>\n",
       "      <td>25.6 KB</td>\n",
       "      <td>2025-09-25 01:18</td>\n",
       "    </tr>\n",
       "    <tr>\n",
       "      <th>7</th>\n",
       "      <td>invoices/invoice_25.pdf</td>\n",
       "      <td>1288.9 KB</td>\n",
       "      <td>2025-09-23 07:31</td>\n",
       "    </tr>\n",
       "    <tr>\n",
       "      <th>8</th>\n",
       "      <td>invoices/invoice_3.pdf</td>\n",
       "      <td>507.6 KB</td>\n",
       "      <td>2025-09-18 17:17</td>\n",
       "    </tr>\n",
       "    <tr>\n",
       "      <th>9</th>\n",
       "      <td>invoices/invoice_4.pdf</td>\n",
       "      <td>526.6 KB</td>\n",
       "      <td>2025-09-18 17:17</td>\n",
       "    </tr>\n",
       "  </tbody>\n",
       "</table>\n",
       "</div>"
      ],
      "text/plain": [
       "                      File       Size          Modified\n",
       "0   invoices/invoice_1.pdf   381.5 KB  2025-09-23 08:03\n",
       "1  invoices/invoice_11.pdf   116.5 KB  2025-09-25 01:18\n",
       "2  invoices/invoice_15.pdf   210.8 KB  2025-09-25 01:18\n",
       "3  invoices/invoice_18.pdf    43.7 KB  2025-09-25 01:18\n",
       "4  invoices/invoice_19.pdf    50.9 KB  2025-09-25 01:18\n",
       "5   invoices/invoice_2.pdf   311.9 KB  2025-09-25 01:18\n",
       "6  invoices/invoice_21.pdf    25.6 KB  2025-09-25 01:18\n",
       "7  invoices/invoice_25.pdf  1288.9 KB  2025-09-23 07:31\n",
       "8   invoices/invoice_3.pdf   507.6 KB  2025-09-18 17:17\n",
       "9   invoices/invoice_4.pdf   526.6 KB  2025-09-18 17:17"
      ]
     },
     "metadata": {},
     "output_type": "display_data"
    },
    {
     "name": "stdout",
     "output_type": "stream",
     "text": [
      "\n",
      "... and 10 more files\n"
     ]
    }
   ],
   "source": [
    "# List files in S3 bucket\n",
    "files = list_s3_files(clients['s3'], BUCKET_NAME, \"invoices/\", max_files=20)\n",
    "\n",
    "if files:\n",
    "    # Create DataFrame for better visualization\n",
    "    df_files = pd.DataFrame(files)\n",
    "    print(\"\\n📋 Available Files:\")\n",
    "    display(df_files.head(10))\n",
    "    if len(files) > 10:\n",
    "        print(f\"\\n... and {len(files)-10} more files\")\n",
    "else:\n",
    "    print(\"📂 No files found in invoices/ folder\")\n",
    "    print(\"   Upload some PDF files to process\")"
   ]
  },
  {
   "cell_type": "markdown",
   "metadata": {},
   "source": [
    "## 5️⃣ Single Document Processing\n",
    "\n",
    "Process a single document in two modes:\n",
    "- **Parsing Mode**: Parse the entire document\n",
    "- **Extraction Mode**: Extract structured data based on schema\n",
    "### Option 1: Parsing Mode "
   ]
  },
  {
   "cell_type": "code",
   "execution_count": 5,
   "metadata": {
    "scrolled": true
   },
   "outputs": [
    {
     "name": "stdout",
     "output_type": "stream",
     "text": [
      "Parsing invoices/invoice_4.pdf\n",
      "📄 Parsing document: invoices/invoice_4.pdf\n",
      "============================================================\n",
      "Mode: Parsing (document structure)\n",
      "Returns: List of chunks (text, table, figure types)\n",
      "============================================================\n",
      "\n",
      "✅ Parsing successful!\n",
      "   Results saved to: s3://cf-mle-testing/ade-results/invoice_4_parsed_20250925_222846.json\n",
      "\n",
      "📄 Raw Parsed Output:\n"
     ]
    },
    {
     "data": {
      "application/json": {
       "bucket": "cf-mle-testing",
       "documents": [
        {
         "chunks": [
          {
           "chunk_id": "74c1f0d6-5c95-417b-9bd3-8e1f56f00d44",
           "chunk_type": "figure",
           "grounding": [
            {
             "box": {
              "b": 0.09704755246639252,
              "l": 0.05872124433517456,
              "r": 0.5022231936454773,
              "t": 0.012297030538320541
             },
             "image_path": null,
             "page": 0
            }
           ],
           "text": "logo: LES VENTES A.E. BLAKE / A.E. BLAKE SALES\n\nSummary : This image displays the logo and bilingual company name for A.E. Blake Sales, presented in both French and English.\n\nLogo Design :\n  • Circular logo with a bold, stylized \"B\" inside.\n  • \"B\" is black, set against a white background, with a thick black circular border.\n\nText Elements :\n  • French: \"LES VENTES A.E. BLAKE\"\n  • English: \"A.E. BLAKE SALES\"\n  • Both lines are in italic serif font, right-aligned to the logo.\n\nLayout & Placement :\n  • Logo is positioned to the left.\n  • Company name is to the right of the logo, with French above English.\n\nAnalysis :\n  • The logo uses a simple, bold design for easy recognition.\n  • Bilingual text indicates service to both French and English-speaking clients, likely in Canada.\n  • The clean, professional layout suggests a business-oriented brand identity."
          },
          {
           "chunk_id": "d2bb6282-c8f7-4d1c-a680-5e205a74ec26",
           "chunk_type": "text",
           "grounding": [
            {
             "box": {
              "b": 0.08333122730255127,
              "l": 0.5497387647628784,
              "r": 0.8805419206619263,
              "t": 0.016070984303951263
             },
             "image_path": null,
             "page": 0
            }
           ],
           "text": "A.E. Blake Sales Ltd.  \n100 Consilium Place  \nSuite 200  \nScarborough, ON  \nM1H 3E3\n\nTel. 416 431 0440  \nFax. 416 431 0450  \ntorontosales@aeblake.ca  \nwww.aeblake.ca"
          },
          {
           "chunk_id": "eccb2967-5cc3-4b1e-993b-30eb4361d235",
           "chunk_type": "text",
           "grounding": [
            {
             "box": {
              "b": 0.11659017205238342,
              "l": 0.10226032882928848,
              "r": 0.2734929323196411,
              "t": 0.09643624722957611
             },
             "image_path": null,
             "page": 0
            }
           ],
           "text": "Invoice - Facture"
          },
          {
           "chunk_id": "560e5be5-1d77-4747-87cd-0d7d668ce9b0",
           "chunk_type": "text",
           "grounding": [
            {
             "box": {
              "b": 0.13108912110328674,
              "l": 0.6352406144142151,
              "r": 0.8020429015159607,
              "t": 0.09443099051713943
             },
             "image_path": null,
             "page": 0
            }
           ],
           "text": "NO: 138277\nDATE: Jan 24 2022"
          },
          {
           "chunk_id": "701b88d5-a182-4ad1-8092-dc3eec4099cd",
           "chunk_type": "text",
           "grounding": [
            {
             "box": {
              "b": 0.2328242063522339,
              "l": 0.1397334188222885,
              "r": 0.4164574146270752,
              "t": 0.13539642095565796
             },
             "image_path": null,
             "page": 0
            }
           ],
           "text": "Vendu à - Sold To\n\nNELSON INDUSTRIAL FABRICATORS\n1155 Squires Beach Road\nInvoices: ap@nelsonindust.com\nPICKERING, Ontario, Canada\nL1W 3T9"
          },
          {
           "chunk_id": "c560ddba-ede6-4aa6-90e3-1671b438a1d0",
           "chunk_type": "text",
           "grounding": [
            {
             "box": {
              "b": 0.23249714076519012,
              "l": 0.5114427208900452,
              "r": 0.7873041033744812,
              "t": 0.13564376533031464
             },
             "image_path": null,
             "page": 0
            }
           ],
           "text": "Livré à - Ship To\n\nNELSON INDUSTRIAL FABRICATORS\n1155 Squires Beach Road\nInvoices: ap@nelsonindust.com\nPICKERING, Ontario, Canada\nL1W 3T9"
          },
          {
           "chunk_id": "58845acf-762b-4db0-9acf-b6b1b0ed1678",
           "chunk_type": "text",
           "grounding": [
            {
             "box": {
              "b": 0.39259812235832214,
              "l": 0.06313544511795044,
              "r": 0.9476998448371887,
              "t": 0.25394877791404724
             },
             "image_path": null,
             "page": 0
            }
           ],
           "text": "COMPTE CLIENT/ CUSTOMER ACCOUNT: 10101978\n\nBON D'ACHAT CLIENT/ CUSTOMER PO: P.067967\n\nDATE COMMANDÉ/ ORDER DATE: Jan 19 2022\n\nCOMMANDE AEB/ AEB ORDER: 50002892\n\nTERMES/ TERMS: Net 30 Days\n\nREPRÉSENTANT/ REPRESENTATIVE: Perry Chan OR Jeff Kang\n\nCONDITIONS D’EXPÉDITION/ SHIPPING TERMS: Prepaid on orders over $600\n\nLIVRÉ PAR/ SHIP VIA: UPS 3rd Party 139 2X5"
          },
          {
           "chunk_id": "e235422a-608e-4ed8-a859-39fa70e9ee21",
           "chunk_type": "table",
           "grounding": [
            {
             "box": {
              "b": 0.5586436986923218,
              "l": 0.06539735198020935,
              "r": 0.9454770088195801,
              "t": 0.3929578959941864
             },
             "image_path": null,
             "page": 0
            }
           ],
           "text": "<table><thead><tr><th>#</th><th>ITEM</th><th>DESCRIPTION</th><th>QTÉ/QTY</th><th>PRIX/PRICE</th><th>U/M</th><th>EXTENSION</th></tr></thead><tbody><tr><td>30</td><td>110947</td><td>HD Graphite Canvas 6\"x 50yds 50 yards/roll</td><td>1</td><td>$734.27</td><td>Each</td><td>$734.27</td></tr><tr><td>40</td><td>102044</td><td>3M 777F RBC Belt 6\"x202\" 60YF 10belts/case (+/-10%)</td><td>20</td><td>$68.45</td><td>Each</td><td>$1,369.00</td></tr><tr><td>50</td><td>102046</td><td>3M 777F RBC Belt 6\"x202\" 80YF 10belts/case (+/-10%)</td><td>10</td><td>$63.98</td><td>Each</td><td>$639.80</td></tr></tbody></table>"
          },
          {
           "chunk_id": "b4f0308e-876c-4855-9659-41f91472d4a4",
           "chunk_type": "text",
           "grounding": [
            {
             "box": {
              "b": 0.8299582004547119,
              "l": 0.06555040925741196,
              "r": 0.23937982320785522,
              "t": 0.8150616884231567
             },
             "image_path": null,
             "page": 0
            }
           ],
           "text": "*Courrier / Carrier:* JD SMITH"
          },
          {
           "chunk_id": "7891e903-ed3c-4a6a-8882-12a769d2e0bd",
           "chunk_type": "text",
           "grounding": [
            {
             "box": {
              "b": 0.851024866104126,
              "l": 0.6197760701179504,
              "r": 0.9100797772407532,
              "t": 0.8152638673782349
             },
             "image_path": null,
             "page": 0
            }
           ],
           "text": "Bon d'emballage / Packing Slip: 50002892-10659\n\nDate D'expédition / Shipping Date: Jan 24 2022"
          },
          {
           "chunk_id": "a2cb2ca7-4be7-45e5-93c8-ad962797adff",
           "chunk_type": "text",
           "grounding": [
            {
             "box": {
              "b": 0.850768506526947,
              "l": 0.06393719464540482,
              "r": 0.1723954975605011,
              "t": 0.836329996585846
             },
             "image_path": null,
             "page": 0
            }
           ],
           "text": "*Waybill:* I078685"
          },
          {
           "chunk_id": "f512c063-1d30-46d4-82bb-458fa60378ac",
           "chunk_type": "table",
           "grounding": [
            {
             "box": {
              "b": 0.9264295101165771,
              "l": 0.06097608804702759,
              "r": 0.9268947839736938,
              "t": 0.8533155918121338
             },
             "image_path": null,
             "page": 0
            }
           ],
           "text": "<table><tr><td>http://www.aeblake.ca/en/terms.php<br>Merci - Thank you   Votre contact - Your contact: DRAKE</td><td style=\"text-align:right\">S. Total: $ 2,743.07<br>13% HST: $ 356.60<br><br>Total: $ 3,099.67<br>CAD</td></tr></table>"
          },
          {
           "chunk_id": "88465044-368f-491e-b4d1-ef154445a036",
           "chunk_type": "marginalia",
           "grounding": [
            {
             "box": {
              "b": 0.9551849365234375,
              "l": 0.0648752748966217,
              "r": 0.5041223764419556,
              "t": 0.9402475357055664
             },
             "image_path": null,
             "page": 0
            }
           ],
           "text": "No. T.P.S. - G.S.T. No. : R100064716   No. T.V.Q. - Q.S.T. No. : M1000098741TQ0001JT"
          },
          {
           "chunk_id": "780230f4-8644-46b1-b3d1-8ddf155ae9e7",
           "chunk_type": "marginalia",
           "grounding": [
            {
             "box": {
              "b": 0.9550307393074036,
              "l": 0.8267221450805664,
              "r": 0.8761583566665649,
              "t": 0.9404816031455994
             },
             "image_path": null,
             "page": 0
            }
           ],
           "text": "Page 1/1"
          },
          {
           "chunk_id": "e1d7c70f-c5e8-4b0c-8955-9dfe181ff309",
           "chunk_type": "marginalia",
           "grounding": [
            {
             "box": {
              "b": 0.9869502186775208,
              "l": 0.43107888102531433,
              "r": 0.5554932951927185,
              "t": 0.9712898135185242
             },
             "image_path": null,
             "page": 0
            }
           ],
           "text": "Montréal - Toronto"
          }
         ],
         "doc_type": "pdf",
         "end_page_idx": 0,
         "errors": [],
         "extraction": null,
         "extraction_error": null,
         "extraction_metadata": null,
         "markdown": "logo: LES VENTES A.E. BLAKE / A.E. BLAKE SALES\n\nSummary : This image displays the logo and bilingual company name for A.E. Blake Sales, presented in both French and English.\n\nLogo Design :\n  • Circular logo with a bold, stylized \"B\" inside.\n  • \"B\" is black, set against a white background, with a thick black circular border.\n\nText Elements :\n  • French: \"LES VENTES A.E. BLAKE\"\n  • English: \"A.E. BLAKE SALES\"\n  • Both lines are in italic serif font, right-aligned to the logo.\n\nLayout & Placement :\n  • Logo is positioned to the left.\n  • Company name is to the right of the logo, with French above English.\n\nAnalysis :\n  • The logo uses a simple, bold design for easy recognition.\n  • Bilingual text indicates service to both French and English-speaking clients, likely in Canada.\n  • The clean, professional layout suggests a business-oriented brand identity. <!-- figure, from page 0 (l=0.059,t=0.012,r=0.502,b=0.097), with ID 74c1f0d6-5c95-417b-9bd3-8e1f56f00d44 -->\n\nA.E. Blake Sales Ltd.  \n100 Consilium Place  \nSuite 200  \nScarborough, ON  \nM1H 3E3\n\nTel. 416 431 0440  \nFax. 416 431 0450  \ntorontosales@aeblake.ca  \nwww.aeblake.ca <!-- text, from page 0 (l=0.550,t=0.016,r=0.881,b=0.083), with ID d2bb6282-c8f7-4d1c-a680-5e205a74ec26 -->\n\nInvoice - Facture <!-- text, from page 0 (l=0.102,t=0.096,r=0.273,b=0.117), with ID eccb2967-5cc3-4b1e-993b-30eb4361d235 -->\n\nNO: 138277\nDATE: Jan 24 2022 <!-- text, from page 0 (l=0.635,t=0.094,r=0.802,b=0.131), with ID 560e5be5-1d77-4747-87cd-0d7d668ce9b0 -->\n\nVendu à - Sold To\n\nNELSON INDUSTRIAL FABRICATORS\n1155 Squires Beach Road\nInvoices: ap@nelsonindust.com\nPICKERING, Ontario, Canada\nL1W 3T9 <!-- text, from page 0 (l=0.140,t=0.135,r=0.416,b=0.233), with ID 701b88d5-a182-4ad1-8092-dc3eec4099cd -->\n\nLivré à - Ship To\n\nNELSON INDUSTRIAL FABRICATORS\n1155 Squires Beach Road\nInvoices: ap@nelsonindust.com\nPICKERING, Ontario, Canada\nL1W 3T9 <!-- text, from page 0 (l=0.511,t=0.136,r=0.787,b=0.232), with ID c560ddba-ede6-4aa6-90e3-1671b438a1d0 -->\n\nCOMPTE CLIENT/ CUSTOMER ACCOUNT: 10101978\n\nBON D'ACHAT CLIENT/ CUSTOMER PO: P.067967\n\nDATE COMMANDÉ/ ORDER DATE: Jan 19 2022\n\nCOMMANDE AEB/ AEB ORDER: 50002892\n\nTERMES/ TERMS: Net 30 Days\n\nREPRÉSENTANT/ REPRESENTATIVE: Perry Chan OR Jeff Kang\n\nCONDITIONS D’EXPÉDITION/ SHIPPING TERMS: Prepaid on orders over $600\n\nLIVRÉ PAR/ SHIP VIA: UPS 3rd Party 139 2X5 <!-- text, from page 0 (l=0.063,t=0.254,r=0.948,b=0.393), with ID 58845acf-762b-4db0-9acf-b6b1b0ed1678 -->\n\n<table><thead><tr><th>#</th><th>ITEM</th><th>DESCRIPTION</th><th>QTÉ/QTY</th><th>PRIX/PRICE</th><th>U/M</th><th>EXTENSION</th></tr></thead><tbody><tr><td>30</td><td>110947</td><td>HD Graphite Canvas 6\"x 50yds 50 yards/roll</td><td>1</td><td>$734.27</td><td>Each</td><td>$734.27</td></tr><tr><td>40</td><td>102044</td><td>3M 777F RBC Belt 6\"x202\" 60YF 10belts/case (+/-10%)</td><td>20</td><td>$68.45</td><td>Each</td><td>$1,369.00</td></tr><tr><td>50</td><td>102046</td><td>3M 777F RBC Belt 6\"x202\" 80YF 10belts/case (+/-10%)</td><td>10</td><td>$63.98</td><td>Each</td><td>$639.80</td></tr></tbody></table> <!-- table, from page 0 (l=0.065,t=0.393,r=0.945,b=0.559), with ID e235422a-608e-4ed8-a859-39fa70e9ee21 -->\n\n*Courrier / Carrier:* JD SMITH <!-- text, from page 0 (l=0.066,t=0.815,r=0.239,b=0.830), with ID b4f0308e-876c-4855-9659-41f91472d4a4 -->\n\nBon d'emballage / Packing Slip: 50002892-10659\n\nDate D'expédition / Shipping Date: Jan 24 2022 <!-- text, from page 0 (l=0.620,t=0.815,r=0.910,b=0.851), with ID 7891e903-ed3c-4a6a-8882-12a769d2e0bd -->\n\n*Waybill:* I078685 <!-- text, from page 0 (l=0.064,t=0.836,r=0.172,b=0.851), with ID a2cb2ca7-4be7-45e5-93c8-ad962797adff -->\n\n<table><tr><td>http://www.aeblake.ca/en/terms.php<br>Merci - Thank you   Votre contact - Your contact: DRAKE</td><td style=\"text-align:right\">S. Total: $ 2,743.07<br>13% HST: $ 356.60<br><br>Total: $ 3,099.67<br>CAD</td></tr></table> <!-- table, from page 0 (l=0.061,t=0.853,r=0.927,b=0.926), with ID f512c063-1d30-46d4-82bb-458fa60378ac -->\n\nNo. T.P.S. - G.S.T. No. : R100064716   No. T.V.Q. - Q.S.T. No. : M1000098741TQ0001JT <!-- marginalia, from page 0 (l=0.065,t=0.940,r=0.504,b=0.955), with ID 88465044-368f-491e-b4d1-ef154445a036 -->\n\nPage 1/1 <!-- marginalia, from page 0 (l=0.827,t=0.940,r=0.876,b=0.955), with ID 780230f4-8644-46b1-b3d1-8ddf155ae9e7 -->\n\nMontréal - Toronto <!-- marginalia, from page 0 (l=0.431,t=0.971,r=0.555,b=0.987), with ID e1d7c70f-c5e8-4b0c-8955-9dfe181ff309 -->",
         "metadata": {
          "document_name": "invoice_4.pdf",
          "filename": "invoice_4_1.pdf",
          "page_count": 1,
          "pages_processed": 1,
          "pages_rotation_angles": {
           "0": 0
          },
          "parse_id": "ge9tcfsg8hchcnx3dl7mdey9n",
          "processed_at": "2025-09-25T22:28:45.992701+00:00",
          "processing_time_ms": 30876,
          "statistics": {
           "chunk_types": {
            "figure": 1,
            "marginalia": 3,
            "table": 2,
            "text": 9
           },
           "total_chunks": 15,
           "total_pages": 1
          },
          "user_id": "uskl4jlv3d5v"
         },
         "result_path": null,
         "start_page_idx": 0
        }
       ],
       "parsed_count": 1,
       "prefix": null,
       "processed_at": "20250925_222846",
       "specific_file": "invoices/invoice_4.pdf",
       "trigger_type": "manual"
      },
      "text/plain": [
       "<IPython.core.display.JSON object>"
      ]
     },
     "metadata": {
      "application/json": {
       "expanded": false,
       "root": "root"
      }
     },
     "output_type": "display_data"
    }
   ],
   "source": [
    "# Process a single file with parsing mode\n",
    "test_file = \"invoices/invoice_4.pdf\"\n",
    "\n",
    "print(f'Parsing {test_file}')\n",
    "\n",
    "# Process with parsing mode\n",
    "result = process_single_file(\n",
    "    clients['lambda'], \n",
    "    FUNCTION_NAME, \n",
    "    BUCKET_NAME, \n",
    "    test_file,\n",
    "    extraction=False  # Parsing mode\n",
    ")\n",
    "\n",
    "# Display results using utility function with S3 client\n",
    "display_parsing_result(result, test_file, s3_client=clients['s3'])"
   ]
  },
  {
   "cell_type": "markdown",
   "metadata": {},
   "source": [
    "### Option 2: Extraction Mode (Structured Data)"
   ]
  },
  {
   "cell_type": "code",
   "execution_count": 6,
   "metadata": {},
   "outputs": [
    {
     "name": "stdout",
     "output_type": "stream",
     "text": [
      "Extracting invoices/invoice_3.pdf\n",
      "📄 Extracting structured data from: invoices/invoice_3.pdf\n",
      "============================================================\n",
      "Mode: Extraction (structured data)\n",
      "Schema: InvoiceExtractionSchema\n",
      "============================================================\n",
      "\n",
      "✅ Extraction successful!\n",
      "   Results saved to: s3://cf-mle-testing/ade-results/invoice_3_extracted_20250925_222923.json\n",
      "\n",
      "📊 Extracted Data (JSON format):\n",
      "------------------------------------------------------------\n"
     ]
    },
    {
     "data": {
      "application/json": {
       "doc_type": "pdf",
       "document_type": "invoice",
       "extraction": {
        "company_info": {
         "email": "Mat@CustomEandP.com",
         "phone": "336.701.5589",
         "representative": "Mathew",
         "supplier_address": "PO Box 533\nSummerfield, NC  27358",
         "supplier_name": "CUSTOM ELECTRIC & PLUMBING, INC."
        },
        "customer_info": {
         "customer_email": null,
         "sold_to_address": "1000 Sarah Dr\nSummerfield, NC  27358 USA",
         "sold_to_name": "Leo Vincent"
        },
        "invoice_info": {
         "invoice_date": "2022-10-03",
         "invoice_date_raw": "10/03/2022",
         "invoice_number": "52255",
         "order_date": null,
         "po_number": null,
         "status": null
        },
        "line_items": [
         {
          "amount": 1400,
          "description": "Provide and install new 60 Amp 240Vac breaker and 6/2 Copper SE cable feeding new Tesla Wall connector.\nInstall new customer supplied Tesla wall connector.\nNote: drywall may need to be cut to facilitate work. No drywall repairs or painting are included in this quote.",
          "quantity": 1,
          "sku": null,
          "unit_price": 1400
         },
         {
          "amount": 150,
          "description": "Permit and inspection fees",
          "quantity": 1,
          "sku": null,
          "unit_price": 150
         },
         {
          "amount": 0,
          "description": "Payment Terms: by Cash or Check, All sales final.\n$750.00 deposit at acceptance of contract\nbalance due upon substantial completion of work.\nAgreement to include conditions of agreement addendum\nClarifications:\n It is agreed that during the performance of the work drywall will/may be cut at the discretion of the contractor, this quotation does not include any drywall or painting repair or touchup.\nParking to be provided onsite for all working personnel.\nWork will be completed during normal hours from 8:00 AM to 5:00 PM Monday thru Friday, unless approved otherwise.\n No additional components will be installed outside the scope of work enclosed.\nAll fixtures and lamps are to be furnished on-site by others.\nExcluded from Bid:\nRepairs or corrections to existing plumbing, gas, or electrical system deficiencies or code violations.\nRepairs to any underground utilities (such as sprinkler lines, electrical lines, cable, etc.) not located and clearly marked prior to arrival on-site.\n Engineered drawings  Utility power consumption.",
          "quantity": 1,
          "sku": null,
          "unit_price": 0
         }
        ],
        "totals_summary": {
         "currency": null,
         "shipping": null,
         "subtotal": 1550,
         "tax": 0,
         "total_due": 1550
        }
       },
       "markdown": "CUSTOM ELECTRIC & PLUMBING, INC.\n\nPO Box 533\nSummerfield, NC  27358\n336.701.5589\nMat@CustomEandP.com\nwww.ElectricianOrPlumber.com <!-- text, from page 0 (l=0.023,t=0.041,r=0.336,b=0.137), with ID 9cd16c20-36c9-40b0-9898-7870a7ea7c19 -->\n\nSummary : This is a black-and-white logo for a company named \"Custom Electric & Plumbing, Inc.\" The design incorporates visual elements representing both electrical and plumbing services.\n\nlogo: Custom Electric & Plumbing, Inc.\n\nCompany Name & Tagline :\n  • The main text reads \"Custom Electric & Plumbing, Inc.\"\n  • \"Custom Electric\" is stacked above \"& Plumbing, Inc.\"\n\nDesign Elements :\n  • The \"C\" and \"E\" in \"Custom Electric\" are oversized and vertically aligned on the left.\n  • The \"P\" in \"Plumbing\" is also oversized and placed below the \"C\" and \"E.\"\n  • The \"O\" in \"Custom\" is stylized as a light bulb, representing the electric aspect.\n  • The word \"Plumbing, Inc.\" is set inside a horizontal pipe graphic, which has a faucet handle on the right end.\n\nVisual Motifs :\n  • Light bulb for electricity.\n  • Pipe and faucet handle for plumbing.\n\nSpatial Relationships :\n  • The logo is arranged with large initials on the left, main company name in the center, and the pipe graphic running horizontally beneath.\n\nAnalysis :\n  • The logo visually integrates symbols for both electric (light bulb) and plumbing (pipe and faucet) services, making the company's dual focus immediately clear. The use of oversized initials and graphic elements creates a bold, memorable design. <!-- figure, from page 0 (l=0.702,t=0.038,r=0.971,b=0.189), with ID e6a10ce8-7d98-4a6e-949a-523e6dc76a90 -->\n\nINVOICE\n\nBILL TO\nLeo Vincent\n1000 Sarah Dr\nSummerfield, NC  27358 USA <!-- text, from page 0 (l=0.023,t=0.219,r=0.214,b=0.314), with ID 6a14d5c6-9180-4daa-93f0-9344c9436e98 -->\n\nINVOICE: 52255\nDATE: 10/03/2022\nDUE DATE: 11/01/2022 <!-- text, from page 0 (l=0.656,t=0.248,r=0.874,b=0.299), with ID 913512e0-4bef-4b21-a2fe-9a11caea2dc2 -->\n\nSALES REP\nMathew <!-- text, from page 0 (l=0.025,t=0.328,r=0.106,b=0.359), with ID 64f933e9-5e3c-420d-b44e-bca1d5d66804 -->\n\n<table><thead><tr><th>DESCRIPTION</th><th>QTY</th><th>RATE</th><th>AMOUNT</th></tr></thead><tbody><tr><td>Provide and install new 60 Amp 240Vac breaker and 6/2 Copper SE cable feeding new Tesla Wall connector.\nInstall new customer supplied Tesla wall connector.\nNote: drywall may need to be cut to facilitate work. No drywall repairs or painting are included in this quote.</td><td>1</td><td>1,400.00</td><td>1,400.00</td></tr><tr><td>Permit and inspection fees</td><td>1</td><td>150.00</td><td>150.00</td></tr><tr><td>Payment Terms: by Cash or Check, All sales final.\n$750.00 deposit at acceptance of contract\nbalance due upon substantial completion of work.\nAgreement to include conditions of agreement addendum\nClarifications:\n It is agreed that during the performance of the work drywall will/may be cut at the discretion of the contractor, this quotation does not include any drywall or painting repair or touchup.\nParking to be provided onsite for all working personnel.\nWork will be completed during normal hours from 8:00 AM to 5:00 PM Monday thru Friday, unless approved otherwise.\n No additional components will be installed outside the scope of work enclosed.\nAll fixtures and lamps are to be furnished on-site by others.\nExcluded from Bid:\nRepairs or corrections to existing plumbing, gas, or electrical system deficiencies or code violations.\nRepairs to any underground utilities (such as sprinkler lines, electrical lines, cable, etc.) not located and clearly marked prior to arrival on-site.\n Engineered drawings  Utility power consumption.</td><td>1</td><td>0.00</td><td>0.00</td></tr></tbody></table> <!-- table, from page 0 (l=0.027,t=0.374,r=0.973,b=0.781), with ID 0a5972d1-019b-4618-97d4-10ddda2da41a -->\n\nThank you for supporting your local veteran owned and operated small business.\n<table><tr><td>SUBTOTAL</td><td>1,550.00</td></tr><tr><td>TAX</td><td>0.00</td></tr><tr><td>TOTAL</td><td>1,550.00</td></tr><tr><td>BALANCE DUE</td><td>$1,550.00</td></tr></table> <!-- table, from page 0 (l=0.024,t=0.791,r=0.972,b=0.904), with ID b16965cb-9b61-40c4-9acc-03788d15a766 -->\n\nPage 1 of 1 <!-- marginalia, from page 0 (l=0.467,t=0.968,r=0.533,b=0.983), with ID 69be1b40-67cb-49a1-a34a-51e392e5a750 -->",
       "metadata": {
        "document_name": "invoice_3.pdf",
        "extraction_model": "InvoiceExtractionSchema",
        "pages": 0
       },
       "type": "extracted"
      },
      "text/plain": [
       "<IPython.core.display.JSON object>"
      ]
     },
     "metadata": {
      "application/json": {
       "expanded": false,
       "root": "root"
      }
     },
     "output_type": "display_data"
    }
   ],
   "source": [
    "# Process a single file with extraction mode\n",
    "test_file = \"invoices/invoice_3.pdf\"\n",
    "\n",
    "print(f'Extracting {test_file}')\n",
    "\n",
    "# Process with extraction mode\n",
    "result = process_single_file(\n",
    "    clients['lambda'], \n",
    "    FUNCTION_NAME, \n",
    "    BUCKET_NAME, \n",
    "    test_file,\n",
    "    document_type=\"invoice\",  # Specify document type for extraction\n",
    "    extraction=True  # Extraction mode\n",
    ")\n",
    "\n",
    "# Display results using utility function with S3 client\n",
    "display_extraction_result(result, test_file, document_type=\"invoice\", s3_client=clients['s3'])"
   ]
  },
  {
   "cell_type": "markdown",
   "metadata": {},
   "source": [
    "## 6️⃣ Batch Processing"
   ]
  },
  {
   "cell_type": "code",
   "execution_count": null,
   "metadata": {},
   "outputs": [
    {
     "name": "stdout",
     "output_type": "stream",
     "text": [
      "📋 Batch Invoice Extraction Test\n",
      "================================================================================\n",
      "   Found 26 PDF files to process\n",
      "   ⏱️  Estimated time: 4-5 minutes\n",
      "\n",
      "🚀 Invoking Lambda for batch processing...\n",
      "   ⣽ Processing: [███████████░░░░░░░░░░░░░░░░░░░] 38% - 01:40"
     ]
    }
   ],
   "source": [
    "# Process batch and get DataFrame\n",
    "# Pass the authenticated session to avoid authentication errors\n",
    "df_invoices = process_batch_extraction(\n",
    "  clients['lambda'],\n",
    "  clients['s3'],\n",
    "  FUNCTION_NAME,\n",
    "  BUCKET_NAME,\n",
    "  \"invoices/\",\n",
    "  document_type=\"invoice\",\n",
    "  extraction=True,\n",
    "  session=aws_session  # pass the authenticated session\n",
    ")\n",
    "\n",
    "# Display the DataFrame using utility function\n",
    "csv_file = display_batch_dataframe(df_invoices, export_csv=True)"
   ]
  }
 ],
 "metadata": {
  "kernelspec": {
   "display_name": "Python 3 (ipykernel)",
   "language": "python",
   "name": "python3"
  },
  "language_info": {
   "codemirror_mode": {
    "name": "ipython",
    "version": 3
   },
   "file_extension": ".py",
   "mimetype": "text/x-python",
   "name": "python",
   "nbconvert_exporter": "python",
   "pygments_lexer": "ipython3",
   "version": "3.13.7"
  }
 },
 "nbformat": 4,
 "nbformat_minor": 4
}
