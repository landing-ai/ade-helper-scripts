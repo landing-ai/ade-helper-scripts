{
  "cells": [
    {
      "cell_type": "markdown",
      "id": "8416fecf",
      "metadata": {
        "id": "8416fecf"
      },
      "source": [
        "# 🧠 Agentic Document Extraction with LandingAI\n",
        "\n",
        "This notebook demonstrates how to use the `agentic_doc` Python package to extract structured information from documents using LandingAI's Agentic Document Extraction (ADE) service.\n",
        "\n",
        "We'll walk through:\n",
        "- Parsing documents with ADE\n",
        "- Defining a custom schema using `pydantic`\n",
        "- Viewing structured field extractions\n",
        "- Saving results to CSV\n",
        "\n",
        "> 📎 Supported formats: `.pdf`, `.png`, `.jpg`, `.jpeg`"
      ]
    },
    {
      "cell_type": "markdown",
      "id": "dabf802f",
      "metadata": {
        "id": "dabf802f"
      },
      "source": [
        "## 📦 Setup & Imports\n",
        "\n",
        "Import necessary packages and utility functions. Ensure you have installed `agentic_doc`, Pillow, and other dependencies:\n",
        "\n",
        "```bash\n",
        "pip install agentic-doc pillow\n",
        "```\n",
        "\n",
        "Obtain your API Key from the Visual Playground at https://va.landing.ai/settings/api-key\n",
        "\n",
        "Read about options for setting your API at https://docs.landing.ai/ade/agentic-api-key"
      ]
    },
    {
      "cell_type": "code",
      "source": [
        "# Install required dependencies:\n",
        "\n",
        "!pip install agentic-doc pillow"
      ],
      "metadata": {
        "colab": {
          "base_uri": "https://localhost:8080/"
        },
        "id": "dzvUEpmvB-P5",
        "outputId": "cb959e0b-5d46-4c7c-9dfb-403322cee4e7"
      },
      "id": "dzvUEpmvB-P5",
      "execution_count": null,
      "outputs": [
        {
          "output_type": "stream",
          "name": "stdout",
          "text": [
            "Requirement already satisfied: agentic-doc in /usr/local/lib/python3.11/dist-packages (0.3.1)\n",
            "Requirement already satisfied: pillow in /usr/local/lib/python3.11/dist-packages (11.3.0)\n",
            "Requirement already satisfied: boto3<2.0.0,>=1.38.23 in /usr/local/lib/python3.11/dist-packages (from agentic-doc) (1.40.12)\n",
            "Requirement already satisfied: google-api-python-client<3.0.0,>=2.170.0 in /usr/local/lib/python3.11/dist-packages (from agentic-doc) (2.179.0)\n",
            "Requirement already satisfied: google-auth<3.0.0,>=2.40.2 in /usr/local/lib/python3.11/dist-packages (from agentic-doc) (2.40.3)\n",
            "Requirement already satisfied: google-auth-oauthlib<2.0.0,>=1.2.2 in /usr/local/lib/python3.11/dist-packages (from agentic-doc) (1.2.2)\n",
            "Requirement already satisfied: httpx<0.29.0,>=0.28.1 in /usr/local/lib/python3.11/dist-packages (from agentic-doc) (0.28.1)\n",
            "Requirement already satisfied: jsonschema<5.0.0,>=4.24.0 in /usr/local/lib/python3.11/dist-packages (from agentic-doc) (4.25.0)\n",
            "Requirement already satisfied: opencv-python-headless<5.0.0.0,>=4.11.0.86 in /usr/local/lib/python3.11/dist-packages (from agentic-doc) (4.12.0.88)\n",
            "Requirement already satisfied: pillow-heif>=0.17.0 in /usr/local/lib/python3.11/dist-packages (from agentic-doc) (1.1.0)\n",
            "Requirement already satisfied: protobuf<7.0.0,>=6.31.1 in /usr/local/lib/python3.11/dist-packages (from agentic-doc) (6.32.0)\n",
            "Requirement already satisfied: pydantic>=2.8.0 in /usr/local/lib/python3.11/dist-packages (from agentic-doc) (2.11.7)\n",
            "Requirement already satisfied: pydantic-settings<3.0.0,>=2.2.1 in /usr/local/lib/python3.11/dist-packages (from agentic-doc) (2.10.1)\n",
            "Requirement already satisfied: pymupdf<2.0.0,>=1.25.5 in /usr/local/lib/python3.11/dist-packages (from agentic-doc) (1.26.3)\n",
            "Requirement already satisfied: pypdf<6.0.0,>=5.3.1 in /usr/local/lib/python3.11/dist-packages (from agentic-doc) (5.9.0)\n",
            "Requirement already satisfied: requests<3.0.0,>=2.32.4 in /usr/local/lib/python3.11/dist-packages (from agentic-doc) (2.32.5)\n",
            "Requirement already satisfied: structlog<26.0.0,>=25.2.0 in /usr/local/lib/python3.11/dist-packages (from agentic-doc) (25.4.0)\n",
            "Requirement already satisfied: tenacity>=8.0.0 in /usr/local/lib/python3.11/dist-packages (from agentic-doc) (9.1.2)\n",
            "Requirement already satisfied: tqdm<5.0.0,>=4.64.0 in /usr/local/lib/python3.11/dist-packages (from agentic-doc) (4.67.1)\n",
            "Requirement already satisfied: types-jsonschema<5.0.0.0,>=4.24.0.20250528 in /usr/local/lib/python3.11/dist-packages (from agentic-doc) (4.25.0.20250809)\n",
            "Requirement already satisfied: typing_extensions<5.0.0,>=4.0.0 in /usr/local/lib/python3.11/dist-packages (from agentic-doc) (4.14.1)\n",
            "Requirement already satisfied: botocore<1.41.0,>=1.40.12 in /usr/local/lib/python3.11/dist-packages (from boto3<2.0.0,>=1.38.23->agentic-doc) (1.40.12)\n",
            "Requirement already satisfied: jmespath<2.0.0,>=0.7.1 in /usr/local/lib/python3.11/dist-packages (from boto3<2.0.0,>=1.38.23->agentic-doc) (1.0.1)\n",
            "Requirement already satisfied: s3transfer<0.14.0,>=0.13.0 in /usr/local/lib/python3.11/dist-packages (from boto3<2.0.0,>=1.38.23->agentic-doc) (0.13.1)\n",
            "Requirement already satisfied: httplib2<1.0.0,>=0.19.0 in /usr/local/lib/python3.11/dist-packages (from google-api-python-client<3.0.0,>=2.170.0->agentic-doc) (0.22.0)\n",
            "Requirement already satisfied: google-auth-httplib2<1.0.0,>=0.2.0 in /usr/local/lib/python3.11/dist-packages (from google-api-python-client<3.0.0,>=2.170.0->agentic-doc) (0.2.0)\n",
            "Requirement already satisfied: google-api-core!=2.0.*,!=2.1.*,!=2.2.*,!=2.3.0,<3.0.0,>=1.31.5 in /usr/local/lib/python3.11/dist-packages (from google-api-python-client<3.0.0,>=2.170.0->agentic-doc) (2.25.1)\n",
            "Requirement already satisfied: uritemplate<5,>=3.0.1 in /usr/local/lib/python3.11/dist-packages (from google-api-python-client<3.0.0,>=2.170.0->agentic-doc) (4.2.0)\n",
            "Requirement already satisfied: cachetools<6.0,>=2.0.0 in /usr/local/lib/python3.11/dist-packages (from google-auth<3.0.0,>=2.40.2->agentic-doc) (5.5.2)\n",
            "Requirement already satisfied: pyasn1-modules>=0.2.1 in /usr/local/lib/python3.11/dist-packages (from google-auth<3.0.0,>=2.40.2->agentic-doc) (0.4.2)\n",
            "Requirement already satisfied: rsa<5,>=3.1.4 in /usr/local/lib/python3.11/dist-packages (from google-auth<3.0.0,>=2.40.2->agentic-doc) (4.9.1)\n",
            "Requirement already satisfied: requests-oauthlib>=0.7.0 in /usr/local/lib/python3.11/dist-packages (from google-auth-oauthlib<2.0.0,>=1.2.2->agentic-doc) (2.0.0)\n",
            "Requirement already satisfied: anyio in /usr/local/lib/python3.11/dist-packages (from httpx<0.29.0,>=0.28.1->agentic-doc) (4.10.0)\n",
            "Requirement already satisfied: certifi in /usr/local/lib/python3.11/dist-packages (from httpx<0.29.0,>=0.28.1->agentic-doc) (2025.8.3)\n",
            "Requirement already satisfied: httpcore==1.* in /usr/local/lib/python3.11/dist-packages (from httpx<0.29.0,>=0.28.1->agentic-doc) (1.0.9)\n",
            "Requirement already satisfied: idna in /usr/local/lib/python3.11/dist-packages (from httpx<0.29.0,>=0.28.1->agentic-doc) (3.10)\n",
            "Requirement already satisfied: h11>=0.16 in /usr/local/lib/python3.11/dist-packages (from httpcore==1.*->httpx<0.29.0,>=0.28.1->agentic-doc) (0.16.0)\n",
            "Requirement already satisfied: attrs>=22.2.0 in /usr/local/lib/python3.11/dist-packages (from jsonschema<5.0.0,>=4.24.0->agentic-doc) (25.3.0)\n",
            "Requirement already satisfied: jsonschema-specifications>=2023.03.6 in /usr/local/lib/python3.11/dist-packages (from jsonschema<5.0.0,>=4.24.0->agentic-doc) (2025.4.1)\n",
            "Requirement already satisfied: referencing>=0.28.4 in /usr/local/lib/python3.11/dist-packages (from jsonschema<5.0.0,>=4.24.0->agentic-doc) (0.36.2)\n",
            "Requirement already satisfied: rpds-py>=0.7.1 in /usr/local/lib/python3.11/dist-packages (from jsonschema<5.0.0,>=4.24.0->agentic-doc) (0.27.0)\n",
            "Requirement already satisfied: numpy<2.3.0,>=2 in /usr/local/lib/python3.11/dist-packages (from opencv-python-headless<5.0.0.0,>=4.11.0.86->agentic-doc) (2.0.2)\n",
            "Requirement already satisfied: annotated-types>=0.6.0 in /usr/local/lib/python3.11/dist-packages (from pydantic>=2.8.0->agentic-doc) (0.7.0)\n",
            "Requirement already satisfied: pydantic-core==2.33.2 in /usr/local/lib/python3.11/dist-packages (from pydantic>=2.8.0->agentic-doc) (2.33.2)\n",
            "Requirement already satisfied: typing-inspection>=0.4.0 in /usr/local/lib/python3.11/dist-packages (from pydantic>=2.8.0->agentic-doc) (0.4.1)\n",
            "Requirement already satisfied: python-dotenv>=0.21.0 in /usr/local/lib/python3.11/dist-packages (from pydantic-settings<3.0.0,>=2.2.1->agentic-doc) (1.1.1)\n",
            "Requirement already satisfied: charset_normalizer<4,>=2 in /usr/local/lib/python3.11/dist-packages (from requests<3.0.0,>=2.32.4->agentic-doc) (3.4.3)\n",
            "Requirement already satisfied: urllib3<3,>=1.21.1 in /usr/local/lib/python3.11/dist-packages (from requests<3.0.0,>=2.32.4->agentic-doc) (2.5.0)\n",
            "Requirement already satisfied: python-dateutil<3.0.0,>=2.1 in /usr/local/lib/python3.11/dist-packages (from botocore<1.41.0,>=1.40.12->boto3<2.0.0,>=1.38.23->agentic-doc) (2.9.0.post0)\n",
            "Requirement already satisfied: googleapis-common-protos<2.0.0,>=1.56.2 in /usr/local/lib/python3.11/dist-packages (from google-api-core!=2.0.*,!=2.1.*,!=2.2.*,!=2.3.0,<3.0.0,>=1.31.5->google-api-python-client<3.0.0,>=2.170.0->agentic-doc) (1.70.0)\n",
            "Requirement already satisfied: proto-plus<2.0.0,>=1.22.3 in /usr/local/lib/python3.11/dist-packages (from google-api-core!=2.0.*,!=2.1.*,!=2.2.*,!=2.3.0,<3.0.0,>=1.31.5->google-api-python-client<3.0.0,>=2.170.0->agentic-doc) (1.26.1)\n",
            "Requirement already satisfied: pyparsing!=3.0.0,!=3.0.1,!=3.0.2,!=3.0.3,<4,>=2.4.2 in /usr/local/lib/python3.11/dist-packages (from httplib2<1.0.0,>=0.19.0->google-api-python-client<3.0.0,>=2.170.0->agentic-doc) (3.2.3)\n",
            "Requirement already satisfied: pyasn1<0.7.0,>=0.6.1 in /usr/local/lib/python3.11/dist-packages (from pyasn1-modules>=0.2.1->google-auth<3.0.0,>=2.40.2->agentic-doc) (0.6.1)\n",
            "Requirement already satisfied: oauthlib>=3.0.0 in /usr/local/lib/python3.11/dist-packages (from requests-oauthlib>=0.7.0->google-auth-oauthlib<2.0.0,>=1.2.2->agentic-doc) (3.3.1)\n",
            "Requirement already satisfied: sniffio>=1.1 in /usr/local/lib/python3.11/dist-packages (from anyio->httpx<0.29.0,>=0.28.1->agentic-doc) (1.3.1)\n",
            "Requirement already satisfied: six>=1.5 in /usr/local/lib/python3.11/dist-packages (from python-dateutil<3.0.0,>=2.1->botocore<1.41.0,>=1.40.12->boto3<2.0.0,>=1.38.23->agentic-doc) (1.17.0)\n"
          ]
        }
      ]
    },
    {
      "cell_type": "code",
      "source": [
        "# Add your VISION AGENT API KEY\n",
        "from getpass import getpass\n",
        "import os\n",
        "\n",
        "os.environ[\"VISION_AGENT_API_KEY\"] = getpass(\"Enter your API key: \")"
      ],
      "metadata": {
        "colab": {
          "base_uri": "https://localhost:8080/"
        },
        "id": "YwFpwCzLE32u",
        "outputId": "7667b011-0429-43c6-9c0c-666a47e7c7f5"
      },
      "id": "YwFpwCzLE32u",
      "execution_count": null,
      "outputs": [
        {
          "name": "stdout",
          "output_type": "stream",
          "text": [
            "Enter your API key: ··········\n"
          ]
        }
      ]
    },
    {
      "cell_type": "code",
      "execution_count": null,
      "id": "2904a8b8",
      "metadata": {
        "id": "2904a8b8"
      },
      "outputs": [],
      "source": [
        "# Standard libraries\n",
        "import os\n",
        "import json\n",
        "from datetime import date\n",
        "from pathlib import Path\n",
        "\n",
        "# Agentic Document Extraction from LandingAI\n",
        "from agentic_doc.parse import parse"
      ]
    },
    {
      "cell_type": "markdown",
      "id": "493ab656",
      "metadata": {
        "id": "493ab656"
      },
      "source": [
        "## 📁 Define Input and Output Directories\n",
        "\n",
        "Specify where your documents are located and where results will be saved.\n"
      ]
    },
    {
      "cell_type": "code",
      "execution_count": null,
      "id": "d93a7504",
      "metadata": {
        "id": "d93a7504"
      },
      "outputs": [],
      "source": [
        "# Define input and output directory paths\n",
        "base_dir = Path(os.getcwd())\n",
        "input_folder = base_dir / \"input_folder\"\n",
        "results_folder = base_dir / \"results_folder\"\n",
        "groundings_folder = base_dir / \"groundings_folder\"\n",
        "\n",
        "# Create output folders if they don't exist\n",
        "input_folder.mkdir(parents=True, exist_ok=True)\n",
        "results_folder.mkdir(parents=True, exist_ok=True)\n",
        "groundings_folder.mkdir(parents=True, exist_ok=True)"
      ]
    },
    {
      "cell_type": "markdown",
      "id": "38592cf0",
      "metadata": {
        "id": "38592cf0"
      },
      "source": [
        "## 🗂️ Collect Document File Paths\n",
        "\n",
        "This block filters input files for supported formats.\n"
      ]
    },
    {
      "cell_type": "code",
      "execution_count": null,
      "id": "7531be3b",
      "metadata": {
        "id": "7531be3b",
        "outputId": "bb4765f5-9421-4a5d-94cb-67ada35a0091",
        "colab": {
          "base_uri": "https://localhost:8080/"
        }
      },
      "outputs": [
        {
          "output_type": "execute_result",
          "data": {
            "text/plain": [
              "['CBC-test-report-format-example-sample-template-Drlogy-lab-report.pdf']"
            ]
          },
          "metadata": {},
          "execution_count": 11
        }
      ],
      "source": [
        "file_names = [\n",
        "    p.name\n",
        "    for p in input_folder.iterdir()\n",
        "    if p.suffix.lower() in [\".pdf\", \".png\", \".jpg\", \".jpeg\"]\n",
        "]\n",
        "\n",
        "file_names"
      ]
    },
    {
      "cell_type": "code",
      "execution_count": null,
      "id": "23b44bb3",
      "metadata": {
        "id": "23b44bb3",
        "outputId": "3bcbd42f-4f38-478f-a9ed-5fcdd65c128f",
        "colab": {
          "base_uri": "https://localhost:8080/"
        }
      },
      "outputs": [
        {
          "output_type": "execute_result",
          "data": {
            "text/plain": [
              "['/content/input_folder/CBC-test-report-format-example-sample-template-Drlogy-lab-report.pdf']"
            ]
          },
          "metadata": {},
          "execution_count": 12
        }
      ],
      "source": [
        "# Collect all document file paths in input folder with supported extensions\n",
        "# Convert each Path object to a string to ensure compatibility with parse()\n",
        "\n",
        "file_paths = [\n",
        "    str(p)\n",
        "    for p in input_folder.iterdir()\n",
        "    if p.suffix.lower() in [\".pdf\", \".png\", \".jpg\", \".jpeg\"]\n",
        "]\n",
        "\n",
        "file_paths"
      ]
    },
    {
      "cell_type": "markdown",
      "id": "9b01b070",
      "metadata": {
        "id": "9b01b070"
      },
      "source": [
        "## 🚀 Run Agentic Document Extraction\n",
        "\n",
        "Call the `parse()` function from `agentic_doc` to extract structured data and save results to the output folders.\n",
        "\n",
        "See https://docs.landing.ai/ade/ade-parse-docs for details"
      ]
    },
    {
      "cell_type": "code",
      "execution_count": null,
      "id": "299eb4cb",
      "metadata": {
        "id": "299eb4cb",
        "outputId": "09797f2c-288f-44fe-9d42-309c98438f02",
        "colab": {
          "base_uri": "https://localhost:8080/"
        }
      },
      "outputs": [
        {
          "output_type": "stream",
          "name": "stdout",
          "text": [
            "\u001b[2m2025-08-19 16:14:15\u001b[0m [info   \u001b[0m] \u001b[1mAPI key is valid.             \u001b[0m [\u001b[0m\u001b[1m\u001b[34magentic_doc.utils\u001b[0m]\u001b[0m (utils.py:42)\n",
            "\u001b[2m2025-08-19 16:14:15\u001b[0m [info   \u001b[0m] \u001b[1mParsing 1 documents           \u001b[0m [\u001b[0m\u001b[1m\u001b[34magentic_doc.parse\u001b[0m]\u001b[0m (parse.py:348)\n",
            "\u001b[2m2025-08-19 16:14:15\u001b[0m [info   \u001b[0m] \u001b[1mSplitting PDF: '/content/input_folder/CBC-test-report-format-example-sample-template-Drlogy-lab-report.pdf' into 0 parts under '/tmp/tmpzpfp8si8'\u001b[0m [\u001b[0m\u001b[1m\u001b[34magentic_doc.utils\u001b[0m]\u001b[0m (utils.py:236)\n"
          ]
        },
        {
          "output_type": "stream",
          "name": "stderr",
          "text": [
            "\rParsing documents:   0%|          | 0/1 [00:00<?, ?it/s]"
          ]
        },
        {
          "output_type": "stream",
          "name": "stdout",
          "text": [
            "\u001b[2m2025-08-19 16:14:15\u001b[0m [info   \u001b[0m] \u001b[1mCreated /tmp/tmpzpfp8si8/CBC-test-report-format-example-sample-template-Drlogy-lab-report_1.pdf\u001b[0m [\u001b[0m\u001b[1m\u001b[34magentic_doc.utils\u001b[0m]\u001b[0m (utils.py:252)\n",
            "\u001b[2m2025-08-19 16:14:15\u001b[0m [info   \u001b[0m] \u001b[1mStart parsing document part: 'File name: CBC-test-report-format-example-sample-template-Drlogy-lab-report_1.pdf\tPage: [0:0]'\u001b[0m [\u001b[0m\u001b[1m\u001b[34magentic_doc.parse\u001b[0m]\u001b[0m (parse.py:670)\n"
          ]
        },
        {
          "output_type": "stream",
          "name": "stderr",
          "text": [
            "\n",
            "Parsing document parts from 'CBC-test-report-format-example-sample-template-Drlogy-lab-report.pdf':   0%|          | 0/1 [00:00<?, ?it/s]\u001b[A"
          ]
        },
        {
          "output_type": "stream",
          "name": "stdout",
          "text": [
            "HTTP Request: POST https://api.va.landing.ai/v1/tools/agentic-document-analysis \"HTTP/1.1 200 OK\" (_client.py:1025)\n",
            "\u001b[2m2025-08-19 16:14:35\u001b[0m [info   \u001b[0m] \u001b[1mTime taken to successfully parse a document chunk: 19.91 seconds\u001b[0m [\u001b[0m\u001b[1m\u001b[34magentic_doc.parse\u001b[0m]\u001b[0m (parse.py:823)\n",
            "\u001b[2m2025-08-19 16:14:35\u001b[0m [info   \u001b[0m] \u001b[1mSuccessfully parsed document part: 'File name: CBC-test-report-format-example-sample-template-Drlogy-lab-report_1.pdf\tPage: [0:0]'\u001b[0m [\u001b[0m\u001b[1m\u001b[34magentic_doc.parse\u001b[0m]\u001b[0m (parse.py:679)\n"
          ]
        },
        {
          "output_type": "stream",
          "name": "stderr",
          "text": [
            "\n",
            "Parsing document parts from 'CBC-test-report-format-example-sample-template-Drlogy-lab-report.pdf': 100%|██████████| 1/1 [00:19<00:00, 19.91s/it]"
          ]
        },
        {
          "output_type": "stream",
          "name": "stdout",
          "text": [
            "\u001b[2m2025-08-19 16:14:35\u001b[0m [info   \u001b[0m] \u001b[1mSaving 18 chunks as images to '/content/groundings_folder/CBC-test-report-format-example-sample-template-Drlogy-lab-report_20250819_161435'\u001b[0m [\u001b[0m\u001b[1m\u001b[34magentic_doc.utils\u001b[0m]\u001b[0m \u001b[36mfile_path\u001b[0m=\u001b[35mPosixPath('/content/input_folder/CBC-test-report-format-example-sample-template-Drlogy-lab-report.pdf')\u001b[0m \u001b[36mfile_type\u001b[0m=\u001b[35mpdf\u001b[0m (utils.py:82)\n",
            "\u001b[2m2025-08-19 16:14:35\u001b[0m [info   \u001b[0m] \u001b[1mSaved the parsed result to '/content/results_folder/CBC-test-report-format-example-sample-template-Drlogy-lab-report_20250819_161435.json'\u001b[0m [\u001b[0m\u001b[1m\u001b[34magentic_doc.parse\u001b[0m]\u001b[0m (parse.py:467)\n"
          ]
        },
        {
          "output_type": "stream",
          "name": "stderr",
          "text": [
            "\n",
            "Parsing documents: 100%|██████████| 1/1 [00:20<00:00, 20.02s/it]\n"
          ]
        }
      ],
      "source": [
        "# Parse documents using LandingAI ADE\n",
        "\n",
        "result = parse(\n",
        "    documents=file_paths,\n",
        "    result_save_dir=str(results_folder),\n",
        "    grounding_save_dir=str(groundings_folder),\n",
        "    include_marginalia=True,\n",
        "    include_metadata_in_markdown=True,\n",
        "    )"
      ]
    },
    {
      "cell_type": "markdown",
      "id": "4a33c67a",
      "metadata": {
        "id": "4a33c67a"
      },
      "source": [
        "## 📑 Define Custom Schema for Field Extraction\n",
        "\n",
        "Using `pydantic`, we define a schema to extract specific fields (e.g., product name) from the document.\n",
        "\n",
        "See https://docs.landing.ai/ade/ade-extract-library"
      ]
    },
    {
      "cell_type": "code",
      "execution_count": null,
      "id": "94fb22ab",
      "metadata": {
        "id": "94fb22ab"
      },
      "outputs": [],
      "source": [
        "# Import pydantic for schema definition\n",
        "from pydantic import BaseModel, Field\n",
        "from typing import Optional\n",
        "\n",
        "# Define schema for structured extraction\n",
        "class CBCLabReport(BaseModel):\n",
        "    # Patient Information\n",
        "    patient_name: str = Field(description=\"Full name of the patient\")\n",
        "    patient_age: str = Field(description=\"Age of the patient with units (e.g., '21 Years')\")\n",
        "\n",
        "    # Sample and Report Information\n",
        "    referring_doctor: str = Field(description=\"Name of the referring doctor (Ref. By)\")\n",
        "    sample_type: str = Field(description=\"Primary sample type (e.g., Blood)\")\n",
        "\n",
        "    # Laboratory Information\n",
        "    lab_name: str = Field(description=\"Name of the pathology laboratory\")\n",
        "    pathologist_name: str = Field(description=\"Name and qualification of the pathologist\")\n",
        "\n",
        "    # Hemoglobin\n",
        "    hemoglobin_value: float = Field(description=\"Hemoglobin (Hb) value\")\n",
        "    hemoglobin_status: Optional[str] = Field(description=\"Status if abnormal (Low/High)\")\n",
        "\n",
        "    # RBC Count\n",
        "    rbc_count_value: float = Field(description=\"Total RBC count value\")\n",
        "    rbc_count_unit: str = Field(description=\"Unit for RBC count\")"
      ]
    },
    {
      "cell_type": "markdown",
      "id": "ea197793",
      "metadata": {
        "id": "ea197793"
      },
      "source": [
        "## 🚀 Run Agentic Document Extraction with Schema\n",
        "\n",
        "Call the `parse()` function from `agentic_doc` to extract structured data and save results to the output folders.\n",
        "\n",
        "Pass the `extraction_model` as an input to `parse()`.\n",
        "\n",
        "To learn more about parsing visit [https://docs.landing.ai/ade/ade-parse-docs](https://docs.landing.ai/ade/ade-parse-docs)."
      ]
    },
    {
      "cell_type": "code",
      "execution_count": null,
      "id": "6289035f",
      "metadata": {
        "id": "6289035f",
        "outputId": "606264a7-8f81-4a59-bda3-0f99eca4f234",
        "colab": {
          "base_uri": "https://localhost:8080/"
        }
      },
      "outputs": [
        {
          "output_type": "stream",
          "name": "stdout",
          "text": [
            "\u001b[2m2025-08-19 16:24:48\u001b[0m [info   \u001b[0m] \u001b[1mAPI key is valid.             \u001b[0m [\u001b[0m\u001b[1m\u001b[34magentic_doc.utils\u001b[0m]\u001b[0m (utils.py:42)\n",
            "\u001b[2m2025-08-19 16:24:48\u001b[0m [info   \u001b[0m] \u001b[1mParsing 1 documents           \u001b[0m [\u001b[0m\u001b[1m\u001b[34magentic_doc.parse\u001b[0m]\u001b[0m (parse.py:280)\n"
          ]
        },
        {
          "output_type": "stream",
          "name": "stderr",
          "text": [
            "\rParsing documents:   0%|          | 0/1 [00:00<?, ?it/s]"
          ]
        },
        {
          "output_type": "stream",
          "name": "stdout",
          "text": [
            "\u001b[2m2025-08-19 16:24:48\u001b[0m [info   \u001b[0m] \u001b[1mSplitting PDF: '/content/input_folder/CBC-test-report-format-example-sample-template-Drlogy-lab-report.pdf' into 0 parts under '/tmp/tmpm_plwjl7'\u001b[0m [\u001b[0m\u001b[1m\u001b[34magentic_doc.utils\u001b[0m]\u001b[0m (utils.py:236)\n",
            "\u001b[2m2025-08-19 16:24:48\u001b[0m [info   \u001b[0m] \u001b[1mCreated /tmp/tmpm_plwjl7/CBC-test-report-format-example-sample-template-Drlogy-lab-report_1.pdf\u001b[0m [\u001b[0m\u001b[1m\u001b[34magentic_doc.utils\u001b[0m]\u001b[0m (utils.py:252)\n",
            "\u001b[2m2025-08-19 16:24:48\u001b[0m [info   \u001b[0m] \u001b[1mStart parsing document part: 'File name: CBC-test-report-format-example-sample-template-Drlogy-lab-report_1.pdf\tPage: [0:0]'\u001b[0m [\u001b[0m\u001b[1m\u001b[34magentic_doc.parse\u001b[0m]\u001b[0m (parse.py:670)\n"
          ]
        },
        {
          "output_type": "stream",
          "name": "stderr",
          "text": [
            "\n",
            "Parsing document parts from 'CBC-test-report-format-example-sample-template-Drlogy-lab-report.pdf':   0%|          | 0/1 [00:00<?, ?it/s]\u001b[A"
          ]
        },
        {
          "output_type": "stream",
          "name": "stdout",
          "text": [
            "HTTP Request: POST https://api.va.landing.ai/v1/tools/agentic-document-analysis \"HTTP/1.1 200 OK\" (_client.py:1025)\n",
            "\u001b[2m2025-08-19 16:25:13\u001b[0m [info   \u001b[0m] \u001b[1mTime taken to successfully parse a document chunk: 25.36 seconds\u001b[0m [\u001b[0m\u001b[1m\u001b[34magentic_doc.parse\u001b[0m]\u001b[0m (parse.py:823)\n",
            "\u001b[2m2025-08-19 16:25:13\u001b[0m [info   \u001b[0m] \u001b[1mSuccessfully parsed document part: 'File name: CBC-test-report-format-example-sample-template-Drlogy-lab-report_1.pdf\tPage: [0:0]'\u001b[0m [\u001b[0m\u001b[1m\u001b[34magentic_doc.parse\u001b[0m]\u001b[0m (parse.py:679)\n"
          ]
        },
        {
          "output_type": "stream",
          "name": "stderr",
          "text": [
            "\n",
            "Parsing document parts from 'CBC-test-report-format-example-sample-template-Drlogy-lab-report.pdf': 100%|██████████| 1/1 [00:25<00:00, 25.37s/it]"
          ]
        },
        {
          "output_type": "stream",
          "name": "stdout",
          "text": [
            "\u001b[2m2025-08-19 16:25:13\u001b[0m [info   \u001b[0m] \u001b[1mSaving 18 chunks as images to '/content/groundings_folder/CBC-test-report-format-example-sample-template-Drlogy-lab-report_20250819_162513'\u001b[0m [\u001b[0m\u001b[1m\u001b[34magentic_doc.utils\u001b[0m]\u001b[0m \u001b[36mfile_path\u001b[0m=\u001b[35mPosixPath('/content/input_folder/CBC-test-report-format-example-sample-template-Drlogy-lab-report.pdf')\u001b[0m \u001b[36mfile_type\u001b[0m=\u001b[35mpdf\u001b[0m (utils.py:82)\n"
          ]
        },
        {
          "output_type": "stream",
          "name": "stderr",
          "text": [
            "\n",
            "Parsing documents: 100%|██████████| 1/1 [00:25<00:00, 25.46s/it]\n"
          ]
        }
      ],
      "source": [
        "# Run ADE using the custom Product schema for structured field extraction\n",
        "result_fe = parse(\n",
        "    documents=file_paths,\n",
        "    grounding_save_dir=str(groundings_folder),\n",
        "    extraction_model=CBCLabReport  # This line is new\n",
        "    )"
      ]
    },
    {
      "cell_type": "code",
      "execution_count": null,
      "id": "1cbfed9d",
      "metadata": {
        "id": "1cbfed9d",
        "outputId": "826f450f-0000-4496-c928-f82aa83be18a",
        "colab": {
          "base_uri": "https://localhost:8080/"
        }
      },
      "outputs": [
        {
          "output_type": "execute_result",
          "data": {
            "text/plain": [
              "[ParsedDocument(markdown='Summary : This image is a logo representing a healthcare or medical professional, featuring a stylized person with a stethoscope inside a solid blue circle.\\n\\nlogo:  \\nMain Elements :  \\n  • Central figure is a simplified human icon (head and torso) in white.  \\n  • A stethoscope is draped around the figure’s neck, with the chest piece visible on the right side.  \\n  • The entire design is enclosed within a solid blue circular background.  \\n\\nDesign Details :  \\n  • The logo uses only two colours: white for the figure and stethoscope, blue for the background.  \\n  • The stethoscope is outlined in blue, matching the background.  \\n  • No text, company name, or tagline is present.  \\n  • The figure is centered within the circle, with symmetrical placement.  \\n\\nDimensions & Placement :  \\n  • The circle is perfectly round, with the figure sized to fit comfortably inside, leaving a consistent margin.  \\n  • The stethoscope’s chest piece is positioned to the right of the figure’s torso.  \\n\\nAnalysis :  \\n  • The logo visually communicates a medical or healthcare theme through the use of a stethoscope and a human figure.  \\n  • The blue colour is commonly associated with trust, professionalism, and healthcare.  \\n  • The absence of text or additional symbols makes the logo universally recognizable for medical services or personnel. <!-- figure, from page 0 (l=0.030,t=0.028,r=0.111,b=0.087), with ID 193e57e9-49a1-443a-b565-891487d13f0b -->\\n\\nDRLOGY PATHOLOGY LAB <!-- text, from page 0 (l=0.128,t=0.031,r=0.649,b=0.057), with ID d2ec2d63-f990-4180-8d4f-10fe81f586c2 -->\\n\\n📞  0123456789  |  0912345678\\n\\n✉️  drlogypathlab@drlogy.com <!-- text, from page 0 (l=0.711,t=0.033,r=0.964,b=0.076), with ID 0c64ceb2-afb7-4a8f-b665-5ec69da0af92 -->\\n\\nlogo: [microscope icon]\\n\\nAccurate  |  Caring  |  Instant <!-- text, from page 0 (l=0.125,t=0.058,r=0.454,b=0.084), with ID 6b6273ad-c12f-4255-9c06-3a46cb24f88f -->\\n\\n105 -108, SMART VISION COMPLEX, HEALTHCARE ROAD, OPPOSITE HEALTHCARE COMPLEX. MUMBAI - 689578 <!-- text, from page 0 (l=0.124,t=0.087,r=0.810,b=0.100), with ID a287bcd4-7afe-4d6f-96d8-91092b370a5d -->\\n\\nwww.drlogy.com <!-- text, from page 0 (l=0.841,t=0.110,r=0.961,b=0.124), with ID fb35af2f-54aa-48ae-9138-abc2f695d472 -->\\n\\nYash M. Patel\\n\\nAge : 21 Years\\nSex : Male\\nPID : 555 <!-- text, from page 0 (l=0.032,t=0.145,r=0.209,b=0.225), with ID 127bd433-1105-475e-ae80-5f46df017845 -->\\n\\nSummary : This image is a QR code, a type of two-dimensional barcode, consisting of black and white square modules arranged in a square grid. It is designed to encode data such as a URL, text, or other information for scanning by a QR code reader.\\n\\nbarcode:  \\nType & Structure :  \\n  • QR code (2D barcode) format.  \\n  • Square grid of black and white modules.  \\n  • Three large position markers in the top-left, top-right, and bottom-left corners.  \\n  • Approximate module count: 29 × 29.  \\n  • Quiet zone (white border) present around the code.\\n\\nContent :  \\n  • Encoded data is not visually readable; requires a QR code scanner to extract.  \\n  • No visible numeric or alphanumeric string.\\n\\nDesign Details :  \\n  • Standard QR code layout with finder patterns and alignment patterns.  \\n  • No visible logo, overlay, or embedded image.\\n\\nAnalysis :  \\n  • The QR code is intended for digital scanning and likely encodes a URL, text, or other data.  \\n  • The presence of standard position markers and quiet zone ensures compatibility with most QR code readers. <!-- figure, from page 0 (l=0.255,t=0.161,r=0.342,b=0.223), with ID 7bf44fe2-f5f9-443f-b302-beb50753e52e -->\\n\\nSample Collected At:\\n125, Shivam Bungalow, S G Road,\\nMumbai\\n\\nRef. By: Dr. Hiren Shah <!-- text, from page 0 (l=0.391,t=0.148,r=0.653,b=0.224), with ID 9d190409-a355-4c55-9abd-c787f417594e -->\\n\\nSummary : This image displays a barcode and a set of three timestamped status entries for a process, likely related to sample tracking or logistics.\\n\\nbarcode:\\nBarcode Details :\\n  • Numeric string: 0 35645 62336 78 1\\n  • Barcode type: Not explicitly stated; appears to be a standard linear barcode (possibly Code 128 or EAN-13).\\n  • Module count: Approximately 40–50 bars.\\n  • Quiet zone: Present on both left and right sides.\\n\\nStatus Entries :\\n  • Registered on: 02:31 PM 02 Dec, 2X\\n  • Collected on: 03:11 PM 02 Dec, 2X\\n  • Reported on: 04:35 PM 02 Dec, 2X\\n\\nPlacement & Formatting :\\n  • Barcode is centered at the top of the image.\\n  • Numeric string is printed directly below the barcode.\\n  • Status entries are left-aligned and bolded for the event name, followed by the timestamp.\\n\\nAnalysis :\\n  • The barcode serves as a unique identifier for the tracked item or process.\\n  • The timestamps indicate a sequential workflow: registration, collection, and reporting, all occurring on the same day within a two-hour window.\\n  • The year is partially obscured as \"2X\", suggesting redaction or template use. <!-- figure, from page 0 (l=0.732,t=0.143,r=0.963,b=0.224), with ID 9461112d-e6ef-44db-800a-9be4920fa181 -->\\n\\nComplete Blood Count (CBC)\\n<table><thead><tr><th>Investigation</th><th>Result</th><th>Reference Value</th><th>Unit</th></tr></thead><tbody><tr><td>Primary Sample Type :</td><td>Blood</td><td></td><td></td></tr><tr><td>HEMOGLOBIN</td><td></td><td></td><td></td></tr><tr><td>Hemoglobin (Hb)</td><td>12.5</td><td>Low 13.0 - 17.0</td><td>g/dL</td></tr><tr><td>RBC COUNT</td><td></td><td></td><td></td></tr><tr><td>Total RBC count</td><td>5.2</td><td>4.5 - 5.5</td><td>mill/cumm</td></tr><tr><td>BLOOD INDICES</td><td></td><td></td><td></td></tr><tr><td>Packed Cell Volume (PCV)</td><td>57.5</td><td>High 40 - 50</td><td>%</td></tr><tr><td>Mean Corpuscular Volume (MCV) Calculated</td><td>87.75</td><td>83 - 101</td><td>fL</td></tr><tr><td>MCH Calculated</td><td>27.2</td><td>27 - 32</td><td>pg</td></tr><tr><td>MCHC Calculated</td><td>32.8</td><td>32.5 - 34.5</td><td>g/dL</td></tr><tr><td>RDW</td><td>13.6</td><td>11.6 - 14.0</td><td>%</td></tr><tr><td>WBC COUNT</td><td></td><td></td><td></td></tr><tr><td>Total WBC count</td><td>9000</td><td>4000-11000</td><td>cumm</td></tr><tr><td>DIFFERENTIAL WBC COUNT</td><td></td><td></td><td></td></tr><tr><td>Neutrophils</td><td>60</td><td>50 - 62</td><td>%</td></tr><tr><td>Lymphocytes</td><td>31</td><td>20 - 40</td><td>%</td></tr><tr><td>Eosinophils</td><td>1</td><td>00 - 06</td><td>%</td></tr><tr><td>Monocytes</td><td>7</td><td>00 - 10</td><td>%</td></tr><tr><td>Basophils</td><td>1</td><td>00 - 02</td><td>%</td></tr><tr><td>PLATELET COUNT</td><td></td><td></td><td></td></tr><tr><td>Platelet Count</td><td>150000</td><td>Borderline 150000 - 410000</td><td>cumm</td></tr></tbody></table>\\nInstruments: Fully automated cell counter - Mindray 300\\nInterpretation: Further confirm for Anemia\\nThanks for Reference                                                                ****End of Report**** <!-- table, from page 0 (l=0.027,t=0.236,r=0.963,b=0.812), with ID 03982220-216c-4862-86df-4d7f6a78e4d9 -->\\n\\nSummary : This image displays a professional designation for a Medical Lab Technician, including a handwritten signature and listed qualifications.\\n\\nlogo: \\n  Signature : \\n    • Handwritten signature at the top left, reading \"K. Atatürk\" with a flourish and underline.\\n  Text Elements : \\n    • \"Medical Lab Technician\" in bold, large font.\\n    • \"(DMLT, BMLT)\" in regular font below the main title.\\n  Layout : \\n    • Signature is positioned above the title.\\n    • Title and qualifications are center-aligned beneath the signature.\\n  Dimensions & Placement : \\n    • Signature occupies the upper left; text is centrally aligned below.\\n    • No additional graphic elements or borders.\\n\\nAnalysis : \\n  • The combination of a handwritten signature and bold professional title suggests an official or certified identification, possibly for a badge, certificate, or business card. The use of both DMLT and BMLT indicates dual qualifications in medical laboratory technology. <!-- figure, from page 0 (l=0.035,t=0.867,r=0.259,b=0.927), with ID b98bd9cd-c810-490f-923b-fc812d84d229 -->\\n\\nSummary : This image displays a professional signature block for Dr. Payal Shah, including a handwritten signature, name, and credentials.\\n\\nsignature:  \\nSigned Name :  \\n  • Handwritten signature above the name, stylized as \"Jhat\" or similar, with a looping flourish and upward slant.\\n  • Signature is placed centrally above the printed name.\\n\\nPrinted Information :  \\n  • Name: \"Dr. Payal Shah\" in bold, large font.\\n  • Credentials: \"(MD, Pathologist)\" in regular font below the name.\\n\\nLayout & Dimensions :  \\n  • Signature is centered above the name and credentials.\\n  • All elements are aligned centrally for a formal presentation.\\n\\nAnalysis :  \\n  • The signature block conveys professional identity and authentication, suitable for medical reports or official documents.  \\n  • The handwritten signature adds a personal touch and verification to the printed credentials. <!-- figure, from page 0 (l=0.411,t=0.861,r=0.551,b=0.926), with ID a6ade182-7e9e-4ff2-8c30-26a3b1b2f0fe -->\\n\\nSummary : This image displays a professional signature block for Dr. Vimal Shah, including a handwritten signature, name, and credentials.\\n\\nsignature:  \\nSignature Details :  \\n  • Handwritten signature present above the name, with a rightward slant and a prominent upward flourish.  \\n  • Signature is underlined with a single horizontal stroke.  \\n  • Stroke weight is medium, with some variation in pressure.  \\n  • Signature is placed centrally above the printed name.\\n\\nText Elements :  \\n  • \"Dr. Vimal Shah\" in bold, black font.  \\n  • \"(MD, Pathologist)\" in regular font below the name.\\n\\nPlacement & Dimensions :  \\n  • Signature is directly above the printed name, aligned centrally.  \\n  • All elements are vertically stacked and centered.\\n\\nAnalysis :  \\n  • The signature block is typical for medical professionals, providing authentication and clear identification. The handwritten signature adds a personal verification element above the printed credentials. <!-- figure, from page 0 (l=0.712,t=0.848,r=0.854,b=0.925), with ID 7ac48081-d5ec-4351-872b-405fc920197b -->\\n\\nSummary : This is an illustrated banner for a \"Sample Collection\" service, featuring a delivery person riding a scooter and carrying a yellow box, with the service name prominently displayed.\\n\\nillustration:\\nScene Overview :\\n  • Main subject is a cartoon-style delivery person wearing a helmet and mask, riding an orange scooter.\\n  • The delivery person is carrying a yellow box on the back of the scooter, suggesting the transport of samples.\\n  • The background is a solid blue rectangle with the text \"Sample Collection\" in large yellow font.\\n  • The top right corner contains the text \"Generated on :\" followed by a partial timestamp (\"0\"), indicating this is part of a digital interface or report.\\n\\nTechnical Details :\\n  • No scale bar or magnification is present.\\n  • The illustration uses bright, saturated colours (orange, yellow, blue).\\n  • The style is simple and friendly, with clear outlines and minimal shading.\\n\\nSpatial Relationships :\\n  • The delivery person and scooter are positioned on the left side of the banner.\\n  • The \"Sample Collection\" text is centered and occupies most of the horizontal space.\\n  • The \"Generated on :\" text is in the upper right, separated from the main banner.\\n\\nAnalysis :\\n  • The visual message is to communicate a sample collection service, likely for medical or laboratory purposes, with an emphasis on delivery and safety (helmet, mask).\\n  • The design is clear and direct, suitable for digital platforms or printed materials related to logistics or healthcare. <!-- figure, from page 0 (l=0.352,t=0.935,r=0.684,b=0.998), with ID bf8fc8cc-d3e8-4348-be80-a1ce2a25ea37 -->\\n\\nGenerated on :  02 Dec, 202X 05:00 PM <!-- text, from page 0 (l=0.576,t=0.937,r=0.812,b=0.953), with ID 710a2565-63b9-4217-aa80-a0fa93b970b5 -->\\n\\nPage 1 of 1 <!-- marginalia, from page 0 (l=0.897,t=0.936,r=0.968,b=0.950), with ID b6a26360-0a3d-49dd-88ae-cbe4d5c31e30 -->\\n\\nSummary : This image displays a WhatsApp logo alongside a phone number, likely intended for contact or customer support purposes.\\n\\nlogo: WhatsApp contact banner\\n\\n# Scene Overview :\\n  • The image consists of a green WhatsApp logo on the left and a phone number \"0123456789\" in large white text on a blue rectangular background.\\n  • The WhatsApp logo is the standard white speech bubble with a phone handset inside, set against a green rounded square with a slight gradient.\\n\\n# Technical Details :\\n  • No additional text, icons, or UI elements are present besides the logo and phone number.\\n  • The phone number is formatted as a single string without spaces or dashes.\\n  • The blue background is solid and rectangular, providing contrast for the white text and green logo.\\n\\n# Spatial Relationships :\\n  • WhatsApp logo is positioned on the left, occupying approximately one-sixth of the total width.\\n  • The phone number is centered vertically and horizontally within the blue area to the right of the logo.\\n\\n# Analysis :\\n  • The use of the WhatsApp logo and a prominent phone number suggests this image is designed to facilitate direct messaging or contact via WhatsApp.\\n  • The clear, high-contrast design ensures visibility and quick recognition for users seeking support or communication. <!-- figure, from page 0 (l=0.720,t=0.965,r=0.970,b=0.998), with ID f5181b18-d648-446a-80b8-ea85e650ad72 -->', chunks=[Chunk(text='Summary : This image is a logo representing a healthcare or medical professional, featuring a stylized person with a stethoscope inside a solid blue circle.\\n\\nlogo:  \\nMain Elements :  \\n  • Central figure is a simplified human icon (head and torso) in white.  \\n  • A stethoscope is draped around the figure’s neck, with the chest piece visible on the right side.  \\n  • The entire design is enclosed within a solid blue circular background.  \\n\\nDesign Details :  \\n  • The logo uses only two colours: white for the figure and stethoscope, blue for the background.  \\n  • The stethoscope is outlined in blue, matching the background.  \\n  • No text, company name, or tagline is present.  \\n  • The figure is centered within the circle, with symmetrical placement.  \\n\\nDimensions & Placement :  \\n  • The circle is perfectly round, with the figure sized to fit comfortably inside, leaving a consistent margin.  \\n  • The stethoscope’s chest piece is positioned to the right of the figure’s torso.  \\n\\nAnalysis :  \\n  • The logo visually communicates a medical or healthcare theme through the use of a stethoscope and a human figure.  \\n  • The blue colour is commonly associated with trust, professionalism, and healthcare.  \\n  • The absence of text or additional symbols makes the logo universally recognizable for medical services or personnel.', grounding=[ChunkGrounding(page=0, box=ChunkGroundingBox(l=0.030392982065677643, t=0.027870871126651764, r=0.11071357876062393, b=0.08657540380954742), image_path=PosixPath('/content/groundings_folder/CBC-test-report-format-example-sample-template-Drlogy-lab-report_20250819_162513/page_0/ChunkType.figure_193e57e9-49a1-443a-b565-891487d13f0b_0.png'))], chunk_type=<ChunkType.figure: 'figure'>, chunk_id='193e57e9-49a1-443a-b565-891487d13f0b'), Chunk(text='DRLOGY PATHOLOGY LAB', grounding=[ChunkGrounding(page=0, box=ChunkGroundingBox(l=0.12795275449752808, t=0.03075173869729042, r=0.6487712860107422, b=0.05659959092736244), image_path=PosixPath('/content/groundings_folder/CBC-test-report-format-example-sample-template-Drlogy-lab-report_20250819_162513/page_0/ChunkType.text_d2ec2d63-f990-4180-8d4f-10fe81f586c2_0.png'))], chunk_type=<ChunkType.text: 'text'>, chunk_id='d2ec2d63-f990-4180-8d4f-10fe81f586c2'), Chunk(text='📞  0123456789  |  0912345678\\n\\n✉️  drlogypathlab@drlogy.com', grounding=[ChunkGrounding(page=0, box=ChunkGroundingBox(l=0.7109315395355225, t=0.032852187752723694, r=0.9643433094024658, b=0.07629378139972687), image_path=PosixPath('/content/groundings_folder/CBC-test-report-format-example-sample-template-Drlogy-lab-report_20250819_162513/page_0/ChunkType.text_0c64ceb2-afb7-4a8f-b665-5ec69da0af92_0.png'))], chunk_type=<ChunkType.text: 'text'>, chunk_id='0c64ceb2-afb7-4a8f-b665-5ec69da0af92'), Chunk(text='logo: [microscope icon]\\n\\nAccurate  |  Caring  |  Instant', grounding=[ChunkGrounding(page=0, box=ChunkGroundingBox(l=0.12526892125606537, t=0.058238863945007324, r=0.4544093608856201, b=0.08413764834403992), image_path=PosixPath('/content/groundings_folder/CBC-test-report-format-example-sample-template-Drlogy-lab-report_20250819_162513/page_0/ChunkType.text_6b6273ad-c12f-4255-9c06-3a46cb24f88f_0.png'))], chunk_type=<ChunkType.text: 'text'>, chunk_id='6b6273ad-c12f-4255-9c06-3a46cb24f88f'), Chunk(text='105 -108, SMART VISION COMPLEX, HEALTHCARE ROAD, OPPOSITE HEALTHCARE COMPLEX. MUMBAI - 689578', grounding=[ChunkGrounding(page=0, box=ChunkGroundingBox(l=0.12403002381324768, t=0.0869743600487709, r=0.8104939460754395, b=0.10034368187189102), image_path=PosixPath('/content/groundings_folder/CBC-test-report-format-example-sample-template-Drlogy-lab-report_20250819_162513/page_0/ChunkType.text_a287bcd4-7afe-4d6f-96d8-91092b370a5d_0.png'))], chunk_type=<ChunkType.text: 'text'>, chunk_id='a287bcd4-7afe-4d6f-96d8-91092b370a5d'), Chunk(text='www.drlogy.com', grounding=[ChunkGrounding(page=0, box=ChunkGroundingBox(l=0.8409969210624695, t=0.10975833237171173, r=0.9609401822090149, b=0.12384729087352753), image_path=PosixPath('/content/groundings_folder/CBC-test-report-format-example-sample-template-Drlogy-lab-report_20250819_162513/page_0/ChunkType.text_fb35af2f-54aa-48ae-9138-abc2f695d472_0.png'))], chunk_type=<ChunkType.text: 'text'>, chunk_id='fb35af2f-54aa-48ae-9138-abc2f695d472'), Chunk(text='Yash M. Patel\\n\\nAge : 21 Years\\nSex : Male\\nPID : 555', grounding=[ChunkGrounding(page=0, box=ChunkGroundingBox(l=0.031572625041007996, t=0.14470963180065155, r=0.20850571990013123, b=0.22463364899158478), image_path=PosixPath('/content/groundings_folder/CBC-test-report-format-example-sample-template-Drlogy-lab-report_20250819_162513/page_0/ChunkType.text_127bd433-1105-475e-ae80-5f46df017845_0.png'))], chunk_type=<ChunkType.text: 'text'>, chunk_id='127bd433-1105-475e-ae80-5f46df017845'), Chunk(text='Summary : This image is a QR code, a type of two-dimensional barcode, consisting of black and white square modules arranged in a square grid. It is designed to encode data such as a URL, text, or other information for scanning by a QR code reader.\\n\\nbarcode:  \\nType & Structure :  \\n  • QR code (2D barcode) format.  \\n  • Square grid of black and white modules.  \\n  • Three large position markers in the top-left, top-right, and bottom-left corners.  \\n  • Approximate module count: 29 × 29.  \\n  • Quiet zone (white border) present around the code.\\n\\nContent :  \\n  • Encoded data is not visually readable; requires a QR code scanner to extract.  \\n  • No visible numeric or alphanumeric string.\\n\\nDesign Details :  \\n  • Standard QR code layout with finder patterns and alignment patterns.  \\n  • No visible logo, overlay, or embedded image.\\n\\nAnalysis :  \\n  • The QR code is intended for digital scanning and likely encodes a URL, text, or other data.  \\n  • The presence of standard position markers and quiet zone ensures compatibility with most QR code readers.', grounding=[ChunkGrounding(page=0, box=ChunkGroundingBox(l=0.2553199231624603, t=0.16100755333900452, r=0.34230837225914, b=0.22320455312728882), image_path=PosixPath('/content/groundings_folder/CBC-test-report-format-example-sample-template-Drlogy-lab-report_20250819_162513/page_0/ChunkType.figure_7bf44fe2-f5f9-443f-b302-beb50753e52e_0.png'))], chunk_type=<ChunkType.figure: 'figure'>, chunk_id='7bf44fe2-f5f9-443f-b302-beb50753e52e'), Chunk(text='Sample Collected At:\\n125, Shivam Bungalow, S G Road,\\nMumbai\\n\\nRef. By: Dr. Hiren Shah', grounding=[ChunkGrounding(page=0, box=ChunkGroundingBox(l=0.3914443254470825, t=0.1479630172252655, r=0.652623176574707, b=0.2238125503063202), image_path=PosixPath('/content/groundings_folder/CBC-test-report-format-example-sample-template-Drlogy-lab-report_20250819_162513/page_0/ChunkType.text_9d190409-a355-4c55-9abd-c787f417594e_0.png'))], chunk_type=<ChunkType.text: 'text'>, chunk_id='9d190409-a355-4c55-9abd-c787f417594e'), Chunk(text='Summary : This image displays a barcode and a set of three timestamped status entries for a process, likely related to sample tracking or logistics.\\n\\nbarcode:\\nBarcode Details :\\n  • Numeric string: 0 35645 62336 78 1\\n  • Barcode type: Not explicitly stated; appears to be a standard linear barcode (possibly Code 128 or EAN-13).\\n  • Module count: Approximately 40–50 bars.\\n  • Quiet zone: Present on both left and right sides.\\n\\nStatus Entries :\\n  • Registered on: 02:31 PM 02 Dec, 2X\\n  • Collected on: 03:11 PM 02 Dec, 2X\\n  • Reported on: 04:35 PM 02 Dec, 2X\\n\\nPlacement & Formatting :\\n  • Barcode is centered at the top of the image.\\n  • Numeric string is printed directly below the barcode.\\n  • Status entries are left-aligned and bolded for the event name, followed by the timestamp.\\n\\nAnalysis :\\n  • The barcode serves as a unique identifier for the tracked item or process.\\n  • The timestamps indicate a sequential workflow: registration, collection, and reporting, all occurring on the same day within a two-hour window.\\n  • The year is partially obscured as \"2X\", suggesting redaction or template use.', grounding=[ChunkGrounding(page=0, box=ChunkGroundingBox(l=0.7316878437995911, t=0.1433066874742508, r=0.9627189040184021, b=0.22392795979976654), image_path=PosixPath('/content/groundings_folder/CBC-test-report-format-example-sample-template-Drlogy-lab-report_20250819_162513/page_0/ChunkType.figure_9461112d-e6ef-44db-800a-9be4920fa181_0.png'))], chunk_type=<ChunkType.figure: 'figure'>, chunk_id='9461112d-e6ef-44db-800a-9be4920fa181'), Chunk(text='Complete Blood Count (CBC)\\n<table><thead><tr><th>Investigation</th><th>Result</th><th>Reference Value</th><th>Unit</th></tr></thead><tbody><tr><td>Primary Sample Type :</td><td>Blood</td><td></td><td></td></tr><tr><td>HEMOGLOBIN</td><td></td><td></td><td></td></tr><tr><td>Hemoglobin (Hb)</td><td>12.5</td><td>Low 13.0 - 17.0</td><td>g/dL</td></tr><tr><td>RBC COUNT</td><td></td><td></td><td></td></tr><tr><td>Total RBC count</td><td>5.2</td><td>4.5 - 5.5</td><td>mill/cumm</td></tr><tr><td>BLOOD INDICES</td><td></td><td></td><td></td></tr><tr><td>Packed Cell Volume (PCV)</td><td>57.5</td><td>High 40 - 50</td><td>%</td></tr><tr><td>Mean Corpuscular Volume (MCV) Calculated</td><td>87.75</td><td>83 - 101</td><td>fL</td></tr><tr><td>MCH Calculated</td><td>27.2</td><td>27 - 32</td><td>pg</td></tr><tr><td>MCHC Calculated</td><td>32.8</td><td>32.5 - 34.5</td><td>g/dL</td></tr><tr><td>RDW</td><td>13.6</td><td>11.6 - 14.0</td><td>%</td></tr><tr><td>WBC COUNT</td><td></td><td></td><td></td></tr><tr><td>Total WBC count</td><td>9000</td><td>4000-11000</td><td>cumm</td></tr><tr><td>DIFFERENTIAL WBC COUNT</td><td></td><td></td><td></td></tr><tr><td>Neutrophils</td><td>60</td><td>50 - 62</td><td>%</td></tr><tr><td>Lymphocytes</td><td>31</td><td>20 - 40</td><td>%</td></tr><tr><td>Eosinophils</td><td>1</td><td>00 - 06</td><td>%</td></tr><tr><td>Monocytes</td><td>7</td><td>00 - 10</td><td>%</td></tr><tr><td>Basophils</td><td>1</td><td>00 - 02</td><td>%</td></tr><tr><td>PLATELET COUNT</td><td></td><td></td><td></td></tr><tr><td>Platelet Count</td><td>150000</td><td>Borderline 150000 - 410000</td><td>cumm</td></tr></tbody></table>\\nInstruments: Fully automated cell counter - Mindray 300\\nInterpretation: Further confirm for Anemia\\nThanks for Reference                                                                ****End of Report****', grounding=[ChunkGrounding(page=0, box=ChunkGroundingBox(l=0.02710282802581787, t=0.23554059863090515, r=0.963040828704834, b=0.8119076490402222), image_path=PosixPath('/content/groundings_folder/CBC-test-report-format-example-sample-template-Drlogy-lab-report_20250819_162513/page_0/ChunkType.table_03982220-216c-4862-86df-4d7f6a78e4d9_0.png'))], chunk_type=<ChunkType.table: 'table'>, chunk_id='03982220-216c-4862-86df-4d7f6a78e4d9'), Chunk(text='Summary : This image displays a professional designation for a Medical Lab Technician, including a handwritten signature and listed qualifications.\\n\\nlogo: \\n  Signature : \\n    • Handwritten signature at the top left, reading \"K. Atatürk\" with a flourish and underline.\\n  Text Elements : \\n    • \"Medical Lab Technician\" in bold, large font.\\n    • \"(DMLT, BMLT)\" in regular font below the main title.\\n  Layout : \\n    • Signature is positioned above the title.\\n    • Title and qualifications are center-aligned beneath the signature.\\n  Dimensions & Placement : \\n    • Signature occupies the upper left; text is centrally aligned below.\\n    • No additional graphic elements or borders.\\n\\nAnalysis : \\n  • The combination of a handwritten signature and bold professional title suggests an official or certified identification, possibly for a badge, certificate, or business card. The use of both DMLT and BMLT indicates dual qualifications in medical laboratory technology.', grounding=[ChunkGrounding(page=0, box=ChunkGroundingBox(l=0.035139285027980804, t=0.8666852116584778, r=0.2591037154197693, b=0.9272429347038269), image_path=PosixPath('/content/groundings_folder/CBC-test-report-format-example-sample-template-Drlogy-lab-report_20250819_162513/page_0/ChunkType.figure_b98bd9cd-c810-490f-923b-fc812d84d229_0.png'))], chunk_type=<ChunkType.figure: 'figure'>, chunk_id='b98bd9cd-c810-490f-923b-fc812d84d229'), Chunk(text='Summary : This image displays a professional signature block for Dr. Payal Shah, including a handwritten signature, name, and credentials.\\n\\nsignature:  \\nSigned Name :  \\n  • Handwritten signature above the name, stylized as \"Jhat\" or similar, with a looping flourish and upward slant.\\n  • Signature is placed centrally above the printed name.\\n\\nPrinted Information :  \\n  • Name: \"Dr. Payal Shah\" in bold, large font.\\n  • Credentials: \"(MD, Pathologist)\" in regular font below the name.\\n\\nLayout & Dimensions :  \\n  • Signature is centered above the name and credentials.\\n  • All elements are aligned centrally for a formal presentation.\\n\\nAnalysis :  \\n  • The signature block conveys professional identity and authentication, suitable for medical reports or official documents.  \\n  • The handwritten signature adds a personal touch and verification to the printed credentials.', grounding=[ChunkGrounding(page=0, box=ChunkGroundingBox(l=0.4112201929092407, t=0.8607416749000549, r=0.5507945418357849, b=0.9259709715843201), image_path=PosixPath('/content/groundings_folder/CBC-test-report-format-example-sample-template-Drlogy-lab-report_20250819_162513/page_0/ChunkType.figure_a6ade182-7e9e-4ff2-8c30-26a3b1b2f0fe_0.png'))], chunk_type=<ChunkType.figure: 'figure'>, chunk_id='a6ade182-7e9e-4ff2-8c30-26a3b1b2f0fe'), Chunk(text='Summary : This image displays a professional signature block for Dr. Vimal Shah, including a handwritten signature, name, and credentials.\\n\\nsignature:  \\nSignature Details :  \\n  • Handwritten signature present above the name, with a rightward slant and a prominent upward flourish.  \\n  • Signature is underlined with a single horizontal stroke.  \\n  • Stroke weight is medium, with some variation in pressure.  \\n  • Signature is placed centrally above the printed name.\\n\\nText Elements :  \\n  • \"Dr. Vimal Shah\" in bold, black font.  \\n  • \"(MD, Pathologist)\" in regular font below the name.\\n\\nPlacement & Dimensions :  \\n  • Signature is directly above the printed name, aligned centrally.  \\n  • All elements are vertically stacked and centered.\\n\\nAnalysis :  \\n  • The signature block is typical for medical professionals, providing authentication and clear identification. The handwritten signature adds a personal verification element above the printed credentials.', grounding=[ChunkGrounding(page=0, box=ChunkGroundingBox(l=0.7122348546981812, t=0.848143994808197, r=0.8539450168609619, b=0.9246144890785217), image_path=PosixPath('/content/groundings_folder/CBC-test-report-format-example-sample-template-Drlogy-lab-report_20250819_162513/page_0/ChunkType.figure_7ac48081-d5ec-4351-872b-405fc920197b_0.png'))], chunk_type=<ChunkType.figure: 'figure'>, chunk_id='7ac48081-d5ec-4351-872b-405fc920197b'), Chunk(text='Summary : This is an illustrated banner for a \"Sample Collection\" service, featuring a delivery person riding a scooter and carrying a yellow box, with the service name prominently displayed.\\n\\nillustration:\\nScene Overview :\\n  • Main subject is a cartoon-style delivery person wearing a helmet and mask, riding an orange scooter.\\n  • The delivery person is carrying a yellow box on the back of the scooter, suggesting the transport of samples.\\n  • The background is a solid blue rectangle with the text \"Sample Collection\" in large yellow font.\\n  • The top right corner contains the text \"Generated on :\" followed by a partial timestamp (\"0\"), indicating this is part of a digital interface or report.\\n\\nTechnical Details :\\n  • No scale bar or magnification is present.\\n  • The illustration uses bright, saturated colours (orange, yellow, blue).\\n  • The style is simple and friendly, with clear outlines and minimal shading.\\n\\nSpatial Relationships :\\n  • The delivery person and scooter are positioned on the left side of the banner.\\n  • The \"Sample Collection\" text is centered and occupies most of the horizontal space.\\n  • The \"Generated on :\" text is in the upper right, separated from the main banner.\\n\\nAnalysis :\\n  • The visual message is to communicate a sample collection service, likely for medical or laboratory purposes, with an emphasis on delivery and safety (helmet, mask).\\n  • The design is clear and direct, suitable for digital platforms or printed materials related to logistics or healthcare.', grounding=[ChunkGrounding(page=0, box=ChunkGroundingBox(l=0.3519350290298462, t=0.9354717135429382, r=0.6838942766189575, b=0.9982848763465881), image_path=PosixPath('/content/groundings_folder/CBC-test-report-format-example-sample-template-Drlogy-lab-report_20250819_162513/page_0/ChunkType.figure_bf8fc8cc-d3e8-4348-be80-a1ce2a25ea37_0.png'))], chunk_type=<ChunkType.figure: 'figure'>, chunk_id='bf8fc8cc-d3e8-4348-be80-a1ce2a25ea37'), Chunk(text='Generated on :  02 Dec, 202X 05:00 PM', grounding=[ChunkGrounding(page=0, box=ChunkGroundingBox(l=0.5756401419639587, t=0.9366499185562134, r=0.812312662601471, b=0.9525142908096313), image_path=PosixPath('/content/groundings_folder/CBC-test-report-format-example-sample-template-Drlogy-lab-report_20250819_162513/page_0/ChunkType.text_710a2565-63b9-4217-aa80-a0fa93b970b5_0.png'))], chunk_type=<ChunkType.text: 'text'>, chunk_id='710a2565-63b9-4217-aa80-a0fa93b970b5'), Chunk(text='Page 1 of 1', grounding=[ChunkGrounding(page=0, box=ChunkGroundingBox(l=0.8969699740409851, t=0.9362795948982239, r=0.9675106406211853, b=0.9499490857124329), image_path=PosixPath('/content/groundings_folder/CBC-test-report-format-example-sample-template-Drlogy-lab-report_20250819_162513/page_0/ChunkType.marginalia_b6a26360-0a3d-49dd-88ae-cbe4d5c31e30_0.png'))], chunk_type=<ChunkType.marginalia: 'marginalia'>, chunk_id='b6a26360-0a3d-49dd-88ae-cbe4d5c31e30'), Chunk(text='Summary : This image displays a WhatsApp logo alongside a phone number, likely intended for contact or customer support purposes.\\n\\nlogo: WhatsApp contact banner\\n\\n# Scene Overview :\\n  • The image consists of a green WhatsApp logo on the left and a phone number \"0123456789\" in large white text on a blue rectangular background.\\n  • The WhatsApp logo is the standard white speech bubble with a phone handset inside, set against a green rounded square with a slight gradient.\\n\\n# Technical Details :\\n  • No additional text, icons, or UI elements are present besides the logo and phone number.\\n  • The phone number is formatted as a single string without spaces or dashes.\\n  • The blue background is solid and rectangular, providing contrast for the white text and green logo.\\n\\n# Spatial Relationships :\\n  • WhatsApp logo is positioned on the left, occupying approximately one-sixth of the total width.\\n  • The phone number is centered vertically and horizontally within the blue area to the right of the logo.\\n\\n# Analysis :\\n  • The use of the WhatsApp logo and a prominent phone number suggests this image is designed to facilitate direct messaging or contact via WhatsApp.\\n  • The clear, high-contrast design ensures visibility and quick recognition for users seeking support or communication.', grounding=[ChunkGrounding(page=0, box=ChunkGroundingBox(l=0.7203956842422485, t=0.9645880460739136, r=0.97010338306427, b=0.9976373910903931), image_path=PosixPath('/content/groundings_folder/CBC-test-report-format-example-sample-template-Drlogy-lab-report_20250819_162513/page_0/ChunkType.figure_f5181b18-d648-446a-80b8-ea85e650ad72_0.png'))], chunk_type=<ChunkType.figure: 'figure'>, chunk_id='f5181b18-d648-446a-80b8-ea85e650ad72')], extraction=CBCLabReport(patient_name='Yash M. Patel', patient_age='21 Years', referring_doctor='Dr. Hiren Shah', sample_type='Blood', lab_name='DRLOGY PATHOLOGY LAB', pathologist_name='Dr. Payal Shah (MD, Pathologist)', hemoglobin_value=12.5, hemoglobin_status='Low', rbc_count_value=5.2, rbc_count_unit='mill/cumm'), extraction_metadata=CBCLabReportMetadata(patient_name=MetadataType[str](value='Yash M. Patel', chunk_references=['127bd433-1105-475e-ae80-5f46df017845'], confidence=0.9999613491459469), patient_age=MetadataType[str](value='21 Years', chunk_references=['127bd433-1105-475e-ae80-5f46df017845'], confidence=1.0), referring_doctor=MetadataType[str](value='Dr. Hiren Shah', chunk_references=['9d190409-a355-4c55-9abd-c787f417594e'], confidence=0.9999896741288625), sample_type=MetadataType[str](value='Blood', chunk_references=['03982220-216c-4862-86df-4d7f6a78e4d9'], confidence=None), lab_name=MetadataType[str](value='DRLOGY PATHOLOGY LAB', chunk_references=['d2ec2d63-f990-4180-8d4f-10fe81f586c2'], confidence=0.9954670761376193), pathologist_name=MetadataType[str](value='Dr. Payal Shah (MD, Pathologist)', chunk_references=['a6ade182-7e9e-4ff2-8c30-26a3b1b2f0fe'], confidence=None), hemoglobin_value=MetadataType[float](value=12.5, chunk_references=['03982220-216c-4862-86df-4d7f6a78e4d9'], confidence=None), hemoglobin_status=MetadataType[str](value='Low', chunk_references=['03982220-216c-4862-86df-4d7f6a78e4d9'], confidence=None), rbc_count_value=MetadataType[float](value=5.2, chunk_references=['03982220-216c-4862-86df-4d7f6a78e4d9'], confidence=None), rbc_count_unit=MetadataType[str](value='mill/cumm', chunk_references=['03982220-216c-4862-86df-4d7f6a78e4d9'], confidence=None)), start_page_idx=0, end_page_idx=0, doc_type='pdf', result_path=None, errors=[], extraction_error=None)]"
            ]
          },
          "metadata": {},
          "execution_count": 19
        }
      ],
      "source": [
        "# View results\n",
        "result_fe"
      ]
    },
    {
      "cell_type": "markdown",
      "id": "556dc403",
      "metadata": {
        "id": "556dc403"
      },
      "source": [
        "## 🔍 Explore Field Extraction Outputs\n",
        "\n",
        "Dive into the result to understand the contents and structure."
      ]
    },
    {
      "cell_type": "code",
      "execution_count": null,
      "id": "0d05f115",
      "metadata": {
        "id": "0d05f115"
      },
      "outputs": [],
      "source": [
        "# Access one document from the results\n",
        "doc = result_fe[0] # Choose index based on available docs"
      ]
    },
    {
      "cell_type": "code",
      "execution_count": null,
      "id": "be9daea9",
      "metadata": {
        "id": "be9daea9",
        "outputId": "e4120fe3-f58b-4d44-ba3f-20dca89fce02",
        "colab": {
          "base_uri": "https://localhost:8080/"
        }
      },
      "outputs": [
        {
          "output_type": "stream",
          "name": "stdout",
          "text": [
            "Document Type: pdf\n",
            "Result Path: None\n",
            "Markdown Summary (first 100 chars):\n",
            "Summary : This image is a logo representing a healthcare or medical professional, featuring a styliz\n",
            "Total Chunks: 18\n",
            "\n",
            "--- Chunk 1 ---\n",
            "Chunk ID: 193e57e9-49a1-443a-b565-891487d13f0b\n",
            "Chunk Type: figure\n",
            "Text (shortened): Summary : This image is a logo representing a healthcare or medical professional, featuring a styliz ...\n",
            "  Page: 0\n",
            "  Box (l, t, r, b): (0.030, 0.028, 0.111, 0.087)\n",
            "  Image Path: /content/groundings_folder/CBC-test-report-format-example-sample-template-Drlogy-lab-report_20250819_162513/page_0/ChunkType.figure_193e57e9-49a1-443a-b565-891487d13f0b_0.png\n",
            "\n",
            "--- Chunk 2 ---\n",
            "Chunk ID: d2ec2d63-f990-4180-8d4f-10fe81f586c2\n",
            "Chunk Type: text\n",
            "Text (shortened): DRLOGY PATHOLOGY LAB ...\n",
            "  Page: 0\n",
            "  Box (l, t, r, b): (0.128, 0.031, 0.649, 0.057)\n",
            "  Image Path: /content/groundings_folder/CBC-test-report-format-example-sample-template-Drlogy-lab-report_20250819_162513/page_0/ChunkType.text_d2ec2d63-f990-4180-8d4f-10fe81f586c2_0.png\n",
            "\n",
            "--- Chunk 3 ---\n",
            "Chunk ID: 0c64ceb2-afb7-4a8f-b665-5ec69da0af92\n",
            "Chunk Type: text\n",
            "Text (shortened): 📞  0123456789  |  0912345678  ✉️  drlogypathlab@drlogy.com ...\n",
            "  Page: 0\n",
            "  Box (l, t, r, b): (0.711, 0.033, 0.964, 0.076)\n",
            "  Image Path: /content/groundings_folder/CBC-test-report-format-example-sample-template-Drlogy-lab-report_20250819_162513/page_0/ChunkType.text_0c64ceb2-afb7-4a8f-b665-5ec69da0af92_0.png\n",
            "\n",
            "--- Chunk 4 ---\n",
            "Chunk ID: 6b6273ad-c12f-4255-9c06-3a46cb24f88f\n",
            "Chunk Type: text\n",
            "Text (shortened): logo: [microscope icon]  Accurate  |  Caring  |  Instant ...\n",
            "  Page: 0\n",
            "  Box (l, t, r, b): (0.125, 0.058, 0.454, 0.084)\n",
            "  Image Path: /content/groundings_folder/CBC-test-report-format-example-sample-template-Drlogy-lab-report_20250819_162513/page_0/ChunkType.text_6b6273ad-c12f-4255-9c06-3a46cb24f88f_0.png\n",
            "\n",
            "--- Chunk 5 ---\n",
            "Chunk ID: a287bcd4-7afe-4d6f-96d8-91092b370a5d\n",
            "Chunk Type: text\n",
            "Text (shortened): 105 -108, SMART VISION COMPLEX, HEALTHCARE ROAD, OPPOSITE HEALTHCARE COMPLEX. MUMBAI - 689578 ...\n",
            "  Page: 0\n",
            "  Box (l, t, r, b): (0.124, 0.087, 0.810, 0.100)\n",
            "  Image Path: /content/groundings_folder/CBC-test-report-format-example-sample-template-Drlogy-lab-report_20250819_162513/page_0/ChunkType.text_a287bcd4-7afe-4d6f-96d8-91092b370a5d_0.png\n",
            "\n",
            "--- Chunk 6 ---\n",
            "Chunk ID: fb35af2f-54aa-48ae-9138-abc2f695d472\n",
            "Chunk Type: text\n",
            "Text (shortened): www.drlogy.com ...\n",
            "  Page: 0\n",
            "  Box (l, t, r, b): (0.841, 0.110, 0.961, 0.124)\n",
            "  Image Path: /content/groundings_folder/CBC-test-report-format-example-sample-template-Drlogy-lab-report_20250819_162513/page_0/ChunkType.text_fb35af2f-54aa-48ae-9138-abc2f695d472_0.png\n",
            "\n",
            "--- Chunk 7 ---\n",
            "Chunk ID: 127bd433-1105-475e-ae80-5f46df017845\n",
            "Chunk Type: text\n",
            "Text (shortened): Yash M. Patel  Age : 21 Years Sex : Male PID : 555 ...\n",
            "  Page: 0\n",
            "  Box (l, t, r, b): (0.032, 0.145, 0.209, 0.225)\n",
            "  Image Path: /content/groundings_folder/CBC-test-report-format-example-sample-template-Drlogy-lab-report_20250819_162513/page_0/ChunkType.text_127bd433-1105-475e-ae80-5f46df017845_0.png\n",
            "\n",
            "--- Chunk 8 ---\n",
            "Chunk ID: 7bf44fe2-f5f9-443f-b302-beb50753e52e\n",
            "Chunk Type: figure\n",
            "Text (shortened): Summary : This image is a QR code, a type of two-dimensional barcode, consisting of black and white  ...\n",
            "  Page: 0\n",
            "  Box (l, t, r, b): (0.255, 0.161, 0.342, 0.223)\n",
            "  Image Path: /content/groundings_folder/CBC-test-report-format-example-sample-template-Drlogy-lab-report_20250819_162513/page_0/ChunkType.figure_7bf44fe2-f5f9-443f-b302-beb50753e52e_0.png\n",
            "\n",
            "--- Chunk 9 ---\n",
            "Chunk ID: 9d190409-a355-4c55-9abd-c787f417594e\n",
            "Chunk Type: text\n",
            "Text (shortened): Sample Collected At: 125, Shivam Bungalow, S G Road, Mumbai  Ref. By: Dr. Hiren Shah ...\n",
            "  Page: 0\n",
            "  Box (l, t, r, b): (0.391, 0.148, 0.653, 0.224)\n",
            "  Image Path: /content/groundings_folder/CBC-test-report-format-example-sample-template-Drlogy-lab-report_20250819_162513/page_0/ChunkType.text_9d190409-a355-4c55-9abd-c787f417594e_0.png\n",
            "\n",
            "--- Chunk 10 ---\n",
            "Chunk ID: 9461112d-e6ef-44db-800a-9be4920fa181\n",
            "Chunk Type: figure\n",
            "Text (shortened): Summary : This image displays a barcode and a set of three timestamped status entries for a process, ...\n",
            "  Page: 0\n",
            "  Box (l, t, r, b): (0.732, 0.143, 0.963, 0.224)\n",
            "  Image Path: /content/groundings_folder/CBC-test-report-format-example-sample-template-Drlogy-lab-report_20250819_162513/page_0/ChunkType.figure_9461112d-e6ef-44db-800a-9be4920fa181_0.png\n",
            "\n",
            "--- Chunk 11 ---\n",
            "Chunk ID: 03982220-216c-4862-86df-4d7f6a78e4d9\n",
            "Chunk Type: table\n",
            "Text (shortened): Complete Blood Count (CBC) <table><thead><tr><th>Investigation</th><th>Result</th><th>Reference Valu ...\n",
            "  Page: 0\n",
            "  Box (l, t, r, b): (0.027, 0.236, 0.963, 0.812)\n",
            "  Image Path: /content/groundings_folder/CBC-test-report-format-example-sample-template-Drlogy-lab-report_20250819_162513/page_0/ChunkType.table_03982220-216c-4862-86df-4d7f6a78e4d9_0.png\n",
            "\n",
            "--- Chunk 12 ---\n",
            "Chunk ID: b98bd9cd-c810-490f-923b-fc812d84d229\n",
            "Chunk Type: figure\n",
            "Text (shortened): Summary : This image displays a professional designation for a Medical Lab Technician, including a h ...\n",
            "  Page: 0\n",
            "  Box (l, t, r, b): (0.035, 0.867, 0.259, 0.927)\n",
            "  Image Path: /content/groundings_folder/CBC-test-report-format-example-sample-template-Drlogy-lab-report_20250819_162513/page_0/ChunkType.figure_b98bd9cd-c810-490f-923b-fc812d84d229_0.png\n",
            "\n",
            "--- Chunk 13 ---\n",
            "Chunk ID: a6ade182-7e9e-4ff2-8c30-26a3b1b2f0fe\n",
            "Chunk Type: figure\n",
            "Text (shortened): Summary : This image displays a professional signature block for Dr. Payal Shah, including a handwri ...\n",
            "  Page: 0\n",
            "  Box (l, t, r, b): (0.411, 0.861, 0.551, 0.926)\n",
            "  Image Path: /content/groundings_folder/CBC-test-report-format-example-sample-template-Drlogy-lab-report_20250819_162513/page_0/ChunkType.figure_a6ade182-7e9e-4ff2-8c30-26a3b1b2f0fe_0.png\n",
            "\n",
            "--- Chunk 14 ---\n",
            "Chunk ID: 7ac48081-d5ec-4351-872b-405fc920197b\n",
            "Chunk Type: figure\n",
            "Text (shortened): Summary : This image displays a professional signature block for Dr. Vimal Shah, including a handwri ...\n",
            "  Page: 0\n",
            "  Box (l, t, r, b): (0.712, 0.848, 0.854, 0.925)\n",
            "  Image Path: /content/groundings_folder/CBC-test-report-format-example-sample-template-Drlogy-lab-report_20250819_162513/page_0/ChunkType.figure_7ac48081-d5ec-4351-872b-405fc920197b_0.png\n",
            "\n",
            "--- Chunk 15 ---\n",
            "Chunk ID: bf8fc8cc-d3e8-4348-be80-a1ce2a25ea37\n",
            "Chunk Type: figure\n",
            "Text (shortened): Summary : This is an illustrated banner for a \"Sample Collection\" service, featuring a delivery pers ...\n",
            "  Page: 0\n",
            "  Box (l, t, r, b): (0.352, 0.935, 0.684, 0.998)\n",
            "  Image Path: /content/groundings_folder/CBC-test-report-format-example-sample-template-Drlogy-lab-report_20250819_162513/page_0/ChunkType.figure_bf8fc8cc-d3e8-4348-be80-a1ce2a25ea37_0.png\n",
            "\n",
            "--- Chunk 16 ---\n",
            "Chunk ID: 710a2565-63b9-4217-aa80-a0fa93b970b5\n",
            "Chunk Type: text\n",
            "Text (shortened): Generated on :  02 Dec, 202X 05:00 PM ...\n",
            "  Page: 0\n",
            "  Box (l, t, r, b): (0.576, 0.937, 0.812, 0.953)\n",
            "  Image Path: /content/groundings_folder/CBC-test-report-format-example-sample-template-Drlogy-lab-report_20250819_162513/page_0/ChunkType.text_710a2565-63b9-4217-aa80-a0fa93b970b5_0.png\n",
            "\n",
            "--- Chunk 17 ---\n",
            "Chunk ID: b6a26360-0a3d-49dd-88ae-cbe4d5c31e30\n",
            "Chunk Type: marginalia\n",
            "Text (shortened): Page 1 of 1 ...\n",
            "  Page: 0\n",
            "  Box (l, t, r, b): (0.897, 0.936, 0.968, 0.950)\n",
            "  Image Path: /content/groundings_folder/CBC-test-report-format-example-sample-template-Drlogy-lab-report_20250819_162513/page_0/ChunkType.marginalia_b6a26360-0a3d-49dd-88ae-cbe4d5c31e30_0.png\n",
            "\n",
            "--- Chunk 18 ---\n",
            "Chunk ID: f5181b18-d648-446a-80b8-ea85e650ad72\n",
            "Chunk Type: figure\n",
            "Text (shortened): Summary : This image displays a WhatsApp logo alongside a phone number, likely intended for contact  ...\n",
            "  Page: 0\n",
            "  Box (l, t, r, b): (0.720, 0.965, 0.970, 0.998)\n",
            "  Image Path: /content/groundings_folder/CBC-test-report-format-example-sample-template-Drlogy-lab-report_20250819_162513/page_0/ChunkType.figure_f5181b18-d648-446a-80b8-ea85e650ad72_0.png\n"
          ]
        }
      ],
      "source": [
        "# Extract various outputs\n",
        "markdown_output = doc.markdown\n",
        "chunk_output = doc.chunks\n",
        "doc_type = doc.doc_type\n",
        "result_path = str(doc.result_path)\n",
        "\n",
        "# Print metadata\n",
        "print(\"Document Type:\", doc_type)\n",
        "print(\"Result Path:\", result_path)\n",
        "print(\"Markdown Summary (first 100 chars):\")\n",
        "print(markdown_output[:100])\n",
        "\n",
        "# Access and iterate through chunks\n",
        "print(f\"Total Chunks: {len(doc.chunks)}\")\n",
        "\n",
        "for i, chunk in enumerate(doc.chunks):\n",
        "    print(f\"\\n--- Chunk {i+1} ---\")\n",
        "    print(\"Chunk ID:\", chunk.chunk_id)\n",
        "    print(\"Chunk Type:\", chunk.chunk_type.value)  # e.g., 'text', 'figure', etc.\n",
        "    print(\"Text (shortened):\", chunk.text[:100].replace(\"\\n\", \" \"), \"...\")\n",
        "\n",
        "    # Access grounding (box and image path)\n",
        "    for grounding in chunk.grounding:\n",
        "        box = grounding.box\n",
        "        print(\"  Page:\", grounding.page)\n",
        "        print(f\"  Box (l, t, r, b): ({box.l:.3f}, {box.t:.3f}, {box.r:.3f}, {box.b:.3f})\")\n",
        "        print(\"  Image Path:\", str(grounding.image_path))\n"
      ]
    },
    {
      "cell_type": "code",
      "execution_count": null,
      "id": "b01532e7",
      "metadata": {
        "id": "b01532e7",
        "outputId": "a59e17cf-e5af-4aab-8444-4dac488de45e",
        "colab": {
          "base_uri": "https://localhost:8080/"
        }
      },
      "outputs": [
        {
          "output_type": "execute_result",
          "data": {
            "text/plain": [
              "CBCLabReport(patient_name='Yash M. Patel', patient_age='21 Years', referring_doctor='Dr. Hiren Shah', sample_type='Blood', lab_name='DRLOGY PATHOLOGY LAB', pathologist_name='Dr. Payal Shah (MD, Pathologist)', hemoglobin_value=12.5, hemoglobin_status='Low', rbc_count_value=5.2, rbc_count_unit='mill/cumm')"
            ]
          },
          "metadata": {},
          "execution_count": 22
        }
      ],
      "source": [
        "# print the field extractions\n",
        "doc.extraction"
      ]
    },
    {
      "cell_type": "code",
      "execution_count": null,
      "id": "86f9b196",
      "metadata": {
        "id": "86f9b196",
        "outputId": "3f80bf11-f4ef-474f-9ea5-f29056719ea1",
        "colab": {
          "base_uri": "https://localhost:8080/"
        }
      },
      "outputs": [
        {
          "output_type": "execute_result",
          "data": {
            "text/plain": [
              "CBCLabReportMetadata(patient_name=MetadataType[str](value='Yash M. Patel', chunk_references=['127bd433-1105-475e-ae80-5f46df017845'], confidence=0.9999613491459469), patient_age=MetadataType[str](value='21 Years', chunk_references=['127bd433-1105-475e-ae80-5f46df017845'], confidence=1.0), referring_doctor=MetadataType[str](value='Dr. Hiren Shah', chunk_references=['9d190409-a355-4c55-9abd-c787f417594e'], confidence=0.9999896741288625), sample_type=MetadataType[str](value='Blood', chunk_references=['03982220-216c-4862-86df-4d7f6a78e4d9'], confidence=None), lab_name=MetadataType[str](value='DRLOGY PATHOLOGY LAB', chunk_references=['d2ec2d63-f990-4180-8d4f-10fe81f586c2'], confidence=0.9954670761376193), pathologist_name=MetadataType[str](value='Dr. Payal Shah (MD, Pathologist)', chunk_references=['a6ade182-7e9e-4ff2-8c30-26a3b1b2f0fe'], confidence=None), hemoglobin_value=MetadataType[float](value=12.5, chunk_references=['03982220-216c-4862-86df-4d7f6a78e4d9'], confidence=None), hemoglobin_status=MetadataType[str](value='Low', chunk_references=['03982220-216c-4862-86df-4d7f6a78e4d9'], confidence=None), rbc_count_value=MetadataType[float](value=5.2, chunk_references=['03982220-216c-4862-86df-4d7f6a78e4d9'], confidence=None), rbc_count_unit=MetadataType[str](value='mill/cumm', chunk_references=['03982220-216c-4862-86df-4d7f6a78e4d9'], confidence=None))"
            ]
          },
          "metadata": {},
          "execution_count": 23
        }
      ],
      "source": [
        "# print the metadata for the field extractions\n",
        "doc.extraction_metadata"
      ]
    },
    {
      "cell_type": "code",
      "execution_count": null,
      "id": "2276c47b",
      "metadata": {
        "id": "2276c47b",
        "outputId": "2be97497-9f46-4262-e7b6-5d5b4bad5878",
        "colab": {
          "base_uri": "https://localhost:8080/",
          "height": 34
        }
      },
      "outputs": [
        {
          "output_type": "execute_result",
          "data": {
            "text/plain": [
              "'Yash M. Patel'"
            ],
            "application/vnd.google.colaboratory.intrinsic+json": {
              "type": "string"
            }
          },
          "metadata": {},
          "execution_count": 26
        }
      ],
      "source": [
        "# print the extracted patient name\n",
        "doc.extraction.patient_name"
      ]
    },
    {
      "cell_type": "code",
      "execution_count": null,
      "id": "00f40146",
      "metadata": {
        "id": "00f40146",
        "outputId": "fee6dae2-97dd-4b8d-c56e-9f38a5677a97",
        "colab": {
          "base_uri": "https://localhost:8080/"
        }
      },
      "outputs": [
        {
          "output_type": "execute_result",
          "data": {
            "text/plain": [
              "['127bd433-1105-475e-ae80-5f46df017845']"
            ]
          },
          "metadata": {},
          "execution_count": 33
        }
      ],
      "source": [
        "# print the chunk from which the patient name is extracted\n",
        "# note that there can be more than one, so this is returned as a list\n",
        "doc.extraction_metadata.patient_name.chunk_references"
      ]
    },
    {
      "cell_type": "code",
      "execution_count": null,
      "id": "5ec822ae",
      "metadata": {
        "id": "5ec822ae",
        "outputId": "6d511cd9-6c3b-4e44-9960-64c82550bfbc",
        "colab": {
          "base_uri": "https://localhost:8080/"
        }
      },
      "outputs": [
        {
          "output_type": "stream",
          "name": "stdout",
          "text": [
            "Chunk type: ChunkType.text\n",
            "Chunk text: Yash M. Patel\n",
            "\n",
            "Age : 21 Years\n",
            "Sex : Male\n",
            "PID : 555\n",
            "Page: 0\n",
            "Box Coordinates:\n",
            "  Left (l):   0.031572625041007996\n",
            "  Top (t):    0.14470963180065155\n",
            "  Right (r):  0.20850571990013123\n",
            "  Bottom (b): 0.22463364899158478\n"
          ]
        }
      ],
      "source": [
        "# print the page number and bounding box location for the chunk\n",
        "target_id = '127bd433-1105-475e-ae80-5f46df017845'  #Update this value based on the response above\n",
        "\n",
        "# Search through chunks to find the one with the matching ID\n",
        "for chunk in doc.chunks:\n",
        "    if chunk.chunk_id == target_id:\n",
        "        print(\"Chunk type:\", chunk.chunk_type)\n",
        "        print(\"Chunk text:\", chunk.text)\n",
        "        for grounding in chunk.grounding:\n",
        "            box = grounding.box\n",
        "            print(\"Page:\", grounding.page)\n",
        "            print(f\"Box Coordinates:\")\n",
        "            print(f\"  Left (l):   {box.l}\")\n",
        "            print(f\"  Top (t):    {box.t}\")\n",
        "            print(f\"  Right (r):  {box.r}\")\n",
        "            print(f\"  Bottom (b): {box.b}\")\n",
        "        break\n",
        "else:\n",
        "    print(\"Chunk ID not found.\")"
      ]
    },
    {
      "cell_type": "code",
      "execution_count": null,
      "id": "a89a067e",
      "metadata": {
        "id": "a89a067e",
        "outputId": "10582bfc-67cb-413d-b24a-a2b28ec951c7",
        "colab": {
          "base_uri": "https://localhost:8080/"
        }
      },
      "outputs": [
        {
          "output_type": "stream",
          "name": "stdout",
          "text": [
            "The patient name is: Yash M. Patel. This is extracted from chunk ['127bd433-1105-475e-ae80-5f46df017845']\n",
            "The lab name is: DRLOGY PATHOLOGY LAB. This is extracted from chunk ['d2ec2d63-f990-4180-8d4f-10fe81f586c2']\n",
            "The hemoglobin value is: 12.5. This is extracted from chunk ['03982220-216c-4862-86df-4d7f6a78e4d9']\n",
            "The RBC count is: 5.2 mill/cumm. This is extracted from chunk ['03982220-216c-4862-86df-4d7f6a78e4d9']\n"
          ]
        }
      ],
      "source": [
        "# print specific fields and the associated metadata for CBC lab report\n",
        "print(f\"The patient name is: {doc.extraction.patient_name}. This is extracted from chunk {doc.extraction_metadata.patient_name.chunk_references}\")\n",
        "print(f\"The lab name is: {doc.extraction.lab_name}. This is extracted from chunk {doc.extraction_metadata.lab_name.chunk_references}\")\n",
        "print(f\"The hemoglobin value is: {doc.extraction.hemoglobin_value}. This is extracted from chunk {doc.extraction_metadata.hemoglobin_value.chunk_references}\")\n",
        "print(f\"The RBC count is: {doc.extraction.rbc_count_value} {doc.extraction.rbc_count_unit}. This is extracted from chunk {doc.extraction_metadata.rbc_count_value.chunk_references}\")"
      ]
    },
    {
      "cell_type": "markdown",
      "id": "8fefba01",
      "metadata": {
        "id": "8fefba01"
      },
      "source": [
        "## 💾 Convert to Table and Save\n",
        "\n",
        "Convert the field extractions to a pandas dataframe. Save it to the results folder created earlier."
      ]
    },
    {
      "cell_type": "code",
      "execution_count": null,
      "id": "c5b1ec80",
      "metadata": {
        "id": "c5b1ec80",
        "outputId": "33542aa1-96ed-4c72-a615-789bcaa2b457",
        "colab": {
          "base_uri": "https://localhost:8080/",
          "height": 176
        }
      },
      "outputs": [
        {
          "output_type": "execute_result",
          "data": {
            "text/plain": [
              "                                       document_name   patient_name  \\\n",
              "0  CBC-test-report-format-example-sample-template...  Yash M. Patel   \n",
              "\n",
              "  patient_age referring_doctor sample_type              lab_name  \\\n",
              "0    21 Years   Dr. Hiren Shah       Blood  DRLOGY PATHOLOGY LAB   \n",
              "\n",
              "                   pathologist_name  hemoglobin_value hemoglobin_status  \\\n",
              "0  Dr. Payal Shah (MD, Pathologist)              12.5               Low   \n",
              "\n",
              "   rbc_count_value  ...                        patient_name_ref  \\\n",
              "0              5.2  ...  [127bd433-1105-475e-ae80-5f46df017845]   \n",
              "\n",
              "                          patient_age_ref  \\\n",
              "0  [127bd433-1105-475e-ae80-5f46df017845]   \n",
              "\n",
              "                     referring_doctor_ref  \\\n",
              "0  [9d190409-a355-4c55-9abd-c787f417594e]   \n",
              "\n",
              "                          sample_type_ref  \\\n",
              "0  [03982220-216c-4862-86df-4d7f6a78e4d9]   \n",
              "\n",
              "                             lab_name_ref  \\\n",
              "0  [d2ec2d63-f990-4180-8d4f-10fe81f586c2]   \n",
              "\n",
              "                     pathologist_name_ref  \\\n",
              "0  [a6ade182-7e9e-4ff2-8c30-26a3b1b2f0fe]   \n",
              "\n",
              "                     hemoglobin_value_ref  \\\n",
              "0  [03982220-216c-4862-86df-4d7f6a78e4d9]   \n",
              "\n",
              "                    hemoglobin_status_ref  \\\n",
              "0  [03982220-216c-4862-86df-4d7f6a78e4d9]   \n",
              "\n",
              "                      rbc_count_value_ref  \\\n",
              "0  [03982220-216c-4862-86df-4d7f6a78e4d9]   \n",
              "\n",
              "                       rbc_count_unit_ref  \n",
              "0  [03982220-216c-4862-86df-4d7f6a78e4d9]  \n",
              "\n",
              "[1 rows x 21 columns]"
            ],
            "text/html": [
              "\n",
              "  <div id=\"df-9f4c5d27-e6e3-4594-bc18-beb4cfeaca91\" class=\"colab-df-container\">\n",
              "    <div>\n",
              "<style scoped>\n",
              "    .dataframe tbody tr th:only-of-type {\n",
              "        vertical-align: middle;\n",
              "    }\n",
              "\n",
              "    .dataframe tbody tr th {\n",
              "        vertical-align: top;\n",
              "    }\n",
              "\n",
              "    .dataframe thead th {\n",
              "        text-align: right;\n",
              "    }\n",
              "</style>\n",
              "<table border=\"1\" class=\"dataframe\">\n",
              "  <thead>\n",
              "    <tr style=\"text-align: right;\">\n",
              "      <th></th>\n",
              "      <th>document_name</th>\n",
              "      <th>patient_name</th>\n",
              "      <th>patient_age</th>\n",
              "      <th>referring_doctor</th>\n",
              "      <th>sample_type</th>\n",
              "      <th>lab_name</th>\n",
              "      <th>pathologist_name</th>\n",
              "      <th>hemoglobin_value</th>\n",
              "      <th>hemoglobin_status</th>\n",
              "      <th>rbc_count_value</th>\n",
              "      <th>...</th>\n",
              "      <th>patient_name_ref</th>\n",
              "      <th>patient_age_ref</th>\n",
              "      <th>referring_doctor_ref</th>\n",
              "      <th>sample_type_ref</th>\n",
              "      <th>lab_name_ref</th>\n",
              "      <th>pathologist_name_ref</th>\n",
              "      <th>hemoglobin_value_ref</th>\n",
              "      <th>hemoglobin_status_ref</th>\n",
              "      <th>rbc_count_value_ref</th>\n",
              "      <th>rbc_count_unit_ref</th>\n",
              "    </tr>\n",
              "  </thead>\n",
              "  <tbody>\n",
              "    <tr>\n",
              "      <th>0</th>\n",
              "      <td>CBC-test-report-format-example-sample-template...</td>\n",
              "      <td>Yash M. Patel</td>\n",
              "      <td>21 Years</td>\n",
              "      <td>Dr. Hiren Shah</td>\n",
              "      <td>Blood</td>\n",
              "      <td>DRLOGY PATHOLOGY LAB</td>\n",
              "      <td>Dr. Payal Shah (MD, Pathologist)</td>\n",
              "      <td>12.5</td>\n",
              "      <td>Low</td>\n",
              "      <td>5.2</td>\n",
              "      <td>...</td>\n",
              "      <td>[127bd433-1105-475e-ae80-5f46df017845]</td>\n",
              "      <td>[127bd433-1105-475e-ae80-5f46df017845]</td>\n",
              "      <td>[9d190409-a355-4c55-9abd-c787f417594e]</td>\n",
              "      <td>[03982220-216c-4862-86df-4d7f6a78e4d9]</td>\n",
              "      <td>[d2ec2d63-f990-4180-8d4f-10fe81f586c2]</td>\n",
              "      <td>[a6ade182-7e9e-4ff2-8c30-26a3b1b2f0fe]</td>\n",
              "      <td>[03982220-216c-4862-86df-4d7f6a78e4d9]</td>\n",
              "      <td>[03982220-216c-4862-86df-4d7f6a78e4d9]</td>\n",
              "      <td>[03982220-216c-4862-86df-4d7f6a78e4d9]</td>\n",
              "      <td>[03982220-216c-4862-86df-4d7f6a78e4d9]</td>\n",
              "    </tr>\n",
              "  </tbody>\n",
              "</table>\n",
              "<p>1 rows × 21 columns</p>\n",
              "</div>\n",
              "    <div class=\"colab-df-buttons\">\n",
              "\n",
              "  <div class=\"colab-df-container\">\n",
              "    <button class=\"colab-df-convert\" onclick=\"convertToInteractive('df-9f4c5d27-e6e3-4594-bc18-beb4cfeaca91')\"\n",
              "            title=\"Convert this dataframe to an interactive table.\"\n",
              "            style=\"display:none;\">\n",
              "\n",
              "  <svg xmlns=\"http://www.w3.org/2000/svg\" height=\"24px\" viewBox=\"0 -960 960 960\">\n",
              "    <path d=\"M120-120v-720h720v720H120Zm60-500h600v-160H180v160Zm220 220h160v-160H400v160Zm0 220h160v-160H400v160ZM180-400h160v-160H180v160Zm440 0h160v-160H620v160ZM180-180h160v-160H180v160Zm440 0h160v-160H620v160Z\"/>\n",
              "  </svg>\n",
              "    </button>\n",
              "\n",
              "  <style>\n",
              "    .colab-df-container {\n",
              "      display:flex;\n",
              "      gap: 12px;\n",
              "    }\n",
              "\n",
              "    .colab-df-convert {\n",
              "      background-color: #E8F0FE;\n",
              "      border: none;\n",
              "      border-radius: 50%;\n",
              "      cursor: pointer;\n",
              "      display: none;\n",
              "      fill: #1967D2;\n",
              "      height: 32px;\n",
              "      padding: 0 0 0 0;\n",
              "      width: 32px;\n",
              "    }\n",
              "\n",
              "    .colab-df-convert:hover {\n",
              "      background-color: #E2EBFA;\n",
              "      box-shadow: 0px 1px 2px rgba(60, 64, 67, 0.3), 0px 1px 3px 1px rgba(60, 64, 67, 0.15);\n",
              "      fill: #174EA6;\n",
              "    }\n",
              "\n",
              "    .colab-df-buttons div {\n",
              "      margin-bottom: 4px;\n",
              "    }\n",
              "\n",
              "    [theme=dark] .colab-df-convert {\n",
              "      background-color: #3B4455;\n",
              "      fill: #D2E3FC;\n",
              "    }\n",
              "\n",
              "    [theme=dark] .colab-df-convert:hover {\n",
              "      background-color: #434B5C;\n",
              "      box-shadow: 0px 1px 3px 1px rgba(0, 0, 0, 0.15);\n",
              "      filter: drop-shadow(0px 1px 2px rgba(0, 0, 0, 0.3));\n",
              "      fill: #FFFFFF;\n",
              "    }\n",
              "  </style>\n",
              "\n",
              "    <script>\n",
              "      const buttonEl =\n",
              "        document.querySelector('#df-9f4c5d27-e6e3-4594-bc18-beb4cfeaca91 button.colab-df-convert');\n",
              "      buttonEl.style.display =\n",
              "        google.colab.kernel.accessAllowed ? 'block' : 'none';\n",
              "\n",
              "      async function convertToInteractive(key) {\n",
              "        const element = document.querySelector('#df-9f4c5d27-e6e3-4594-bc18-beb4cfeaca91');\n",
              "        const dataTable =\n",
              "          await google.colab.kernel.invokeFunction('convertToInteractive',\n",
              "                                                    [key], {});\n",
              "        if (!dataTable) return;\n",
              "\n",
              "        const docLinkHtml = 'Like what you see? Visit the ' +\n",
              "          '<a target=\"_blank\" href=https://colab.research.google.com/notebooks/data_table.ipynb>data table notebook</a>'\n",
              "          + ' to learn more about interactive tables.';\n",
              "        element.innerHTML = '';\n",
              "        dataTable['output_type'] = 'display_data';\n",
              "        await google.colab.output.renderOutput(dataTable, element);\n",
              "        const docLink = document.createElement('div');\n",
              "        docLink.innerHTML = docLinkHtml;\n",
              "        element.appendChild(docLink);\n",
              "      }\n",
              "    </script>\n",
              "  </div>\n",
              "\n",
              "\n",
              "  <div id=\"id_b2e52475-284f-4f67-9a96-f53f3e077fa9\">\n",
              "    <style>\n",
              "      .colab-df-generate {\n",
              "        background-color: #E8F0FE;\n",
              "        border: none;\n",
              "        border-radius: 50%;\n",
              "        cursor: pointer;\n",
              "        display: none;\n",
              "        fill: #1967D2;\n",
              "        height: 32px;\n",
              "        padding: 0 0 0 0;\n",
              "        width: 32px;\n",
              "      }\n",
              "\n",
              "      .colab-df-generate:hover {\n",
              "        background-color: #E2EBFA;\n",
              "        box-shadow: 0px 1px 2px rgba(60, 64, 67, 0.3), 0px 1px 3px 1px rgba(60, 64, 67, 0.15);\n",
              "        fill: #174EA6;\n",
              "      }\n",
              "\n",
              "      [theme=dark] .colab-df-generate {\n",
              "        background-color: #3B4455;\n",
              "        fill: #D2E3FC;\n",
              "      }\n",
              "\n",
              "      [theme=dark] .colab-df-generate:hover {\n",
              "        background-color: #434B5C;\n",
              "        box-shadow: 0px 1px 3px 1px rgba(0, 0, 0, 0.15);\n",
              "        filter: drop-shadow(0px 1px 2px rgba(0, 0, 0, 0.3));\n",
              "        fill: #FFFFFF;\n",
              "      }\n",
              "    </style>\n",
              "    <button class=\"colab-df-generate\" onclick=\"generateWithVariable('df')\"\n",
              "            title=\"Generate code using this dataframe.\"\n",
              "            style=\"display:none;\">\n",
              "\n",
              "  <svg xmlns=\"http://www.w3.org/2000/svg\" height=\"24px\"viewBox=\"0 0 24 24\"\n",
              "       width=\"24px\">\n",
              "    <path d=\"M7,19H8.4L18.45,9,17,7.55,7,17.6ZM5,21V16.75L18.45,3.32a2,2,0,0,1,2.83,0l1.4,1.43a1.91,1.91,0,0,1,.58,1.4,1.91,1.91,0,0,1-.58,1.4L9.25,21ZM18.45,9,17,7.55Zm-12,3A5.31,5.31,0,0,0,4.9,8.1,5.31,5.31,0,0,0,1,6.5,5.31,5.31,0,0,0,4.9,4.9,5.31,5.31,0,0,0,6.5,1,5.31,5.31,0,0,0,8.1,4.9,5.31,5.31,0,0,0,12,6.5,5.46,5.46,0,0,0,6.5,12Z\"/>\n",
              "  </svg>\n",
              "    </button>\n",
              "    <script>\n",
              "      (() => {\n",
              "      const buttonEl =\n",
              "        document.querySelector('#id_b2e52475-284f-4f67-9a96-f53f3e077fa9 button.colab-df-generate');\n",
              "      buttonEl.style.display =\n",
              "        google.colab.kernel.accessAllowed ? 'block' : 'none';\n",
              "\n",
              "      buttonEl.onclick = () => {\n",
              "        google.colab.notebook.generateWithVariable('df');\n",
              "      }\n",
              "      })();\n",
              "    </script>\n",
              "  </div>\n",
              "\n",
              "    </div>\n",
              "  </div>\n"
            ],
            "application/vnd.google.colaboratory.intrinsic+json": {
              "type": "dataframe",
              "variable_name": "df"
            }
          },
          "metadata": {},
          "execution_count": 40
        }
      ],
      "source": [
        "import pandas as pd\n",
        "\n",
        "# Assume result_fe is your list of ParsedDocument objects\n",
        "# Example: result_fe = [ParsedDocument(...), ParsedDocument(...), ...]\n",
        "\n",
        "# Note: This is a single CBC document, this will create a DataFrame with one row containing all extracted fields.\n",
        "# If you process multiple CBC documents, each document will create a separate row in the DataFrame.\n",
        "\n",
        "# Extract the CBC lab report data\n",
        "records = []\n",
        "for i in range(len(result_fe)):\n",
        "    doc = result_fe[i]\n",
        "    body = doc.extraction\n",
        "    meta = doc.extraction_metadata\n",
        "    cbc_dict = {\n",
        "        \"document_name\": file_names[i],\n",
        "        \"patient_name\": body.patient_name,\n",
        "        \"patient_age\": body.patient_age,\n",
        "        \"referring_doctor\": body.referring_doctor,\n",
        "        \"sample_type\": body.sample_type,\n",
        "        \"lab_name\": body.lab_name,\n",
        "        \"pathologist_name\": body.pathologist_name,\n",
        "        \"hemoglobin_value\": body.hemoglobin_value,\n",
        "        \"hemoglobin_status\": body.hemoglobin_status,\n",
        "        \"rbc_count_value\": body.rbc_count_value,\n",
        "        \"rbc_count_unit\": body.rbc_count_unit,\n",
        "        \"patient_name_ref\": meta.patient_name.chunk_references,\n",
        "        \"patient_age_ref\": meta.patient_age.chunk_references,\n",
        "        \"referring_doctor_ref\": meta.referring_doctor.chunk_references,\n",
        "        \"sample_type_ref\": meta.sample_type.chunk_references,\n",
        "        \"lab_name_ref\": meta.lab_name.chunk_references,\n",
        "        \"pathologist_name_ref\": meta.pathologist_name.chunk_references,\n",
        "        \"hemoglobin_value_ref\": meta.hemoglobin_value.chunk_references,\n",
        "        \"hemoglobin_status_ref\": meta.hemoglobin_status.chunk_references,\n",
        "        \"rbc_count_value_ref\": meta.rbc_count_value.chunk_references,\n",
        "        \"rbc_count_unit_ref\": meta.rbc_count_unit.chunk_references\n",
        "    }\n",
        "    records.append(cbc_dict)\n",
        "\n",
        "# Create DataFrame\n",
        "df = pd.DataFrame(records)\n",
        "df"
      ]
    },
    {
      "cell_type": "code",
      "execution_count": null,
      "id": "f1832a71",
      "metadata": {
        "id": "f1832a71"
      },
      "outputs": [],
      "source": [
        "# Save the DataFrame to a CSV file inside the results_folder\n",
        "csv_path = results_folder / \"cbc_output.csv\"\n",
        "df.to_csv(csv_path, index=False)"
      ]
    },
    {
      "cell_type": "markdown",
      "id": "dffce926",
      "metadata": {
        "id": "dffce926"
      },
      "source": [
        "## ✅ Wrap-Up\n",
        "\n",
        "You’ve now used LandingAI’s ADE to:\n",
        "- Parse and extract data from images or PDFs\n",
        "- Define custom fields using `pydantic`\n",
        "- Export structured results to a table\n",
        "\n",
        "To learn more, visit the [LandingAI Documentation](https://docs.landing.ai/ade/ade-overview)."
      ]
    }
  ],
  "metadata": {
    "kernelspec": {
      "display_name": "Python 3",
      "language": "python",
      "name": "python3"
    },
    "language_info": {
      "codemirror_mode": {
        "name": "ipython",
        "version": 3
      },
      "file_extension": ".py",
      "mimetype": "text/x-python",
      "name": "python",
      "nbconvert_exporter": "python",
      "pygments_lexer": "ipython3",
      "version": "3.9.6"
    },
    "colab": {
      "provenance": []
    }
  },
  "nbformat": 4,
  "nbformat_minor": 5
}