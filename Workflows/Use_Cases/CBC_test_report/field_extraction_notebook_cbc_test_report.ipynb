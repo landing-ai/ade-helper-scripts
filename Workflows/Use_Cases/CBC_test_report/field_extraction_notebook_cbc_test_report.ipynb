{
 "cells": [
  {
   "cell_type": "markdown",
   "id": "8416fecf",
   "metadata": {},
   "source": [
    "# 🧠 Agentic Document Extraction with LandingAI\n",
    "\n",
    "This notebook demonstrates how to use the `agentic_doc` Python package to extract structured information from documents using LandingAI's Agentic Document Extraction (ADE) service.\n",
    "\n",
    "We'll walk through:\n",
    "- Parsing documents with ADE\n",
    "- Defining a custom schema using `pydantic`\n",
    "- Viewing structured field extractions\n",
    "- Saving results to CSV\n",
    "\n",
    "> 📎 Supported formats: `.pdf`, `.png`, `.jpg`, `.jpeg`"
   ]
  },
  {
   "cell_type": "markdown",
   "id": "dabf802f",
   "metadata": {},
   "source": [
    "## 📦 Setup & Imports\n",
    "\n",
    "Import necessary packages and utility functions. Ensure you have installed `agentic_doc`, Pillow, and other dependencies:\n",
    "\n",
    "```bash\n",
    "pip install agentic-doc pillow\n",
    "```\n",
    "\n",
    "Obtain your API Key from the Visial Playground at https://va.landing.ai/settings/api-key\n",
    "\n",
    "Read about options for setting your API at https://docs.landing.ai/ade/agentic-api-key\n",
    "\n",
    "The video that accompnies this notebook uses a .env file in the same directory as the notebook.\n"
   ]
  },
  {
   "cell_type": "code",
   "execution_count": 1,
   "id": "2904a8b8",
   "metadata": {},
   "outputs": [
    {
     "name": "stdout",
     "output_type": "stream",
     "text": [
      "\u001b[2m2025-07-24 00:54:06\u001b[0m [info   \u001b[0m] \u001b[1mSettings loaded: {\n",
      "  \"endpoint_host\": \"https://api.va.landing.ai\",\n",
      "  \"vision_agent_api_key\": \"cmI5a[REDACTED]\",\n",
      "  \"batch_size\": 4,\n",
      "  \"max_workers\": 5,\n",
      "  \"max_retries\": 100,\n",
      "  \"max_retry_wait_time\": 60,\n",
      "  \"retry_logging_style\": \"log_msg\",\n",
      "  \"pdf_to_image_dpi\": 96,\n",
      "  \"split_size\": 10\n",
      "}\u001b[0m [\u001b[0m\u001b[1m\u001b[34magentic_doc.config\u001b[0m]\u001b[0m (config.py:84)\n"
     ]
    }
   ],
   "source": [
    "# Standard libraries\n",
    "import os\n",
    "import json\n",
    "from datetime import date\n",
    "from pathlib import Path\n",
    "\n",
    "# Agentic Document Extraction from LandingAI\n",
    "from agentic_doc.parse import parse"
   ]
  },
  {
   "cell_type": "markdown",
   "id": "493ab656",
   "metadata": {},
   "source": [
    "## 📁 Define Input and Output Directories\n",
    "\n",
    "Specify where your documents are located and where results will be saved.\n"
   ]
  },
  {
   "cell_type": "code",
   "execution_count": 2,
   "id": "d93a7504",
   "metadata": {},
   "outputs": [],
   "source": [
    "# Define input and output directory paths\n",
    "base_dir = Path(os.getcwd())\n",
    "input_folder = base_dir / \"input_folder\"\n",
    "results_folder = base_dir / \"results_folder\"\n",
    "groundings_folder = base_dir / \"groundings_folder\"\n",
    "\n",
    "# Create output folders if they don't exist\n",
    "input_folder.mkdir(parents=True, exist_ok=True)\n",
    "results_folder.mkdir(parents=True, exist_ok=True)\n",
    "groundings_folder.mkdir(parents=True, exist_ok=True)"
   ]
  },
  {
   "cell_type": "markdown",
   "id": "38592cf0",
   "metadata": {},
   "source": [
    "## 🗂️ Collect Document File Paths\n",
    "\n",
    "This block filters input files for supported formats.\n"
   ]
  },
  {
   "cell_type": "code",
   "execution_count": 3,
   "id": "7531be3b",
   "metadata": {},
   "outputs": [
    {
     "data": {
      "text/plain": [
       "['CME_Mendez_ex5.png',\n",
       " 'CME_Mendez_ex4.png',\n",
       " 'CME_Mendez_ex1.png',\n",
       " 'CME_Mendez_ex3.png',\n",
       " 'CME_Mendez_ex2.png']"
      ]
     },
     "execution_count": 3,
     "metadata": {},
     "output_type": "execute_result"
    }
   ],
   "source": [
    "file_names = [\n",
    "    p.name\n",
    "    for p in input_folder.iterdir()\n",
    "    if p.suffix.lower() in [\".pdf\", \".png\", \".jpg\", \".jpeg\"]\n",
    "]\n",
    "\n",
    "file_names"
   ]
  },
  {
   "cell_type": "code",
   "execution_count": 4,
   "id": "23b44bb3",
   "metadata": {},
   "outputs": [
    {
     "data": {
      "text/plain": [
       "['/Users/andreakropp/Documents/Demos/ADE Demos/Notebooks/CME_Demo/input_folder/CME_Mendez_ex5.png',\n",
       " '/Users/andreakropp/Documents/Demos/ADE Demos/Notebooks/CME_Demo/input_folder/CME_Mendez_ex4.png',\n",
       " '/Users/andreakropp/Documents/Demos/ADE Demos/Notebooks/CME_Demo/input_folder/CME_Mendez_ex1.png',\n",
       " '/Users/andreakropp/Documents/Demos/ADE Demos/Notebooks/CME_Demo/input_folder/CME_Mendez_ex3.png',\n",
       " '/Users/andreakropp/Documents/Demos/ADE Demos/Notebooks/CME_Demo/input_folder/CME_Mendez_ex2.png']"
      ]
     },
     "execution_count": 4,
     "metadata": {},
     "output_type": "execute_result"
    }
   ],
   "source": [
    "# Collect all document file paths in input folder with supported extensions\n",
    "# Convert each Path object to a string to ensure compatibility with parse()\n",
    "\n",
    "file_paths = [\n",
    "    str(p)\n",
    "    for p in input_folder.iterdir()\n",
    "    if p.suffix.lower() in [\".pdf\", \".png\", \".jpg\", \".jpeg\"]\n",
    "]\n",
    "\n",
    "file_paths"
   ]
  },
  {
   "cell_type": "markdown",
   "id": "9b01b070",
   "metadata": {},
   "source": [
    "## 🚀 Run Agentic Document Extraction\n",
    "\n",
    "Call the `parse()` function from `agentic_doc` to extract structured data and save results to the output folders.\n",
    "\n",
    "See https://docs.landing.ai/ade/ade-parse-docs for details"
   ]
  },
  {
   "cell_type": "code",
   "execution_count": 5,
   "id": "299eb4cb",
   "metadata": {},
   "outputs": [
    {
     "name": "stdout",
     "output_type": "stream",
     "text": [
      "\u001b[2m2025-07-24 00:54:32\u001b[0m [info   \u001b[0m] \u001b[1mAPI key is valid.             \u001b[0m [\u001b[0m\u001b[1m\u001b[34magentic_doc.utils\u001b[0m]\u001b[0m (utils.py:44)\n",
      "\u001b[2m2025-07-24 00:54:32\u001b[0m [info   \u001b[0m] \u001b[1mParsing 5 documents           \u001b[0m [\u001b[0m\u001b[1m\u001b[34magentic_doc.parse\u001b[0m]\u001b[0m (parse.py:322)\n"
     ]
    },
    {
     "name": "stderr",
     "output_type": "stream",
     "text": [
      "Parsing documents:   0%|          | 0/5 [00:00<?, ?it/s]"
     ]
    },
    {
     "name": "stdout",
     "output_type": "stream",
     "text": [
      "HTTP Request: POST https://api.va.landing.ai/v1/tools/agentic-document-analysis \"HTTP/1.1 200 OK\" (_client.py:1025)\n",
      "\u001b[2m2025-07-24 00:54:37\u001b[0m [info   \u001b[0m] \u001b[1mTime taken to successfully parse a document chunk: 4.91 seconds\u001b[0m [\u001b[0m\u001b[1m\u001b[34magentic_doc.parse\u001b[0m]\u001b[0m (parse.py:683)\n",
      "\u001b[2m2025-07-24 00:54:37\u001b[0m [info   \u001b[0m] \u001b[1mSaving 11 chunks as images to '/Users/andreakropp/Documents/Demos/ADE Demos/Notebooks/CME_Demo/groundings_folder/CME_Mendez_ex1_20250723_175437'\u001b[0m [\u001b[0m\u001b[1m\u001b[34magentic_doc.utils\u001b[0m]\u001b[0m \u001b[36mfile_path\u001b[0m=\u001b[35mPosixPath('/Users/andreakropp/Documents/Demos/ADE Demos/Notebooks/CME_Demo/input_folder/CME_Mendez_ex1.png')\u001b[0m \u001b[36mfile_type\u001b[0m=\u001b[35mimage\u001b[0m (utils.py:84)\n",
      "\u001b[2m2025-07-24 00:54:37\u001b[0m [info   \u001b[0m] \u001b[1mSaved the parsed result to '/Users/andreakropp/Documents/Demos/ADE Demos/Notebooks/CME_Demo/results_folder/CME_Mendez_ex1_20250723_175437.json'\u001b[0m [\u001b[0m\u001b[1m\u001b[34magentic_doc.parse\u001b[0m]\u001b[0m (parse.py:407)\n",
      "HTTP Request: POST https://api.va.landing.ai/v1/tools/agentic-document-analysis \"HTTP/1.1 200 OK\" (_client.py:1025)\n",
      "\u001b[2m2025-07-24 00:54:37\u001b[0m [info   \u001b[0m] \u001b[1mTime taken to successfully parse a document chunk: 5.01 seconds\u001b[0m [\u001b[0m\u001b[1m\u001b[34magentic_doc.parse\u001b[0m]\u001b[0m (parse.py:683)\n",
      "\u001b[2m2025-07-24 00:54:37\u001b[0m [info   \u001b[0m] \u001b[1mSaving 10 chunks as images to '/Users/andreakropp/Documents/Demos/ADE Demos/Notebooks/CME_Demo/groundings_folder/CME_Mendez_ex5_20250723_175437'\u001b[0m [\u001b[0m\u001b[1m\u001b[34magentic_doc.utils\u001b[0m]\u001b[0m \u001b[36mfile_path\u001b[0m=\u001b[35mPosixPath('/Users/andreakropp/Documents/Demos/ADE Demos/Notebooks/CME_Demo/input_folder/CME_Mendez_ex5.png')\u001b[0m \u001b[36mfile_type\u001b[0m=\u001b[35mimage\u001b[0m (utils.py:84)\n",
      "\u001b[2m2025-07-24 00:54:37\u001b[0m [info   \u001b[0m] \u001b[1mSaved the parsed result to '/Users/andreakropp/Documents/Demos/ADE Demos/Notebooks/CME_Demo/results_folder/CME_Mendez_ex5_20250723_175437.json'\u001b[0m [\u001b[0m\u001b[1m\u001b[34magentic_doc.parse\u001b[0m]\u001b[0m (parse.py:407)\n"
     ]
    },
    {
     "name": "stderr",
     "output_type": "stream",
     "text": [
      "Parsing documents:  20%|██        | 1/5 [00:04<00:19,  5.00s/it]"
     ]
    },
    {
     "name": "stdout",
     "output_type": "stream",
     "text": [
      "HTTP Request: POST https://api.va.landing.ai/v1/tools/agentic-document-analysis \"HTTP/1.1 200 OK\" (_client.py:1025)\n",
      "\u001b[2m2025-07-24 00:54:37\u001b[0m [info   \u001b[0m] \u001b[1mTime taken to successfully parse a document chunk: 5.04 seconds\u001b[0m [\u001b[0m\u001b[1m\u001b[34magentic_doc.parse\u001b[0m]\u001b[0m (parse.py:683)\n",
      "\u001b[2m2025-07-24 00:54:37\u001b[0m [info   \u001b[0m] \u001b[1mSaving 4 chunks as images to '/Users/andreakropp/Documents/Demos/ADE Demos/Notebooks/CME_Demo/groundings_folder/CME_Mendez_ex3_20250723_175437'\u001b[0m [\u001b[0m\u001b[1m\u001b[34magentic_doc.utils\u001b[0m]\u001b[0m \u001b[36mfile_path\u001b[0m=\u001b[35mPosixPath('/Users/andreakropp/Documents/Demos/ADE Demos/Notebooks/CME_Demo/input_folder/CME_Mendez_ex3.png')\u001b[0m \u001b[36mfile_type\u001b[0m=\u001b[35mimage\u001b[0m (utils.py:84)\n",
      "\u001b[2m2025-07-24 00:54:37\u001b[0m [info   \u001b[0m] \u001b[1mSaved the parsed result to '/Users/andreakropp/Documents/Demos/ADE Demos/Notebooks/CME_Demo/results_folder/CME_Mendez_ex3_20250723_175437.json'\u001b[0m [\u001b[0m\u001b[1m\u001b[34magentic_doc.parse\u001b[0m]\u001b[0m (parse.py:407)\n",
      "HTTP Request: POST https://api.va.landing.ai/v1/tools/agentic-document-analysis \"HTTP/1.1 200 OK\" (_client.py:1025)\n",
      "\u001b[2m2025-07-24 00:54:37\u001b[0m [info   \u001b[0m] \u001b[1mTime taken to successfully parse a document chunk: 5.50 seconds\u001b[0m [\u001b[0m\u001b[1m\u001b[34magentic_doc.parse\u001b[0m]\u001b[0m (parse.py:683)\n",
      "\u001b[2m2025-07-24 00:54:37\u001b[0m [info   \u001b[0m] \u001b[1mSaving 10 chunks as images to '/Users/andreakropp/Documents/Demos/ADE Demos/Notebooks/CME_Demo/groundings_folder/CME_Mendez_ex4_20250723_175437'\u001b[0m [\u001b[0m\u001b[1m\u001b[34magentic_doc.utils\u001b[0m]\u001b[0m \u001b[36mfile_path\u001b[0m=\u001b[35mPosixPath('/Users/andreakropp/Documents/Demos/ADE Demos/Notebooks/CME_Demo/input_folder/CME_Mendez_ex4.png')\u001b[0m \u001b[36mfile_type\u001b[0m=\u001b[35mimage\u001b[0m (utils.py:84)\n",
      "\u001b[2m2025-07-24 00:54:37\u001b[0m [info   \u001b[0m] \u001b[1mSaved the parsed result to '/Users/andreakropp/Documents/Demos/ADE Demos/Notebooks/CME_Demo/results_folder/CME_Mendez_ex4_20250723_175437.json'\u001b[0m [\u001b[0m\u001b[1m\u001b[34magentic_doc.parse\u001b[0m]\u001b[0m (parse.py:407)\n"
     ]
    },
    {
     "name": "stderr",
     "output_type": "stream",
     "text": [
      "Parsing documents:  40%|████      | 2/5 [00:05<00:07,  2.35s/it]"
     ]
    },
    {
     "name": "stdout",
     "output_type": "stream",
     "text": [
      "HTTP Request: POST https://api.va.landing.ai/v1/tools/agentic-document-analysis \"HTTP/1.1 200 OK\" (_client.py:1025)\n",
      "\u001b[2m2025-07-24 00:54:42\u001b[0m [info   \u001b[0m] \u001b[1mTime taken to successfully parse a document chunk: 5.00 seconds\u001b[0m [\u001b[0m\u001b[1m\u001b[34magentic_doc.parse\u001b[0m]\u001b[0m (parse.py:683)\n",
      "\u001b[2m2025-07-24 00:54:42\u001b[0m [info   \u001b[0m] \u001b[1mSaving 9 chunks as images to '/Users/andreakropp/Documents/Demos/ADE Demos/Notebooks/CME_Demo/groundings_folder/CME_Mendez_ex2_20250723_175442'\u001b[0m [\u001b[0m\u001b[1m\u001b[34magentic_doc.utils\u001b[0m]\u001b[0m \u001b[36mfile_path\u001b[0m=\u001b[35mPosixPath('/Users/andreakropp/Documents/Demos/ADE Demos/Notebooks/CME_Demo/input_folder/CME_Mendez_ex2.png')\u001b[0m \u001b[36mfile_type\u001b[0m=\u001b[35mimage\u001b[0m (utils.py:84)\n",
      "\u001b[2m2025-07-24 00:54:42\u001b[0m [info   \u001b[0m] \u001b[1mSaved the parsed result to '/Users/andreakropp/Documents/Demos/ADE Demos/Notebooks/CME_Demo/results_folder/CME_Mendez_ex2_20250723_175442.json'\u001b[0m [\u001b[0m\u001b[1m\u001b[34magentic_doc.parse\u001b[0m]\u001b[0m (parse.py:407)\n"
     ]
    },
    {
     "name": "stderr",
     "output_type": "stream",
     "text": [
      "Parsing documents: 100%|██████████| 5/5 [00:09<00:00,  1.99s/it]\n"
     ]
    }
   ],
   "source": [
    "# Parse documents using LandingAI ADE\n",
    "\n",
    "result = parse(\n",
    "    documents=file_paths,\n",
    "    result_save_dir=str(results_folder),\n",
    "    grounding_save_dir=str(groundings_folder),\n",
    "    include_marginalia=True,\n",
    "    include_metadata_in_markdown=True,      \n",
    "    )"
   ]
  },
  {
   "cell_type": "markdown",
   "id": "4a33c67a",
   "metadata": {},
   "source": [
    "## 📑 Define Custom Schema for Field Extraction\n",
    "\n",
    "Using `pydantic`, we define a schema to extract specific fields (e.g., product name) from the document.\n",
    "\n",
    "See https://docs.landing.ai/ade/ade-extract-library"
   ]
  },
  {
   "cell_type": "code",
   "execution_count": 7,
   "id": "94fb22ab",
   "metadata": {},
   "outputs": [],
   "source": [
    "# Import pydantic for schema definition\n",
    "from pydantic import BaseModel, Field\n",
    "\n",
    "# Define schema for structured extraction\n",
    "class CME(BaseModel):\n",
    "    recipient_name: str = Field(description=\"Full name of the individual who received the certificate. Only the name. Remove any prefixes such as Mr. Mrs. or Dr. Also remove any credentials that may appear after the name such as BS, MD, DDS, RN\")\n",
    "    issuing_org: str = Field(description=\"Full name of the organization issuing the certificate.\")\n",
    "    activity_title: str = Field(description=\"Title of the CME activity or material completed by the recipient.\")\n",
    "    date_awarded: date = Field(description=\"Date when the certificate or credit was awarded.\")\n",
    "    credit_awarded: str = Field(description=\"Amount and type of CME credit awarded to the recipient.\")\n",
    "    credit_numeric: float = Field(description=\"Amount of CME credit awarded.\")\n",
    "    ama_pra_cat1: bool = Field(description=\"True if the CME credits awarded qualify for AMA PRA Category 1.\")\n",
    "    ama_pra_cat2: bool = Field(description=\"True if the CME credits awarded qualify for AMA PRA Category 2.\")\n"
   ]
  },
  {
   "cell_type": "markdown",
   "id": "ea197793",
   "metadata": {},
   "source": [
    "## 🚀 Run Agentic Document Extraction with Schema\n",
    "\n",
    "Call the `parse()` function from `agentic_doc` to extract structured data and save results to the output folders.\n",
    "\n",
    "Pass the `extraction_model` as an input to `parse()`.\n",
    "\n",
    "To learn more about parsing visit [https://docs.landing.ai/ade/ade-parse-docs](https://docs.landing.ai/ade/ade-parse-docs)."
   ]
  },
  {
   "cell_type": "code",
   "execution_count": 8,
   "id": "6289035f",
   "metadata": {},
   "outputs": [
    {
     "name": "stdout",
     "output_type": "stream",
     "text": [
      "\u001b[2m2025-07-24 00:55:30\u001b[0m [info   \u001b[0m] \u001b[1mAPI key is valid.             \u001b[0m [\u001b[0m\u001b[1m\u001b[34magentic_doc.utils\u001b[0m]\u001b[0m (utils.py:44)\n",
      "\u001b[2m2025-07-24 00:55:30\u001b[0m [info   \u001b[0m] \u001b[1mParsing 5 documents           \u001b[0m [\u001b[0m\u001b[1m\u001b[34magentic_doc.parse\u001b[0m]\u001b[0m (parse.py:261)\n"
     ]
    },
    {
     "name": "stderr",
     "output_type": "stream",
     "text": [
      "Parsing documents:   0%|          | 0/5 [00:00<?, ?it/s]"
     ]
    },
    {
     "name": "stdout",
     "output_type": "stream",
     "text": [
      "HTTP Request: POST https://api.va.landing.ai/v1/tools/agentic-document-analysis \"HTTP/1.1 200 OK\" (_client.py:1025)\n",
      "\u001b[2m2025-07-24 00:55:37\u001b[0m [info   \u001b[0m] \u001b[1mTime taken to successfully parse a document chunk: 6.80 seconds\u001b[0m [\u001b[0m\u001b[1m\u001b[34magentic_doc.parse\u001b[0m]\u001b[0m (parse.py:683)\n",
      "\u001b[2m2025-07-24 00:55:37\u001b[0m [info   \u001b[0m] \u001b[1mSaving 11 chunks as images to '/Users/andreakropp/Documents/Demos/ADE Demos/Notebooks/CME_Demo/groundings_folder/CME_Mendez_ex1_20250723_175537'\u001b[0m [\u001b[0m\u001b[1m\u001b[34magentic_doc.utils\u001b[0m]\u001b[0m \u001b[36mfile_path\u001b[0m=\u001b[35mPosixPath('/Users/andreakropp/Documents/Demos/ADE Demos/Notebooks/CME_Demo/input_folder/CME_Mendez_ex1.png')\u001b[0m \u001b[36mfile_type\u001b[0m=\u001b[35mimage\u001b[0m (utils.py:84)\n",
      "HTTP Request: POST https://api.va.landing.ai/v1/tools/agentic-document-analysis \"HTTP/1.1 200 OK\" (_client.py:1025)\n",
      "\u001b[2m2025-07-24 00:55:37\u001b[0m [info   \u001b[0m] \u001b[1mTime taken to successfully parse a document chunk: 6.96 seconds\u001b[0m [\u001b[0m\u001b[1m\u001b[34magentic_doc.parse\u001b[0m]\u001b[0m (parse.py:683)\n",
      "\u001b[2m2025-07-24 00:55:37\u001b[0m [info   \u001b[0m] \u001b[1mSaving 10 chunks as images to '/Users/andreakropp/Documents/Demos/ADE Demos/Notebooks/CME_Demo/groundings_folder/CME_Mendez_ex4_20250723_175537'\u001b[0m [\u001b[0m\u001b[1m\u001b[34magentic_doc.utils\u001b[0m]\u001b[0m \u001b[36mfile_path\u001b[0m=\u001b[35mPosixPath('/Users/andreakropp/Documents/Demos/ADE Demos/Notebooks/CME_Demo/input_folder/CME_Mendez_ex4.png')\u001b[0m \u001b[36mfile_type\u001b[0m=\u001b[35mimage\u001b[0m (utils.py:84)\n",
      "HTTP Request: POST https://api.va.landing.ai/v1/tools/agentic-document-analysis \"HTTP/1.1 200 OK\" (_client.py:1025)\n",
      "\u001b[2m2025-07-24 00:55:37\u001b[0m [info   \u001b[0m] \u001b[1mTime taken to successfully parse a document chunk: 7.00 seconds\u001b[0m [\u001b[0m\u001b[1m\u001b[34magentic_doc.parse\u001b[0m]\u001b[0m (parse.py:683)\n",
      "\u001b[2m2025-07-24 00:55:37\u001b[0m [info   \u001b[0m] \u001b[1mSaving 4 chunks as images to '/Users/andreakropp/Documents/Demos/ADE Demos/Notebooks/CME_Demo/groundings_folder/CME_Mendez_ex3_20250723_175537'\u001b[0m [\u001b[0m\u001b[1m\u001b[34magentic_doc.utils\u001b[0m]\u001b[0m \u001b[36mfile_path\u001b[0m=\u001b[35mPosixPath('/Users/andreakropp/Documents/Demos/ADE Demos/Notebooks/CME_Demo/input_folder/CME_Mendez_ex3.png')\u001b[0m \u001b[36mfile_type\u001b[0m=\u001b[35mimage\u001b[0m (utils.py:84)\n",
      "HTTP Request: POST https://api.va.landing.ai/v1/tools/agentic-document-analysis \"HTTP/1.1 200 OK\" (_client.py:1025)\n",
      "\u001b[2m2025-07-24 00:55:44\u001b[0m [info   \u001b[0m] \u001b[1mTime taken to successfully parse a document chunk: 7.55 seconds\u001b[0m [\u001b[0m\u001b[1m\u001b[34magentic_doc.parse\u001b[0m]\u001b[0m (parse.py:683)\n",
      "\u001b[2m2025-07-24 00:55:44\u001b[0m [info   \u001b[0m] \u001b[1mSaving 9 chunks as images to '/Users/andreakropp/Documents/Demos/ADE Demos/Notebooks/CME_Demo/groundings_folder/CME_Mendez_ex2_20250723_175544'\u001b[0m [\u001b[0m\u001b[1m\u001b[34magentic_doc.utils\u001b[0m]\u001b[0m \u001b[36mfile_path\u001b[0m=\u001b[35mPosixPath('/Users/andreakropp/Documents/Demos/ADE Demos/Notebooks/CME_Demo/input_folder/CME_Mendez_ex2.png')\u001b[0m \u001b[36mfile_type\u001b[0m=\u001b[35mimage\u001b[0m (utils.py:84)\n",
      "HTTP Request: POST https://api.va.landing.ai/v1/tools/agentic-document-analysis \"HTTP/1.1 200 OK\" (_client.py:1025)\n",
      "\u001b[2m2025-07-24 00:55:50\u001b[0m [info   \u001b[0m] \u001b[1mTime taken to successfully parse a document chunk: 20.19 seconds\u001b[0m [\u001b[0m\u001b[1m\u001b[34magentic_doc.parse\u001b[0m]\u001b[0m (parse.py:683)\n",
      "\u001b[2m2025-07-24 00:55:50\u001b[0m [info   \u001b[0m] \u001b[1mSaving 10 chunks as images to '/Users/andreakropp/Documents/Demos/ADE Demos/Notebooks/CME_Demo/groundings_folder/CME_Mendez_ex5_20250723_175550'\u001b[0m [\u001b[0m\u001b[1m\u001b[34magentic_doc.utils\u001b[0m]\u001b[0m \u001b[36mfile_path\u001b[0m=\u001b[35mPosixPath('/Users/andreakropp/Documents/Demos/ADE Demos/Notebooks/CME_Demo/input_folder/CME_Mendez_ex5.png')\u001b[0m \u001b[36mfile_type\u001b[0m=\u001b[35mimage\u001b[0m (utils.py:84)\n"
     ]
    },
    {
     "name": "stderr",
     "output_type": "stream",
     "text": [
      "Parsing documents: 100%|██████████| 5/5 [00:20<00:00,  4.05s/it]\n"
     ]
    }
   ],
   "source": [
    "# Run ADE using the custom Product schema for structured field extraction\n",
    "result_fe = parse(\n",
    "    documents=file_paths, \n",
    "    grounding_save_dir=str(groundings_folder), \n",
    "    extraction_model=CME  # This line is new\n",
    "    )"
   ]
  },
  {
   "cell_type": "code",
   "execution_count": 9,
   "id": "1cbfed9d",
   "metadata": {},
   "outputs": [
    {
     "data": {
      "text/plain": [
       "[ParsedDocument(markdown='CONTINUING MEDICAL EDUCATION CERTIFICATE <!-- text, from page 0 (l=0.181,t=0.070,r=0.816,b=0.130), with ID 9c114bcf-f890-4fb6-875a-e6d200481936 -->\\n\\nMedscape <!-- text, from page 0 (l=0.391,t=0.159,r=0.602,b=0.248), with ID 9f011437-38e5-485e-a4a8-369a86b0432b -->\\n\\ncertifies that <!-- text, from page 0 (l=0.438,t=0.259,r=0.560,b=0.300), with ID 7842b8fe-d069-4fc4-a99a-96110b13894b -->\\n\\nManoel Cortes Mendez <!-- text, from page 0 (l=0.397,t=0.313,r=0.601,b=0.350), with ID badc98f3-ecdc-4b3d-9f73-0c012d638bc9 -->\\n\\nhas participated in the enduring material titled <!-- text, from page 0 (l=0.298,t=0.364,r=0.699,b=0.407), with ID 38de8ffa-caa1-4acc-b920-9e7ed45b95fd -->\\n\\nPatient Case: To Screen or Not to Screen for Chronic Kidney Disease <!-- text, from page 0 (l=0.117,t=0.419,r=0.880,b=0.468), with ID d413ebf1-e760-4e1a-9235-7c30c26325af -->\\n\\nOctober 18, 2022 <!-- text, from page 0 (l=0.415,t=0.482,r=0.583,b=0.521), with ID d36835bf-1f2e-42a1-80ba-0f4e9edd1dac -->\\n\\nand is awarded 0.25 AMA PRA Category 1 Credit(s)™. <!-- text, from page 0 (l=0.258,t=0.536,r=0.737,b=0.582), with ID 370723e8-c2fa-494f-98c3-b43c4a88e711 -->\\n\\nMedscape, LLC designates this enduring material for a maximum of 0.25 AMA PRA Category 1 Credit(s)™. Physicians should claim only the credit commensurate with the extent of their participation in the activity. <!-- text, from page 0 (l=0.086,t=0.593,r=0.912,b=0.710), with ID e870b2b0-db69-4fe5-b1cd-18bef3cb3e63 -->\\n\\nlogo: Jointly Accredited Provider with Commendation, Interprofessional Continuing Education\\n\\nDesign Elements :\\n  • Central circular geometric logo with teal and dark blue segments forming an abstract \"A\" shape.\\n  • Laurel wreath encircling the logo, suggesting achievement or accreditation.\\n  • Text below the logo: \"JOINTLY ACCREDITED PROVIDER™\".\\n  • Banner with the text: \"WITH COMMENDATION\".\\n  • Subtext: \"INTERPROFESSIONAL CONTINUING EDUCATION\".\\n\\nDimensions & Placement :\\n  • Logo is centered with text stacked below.\\n  • Laurel wreath is symmetrical, framing the circular logo.\\n  • Banner is horizontal and placed directly beneath the main provider text.\\n\\nAnalysis :\\n  • The logo visually communicates official recognition and excellence in interprofessional continuing education, with the laurel wreath and commendation banner emphasizing distinction and authority. <!-- figure, from page 0 (l=0.392,t=0.734,r=0.604,b=0.968), with ID 368ec3d2-bb10-492f-9a1b-7e9d402a2c22 -->', chunks=[Chunk(text='CONTINUING MEDICAL EDUCATION CERTIFICATE', grounding=[ChunkGrounding(page=0, box=ChunkGroundingBox(l=0.1805349886417389, t=0.07017568498849869, r=0.8158345222473145, b=0.1296277940273285), image_path=PosixPath('/Users/andreakropp/Documents/Demos/ADE Demos/Notebooks/CME_Demo/groundings_folder/CME_Mendez_ex5_20250723_175550/page_0/text_9c114bcf-f890-4fb6-875a-e6d200481936_0.png'))], chunk_type=<ChunkType.text: 'text'>, chunk_id='9c114bcf-f890-4fb6-875a-e6d200481936'), Chunk(text='Medscape', grounding=[ChunkGrounding(page=0, box=ChunkGroundingBox(l=0.39077281951904297, t=0.15937238931655884, r=0.6015993356704712, b=0.24841070175170898), image_path=PosixPath('/Users/andreakropp/Documents/Demos/ADE Demos/Notebooks/CME_Demo/groundings_folder/CME_Mendez_ex5_20250723_175550/page_0/text_9f011437-38e5-485e-a4a8-369a86b0432b_0.png'))], chunk_type=<ChunkType.text: 'text'>, chunk_id='9f011437-38e5-485e-a4a8-369a86b0432b'), Chunk(text='certifies that', grounding=[ChunkGrounding(page=0, box=ChunkGroundingBox(l=0.43774521350860596, t=0.2585335969924927, r=0.5601323843002319, b=0.29955577850341797), image_path=PosixPath('/Users/andreakropp/Documents/Demos/ADE Demos/Notebooks/CME_Demo/groundings_folder/CME_Mendez_ex5_20250723_175550/page_0/text_7842b8fe-d069-4fc4-a99a-96110b13894b_0.png'))], chunk_type=<ChunkType.text: 'text'>, chunk_id='7842b8fe-d069-4fc4-a99a-96110b13894b'), Chunk(text='Manoel Cortes Mendez', grounding=[ChunkGrounding(page=0, box=ChunkGroundingBox(l=0.3972756862640381, t=0.3128066062927246, r=0.6005247235298157, b=0.35027849674224854), image_path=PosixPath('/Users/andreakropp/Documents/Demos/ADE Demos/Notebooks/CME_Demo/groundings_folder/CME_Mendez_ex5_20250723_175550/page_0/text_badc98f3-ecdc-4b3d-9f73-0c012d638bc9_0.png'))], chunk_type=<ChunkType.text: 'text'>, chunk_id='badc98f3-ecdc-4b3d-9f73-0c012d638bc9'), Chunk(text='has participated in the enduring material titled', grounding=[ChunkGrounding(page=0, box=ChunkGroundingBox(l=0.29799723625183105, t=0.36416885256767273, r=0.6990960836410522, b=0.40682294964790344), image_path=PosixPath('/Users/andreakropp/Documents/Demos/ADE Demos/Notebooks/CME_Demo/groundings_folder/CME_Mendez_ex5_20250723_175550/page_0/text_38de8ffa-caa1-4acc-b920-9e7ed45b95fd_0.png'))], chunk_type=<ChunkType.text: 'text'>, chunk_id='38de8ffa-caa1-4acc-b920-9e7ed45b95fd'), Chunk(text='Patient Case: To Screen or Not to Screen for Chronic Kidney Disease', grounding=[ChunkGrounding(page=0, box=ChunkGroundingBox(l=0.11736702919006348, t=0.4185214340686798, r=0.8799048066139221, b=0.46789732575416565), image_path=PosixPath('/Users/andreakropp/Documents/Demos/ADE Demos/Notebooks/CME_Demo/groundings_folder/CME_Mendez_ex5_20250723_175550/page_0/text_d413ebf1-e760-4e1a-9235-7c30c26325af_0.png'))], chunk_type=<ChunkType.text: 'text'>, chunk_id='d413ebf1-e760-4e1a-9235-7c30c26325af'), Chunk(text='October 18, 2022', grounding=[ChunkGrounding(page=0, box=ChunkGroundingBox(l=0.41477254033088684, t=0.4821600914001465, r=0.5826470851898193, b=0.5213319063186646), image_path=PosixPath('/Users/andreakropp/Documents/Demos/ADE Demos/Notebooks/CME_Demo/groundings_folder/CME_Mendez_ex5_20250723_175550/page_0/text_d36835bf-1f2e-42a1-80ba-0f4e9edd1dac_0.png'))], chunk_type=<ChunkType.text: 'text'>, chunk_id='d36835bf-1f2e-42a1-80ba-0f4e9edd1dac'), Chunk(text='and is awarded 0.25 AMA PRA Category 1 Credit(s)™.', grounding=[ChunkGrounding(page=0, box=ChunkGroundingBox(l=0.2583945095539093, t=0.5364412665367126, r=0.7366684675216675, b=0.5815032124519348), image_path=PosixPath('/Users/andreakropp/Documents/Demos/ADE Demos/Notebooks/CME_Demo/groundings_folder/CME_Mendez_ex5_20250723_175550/page_0/text_370723e8-c2fa-494f-98c3-b43c4a88e711_0.png'))], chunk_type=<ChunkType.text: 'text'>, chunk_id='370723e8-c2fa-494f-98c3-b43c4a88e711'), Chunk(text='Medscape, LLC designates this enduring material for a maximum of 0.25 AMA PRA Category 1 Credit(s)™. Physicians should claim only the credit commensurate with the extent of their participation in the activity.', grounding=[ChunkGrounding(page=0, box=ChunkGroundingBox(l=0.08609271049499512, t=0.592830240726471, r=0.9120181798934937, b=0.7102958559989929), image_path=PosixPath('/Users/andreakropp/Documents/Demos/ADE Demos/Notebooks/CME_Demo/groundings_folder/CME_Mendez_ex5_20250723_175550/page_0/text_e870b2b0-db69-4fe5-b1cd-18bef3cb3e63_0.png'))], chunk_type=<ChunkType.text: 'text'>, chunk_id='e870b2b0-db69-4fe5-b1cd-18bef3cb3e63'), Chunk(text='logo: Jointly Accredited Provider with Commendation, Interprofessional Continuing Education\\n\\nDesign Elements :\\n  • Central circular geometric logo with teal and dark blue segments forming an abstract \"A\" shape.\\n  • Laurel wreath encircling the logo, suggesting achievement or accreditation.\\n  • Text below the logo: \"JOINTLY ACCREDITED PROVIDER™\".\\n  • Banner with the text: \"WITH COMMENDATION\".\\n  • Subtext: \"INTERPROFESSIONAL CONTINUING EDUCATION\".\\n\\nDimensions & Placement :\\n  • Logo is centered with text stacked below.\\n  • Laurel wreath is symmetrical, framing the circular logo.\\n  • Banner is horizontal and placed directly beneath the main provider text.\\n\\nAnalysis :\\n  • The logo visually communicates official recognition and excellence in interprofessional continuing education, with the laurel wreath and commendation banner emphasizing distinction and authority.', grounding=[ChunkGrounding(page=0, box=ChunkGroundingBox(l=0.39160335063934326, t=0.7344146966934204, r=0.603971004486084, b=0.9677114486694336), image_path=PosixPath('/Users/andreakropp/Documents/Demos/ADE Demos/Notebooks/CME_Demo/groundings_folder/CME_Mendez_ex5_20250723_175550/page_0/figure_368ec3d2-bb10-492f-9a1b-7e9d402a2c22_0.png'))], chunk_type=<ChunkType.figure: 'figure'>, chunk_id='368ec3d2-bb10-492f-9a1b-7e9d402a2c22')], extraction=CME(recipient_name='Manoel Cortes Mendez', issuing_org='Medscape', activity_title='Patient Case: To Screen or Not to Screen for Chronic Kidney Disease', date_awarded=datetime.date(2022, 10, 18), credit_awarded='0.25 AMA PRA Category 1 Credit(s)™', credit_numeric=0.25, ama_pra_cat1=True, ama_pra_cat2=False), extraction_metadata=CMEMetadata(recipient_name={'chunk_references': ['badc98f3-ecdc-4b3d-9f73-0c012d638bc9']}, issuing_org={'chunk_references': ['9f011437-38e5-485e-a4a8-369a86b0432b']}, activity_title={'chunk_references': ['d413ebf1-e760-4e1a-9235-7c30c26325af']}, date_awarded={'chunk_references': ['d36835bf-1f2e-42a1-80ba-0f4e9edd1dac']}, credit_awarded={'chunk_references': ['370723e8-c2fa-494f-98c3-b43c4a88e711']}, credit_numeric={'chunk_references': ['370723e8-c2fa-494f-98c3-b43c4a88e711']}, ama_pra_cat1={'chunk_references': ['370723e8-c2fa-494f-98c3-b43c4a88e711']}, ama_pra_cat2={'chunk_references': []}), start_page_idx=0, end_page_idx=0, doc_type='image', result_path=None, errors=[], extraction_error=None),\n",
       " ParsedDocument(markdown='CERTIFICATE OF ATTENDANCE\\nfrom\\nThe University of Texas MD Anderson Cancer Center <!-- text, from page 0 (l=0.254,t=0.070,r=0.753,b=0.158), with ID c7c64e3a-a18f-4e27-804c-0328c0dbed33 -->\\n\\nManoel Cortes Mendez, BS <!-- text, from page 0 (l=0.363,t=0.194,r=0.645,b=0.229), with ID 83cd274f-d42f-4e6f-864e-fbf8c0135842 -->\\n\\nhas participated in the enduring material titled <!-- text, from page 0 (l=0.303,t=0.267,r=0.703,b=0.299), with ID 90cb8d91-c492-44ea-b1ae-62a0fb6959e6 -->\\n\\nCancer Survivorship Series: Module 1 - Overview of Survivorship  \\non October 18, 2022. <!-- text, from page 0 (l=0.200,t=0.314,r=0.806,b=0.368), with ID cabeb27a-8585-45ec-964e-8ce6e15b2fc1 -->\\n\\nManoel Cortes Mendez, BS is awarded a total of 0.75 AMA PRA Category 1 Credit(s)™. <!-- text, from page 0 (l=0.121,t=0.384,r=0.883,b=0.420), with ID ed113d16-79b0-455d-936d-12cf9f2d655a -->\\n\\nThe University of Texas MD Anderson Cancer Center is accredited by the Accreditation Council for Continuing Medical Education (ACCME) to provide continuing medical education for physicians. <!-- text, from page 0 (l=0.174,t=0.432,r=0.832,b=0.512), with ID a8bceacb-9b0d-48cb-af8e-cece039c91c4 -->\\n\\nThe University of Texas MD Anderson Cancer Center designates this enduring material for a maximum of 0.75 *AMA PRA Category 1 Credit(s)*™. Physicians should claim only the credit commensurate with the extent of their participation in the activity. <!-- text, from page 0 (l=0.104,t=0.575,r=0.906,b=0.653), with ID c1bcb86d-97ce-41ee-885c-53c04c97e78c -->\\n\\n*Please retain this document for your records.* <!-- text, from page 0 (l=0.342,t=0.710,r=0.663,b=0.741), with ID c0964ac8-282f-4293-875e-cc68bd7a2e91 -->\\n\\nlogo: The University of Texas MD Anderson Cancer Center, with the word \"Cancer\" crossed out in red.\\n\\nDimensions & Placement :\\n  • All text is centered and stacked.\\n  • \"THE UNIVERSITY OF TEXAS\" appears at the top in small uppercase letters.\\n  • \"MD Anderson\" is in large, bold font.\\n  • \"Cancer Center\" is in a slightly smaller font, with \"Cancer\" crossed out by a thick red line.\\n\\nAnalysis :\\n  • The red strikethrough over \"Cancer\" visually communicates the institution\\'s mission to eliminate cancer. <!-- figure, from page 0 (l=0.338,t=0.797,r=0.673,b=0.931), with ID 1598346a-10a1-42b9-ae3a-5296d8fd720b -->\\n\\nMaking Cancer History® <!-- text, from page 0 (l=0.346,t=0.946,r=0.562,b=0.981), with ID adb7a8c6-7bab-4d26-aa98-5de860ca7c2c -->', chunks=[Chunk(text='CERTIFICATE OF ATTENDANCE\\nfrom\\nThe University of Texas MD Anderson Cancer Center', grounding=[ChunkGrounding(page=0, box=ChunkGroundingBox(l=0.2540927231311798, t=0.07015500217676163, r=0.7532662153244019, b=0.15813982486724854), image_path=PosixPath('/Users/andreakropp/Documents/Demos/ADE Demos/Notebooks/CME_Demo/groundings_folder/CME_Mendez_ex4_20250723_175537/page_0/text_c7c64e3a-a18f-4e27-804c-0328c0dbed33_0.png'))], chunk_type=<ChunkType.text: 'text'>, chunk_id='c7c64e3a-a18f-4e27-804c-0328c0dbed33'), Chunk(text='Manoel Cortes Mendez, BS', grounding=[ChunkGrounding(page=0, box=ChunkGroundingBox(l=0.3634411692619324, t=0.19437266886234283, r=0.644894540309906, b=0.2293015867471695), image_path=PosixPath('/Users/andreakropp/Documents/Demos/ADE Demos/Notebooks/CME_Demo/groundings_folder/CME_Mendez_ex4_20250723_175537/page_0/text_83cd274f-d42f-4e6f-864e-fbf8c0135842_0.png'))], chunk_type=<ChunkType.text: 'text'>, chunk_id='83cd274f-d42f-4e6f-864e-fbf8c0135842'), Chunk(text='has participated in the enduring material titled', grounding=[ChunkGrounding(page=0, box=ChunkGroundingBox(l=0.3033140301704407, t=0.26656824350357056, r=0.7026835083961487, b=0.29866981506347656), image_path=PosixPath('/Users/andreakropp/Documents/Demos/ADE Demos/Notebooks/CME_Demo/groundings_folder/CME_Mendez_ex4_20250723_175537/page_0/text_90cb8d91-c492-44ea-b1ae-62a0fb6959e6_0.png'))], chunk_type=<ChunkType.text: 'text'>, chunk_id='90cb8d91-c492-44ea-b1ae-62a0fb6959e6'), Chunk(text='Cancer Survivorship Series: Module 1 - Overview of Survivorship  \\non October 18, 2022.', grounding=[ChunkGrounding(page=0, box=ChunkGroundingBox(l=0.20047762989997864, t=0.3140040338039398, r=0.8056831359863281, b=0.367552250623703), image_path=PosixPath('/Users/andreakropp/Documents/Demos/ADE Demos/Notebooks/CME_Demo/groundings_folder/CME_Mendez_ex4_20250723_175537/page_0/text_cabeb27a-8585-45ec-964e-8ce6e15b2fc1_0.png'))], chunk_type=<ChunkType.text: 'text'>, chunk_id='cabeb27a-8585-45ec-964e-8ce6e15b2fc1'), Chunk(text='Manoel Cortes Mendez, BS is awarded a total of 0.75 AMA PRA Category 1 Credit(s)™.', grounding=[ChunkGrounding(page=0, box=ChunkGroundingBox(l=0.12116315960884094, t=0.3844563364982605, r=0.8828698396682739, b=0.4203478693962097), image_path=PosixPath('/Users/andreakropp/Documents/Demos/ADE Demos/Notebooks/CME_Demo/groundings_folder/CME_Mendez_ex4_20250723_175537/page_0/text_ed113d16-79b0-455d-936d-12cf9f2d655a_0.png'))], chunk_type=<ChunkType.text: 'text'>, chunk_id='ed113d16-79b0-455d-936d-12cf9f2d655a'), Chunk(text='The University of Texas MD Anderson Cancer Center is accredited by the Accreditation Council for Continuing Medical Education (ACCME) to provide continuing medical education for physicians.', grounding=[ChunkGrounding(page=0, box=ChunkGroundingBox(l=0.17363688349723816, t=0.43201661109924316, r=0.8322842121124268, b=0.51203453540802), image_path=PosixPath('/Users/andreakropp/Documents/Demos/ADE Demos/Notebooks/CME_Demo/groundings_folder/CME_Mendez_ex4_20250723_175537/page_0/text_a8bceacb-9b0d-48cb-af8e-cece039c91c4_0.png'))], chunk_type=<ChunkType.text: 'text'>, chunk_id='a8bceacb-9b0d-48cb-af8e-cece039c91c4'), Chunk(text='The University of Texas MD Anderson Cancer Center designates this enduring material for a maximum of 0.75 *AMA PRA Category 1 Credit(s)*™. Physicians should claim only the credit commensurate with the extent of their participation in the activity.', grounding=[ChunkGrounding(page=0, box=ChunkGroundingBox(l=0.10354593396186829, t=0.5747044086456299, r=0.9056987762451172, b=0.6525037288665771), image_path=PosixPath('/Users/andreakropp/Documents/Demos/ADE Demos/Notebooks/CME_Demo/groundings_folder/CME_Mendez_ex4_20250723_175537/page_0/text_c1bcb86d-97ce-41ee-885c-53c04c97e78c_0.png'))], chunk_type=<ChunkType.text: 'text'>, chunk_id='c1bcb86d-97ce-41ee-885c-53c04c97e78c'), Chunk(text='*Please retain this document for your records.*', grounding=[ChunkGrounding(page=0, box=ChunkGroundingBox(l=0.3415701985359192, t=0.7102229595184326, r=0.6632803082466125, b=0.7405513525009155), image_path=PosixPath('/Users/andreakropp/Documents/Demos/ADE Demos/Notebooks/CME_Demo/groundings_folder/CME_Mendez_ex4_20250723_175537/page_0/text_c0964ac8-282f-4293-875e-cc68bd7a2e91_0.png'))], chunk_type=<ChunkType.text: 'text'>, chunk_id='c0964ac8-282f-4293-875e-cc68bd7a2e91'), Chunk(text='logo: The University of Texas MD Anderson Cancer Center, with the word \"Cancer\" crossed out in red.\\n\\nDimensions & Placement :\\n  • All text is centered and stacked.\\n  • \"THE UNIVERSITY OF TEXAS\" appears at the top in small uppercase letters.\\n  • \"MD Anderson\" is in large, bold font.\\n  • \"Cancer Center\" is in a slightly smaller font, with \"Cancer\" crossed out by a thick red line.\\n\\nAnalysis :\\n  • The red strikethrough over \"Cancer\" visually communicates the institution\\'s mission to eliminate cancer.', grounding=[ChunkGrounding(page=0, box=ChunkGroundingBox(l=0.3376525044441223, t=0.7968145608901978, r=0.6729041934013367, b=0.9306998252868652), image_path=PosixPath('/Users/andreakropp/Documents/Demos/ADE Demos/Notebooks/CME_Demo/groundings_folder/CME_Mendez_ex4_20250723_175537/page_0/figure_1598346a-10a1-42b9-ae3a-5296d8fd720b_0.png'))], chunk_type=<ChunkType.figure: 'figure'>, chunk_id='1598346a-10a1-42b9-ae3a-5296d8fd720b'), Chunk(text='Making Cancer History®', grounding=[ChunkGrounding(page=0, box=ChunkGroundingBox(l=0.3456430733203888, t=0.9458141326904297, r=0.5621795654296875, b=0.9811620712280273), image_path=PosixPath('/Users/andreakropp/Documents/Demos/ADE Demos/Notebooks/CME_Demo/groundings_folder/CME_Mendez_ex4_20250723_175537/page_0/text_adb7a8c6-7bab-4d26-aa98-5de860ca7c2c_0.png'))], chunk_type=<ChunkType.text: 'text'>, chunk_id='adb7a8c6-7bab-4d26-aa98-5de860ca7c2c')], extraction=CME(recipient_name='Manoel Cortes Mendez', issuing_org='The University of Texas MD Anderson Cancer Center', activity_title='Cancer Survivorship Series: Module 1 - Overview of Survivorship', date_awarded=datetime.date(2022, 10, 18), credit_awarded='0.75 AMA PRA Category 1 Credit(s)™', credit_numeric=0.75, ama_pra_cat1=True, ama_pra_cat2=False), extraction_metadata=CMEMetadata(recipient_name={'chunk_references': ['83cd274f-d42f-4e6f-864e-fbf8c0135842']}, issuing_org={'chunk_references': ['c7c64e3a-a18f-4e27-804c-0328c0dbed33']}, activity_title={'chunk_references': ['cabeb27a-8585-45ec-964e-8ce6e15b2fc1']}, date_awarded={'chunk_references': ['cabeb27a-8585-45ec-964e-8ce6e15b2fc1']}, credit_awarded={'chunk_references': ['ed113d16-79b0-455d-936d-12cf9f2d655a']}, credit_numeric={'chunk_references': ['ed113d16-79b0-455d-936d-12cf9f2d655a']}, ama_pra_cat1={'chunk_references': ['ed113d16-79b0-455d-936d-12cf9f2d655a']}, ama_pra_cat2={'chunk_references': []}), start_page_idx=0, end_page_idx=0, doc_type='image', result_path=None, errors=[], extraction_error=None),\n",
       " ParsedDocument(markdown='logo: The Warren Alpert Medical School, Brown University\\n\\nVisible Elements : \\n  • Shield emblem with a red cross and four quadrants, each containing a symbol.\\n  • Crest above the shield with a sun and clouds motif.\\n  • Text to the right of the shield: \"THE WARREN ALPERT Medical School BROWN UNIVERSITY\".\\n  • \"Medical School\" is in larger, bold font; other text is smaller and in uppercase.\\n  • Thin horizontal line separates \"Medical School\" from \"BROWN UNIVERSITY\".\\n\\nDimensions & Placement : \\n  • Shield is positioned to the left of the text.\\n  • Text is left-aligned and stacked in three lines.\\n\\nAnalysis : \\n  • The logo combines Brown University\\'s traditional shield with the specific branding for its medical school, using a formal serif font and a red/black/white colour scheme to convey prestige and institutional identity. <!-- figure, from page 0 (l=0.384,t=0.067,r=0.612,b=0.214), with ID e82aec73-d170-44b5-b3ca-038a586c88d4 -->\\n\\nWarren Alpert Medical School certifies that <!-- text, from page 0 (l=0.372,t=0.226,r=0.631,b=0.263), with ID 1a4a95e3-2abf-4cf9-b123-bcdd474d5911 -->\\n\\nManoel Cortes Mendez <!-- text, from page 0 (l=0.395,t=0.291,r=0.605,b=0.335), with ID b775d30d-cdb3-4860-8fc0-a844ccedeed7 -->\\n\\nhas participated in the enduring educational activity titled <!-- text, from page 0 (l=0.329,t=0.367,r=0.673,b=0.403), with ID f9a82fa5-2080-45d3-b4a0-a086f22ecc8f -->\\n\\nFears, Bias and Discrimination - Substance Use Disorder Patient Care <!-- text, from page 0 (l=0.090,t=0.446,r=0.909,b=0.503), with ID fc6cdb59-ad5f-4c26-ac05-43b488422edf -->\\n\\nOn August 19, 2022 <!-- text, from page 0 (l=0.440,t=0.550,r=0.561,b=0.585), with ID 4f2be294-1bcc-44ca-a746-80e84dca97f7 -->\\n\\nand is awarded 1.00 AMA PRA Category 1 Credits™ <!-- text, from page 0 (l=0.345,t=0.604,r=0.655,b=0.641), with ID e460b48a-3c8e-4384-911a-7c5f17028bb8 -->\\n\\nThis program qualifies for 1.0 hours CME Credit in Opioid Pain Management/Chronic Pain Management, one of the required areas of section 6.0; 6.2.1 RI CME re-licensure requirements. <!-- text, from page 0 (l=0.057,t=0.658,r=0.942,b=0.716), with ID bbdb6dc5-7d33-4c48-85a0-6600a3d0b694 -->\\n\\nThe Warren Alpert Medical School of Brown University is accredited by the Accreditation Council for Continuing Medical Education to provide continuing medical education for physicians. <!-- text, from page 0 (l=0.084,t=0.733,r=0.907,b=0.766), with ID 45ebe928-3483-4874-ab5e-36f7122b2431 -->\\n\\nsignature: Maria Sullivan, Director, Continuing Medical Education  \\n  • Signed name: \"Maria Sullivan\" in cursive handwriting.  \\n  • Title below signature: \"Director, Continuing Medical Education\" in italicised font.  \\n  • Handwriting slants slightly right, with a long horizontal flourish at the end.  \\n  • Signature and title are horizontally aligned, with the title directly beneath the signature.  \\n  • No additional marks, stamps, or logos present.  \\n\\nAnalysis :  \\n  • The signature and title together indicate formal authorisation or endorsement, likely for official documents related to continuing medical education. <!-- figure, from page 0 (l=0.378,t=0.779,r=0.619,b=0.886), with ID a209ef06-4085-414e-925f-beaf4984ed88 -->\\n\\n233 Richmond St, Box G-R 156, Providence, RI 02912 | Telephone: 401-863-2871 | Fax: 401-863-2202 | CME@Brown.edu | http://www.brown.edu/cme <!-- text, from page 0 (l=0.201,t=0.902,r=0.798,b=0.931), with ID a620b4d5-910a-42e2-b2e8-ea7ed5eb305b -->', chunks=[Chunk(text='logo: The Warren Alpert Medical School, Brown University\\n\\nVisible Elements : \\n  • Shield emblem with a red cross and four quadrants, each containing a symbol.\\n  • Crest above the shield with a sun and clouds motif.\\n  • Text to the right of the shield: \"THE WARREN ALPERT Medical School BROWN UNIVERSITY\".\\n  • \"Medical School\" is in larger, bold font; other text is smaller and in uppercase.\\n  • Thin horizontal line separates \"Medical School\" from \"BROWN UNIVERSITY\".\\n\\nDimensions & Placement : \\n  • Shield is positioned to the left of the text.\\n  • Text is left-aligned and stacked in three lines.\\n\\nAnalysis : \\n  • The logo combines Brown University\\'s traditional shield with the specific branding for its medical school, using a formal serif font and a red/black/white colour scheme to convey prestige and institutional identity.', grounding=[ChunkGrounding(page=0, box=ChunkGroundingBox(l=0.38409262895584106, t=0.06740525364875793, r=0.6115967035293579, b=0.2144920527935028), image_path=PosixPath('/Users/andreakropp/Documents/Demos/ADE Demos/Notebooks/CME_Demo/groundings_folder/CME_Mendez_ex1_20250723_175537/page_0/figure_e82aec73-d170-44b5-b3ca-038a586c88d4_0.png'))], chunk_type=<ChunkType.figure: 'figure'>, chunk_id='e82aec73-d170-44b5-b3ca-038a586c88d4'), Chunk(text='Warren Alpert Medical School certifies that', grounding=[ChunkGrounding(page=0, box=ChunkGroundingBox(l=0.37151336669921875, t=0.22629842162132263, r=0.6313164234161377, b=0.2630521059036255), image_path=PosixPath('/Users/andreakropp/Documents/Demos/ADE Demos/Notebooks/CME_Demo/groundings_folder/CME_Mendez_ex1_20250723_175537/page_0/text_1a4a95e3-2abf-4cf9-b123-bcdd474d5911_0.png'))], chunk_type=<ChunkType.text: 'text'>, chunk_id='1a4a95e3-2abf-4cf9-b123-bcdd474d5911'), Chunk(text='Manoel Cortes Mendez', grounding=[ChunkGrounding(page=0, box=ChunkGroundingBox(l=0.39525824785232544, t=0.29123008251190186, r=0.6050819754600525, b=0.3351288437843323), image_path=PosixPath('/Users/andreakropp/Documents/Demos/ADE Demos/Notebooks/CME_Demo/groundings_folder/CME_Mendez_ex1_20250723_175537/page_0/text_b775d30d-cdb3-4860-8fc0-a844ccedeed7_0.png'))], chunk_type=<ChunkType.text: 'text'>, chunk_id='b775d30d-cdb3-4860-8fc0-a844ccedeed7'), Chunk(text='has participated in the enduring educational activity titled', grounding=[ChunkGrounding(page=0, box=ChunkGroundingBox(l=0.329253613948822, t=0.36684995889663696, r=0.6731151938438416, b=0.40319639444351196), image_path=PosixPath('/Users/andreakropp/Documents/Demos/ADE Demos/Notebooks/CME_Demo/groundings_folder/CME_Mendez_ex1_20250723_175537/page_0/text_f9a82fa5-2080-45d3-b4a0-a086f22ecc8f_0.png'))], chunk_type=<ChunkType.text: 'text'>, chunk_id='f9a82fa5-2080-45d3-b4a0-a086f22ecc8f'), Chunk(text='Fears, Bias and Discrimination - Substance Use Disorder Patient Care', grounding=[ChunkGrounding(page=0, box=ChunkGroundingBox(l=0.0897359848022461, t=0.4463360011577606, r=0.9087428450584412, b=0.5028348565101624), image_path=PosixPath('/Users/andreakropp/Documents/Demos/ADE Demos/Notebooks/CME_Demo/groundings_folder/CME_Mendez_ex1_20250723_175537/page_0/text_fc6cdb59-ad5f-4c26-ac05-43b488422edf_0.png'))], chunk_type=<ChunkType.text: 'text'>, chunk_id='fc6cdb59-ad5f-4c26-ac05-43b488422edf'), Chunk(text='On August 19, 2022', grounding=[ChunkGrounding(page=0, box=ChunkGroundingBox(l=0.4395531713962555, t=0.5502051115036011, r=0.5613508224487305, b=0.5849168300628662), image_path=PosixPath('/Users/andreakropp/Documents/Demos/ADE Demos/Notebooks/CME_Demo/groundings_folder/CME_Mendez_ex1_20250723_175537/page_0/text_4f2be294-1bcc-44ca-a746-80e84dca97f7_0.png'))], chunk_type=<ChunkType.text: 'text'>, chunk_id='4f2be294-1bcc-44ca-a746-80e84dca97f7'), Chunk(text='and is awarded 1.00 AMA PRA Category 1 Credits™', grounding=[ChunkGrounding(page=0, box=ChunkGroundingBox(l=0.34549179673194885, t=0.6038469076156616, r=0.6552953720092773, b=0.641391396522522), image_path=PosixPath('/Users/andreakropp/Documents/Demos/ADE Demos/Notebooks/CME_Demo/groundings_folder/CME_Mendez_ex1_20250723_175537/page_0/text_e460b48a-3c8e-4384-911a-7c5f17028bb8_0.png'))], chunk_type=<ChunkType.text: 'text'>, chunk_id='e460b48a-3c8e-4384-911a-7c5f17028bb8'), Chunk(text='This program qualifies for 1.0 hours CME Credit in Opioid Pain Management/Chronic Pain Management, one of the required areas of section 6.0; 6.2.1 RI CME re-licensure requirements.', grounding=[ChunkGrounding(page=0, box=ChunkGroundingBox(l=0.05674096941947937, t=0.6581252217292786, r=0.9419175386428833, b=0.7157873511314392), image_path=PosixPath('/Users/andreakropp/Documents/Demos/ADE Demos/Notebooks/CME_Demo/groundings_folder/CME_Mendez_ex1_20250723_175537/page_0/text_bbdb6dc5-7d33-4c48-85a0-6600a3d0b694_0.png'))], chunk_type=<ChunkType.text: 'text'>, chunk_id='bbdb6dc5-7d33-4c48-85a0-6600a3d0b694'), Chunk(text='The Warren Alpert Medical School of Brown University is accredited by the Accreditation Council for Continuing Medical Education to provide continuing medical education for physicians.', grounding=[ChunkGrounding(page=0, box=ChunkGroundingBox(l=0.08426445722579956, t=0.733370304107666, r=0.9067850708961487, b=0.7661970853805542), image_path=PosixPath('/Users/andreakropp/Documents/Demos/ADE Demos/Notebooks/CME_Demo/groundings_folder/CME_Mendez_ex1_20250723_175537/page_0/text_45ebe928-3483-4874-ab5e-36f7122b2431_0.png'))], chunk_type=<ChunkType.text: 'text'>, chunk_id='45ebe928-3483-4874-ab5e-36f7122b2431'), Chunk(text='signature: Maria Sullivan, Director, Continuing Medical Education  \\n  • Signed name: \"Maria Sullivan\" in cursive handwriting.  \\n  • Title below signature: \"Director, Continuing Medical Education\" in italicised font.  \\n  • Handwriting slants slightly right, with a long horizontal flourish at the end.  \\n  • Signature and title are horizontally aligned, with the title directly beneath the signature.  \\n  • No additional marks, stamps, or logos present.  \\n\\nAnalysis :  \\n  • The signature and title together indicate formal authorisation or endorsement, likely for official documents related to continuing medical education.', grounding=[ChunkGrounding(page=0, box=ChunkGroundingBox(l=0.37834322452545166, t=0.7787721753120422, r=0.6192129850387573, b=0.8862773776054382), image_path=PosixPath('/Users/andreakropp/Documents/Demos/ADE Demos/Notebooks/CME_Demo/groundings_folder/CME_Mendez_ex1_20250723_175537/page_0/figure_a209ef06-4085-414e-925f-beaf4984ed88_0.png'))], chunk_type=<ChunkType.figure: 'figure'>, chunk_id='a209ef06-4085-414e-925f-beaf4984ed88'), Chunk(text='233 Richmond St, Box G-R 156, Providence, RI 02912 | Telephone: 401-863-2871 | Fax: 401-863-2202 | CME@Brown.edu | http://www.brown.edu/cme', grounding=[ChunkGrounding(page=0, box=ChunkGroundingBox(l=0.20088595151901245, t=0.9015576839447021, r=0.7977190017700195, b=0.930780291557312), image_path=PosixPath('/Users/andreakropp/Documents/Demos/ADE Demos/Notebooks/CME_Demo/groundings_folder/CME_Mendez_ex1_20250723_175537/page_0/text_a620b4d5-910a-42e2-b2e8-ea7ed5eb305b_0.png'))], chunk_type=<ChunkType.text: 'text'>, chunk_id='a620b4d5-910a-42e2-b2e8-ea7ed5eb305b')], extraction=CME(recipient_name='Manoel Cortes Mendez', issuing_org='Warren Alpert Medical School', activity_title='Fears, Bias and Discrimination - Substance Use Disorder Patient Care', date_awarded=datetime.date(2022, 8, 19), credit_awarded='1.00 AMA PRA Category 1 Credits™', credit_numeric=1.0, ama_pra_cat1=True, ama_pra_cat2=False), extraction_metadata=CMEMetadata(recipient_name={'chunk_references': ['b775d30d-cdb3-4860-8fc0-a844ccedeed7']}, issuing_org={'chunk_references': ['1a4a95e3-2abf-4cf9-b123-bcdd474d5911']}, activity_title={'chunk_references': ['fc6cdb59-ad5f-4c26-ac05-43b488422edf']}, date_awarded={'chunk_references': ['4f2be294-1bcc-44ca-a746-80e84dca97f7']}, credit_awarded={'chunk_references': ['e460b48a-3c8e-4384-911a-7c5f17028bb8']}, credit_numeric={'chunk_references': ['e460b48a-3c8e-4384-911a-7c5f17028bb8']}, ama_pra_cat1={'chunk_references': ['e460b48a-3c8e-4384-911a-7c5f17028bb8']}, ama_pra_cat2={'chunk_references': []}), start_page_idx=0, end_page_idx=0, doc_type='image', result_path=None, errors=[], extraction_error=None),\n",
       " ParsedDocument(markdown='logo: Johns Hopkins Medicine\\n\\nVisible Text and Elements : \\n  • \"JOHNS HOPKINS MEDICINE\" in large, uppercase serif font.\\n  • Icon above the text: a yellow triangle with a blue border, containing a blue silhouette of a domed building (the Johns Hopkins dome).\\n  • Address block below: \"Turner 20 / 720 Rutland Avenue, Baltimore, Maryland 21205-2195\"\\n  • Contact numbers: \"(410)502-9634 T / (866)510-7088 F\"\\n\\nDesign and Placement : \\n  • Logo icon is centered above the text.\\n  • Text is center-aligned, with the institution name most prominent.\\n  • Blue and yellow color scheme.\\n  • All elements are vertically stacked.\\n\\nAnalysis : \\n  • The logo uses the iconic dome to visually identify Johns Hopkins Medicine.\\n  • The blue and yellow palette is consistent with the institution’s branding.\\n  • The inclusion of address and contact information suggests this is intended for official correspondence or documentation. <!-- figure, from page 0 (l=0.047,t=0.078,r=0.226,b=0.332), with ID a289b2a7-c7e3-47f9-b2ea-2cee6511487b -->\\n\\nCERTIFICATE OF ATTENDANCE\\n\\nJohns Hopkins University School of Medicine\\n\\nCertifies that <!-- text, from page 0 (l=0.303,t=0.166,r=0.668,b=0.328), with ID b7a51ca8-5c88-4811-9a1d-e6f0ef111a03 -->\\n\\nManoel Cortes Mendez, BS\\n\\nhas participated in the Enduring Material titled Pain Medicine Management - Pain Management of Low Back Pain  on 08/18/2022. This activity was designated for 1.00 AMA PRA Category 1 Credit(s)™. <!-- text, from page 0 (l=0.070,t=0.488,r=0.829,b=0.625), with ID 14311a7e-eabe-4973-a5bf-5c194b8d1417 -->\\n\\nSummary : This is a handwritten signature, likely representing an individual\\'s name, written in blue ink with a rightward slant and a long horizontal flourish at the end.\\n\\nsignature: Todd Rosen / signed, handwriting slant right, prominent initial capitals, extended horizontal flourish, medium stroke weight.\\nDimensions & Placement : \\n  • Signature spans approximately 6:1 width-to-height ratio.\\n  • Centered horizontally, with a long tail extending to the right.\\nAnalysis : \\n  • The signature is stylized and fluid, with a distinctive flourish, suggesting a practiced and confident signing style. <!-- figure, from page 0 (l=0.656,t=0.912,r=0.857,b=1.000), with ID b59a5078-5dc0-4406-9224-04632c5497c4 -->', chunks=[Chunk(text='logo: Johns Hopkins Medicine\\n\\nVisible Text and Elements : \\n  • \"JOHNS HOPKINS MEDICINE\" in large, uppercase serif font.\\n  • Icon above the text: a yellow triangle with a blue border, containing a blue silhouette of a domed building (the Johns Hopkins dome).\\n  • Address block below: \"Turner 20 / 720 Rutland Avenue, Baltimore, Maryland 21205-2195\"\\n  • Contact numbers: \"(410)502-9634 T / (866)510-7088 F\"\\n\\nDesign and Placement : \\n  • Logo icon is centered above the text.\\n  • Text is center-aligned, with the institution name most prominent.\\n  • Blue and yellow color scheme.\\n  • All elements are vertically stacked.\\n\\nAnalysis : \\n  • The logo uses the iconic dome to visually identify Johns Hopkins Medicine.\\n  • The blue and yellow palette is consistent with the institution’s branding.\\n  • The inclusion of address and contact information suggests this is intended for official correspondence or documentation.', grounding=[ChunkGrounding(page=0, box=ChunkGroundingBox(l=0.04710320383310318, t=0.07758043706417084, r=0.22643819451332092, b=0.33217471837997437), image_path=PosixPath('/Users/andreakropp/Documents/Demos/ADE Demos/Notebooks/CME_Demo/groundings_folder/CME_Mendez_ex3_20250723_175537/page_0/figure_a289b2a7-c7e3-47f9-b2ea-2cee6511487b_0.png'))], chunk_type=<ChunkType.figure: 'figure'>, chunk_id='a289b2a7-c7e3-47f9-b2ea-2cee6511487b'), Chunk(text='CERTIFICATE OF ATTENDANCE\\n\\nJohns Hopkins University School of Medicine\\n\\nCertifies that', grounding=[ChunkGrounding(page=0, box=ChunkGroundingBox(l=0.30315107107162476, t=0.16611000895500183, r=0.6676429510116577, b=0.3278310000896454), image_path=PosixPath('/Users/andreakropp/Documents/Demos/ADE Demos/Notebooks/CME_Demo/groundings_folder/CME_Mendez_ex3_20250723_175537/page_0/text_b7a51ca8-5c88-4811-9a1d-e6f0ef111a03_0.png'))], chunk_type=<ChunkType.text: 'text'>, chunk_id='b7a51ca8-5c88-4811-9a1d-e6f0ef111a03'), Chunk(text='Manoel Cortes Mendez, BS\\n\\nhas participated in the Enduring Material titled Pain Medicine Management - Pain Management of Low Back Pain  on 08/18/2022. This activity was designated for 1.00 AMA PRA Category 1 Credit(s)™.', grounding=[ChunkGrounding(page=0, box=ChunkGroundingBox(l=0.07033529877662659, t=0.4884651303291321, r=0.8289690017700195, b=0.6254920363426208), image_path=PosixPath('/Users/andreakropp/Documents/Demos/ADE Demos/Notebooks/CME_Demo/groundings_folder/CME_Mendez_ex3_20250723_175537/page_0/text_14311a7e-eabe-4973-a5bf-5c194b8d1417_0.png'))], chunk_type=<ChunkType.text: 'text'>, chunk_id='14311a7e-eabe-4973-a5bf-5c194b8d1417'), Chunk(text=\"Summary : This is a handwritten signature, likely representing an individual's name, written in blue ink with a rightward slant and a long horizontal flourish at the end.\\n\\nsignature: Todd Rosen / signed, handwriting slant right, prominent initial capitals, extended horizontal flourish, medium stroke weight.\\nDimensions & Placement : \\n  • Signature spans approximately 6:1 width-to-height ratio.\\n  • Centered horizontally, with a long tail extending to the right.\\nAnalysis : \\n  • The signature is stylized and fluid, with a distinctive flourish, suggesting a practiced and confident signing style.\", grounding=[ChunkGrounding(page=0, box=ChunkGroundingBox(l=0.6558197140693665, t=0.91209876537323, r=0.8573347926139832, b=0.9996553659439087), image_path=PosixPath('/Users/andreakropp/Documents/Demos/ADE Demos/Notebooks/CME_Demo/groundings_folder/CME_Mendez_ex3_20250723_175537/page_0/figure_b59a5078-5dc0-4406-9224-04632c5497c4_0.png'))], chunk_type=<ChunkType.figure: 'figure'>, chunk_id='b59a5078-5dc0-4406-9224-04632c5497c4')], extraction=CME(recipient_name='Manoel Cortes Mendez', issuing_org='Johns Hopkins University School of Medicine', activity_title='Pain Medicine Management - Pain Management of Low Back Pain', date_awarded=datetime.date(2022, 8, 18), credit_awarded='1.00 AMA PRA Category 1 Credit(s)™', credit_numeric=1.0, ama_pra_cat1=True, ama_pra_cat2=False), extraction_metadata=CMEMetadata(recipient_name={'chunk_references': ['14311a7e-eabe-4973-a5bf-5c194b8d1417']}, issuing_org={'chunk_references': ['b7a51ca8-5c88-4811-9a1d-e6f0ef111a03']}, activity_title={'chunk_references': ['14311a7e-eabe-4973-a5bf-5c194b8d1417']}, date_awarded={'chunk_references': ['14311a7e-eabe-4973-a5bf-5c194b8d1417']}, credit_awarded={'chunk_references': ['14311a7e-eabe-4973-a5bf-5c194b8d1417']}, credit_numeric={'chunk_references': ['14311a7e-eabe-4973-a5bf-5c194b8d1417']}, ama_pra_cat1={'chunk_references': ['14311a7e-eabe-4973-a5bf-5c194b8d1417']}, ama_pra_cat2={'chunk_references': []}), start_page_idx=0, end_page_idx=0, doc_type='image', result_path=None, errors=[], extraction_error=None),\n",
       " ParsedDocument(markdown='logo: Stanford Medicine\\n\\nScene Overview : \\n  • The image displays the official logo of Stanford Medicine.\\n  • The logo consists of a maroon shield on the left and the text \"Stanford MEDICINE\" on the right.\\n  • The shield is divided into three sections: the top left contains a stylized tree, the top right features a caduceus (medical symbol), and the bottom left shows an abstract geometric design.\\n  • The word \"Stanford\" is in large maroon serif font, while \"MEDICINE\" is in smaller, black sans-serif capital letters below it.\\n\\nTechnical Details : \\n  • The shield is maroon with white symbols.\\n  • The text \"Stanford\" is maroon; \"MEDICINE\" is black.\\n  • The logo is horizontally oriented, with the shield to the left of the text.\\n\\nSpatial Relationships : \\n  • The shield and text are aligned horizontally.\\n  • The shield is approximately square, and the text block is rectangular, extending to the right.\\n\\nAnalysis : \\n  • The logo combines Stanford University\\'s iconic tree with medical and abstract symbols to represent the institution\\'s identity in medicine.\\n  • The use of maroon and white reflects Stanford\\'s traditional colours, while the caduceus emphasizes the medical focus. <!-- figure, from page 0 (l=0.280,t=0.085,r=0.721,b=0.291), with ID a0f94ae2-c652-4131-924d-523159a4c926 -->\\n\\nStanford University School of Medicine certifies that  \\nManoel Cortes Mendez, BS <!-- text, from page 0 (l=0.274,t=0.316,r=0.723,b=0.415), with ID 6e7f43ec-eaf7-491d-96c7-b2c582a1b204 -->\\n\\nhas participated for 2.50 hours in the Enduring Material titled <!-- text, from page 0 (l=0.241,t=0.433,r=0.756,b=0.480), with ID 71ae86cb-f204-4fb3-8b93-eeed13b0eeca -->\\n\\n## Introduction to Food and Health <!-- text, from page 0 (l=0.297,t=0.497,r=0.701,b=0.548), with ID 46d11c92-c3e7-4ee4-bf24-98cafb9f5062 -->\\n\\non 06/27/2022 <!-- text, from page 0 (l=0.435,t=0.569,r=0.568,b=0.610), with ID d7e5c2bb-f056-461b-b81b-59f396883c9c -->\\n\\nThis Activity was designated for 2.50 AMA PRA Category 1 Credit(s)™ <!-- text, from page 0 (l=0.274,t=0.626,r=0.725,b=0.665), with ID 0a3d4736-ef6f-4822-893f-445c742d495a -->\\n\\nAccreditation  \\nIn support of improving patient care, Stanford Medicine is jointly accredited by the Accreditation Council for Continuing Medical Education (ACCME), the Accreditation Council for Pharmacy Education (ACPE), and the American Nurses Credentialing Center (ANCC), to provide continuing education for the healthcare team. <!-- text, from page 0 (l=0.199,t=0.683,r=0.892,b=0.804), with ID 06285949-992f-4dac-9ad2-bce44c971755 -->\\n\\nlogo: Jointly Accredited Provider™ Interprofessional Continuing Education\\n\\nScene Overview : \\n  • The image displays a circular logo composed of three colored segments forming a stylized \"A\" shape.\\n  • Below the logo, the text reads: \"JOINTLY ACCREDITED PROVIDER™\" and \"INTERPROFESSIONAL CONTINUING EDUCATION\".\\n  • The color palette includes teal, blue, and dark blue.\\n\\nTechnical Details : \\n  • No scale bar or additional technical markings are present.\\n  • The logo and text are centered on a white background.\\n\\nSpatial Relationships : \\n  • The logo is positioned above the text, with the text left-aligned beneath the circular emblem.\\n\\nAnalysis : \\n  • The logo visually represents the concept of interprofessional collaboration through the interconnected segments forming an \"A\".\\n  • The use of blue and teal tones may suggest professionalism and trustworthiness, aligning with the theme of continuing education. <!-- figure, from page 0 (l=0.055,t=0.694,r=0.192,b=0.836), with ID 5f81bf75-3351-4245-9003-8d6f8176692f -->\\n\\nsignature: Daryl Oakes, MD, rightward slant, prominent underline, medium stroke weight.\\nPlacement & Context : \\n  • Signature is positioned above the printed name and title: \"Daryl Oakes, MD, Associate Dean for Continuing Medical Education\".\\n  • Signature is horizontally aligned with the printed name.\\n  • No additional graphic elements or logos present.\\n  • Signature occupies the upper portion; printed text is below.\\nAnalysis : \\n  • The signature serves as an official endorsement or authentication for the associated document, with clear attribution to Daryl Oakes, MD. <!-- figure, from page 0 (l=0.626,t=0.840,r=0.950,b=0.987), with ID 38137011-1825-4af4-8bea-808411adcc5c -->', chunks=[Chunk(text='logo: Stanford Medicine\\n\\nScene Overview : \\n  • The image displays the official logo of Stanford Medicine.\\n  • The logo consists of a maroon shield on the left and the text \"Stanford MEDICINE\" on the right.\\n  • The shield is divided into three sections: the top left contains a stylized tree, the top right features a caduceus (medical symbol), and the bottom left shows an abstract geometric design.\\n  • The word \"Stanford\" is in large maroon serif font, while \"MEDICINE\" is in smaller, black sans-serif capital letters below it.\\n\\nTechnical Details : \\n  • The shield is maroon with white symbols.\\n  • The text \"Stanford\" is maroon; \"MEDICINE\" is black.\\n  • The logo is horizontally oriented, with the shield to the left of the text.\\n\\nSpatial Relationships : \\n  • The shield and text are aligned horizontally.\\n  • The shield is approximately square, and the text block is rectangular, extending to the right.\\n\\nAnalysis : \\n  • The logo combines Stanford University\\'s iconic tree with medical and abstract symbols to represent the institution\\'s identity in medicine.\\n  • The use of maroon and white reflects Stanford\\'s traditional colours, while the caduceus emphasizes the medical focus.', grounding=[ChunkGrounding(page=0, box=ChunkGroundingBox(l=0.28005295991897583, t=0.08491585403680801, r=0.7210990786552429, b=0.29077357053756714), image_path=PosixPath('/Users/andreakropp/Documents/Demos/ADE Demos/Notebooks/CME_Demo/groundings_folder/CME_Mendez_ex2_20250723_175544/page_0/figure_a0f94ae2-c652-4131-924d-523159a4c926_0.png'))], chunk_type=<ChunkType.figure: 'figure'>, chunk_id='a0f94ae2-c652-4131-924d-523159a4c926'), Chunk(text='Stanford University School of Medicine certifies that  \\nManoel Cortes Mendez, BS', grounding=[ChunkGrounding(page=0, box=ChunkGroundingBox(l=0.27425944805145264, t=0.316008061170578, r=0.7234154343605042, b=0.4152139127254486), image_path=PosixPath('/Users/andreakropp/Documents/Demos/ADE Demos/Notebooks/CME_Demo/groundings_folder/CME_Mendez_ex2_20250723_175544/page_0/text_6e7f43ec-eaf7-491d-96c7-b2c582a1b204_0.png'))], chunk_type=<ChunkType.text: 'text'>, chunk_id='6e7f43ec-eaf7-491d-96c7-b2c582a1b204'), Chunk(text='has participated for 2.50 hours in the Enduring Material titled', grounding=[ChunkGrounding(page=0, box=ChunkGroundingBox(l=0.24085205793380737, t=0.43271854519844055, r=0.7564993500709534, b=0.48009929060935974), image_path=PosixPath('/Users/andreakropp/Documents/Demos/ADE Demos/Notebooks/CME_Demo/groundings_folder/CME_Mendez_ex2_20250723_175544/page_0/text_71ae86cb-f204-4fb3-8b93-eeed13b0eeca_0.png'))], chunk_type=<ChunkType.text: 'text'>, chunk_id='71ae86cb-f204-4fb3-8b93-eeed13b0eeca'), Chunk(text='## Introduction to Food and Health', grounding=[ChunkGrounding(page=0, box=ChunkGroundingBox(l=0.29654139280319214, t=0.4973204731941223, r=0.7005948424339294, b=0.5482515692710876), image_path=PosixPath('/Users/andreakropp/Documents/Demos/ADE Demos/Notebooks/CME_Demo/groundings_folder/CME_Mendez_ex2_20250723_175544/page_0/text_46d11c92-c3e7-4ee4-bf24-98cafb9f5062_0.png'))], chunk_type=<ChunkType.text: 'text'>, chunk_id='46d11c92-c3e7-4ee4-bf24-98cafb9f5062'), Chunk(text='on 06/27/2022', grounding=[ChunkGrounding(page=0, box=ChunkGroundingBox(l=0.4351440370082855, t=0.5687819719314575, r=0.5678827166557312, b=0.6101926565170288), image_path=PosixPath('/Users/andreakropp/Documents/Demos/ADE Demos/Notebooks/CME_Demo/groundings_folder/CME_Mendez_ex2_20250723_175544/page_0/text_d7e5c2bb-f056-461b-b81b-59f396883c9c_0.png'))], chunk_type=<ChunkType.text: 'text'>, chunk_id='d7e5c2bb-f056-461b-b81b-59f396883c9c'), Chunk(text='This Activity was designated for 2.50 AMA PRA Category 1 Credit(s)™', grounding=[ChunkGrounding(page=0, box=ChunkGroundingBox(l=0.27365362644195557, t=0.625634491443634, r=0.7248334884643555, b=0.6650612950325012), image_path=PosixPath('/Users/andreakropp/Documents/Demos/ADE Demos/Notebooks/CME_Demo/groundings_folder/CME_Mendez_ex2_20250723_175544/page_0/text_0a3d4736-ef6f-4822-893f-445c742d495a_0.png'))], chunk_type=<ChunkType.text: 'text'>, chunk_id='0a3d4736-ef6f-4822-893f-445c742d495a'), Chunk(text='Accreditation  \\nIn support of improving patient care, Stanford Medicine is jointly accredited by the Accreditation Council for Continuing Medical Education (ACCME), the Accreditation Council for Pharmacy Education (ACPE), and the American Nurses Credentialing Center (ANCC), to provide continuing education for the healthcare team.', grounding=[ChunkGrounding(page=0, box=ChunkGroundingBox(l=0.19889575242996216, t=0.6834495067596436, r=0.892405092716217, b=0.80350661277771), image_path=PosixPath('/Users/andreakropp/Documents/Demos/ADE Demos/Notebooks/CME_Demo/groundings_folder/CME_Mendez_ex2_20250723_175544/page_0/text_06285949-992f-4dac-9ad2-bce44c971755_0.png'))], chunk_type=<ChunkType.text: 'text'>, chunk_id='06285949-992f-4dac-9ad2-bce44c971755'), Chunk(text='logo: Jointly Accredited Provider™ Interprofessional Continuing Education\\n\\nScene Overview : \\n  • The image displays a circular logo composed of three colored segments forming a stylized \"A\" shape.\\n  • Below the logo, the text reads: \"JOINTLY ACCREDITED PROVIDER™\" and \"INTERPROFESSIONAL CONTINUING EDUCATION\".\\n  • The color palette includes teal, blue, and dark blue.\\n\\nTechnical Details : \\n  • No scale bar or additional technical markings are present.\\n  • The logo and text are centered on a white background.\\n\\nSpatial Relationships : \\n  • The logo is positioned above the text, with the text left-aligned beneath the circular emblem.\\n\\nAnalysis : \\n  • The logo visually represents the concept of interprofessional collaboration through the interconnected segments forming an \"A\".\\n  • The use of blue and teal tones may suggest professionalism and trustworthiness, aligning with the theme of continuing education.', grounding=[ChunkGrounding(page=0, box=ChunkGroundingBox(l=0.05458826571702957, t=0.693853497505188, r=0.19211238622665405, b=0.8360229730606079), image_path=PosixPath('/Users/andreakropp/Documents/Demos/ADE Demos/Notebooks/CME_Demo/groundings_folder/CME_Mendez_ex2_20250723_175544/page_0/figure_5f81bf75-3351-4245-9003-8d6f8176692f_0.png'))], chunk_type=<ChunkType.figure: 'figure'>, chunk_id='5f81bf75-3351-4245-9003-8d6f8176692f'), Chunk(text='signature: Daryl Oakes, MD, rightward slant, prominent underline, medium stroke weight.\\nPlacement & Context : \\n  • Signature is positioned above the printed name and title: \"Daryl Oakes, MD, Associate Dean for Continuing Medical Education\".\\n  • Signature is horizontally aligned with the printed name.\\n  • No additional graphic elements or logos present.\\n  • Signature occupies the upper portion; printed text is below.\\nAnalysis : \\n  • The signature serves as an official endorsement or authentication for the associated document, with clear attribution to Daryl Oakes, MD.', grounding=[ChunkGrounding(page=0, box=ChunkGroundingBox(l=0.6255420446395874, t=0.8404626846313477, r=0.9496151208877563, b=0.9868378639221191), image_path=PosixPath('/Users/andreakropp/Documents/Demos/ADE Demos/Notebooks/CME_Demo/groundings_folder/CME_Mendez_ex2_20250723_175544/page_0/figure_38137011-1825-4af4-8bea-808411adcc5c_0.png'))], chunk_type=<ChunkType.figure: 'figure'>, chunk_id='38137011-1825-4af4-8bea-808411adcc5c')], extraction=CME(recipient_name='Manoel Cortes Mendez', issuing_org='Stanford University School of Medicine', activity_title='Introduction to Food and Health', date_awarded=datetime.date(2022, 6, 27), credit_awarded='2.50 AMA PRA Category 1 Credit(s)', credit_numeric=2.5, ama_pra_cat1=True, ama_pra_cat2=False), extraction_metadata=CMEMetadata(recipient_name={'chunk_references': ['6e7f43ec-eaf7-491d-96c7-b2c582a1b204']}, issuing_org={'chunk_references': ['6e7f43ec-eaf7-491d-96c7-b2c582a1b204']}, activity_title={'chunk_references': ['46d11c92-c3e7-4ee4-bf24-98cafb9f5062']}, date_awarded={'chunk_references': ['d7e5c2bb-f056-461b-b81b-59f396883c9c']}, credit_awarded={'chunk_references': ['0a3d4736-ef6f-4822-893f-445c742d495a']}, credit_numeric={'chunk_references': ['0a3d4736-ef6f-4822-893f-445c742d495a']}, ama_pra_cat1={'chunk_references': ['0a3d4736-ef6f-4822-893f-445c742d495a']}, ama_pra_cat2={'chunk_references': []}), start_page_idx=0, end_page_idx=0, doc_type='image', result_path=None, errors=[], extraction_error=None)]"
      ]
     },
     "execution_count": 9,
     "metadata": {},
     "output_type": "execute_result"
    }
   ],
   "source": [
    "# View results\n",
    "result_fe"
   ]
  },
  {
   "cell_type": "markdown",
   "id": "556dc403",
   "metadata": {},
   "source": [
    "## 🔍 Explore Field Extraction Outputs\n",
    "\n",
    "Dive into the result to understand the contents and structure."
   ]
  },
  {
   "cell_type": "code",
   "execution_count": 10,
   "id": "0d05f115",
   "metadata": {},
   "outputs": [],
   "source": [
    "# Access one document from the results\n",
    "doc = result_fe[0] # Choose index based on available docs"
   ]
  },
  {
   "cell_type": "code",
   "execution_count": 11,
   "id": "be9daea9",
   "metadata": {},
   "outputs": [
    {
     "name": "stdout",
     "output_type": "stream",
     "text": [
      "Document Type: image\n",
      "Result Path: None\n",
      "Markdown Summary (first 100 chars):\n",
      "CONTINUING MEDICAL EDUCATION CERTIFICATE <!-- text, from page 0 (l=0.181,t=0.070,r=0.816,b=0.130), w\n",
      "Total Chunks: 10\n",
      "\n",
      "--- Chunk 1 ---\n",
      "Chunk ID: 9c114bcf-f890-4fb6-875a-e6d200481936\n",
      "Chunk Type: text\n",
      "Text (shortened): CONTINUING MEDICAL EDUCATION CERTIFICATE ...\n",
      "  Page: 0\n",
      "  Box (l, t, r, b): (0.181, 0.070, 0.816, 0.130)\n",
      "  Image Path: /Users/andreakropp/Documents/Demos/ADE Demos/Notebooks/CME_Demo/groundings_folder/CME_Mendez_ex5_20250723_175550/page_0/text_9c114bcf-f890-4fb6-875a-e6d200481936_0.png\n",
      "\n",
      "--- Chunk 2 ---\n",
      "Chunk ID: 9f011437-38e5-485e-a4a8-369a86b0432b\n",
      "Chunk Type: text\n",
      "Text (shortened): Medscape ...\n",
      "  Page: 0\n",
      "  Box (l, t, r, b): (0.391, 0.159, 0.602, 0.248)\n",
      "  Image Path: /Users/andreakropp/Documents/Demos/ADE Demos/Notebooks/CME_Demo/groundings_folder/CME_Mendez_ex5_20250723_175550/page_0/text_9f011437-38e5-485e-a4a8-369a86b0432b_0.png\n",
      "\n",
      "--- Chunk 3 ---\n",
      "Chunk ID: 7842b8fe-d069-4fc4-a99a-96110b13894b\n",
      "Chunk Type: text\n",
      "Text (shortened): certifies that ...\n",
      "  Page: 0\n",
      "  Box (l, t, r, b): (0.438, 0.259, 0.560, 0.300)\n",
      "  Image Path: /Users/andreakropp/Documents/Demos/ADE Demos/Notebooks/CME_Demo/groundings_folder/CME_Mendez_ex5_20250723_175550/page_0/text_7842b8fe-d069-4fc4-a99a-96110b13894b_0.png\n",
      "\n",
      "--- Chunk 4 ---\n",
      "Chunk ID: badc98f3-ecdc-4b3d-9f73-0c012d638bc9\n",
      "Chunk Type: text\n",
      "Text (shortened): Manoel Cortes Mendez ...\n",
      "  Page: 0\n",
      "  Box (l, t, r, b): (0.397, 0.313, 0.601, 0.350)\n",
      "  Image Path: /Users/andreakropp/Documents/Demos/ADE Demos/Notebooks/CME_Demo/groundings_folder/CME_Mendez_ex5_20250723_175550/page_0/text_badc98f3-ecdc-4b3d-9f73-0c012d638bc9_0.png\n",
      "\n",
      "--- Chunk 5 ---\n",
      "Chunk ID: 38de8ffa-caa1-4acc-b920-9e7ed45b95fd\n",
      "Chunk Type: text\n",
      "Text (shortened): has participated in the enduring material titled ...\n",
      "  Page: 0\n",
      "  Box (l, t, r, b): (0.298, 0.364, 0.699, 0.407)\n",
      "  Image Path: /Users/andreakropp/Documents/Demos/ADE Demos/Notebooks/CME_Demo/groundings_folder/CME_Mendez_ex5_20250723_175550/page_0/text_38de8ffa-caa1-4acc-b920-9e7ed45b95fd_0.png\n",
      "\n",
      "--- Chunk 6 ---\n",
      "Chunk ID: d413ebf1-e760-4e1a-9235-7c30c26325af\n",
      "Chunk Type: text\n",
      "Text (shortened): Patient Case: To Screen or Not to Screen for Chronic Kidney Disease ...\n",
      "  Page: 0\n",
      "  Box (l, t, r, b): (0.117, 0.419, 0.880, 0.468)\n",
      "  Image Path: /Users/andreakropp/Documents/Demos/ADE Demos/Notebooks/CME_Demo/groundings_folder/CME_Mendez_ex5_20250723_175550/page_0/text_d413ebf1-e760-4e1a-9235-7c30c26325af_0.png\n",
      "\n",
      "--- Chunk 7 ---\n",
      "Chunk ID: d36835bf-1f2e-42a1-80ba-0f4e9edd1dac\n",
      "Chunk Type: text\n",
      "Text (shortened): October 18, 2022 ...\n",
      "  Page: 0\n",
      "  Box (l, t, r, b): (0.415, 0.482, 0.583, 0.521)\n",
      "  Image Path: /Users/andreakropp/Documents/Demos/ADE Demos/Notebooks/CME_Demo/groundings_folder/CME_Mendez_ex5_20250723_175550/page_0/text_d36835bf-1f2e-42a1-80ba-0f4e9edd1dac_0.png\n",
      "\n",
      "--- Chunk 8 ---\n",
      "Chunk ID: 370723e8-c2fa-494f-98c3-b43c4a88e711\n",
      "Chunk Type: text\n",
      "Text (shortened): and is awarded 0.25 AMA PRA Category 1 Credit(s)™. ...\n",
      "  Page: 0\n",
      "  Box (l, t, r, b): (0.258, 0.536, 0.737, 0.582)\n",
      "  Image Path: /Users/andreakropp/Documents/Demos/ADE Demos/Notebooks/CME_Demo/groundings_folder/CME_Mendez_ex5_20250723_175550/page_0/text_370723e8-c2fa-494f-98c3-b43c4a88e711_0.png\n",
      "\n",
      "--- Chunk 9 ---\n",
      "Chunk ID: e870b2b0-db69-4fe5-b1cd-18bef3cb3e63\n",
      "Chunk Type: text\n",
      "Text (shortened): Medscape, LLC designates this enduring material for a maximum of 0.25 AMA PRA Category 1 Credit(s)™. ...\n",
      "  Page: 0\n",
      "  Box (l, t, r, b): (0.086, 0.593, 0.912, 0.710)\n",
      "  Image Path: /Users/andreakropp/Documents/Demos/ADE Demos/Notebooks/CME_Demo/groundings_folder/CME_Mendez_ex5_20250723_175550/page_0/text_e870b2b0-db69-4fe5-b1cd-18bef3cb3e63_0.png\n",
      "\n",
      "--- Chunk 10 ---\n",
      "Chunk ID: 368ec3d2-bb10-492f-9a1b-7e9d402a2c22\n",
      "Chunk Type: figure\n",
      "Text (shortened): logo: Jointly Accredited Provider with Commendation, Interprofessional Continuing Education  Design  ...\n",
      "  Page: 0\n",
      "  Box (l, t, r, b): (0.392, 0.734, 0.604, 0.968)\n",
      "  Image Path: /Users/andreakropp/Documents/Demos/ADE Demos/Notebooks/CME_Demo/groundings_folder/CME_Mendez_ex5_20250723_175550/page_0/figure_368ec3d2-bb10-492f-9a1b-7e9d402a2c22_0.png\n"
     ]
    }
   ],
   "source": [
    "# Extract various outputs\n",
    "markdown_output = doc.markdown\n",
    "chunk_output = doc.chunks\n",
    "doc_type = doc.doc_type\n",
    "result_path = str(doc.result_path)\n",
    "\n",
    "# Print metadata\n",
    "print(\"Document Type:\", doc_type)\n",
    "print(\"Result Path:\", result_path)\n",
    "print(\"Markdown Summary (first 100 chars):\")\n",
    "print(markdown_output[:100])\n",
    "\n",
    "# Access and iterate through chunks\n",
    "print(f\"Total Chunks: {len(doc.chunks)}\")\n",
    "\n",
    "for i, chunk in enumerate(doc.chunks):\n",
    "    print(f\"\\n--- Chunk {i+1} ---\")\n",
    "    print(\"Chunk ID:\", chunk.chunk_id)\n",
    "    print(\"Chunk Type:\", chunk.chunk_type.value)  # e.g., 'text', 'figure', etc.\n",
    "    print(\"Text (shortened):\", chunk.text[:100].replace(\"\\n\", \" \"), \"...\")\n",
    "\n",
    "    # Access grounding (box and image path)\n",
    "    for grounding in chunk.grounding:\n",
    "        box = grounding.box\n",
    "        print(\"  Page:\", grounding.page)\n",
    "        print(f\"  Box (l, t, r, b): ({box.l:.3f}, {box.t:.3f}, {box.r:.3f}, {box.b:.3f})\")\n",
    "        print(\"  Image Path:\", str(grounding.image_path))\n"
   ]
  },
  {
   "cell_type": "code",
   "execution_count": 12,
   "id": "b01532e7",
   "metadata": {},
   "outputs": [
    {
     "data": {
      "text/plain": [
       "CME(recipient_name='Manoel Cortes Mendez', issuing_org='Medscape', activity_title='Patient Case: To Screen or Not to Screen for Chronic Kidney Disease', date_awarded=datetime.date(2022, 10, 18), credit_awarded='0.25 AMA PRA Category 1 Credit(s)™', credit_numeric=0.25, ama_pra_cat1=True, ama_pra_cat2=False)"
      ]
     },
     "execution_count": 12,
     "metadata": {},
     "output_type": "execute_result"
    }
   ],
   "source": [
    "# print the field extractions\n",
    "doc.extraction"
   ]
  },
  {
   "cell_type": "code",
   "execution_count": 13,
   "id": "86f9b196",
   "metadata": {},
   "outputs": [
    {
     "data": {
      "text/plain": [
       "CMEMetadata(recipient_name={'chunk_references': ['badc98f3-ecdc-4b3d-9f73-0c012d638bc9']}, issuing_org={'chunk_references': ['9f011437-38e5-485e-a4a8-369a86b0432b']}, activity_title={'chunk_references': ['d413ebf1-e760-4e1a-9235-7c30c26325af']}, date_awarded={'chunk_references': ['d36835bf-1f2e-42a1-80ba-0f4e9edd1dac']}, credit_awarded={'chunk_references': ['370723e8-c2fa-494f-98c3-b43c4a88e711']}, credit_numeric={'chunk_references': ['370723e8-c2fa-494f-98c3-b43c4a88e711']}, ama_pra_cat1={'chunk_references': ['370723e8-c2fa-494f-98c3-b43c4a88e711']}, ama_pra_cat2={'chunk_references': []})"
      ]
     },
     "execution_count": 13,
     "metadata": {},
     "output_type": "execute_result"
    }
   ],
   "source": [
    "# print the metadata for the field extractions\n",
    "doc.extraction_metadata"
   ]
  },
  {
   "cell_type": "code",
   "execution_count": 14,
   "id": "2276c47b",
   "metadata": {},
   "outputs": [
    {
     "data": {
      "text/plain": [
       "'Manoel Cortes Mendez'"
      ]
     },
     "execution_count": 14,
     "metadata": {},
     "output_type": "execute_result"
    }
   ],
   "source": [
    "# print the extracted product name \n",
    "doc.extraction.recipient_name"
   ]
  },
  {
   "cell_type": "code",
   "execution_count": 15,
   "id": "00f40146",
   "metadata": {},
   "outputs": [
    {
     "data": {
      "text/plain": [
       "['badc98f3-ecdc-4b3d-9f73-0c012d638bc9']"
      ]
     },
     "execution_count": 15,
     "metadata": {},
     "output_type": "execute_result"
    }
   ],
   "source": [
    "# print the chunk from which the product name is extracted\n",
    "# note that there can be more than one, so this is returned as a list\n",
    "doc.extraction_metadata.recipient_name['chunk_references']"
   ]
  },
  {
   "cell_type": "code",
   "execution_count": 16,
   "id": "5ec822ae",
   "metadata": {},
   "outputs": [
    {
     "name": "stdout",
     "output_type": "stream",
     "text": [
      "Chunk type: ChunkType.text\n",
      "Chunk text: Manoel Cortes Mendez\n",
      "Page: 0\n",
      "Box Coordinates:\n",
      "  Left (l):   0.3972756862640381\n",
      "  Top (t):    0.3128066062927246\n",
      "  Right (r):  0.6005247235298157\n",
      "  Bottom (b): 0.35027849674224854\n"
     ]
    }
   ],
   "source": [
    "# print the page number and bounding box location for the chunk\n",
    "target_id = 'badc98f3-ecdc-4b3d-9f73-0c012d638bc9'  #Update this value based on the response above\n",
    "\n",
    "# Search through chunks to find the one with the matching ID\n",
    "for chunk in doc.chunks:\n",
    "    if chunk.chunk_id == target_id:\n",
    "        print(\"Chunk type:\", chunk.chunk_type)\n",
    "        print(\"Chunk text:\", chunk.text)\n",
    "        for grounding in chunk.grounding:\n",
    "            box = grounding.box\n",
    "            print(\"Page:\", grounding.page)\n",
    "            print(f\"Box Coordinates:\")\n",
    "            print(f\"  Left (l):   {box.l}\")\n",
    "            print(f\"  Top (t):    {box.t}\")\n",
    "            print(f\"  Right (r):  {box.r}\")\n",
    "            print(f\"  Bottom (b): {box.b}\")\n",
    "        break\n",
    "else:\n",
    "    print(\"Chunk ID not found.\")"
   ]
  },
  {
   "cell_type": "code",
   "execution_count": 17,
   "id": "a89a067e",
   "metadata": {},
   "outputs": [
    {
     "name": "stdout",
     "output_type": "stream",
     "text": [
      "The recipient name is: Manoel Cortes Mendez. This is extracted from chunk ['badc98f3-ecdc-4b3d-9f73-0c012d638bc9']\n",
      "The CME activity is described as: Patient Case: To Screen or Not to Screen for Chronic Kidney Disease. This is extracted from chunk ['d413ebf1-e760-4e1a-9235-7c30c26325af']\n",
      "The activity is eligible for AMA PRA Category 1: True. This is extracted from chunk ['370723e8-c2fa-494f-98c3-b43c4a88e711']\n",
      "The certificate awards credits in the amount of: 0.25. This is extracted from chunk ['370723e8-c2fa-494f-98c3-b43c4a88e711']\n"
     ]
    }
   ],
   "source": [
    "# print specific fields and the associated metadata\n",
    "print(f\"The recipient name is: {doc.extraction.recipient_name}. This is extracted from chunk {doc.extraction_metadata.recipient_name['chunk_references']}\")\n",
    "print(f\"The CME activity is described as: {doc.extraction.activity_title}. This is extracted from chunk {doc.extraction_metadata.activity_title['chunk_references']}\")\n",
    "print(f\"The activity is eligible for AMA PRA Category 1: {doc.extraction.ama_pra_cat1}. This is extracted from chunk {doc.extraction_metadata.ama_pra_cat1['chunk_references']}\")\n",
    "print(f\"The certificate awards credits in the amount of: {doc.extraction.credit_numeric}. This is extracted from chunk {doc.extraction_metadata.credit_numeric['chunk_references']}\")"
   ]
  },
  {
   "cell_type": "markdown",
   "id": "8fefba01",
   "metadata": {},
   "source": [
    "## 💾 Convert to Table and Save\n",
    "\n",
    "Convert the field extractions to a pandas dataframe. Save it to the results folder created earlier."
   ]
  },
  {
   "cell_type": "code",
   "execution_count": 19,
   "id": "c5b1ec80",
   "metadata": {},
   "outputs": [
    {
     "data": {
      "text/html": [
       "<div>\n",
       "<style scoped>\n",
       "    .dataframe tbody tr th:only-of-type {\n",
       "        vertical-align: middle;\n",
       "    }\n",
       "\n",
       "    .dataframe tbody tr th {\n",
       "        vertical-align: top;\n",
       "    }\n",
       "\n",
       "    .dataframe thead th {\n",
       "        text-align: right;\n",
       "    }\n",
       "</style>\n",
       "<table border=\"1\" class=\"dataframe\">\n",
       "  <thead>\n",
       "    <tr style=\"text-align: right;\">\n",
       "      <th></th>\n",
       "      <th>document_name</th>\n",
       "      <th>recipient_name</th>\n",
       "      <th>issuing_org</th>\n",
       "      <th>activity_title</th>\n",
       "      <th>date_awarded</th>\n",
       "      <th>credit_awarded</th>\n",
       "      <th>credit_numeric</th>\n",
       "      <th>ama_pra_cat1</th>\n",
       "      <th>ama_pra_cat2</th>\n",
       "      <th>recipient_name_ref</th>\n",
       "      <th>issuing_org_ref</th>\n",
       "      <th>activity_title_ref</th>\n",
       "      <th>date_awarded_ref</th>\n",
       "      <th>credit_awarded_ref</th>\n",
       "      <th>credit_numeric_ref</th>\n",
       "      <th>ama_pra_cat1_ref</th>\n",
       "      <th>ama_pra_cat2_ref</th>\n",
       "    </tr>\n",
       "  </thead>\n",
       "  <tbody>\n",
       "    <tr>\n",
       "      <th>0</th>\n",
       "      <td>CME_Mendez_ex5.png</td>\n",
       "      <td>Manoel Cortes Mendez</td>\n",
       "      <td>Medscape</td>\n",
       "      <td>Patient Case: To Screen or Not to Screen for C...</td>\n",
       "      <td>2022-10-18</td>\n",
       "      <td>0.25 AMA PRA Category 1 Credit(s)™</td>\n",
       "      <td>0.25</td>\n",
       "      <td>True</td>\n",
       "      <td>False</td>\n",
       "      <td>[badc98f3-ecdc-4b3d-9f73-0c012d638bc9]</td>\n",
       "      <td>[9f011437-38e5-485e-a4a8-369a86b0432b]</td>\n",
       "      <td>[d413ebf1-e760-4e1a-9235-7c30c26325af]</td>\n",
       "      <td>[d36835bf-1f2e-42a1-80ba-0f4e9edd1dac]</td>\n",
       "      <td>[370723e8-c2fa-494f-98c3-b43c4a88e711]</td>\n",
       "      <td>[370723e8-c2fa-494f-98c3-b43c4a88e711]</td>\n",
       "      <td>[370723e8-c2fa-494f-98c3-b43c4a88e711]</td>\n",
       "      <td>[]</td>\n",
       "    </tr>\n",
       "    <tr>\n",
       "      <th>1</th>\n",
       "      <td>CME_Mendez_ex4.png</td>\n",
       "      <td>Manoel Cortes Mendez</td>\n",
       "      <td>The University of Texas MD Anderson Cancer Center</td>\n",
       "      <td>Cancer Survivorship Series: Module 1 - Overvie...</td>\n",
       "      <td>2022-10-18</td>\n",
       "      <td>0.75 AMA PRA Category 1 Credit(s)™</td>\n",
       "      <td>0.75</td>\n",
       "      <td>True</td>\n",
       "      <td>False</td>\n",
       "      <td>[83cd274f-d42f-4e6f-864e-fbf8c0135842]</td>\n",
       "      <td>[c7c64e3a-a18f-4e27-804c-0328c0dbed33]</td>\n",
       "      <td>[cabeb27a-8585-45ec-964e-8ce6e15b2fc1]</td>\n",
       "      <td>[cabeb27a-8585-45ec-964e-8ce6e15b2fc1]</td>\n",
       "      <td>[ed113d16-79b0-455d-936d-12cf9f2d655a]</td>\n",
       "      <td>[ed113d16-79b0-455d-936d-12cf9f2d655a]</td>\n",
       "      <td>[ed113d16-79b0-455d-936d-12cf9f2d655a]</td>\n",
       "      <td>[]</td>\n",
       "    </tr>\n",
       "    <tr>\n",
       "      <th>2</th>\n",
       "      <td>CME_Mendez_ex1.png</td>\n",
       "      <td>Manoel Cortes Mendez</td>\n",
       "      <td>Warren Alpert Medical School</td>\n",
       "      <td>Fears, Bias and Discrimination - Substance Use...</td>\n",
       "      <td>2022-08-19</td>\n",
       "      <td>1.00 AMA PRA Category 1 Credits™</td>\n",
       "      <td>1.00</td>\n",
       "      <td>True</td>\n",
       "      <td>False</td>\n",
       "      <td>[b775d30d-cdb3-4860-8fc0-a844ccedeed7]</td>\n",
       "      <td>[1a4a95e3-2abf-4cf9-b123-bcdd474d5911]</td>\n",
       "      <td>[fc6cdb59-ad5f-4c26-ac05-43b488422edf]</td>\n",
       "      <td>[4f2be294-1bcc-44ca-a746-80e84dca97f7]</td>\n",
       "      <td>[e460b48a-3c8e-4384-911a-7c5f17028bb8]</td>\n",
       "      <td>[e460b48a-3c8e-4384-911a-7c5f17028bb8]</td>\n",
       "      <td>[e460b48a-3c8e-4384-911a-7c5f17028bb8]</td>\n",
       "      <td>[]</td>\n",
       "    </tr>\n",
       "    <tr>\n",
       "      <th>3</th>\n",
       "      <td>CME_Mendez_ex3.png</td>\n",
       "      <td>Manoel Cortes Mendez</td>\n",
       "      <td>Johns Hopkins University School of Medicine</td>\n",
       "      <td>Pain Medicine Management - Pain Management of ...</td>\n",
       "      <td>2022-08-18</td>\n",
       "      <td>1.00 AMA PRA Category 1 Credit(s)™</td>\n",
       "      <td>1.00</td>\n",
       "      <td>True</td>\n",
       "      <td>False</td>\n",
       "      <td>[14311a7e-eabe-4973-a5bf-5c194b8d1417]</td>\n",
       "      <td>[b7a51ca8-5c88-4811-9a1d-e6f0ef111a03]</td>\n",
       "      <td>[14311a7e-eabe-4973-a5bf-5c194b8d1417]</td>\n",
       "      <td>[14311a7e-eabe-4973-a5bf-5c194b8d1417]</td>\n",
       "      <td>[14311a7e-eabe-4973-a5bf-5c194b8d1417]</td>\n",
       "      <td>[14311a7e-eabe-4973-a5bf-5c194b8d1417]</td>\n",
       "      <td>[14311a7e-eabe-4973-a5bf-5c194b8d1417]</td>\n",
       "      <td>[]</td>\n",
       "    </tr>\n",
       "    <tr>\n",
       "      <th>4</th>\n",
       "      <td>CME_Mendez_ex2.png</td>\n",
       "      <td>Manoel Cortes Mendez</td>\n",
       "      <td>Stanford University School of Medicine</td>\n",
       "      <td>Introduction to Food and Health</td>\n",
       "      <td>2022-06-27</td>\n",
       "      <td>2.50 AMA PRA Category 1 Credit(s)</td>\n",
       "      <td>2.50</td>\n",
       "      <td>True</td>\n",
       "      <td>False</td>\n",
       "      <td>[6e7f43ec-eaf7-491d-96c7-b2c582a1b204]</td>\n",
       "      <td>[6e7f43ec-eaf7-491d-96c7-b2c582a1b204]</td>\n",
       "      <td>[46d11c92-c3e7-4ee4-bf24-98cafb9f5062]</td>\n",
       "      <td>[d7e5c2bb-f056-461b-b81b-59f396883c9c]</td>\n",
       "      <td>[0a3d4736-ef6f-4822-893f-445c742d495a]</td>\n",
       "      <td>[0a3d4736-ef6f-4822-893f-445c742d495a]</td>\n",
       "      <td>[0a3d4736-ef6f-4822-893f-445c742d495a]</td>\n",
       "      <td>[]</td>\n",
       "    </tr>\n",
       "  </tbody>\n",
       "</table>\n",
       "</div>"
      ],
      "text/plain": [
       "        document_name        recipient_name  \\\n",
       "0  CME_Mendez_ex5.png  Manoel Cortes Mendez   \n",
       "1  CME_Mendez_ex4.png  Manoel Cortes Mendez   \n",
       "2  CME_Mendez_ex1.png  Manoel Cortes Mendez   \n",
       "3  CME_Mendez_ex3.png  Manoel Cortes Mendez   \n",
       "4  CME_Mendez_ex2.png  Manoel Cortes Mendez   \n",
       "\n",
       "                                         issuing_org  \\\n",
       "0                                           Medscape   \n",
       "1  The University of Texas MD Anderson Cancer Center   \n",
       "2                       Warren Alpert Medical School   \n",
       "3        Johns Hopkins University School of Medicine   \n",
       "4             Stanford University School of Medicine   \n",
       "\n",
       "                                      activity_title date_awarded  \\\n",
       "0  Patient Case: To Screen or Not to Screen for C...   2022-10-18   \n",
       "1  Cancer Survivorship Series: Module 1 - Overvie...   2022-10-18   \n",
       "2  Fears, Bias and Discrimination - Substance Use...   2022-08-19   \n",
       "3  Pain Medicine Management - Pain Management of ...   2022-08-18   \n",
       "4                    Introduction to Food and Health   2022-06-27   \n",
       "\n",
       "                       credit_awarded  credit_numeric  ama_pra_cat1  \\\n",
       "0  0.25 AMA PRA Category 1 Credit(s)™            0.25          True   \n",
       "1  0.75 AMA PRA Category 1 Credit(s)™            0.75          True   \n",
       "2    1.00 AMA PRA Category 1 Credits™            1.00          True   \n",
       "3  1.00 AMA PRA Category 1 Credit(s)™            1.00          True   \n",
       "4   2.50 AMA PRA Category 1 Credit(s)            2.50          True   \n",
       "\n",
       "   ama_pra_cat2                      recipient_name_ref  \\\n",
       "0         False  [badc98f3-ecdc-4b3d-9f73-0c012d638bc9]   \n",
       "1         False  [83cd274f-d42f-4e6f-864e-fbf8c0135842]   \n",
       "2         False  [b775d30d-cdb3-4860-8fc0-a844ccedeed7]   \n",
       "3         False  [14311a7e-eabe-4973-a5bf-5c194b8d1417]   \n",
       "4         False  [6e7f43ec-eaf7-491d-96c7-b2c582a1b204]   \n",
       "\n",
       "                          issuing_org_ref  \\\n",
       "0  [9f011437-38e5-485e-a4a8-369a86b0432b]   \n",
       "1  [c7c64e3a-a18f-4e27-804c-0328c0dbed33]   \n",
       "2  [1a4a95e3-2abf-4cf9-b123-bcdd474d5911]   \n",
       "3  [b7a51ca8-5c88-4811-9a1d-e6f0ef111a03]   \n",
       "4  [6e7f43ec-eaf7-491d-96c7-b2c582a1b204]   \n",
       "\n",
       "                       activity_title_ref  \\\n",
       "0  [d413ebf1-e760-4e1a-9235-7c30c26325af]   \n",
       "1  [cabeb27a-8585-45ec-964e-8ce6e15b2fc1]   \n",
       "2  [fc6cdb59-ad5f-4c26-ac05-43b488422edf]   \n",
       "3  [14311a7e-eabe-4973-a5bf-5c194b8d1417]   \n",
       "4  [46d11c92-c3e7-4ee4-bf24-98cafb9f5062]   \n",
       "\n",
       "                         date_awarded_ref  \\\n",
       "0  [d36835bf-1f2e-42a1-80ba-0f4e9edd1dac]   \n",
       "1  [cabeb27a-8585-45ec-964e-8ce6e15b2fc1]   \n",
       "2  [4f2be294-1bcc-44ca-a746-80e84dca97f7]   \n",
       "3  [14311a7e-eabe-4973-a5bf-5c194b8d1417]   \n",
       "4  [d7e5c2bb-f056-461b-b81b-59f396883c9c]   \n",
       "\n",
       "                       credit_awarded_ref  \\\n",
       "0  [370723e8-c2fa-494f-98c3-b43c4a88e711]   \n",
       "1  [ed113d16-79b0-455d-936d-12cf9f2d655a]   \n",
       "2  [e460b48a-3c8e-4384-911a-7c5f17028bb8]   \n",
       "3  [14311a7e-eabe-4973-a5bf-5c194b8d1417]   \n",
       "4  [0a3d4736-ef6f-4822-893f-445c742d495a]   \n",
       "\n",
       "                       credit_numeric_ref  \\\n",
       "0  [370723e8-c2fa-494f-98c3-b43c4a88e711]   \n",
       "1  [ed113d16-79b0-455d-936d-12cf9f2d655a]   \n",
       "2  [e460b48a-3c8e-4384-911a-7c5f17028bb8]   \n",
       "3  [14311a7e-eabe-4973-a5bf-5c194b8d1417]   \n",
       "4  [0a3d4736-ef6f-4822-893f-445c742d495a]   \n",
       "\n",
       "                         ama_pra_cat1_ref ama_pra_cat2_ref  \n",
       "0  [370723e8-c2fa-494f-98c3-b43c4a88e711]               []  \n",
       "1  [ed113d16-79b0-455d-936d-12cf9f2d655a]               []  \n",
       "2  [e460b48a-3c8e-4384-911a-7c5f17028bb8]               []  \n",
       "3  [14311a7e-eabe-4973-a5bf-5c194b8d1417]               []  \n",
       "4  [0a3d4736-ef6f-4822-893f-445c742d495a]               []  "
      ]
     },
     "execution_count": 19,
     "metadata": {},
     "output_type": "execute_result"
    }
   ],
   "source": [
    "import pandas as pd\n",
    "\n",
    "# Assume result_fe is your list of ParsedDocument objects\n",
    "# Example: result_fe = [ParsedDocument(...), ParsedDocument(...), ...]\n",
    "\n",
    "# Extract the product data\n",
    "#Note that only 3 fields have chunk_references included for this example\n",
    "records = []\n",
    "for i in range(len(result_fe)):\n",
    "    doc = result_fe[i]\n",
    "    body=doc.extraction\n",
    "    meta=doc.extraction_metadata\n",
    "    cme_dict = {\n",
    "        \"document_name\": file_names[i],\n",
    "        \"recipient_name\": body.recipient_name,\n",
    "        \"issuing_org\": body.issuing_org,\n",
    "        \"activity_title\": body.activity_title,\n",
    "        \"date_awarded\": body.date_awarded,\n",
    "        \"credit_awarded\": body.credit_awarded,\n",
    "        \"credit_numeric\": body.credit_numeric,\n",
    "        \"ama_pra_cat1\": body.ama_pra_cat1,\n",
    "        \"ama_pra_cat2\": body.ama_pra_cat2,\n",
    "        \"recipient_name_ref\":meta.recipient_name['chunk_references'],\n",
    "        \"issuing_org_ref\":meta.issuing_org['chunk_references'],        \n",
    "        \"activity_title_ref\":meta.activity_title['chunk_references'],        \n",
    "        \"date_awarded_ref\":meta.date_awarded['chunk_references'],        \n",
    "        \"credit_awarded_ref\":meta.credit_awarded['chunk_references'],\n",
    "        \"credit_numeric_ref\":meta.credit_numeric['chunk_references'],\n",
    "        \"ama_pra_cat1_ref\":meta.ama_pra_cat1['chunk_references'],\n",
    "        \"ama_pra_cat2_ref\":meta.ama_pra_cat2['chunk_references']       \n",
    "    }\n",
    "    records.append(cme_dict)\n",
    "\n",
    "# Create DataFrame\n",
    "df = pd.DataFrame(records)\n",
    "df\n"
   ]
  },
  {
   "cell_type": "code",
   "execution_count": 20,
   "id": "f1832a71",
   "metadata": {},
   "outputs": [],
   "source": [
    "# Save the DataFrame to a CSV file inside the results_folder\n",
    "csv_path = results_folder / \"cme_output.csv\"\n",
    "df.to_csv(csv_path, index=False)"
   ]
  },
  {
   "cell_type": "markdown",
   "id": "dffce926",
   "metadata": {},
   "source": [
    "## ✅ Wrap-Up\n",
    "\n",
    "You’ve now used LandingAI’s ADE to:\n",
    "- Parse and extract data from images or PDFs\n",
    "- Define custom fields using `pydantic`\n",
    "- Export structured results to a table\n",
    "\n",
    "To learn more, visit the [LandingAI Documentation](https://docs.landing.ai/ade/ade-overview)."
   ]
  }
 ],
 "metadata": {
  "kernelspec": {
   "display_name": "Python 3",
   "language": "python",
   "name": "python3"
  },
  "language_info": {
   "codemirror_mode": {
    "name": "ipython",
    "version": 3
   },
   "file_extension": ".py",
   "mimetype": "text/x-python",
   "name": "python",
   "nbconvert_exporter": "python",
   "pygments_lexer": "ipython3",
   "version": "3.9.6"
  }
 },
 "nbformat": 4,
 "nbformat_minor": 5
}
