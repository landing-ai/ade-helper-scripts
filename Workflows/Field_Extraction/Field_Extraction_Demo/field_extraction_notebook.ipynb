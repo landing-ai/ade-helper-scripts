{
 "cells": [
  {
   "cell_type": "markdown",
   "id": "8416fecf",
   "metadata": {},
   "source": [
    "# 🧠 Agentic Document Extraction with LandingAI\n",
    "\n",
    "This notebook demonstrates how to use the `agentic_doc` Python package to extract structured information from documents using LandingAI's Agentic Document Extraction (ADE) service.\n",
    "\n",
    "We'll walk through:\n",
    "- Parsing documents with ADE\n",
    "- Defining a custom schema using `pydantic`\n",
    "- Viewing structured field extractions\n",
    "- Saving results to CSV\n",
    "\n",
    "> 📎 Supported formats: `.pdf`, `.png`, `.jpg`, `.jpeg`"
   ]
  },
  {
   "cell_type": "markdown",
   "id": "dabf802f",
   "metadata": {},
   "source": [
    "## 📦 Setup & Imports\n",
    "\n",
    "Import necessary packages and utility functions. Ensure you have installed `agentic_doc`, Pillow, and other dependencies:\n",
    "\n",
    "```bash\n",
    "pip install agentic-doc pillow\n",
    "```\n",
    "\n",
    "Obtain your API Key from the Visial Playground at https://va.landing.ai/settings/api-key\n",
    "\n",
    "Read about options for setting your API at https://docs.landing.ai/ade/agentic-api-key\n",
    "\n",
    "The video that accompnies this notebook uses a .env file in the same directory as the notebook.\n"
   ]
  },
  {
   "cell_type": "code",
   "execution_count": 1,
   "id": "2904a8b8",
   "metadata": {},
   "outputs": [
    {
     "name": "stdout",
     "output_type": "stream",
     "text": [
      "\u001b[2m2025-07-24 16:38:37\u001b[0m [info   \u001b[0m] \u001b[1mSettings loaded: {\n",
      "  \"endpoint_host\": \"https://api.va.landing.ai\",\n",
      "  \"vision_agent_api_key\": \"cmI5a[REDACTED]\",\n",
      "  \"batch_size\": 4,\n",
      "  \"max_workers\": 5,\n",
      "  \"max_retries\": 100,\n",
      "  \"max_retry_wait_time\": 60,\n",
      "  \"retry_logging_style\": \"log_msg\",\n",
      "  \"pdf_to_image_dpi\": 96,\n",
      "  \"split_size\": 10\n",
      "}\u001b[0m [\u001b[0m\u001b[1m\u001b[34magentic_doc.config\u001b[0m]\u001b[0m (config.py:84)\n"
     ]
    }
   ],
   "source": [
    "# Standard libraries\n",
    "import os\n",
    "import json\n",
    "from pathlib import Path\n",
    "\n",
    "# Agentic Document Extraction from LandingAI\n",
    "from agentic_doc.parse import parse"
   ]
  },
  {
   "cell_type": "markdown",
   "id": "493ab656",
   "metadata": {},
   "source": [
    "## 📁 Define Input and Output Directories\n",
    "\n",
    "Specify where your documents are located and where results will be saved.\n"
   ]
  },
  {
   "cell_type": "code",
   "execution_count": 2,
   "id": "d93a7504",
   "metadata": {},
   "outputs": [],
   "source": [
    "# Define input and output directory paths\n",
    "base_dir = Path(os.getcwd())\n",
    "input_folder = base_dir / \"input_folder\"\n",
    "results_folder = base_dir / \"results_folder\"\n",
    "groundings_folder = base_dir / \"groundings_folder\"\n",
    "\n",
    "# Create output folders if they don't exist\n",
    "input_folder.mkdir(parents=True, exist_ok=True)\n",
    "results_folder.mkdir(parents=True, exist_ok=True)\n",
    "groundings_folder.mkdir(parents=True, exist_ok=True)"
   ]
  },
  {
   "cell_type": "markdown",
   "id": "38592cf0",
   "metadata": {},
   "source": [
    "## 🗂️ Collect Document File Paths\n",
    "\n",
    "This block filters input files for supported formats.\n"
   ]
  },
  {
   "cell_type": "code",
   "execution_count": 3,
   "id": "23b44bb3",
   "metadata": {},
   "outputs": [
    {
     "data": {
      "text/plain": [
       "['/Users/andreakropp/Documents/Demos/ADE Demos/Notebooks/input_folder/alexandre_yogurt.jpg',\n",
       " '/Users/andreakropp/Documents/Demos/ADE Demos/Notebooks/input_folder/force_of_nature_beef.jpg',\n",
       " '/Users/andreakropp/Documents/Demos/ADE Demos/Notebooks/input_folder/goji.jpg',\n",
       " '/Users/andreakropp/Documents/Demos/ADE Demos/Notebooks/input_folder/garden_of_life_collagen.jpg',\n",
       " '/Users/andreakropp/Documents/Demos/ADE Demos/Notebooks/input_folder/teton_hot_dogs.jpg',\n",
       " '/Users/andreakropp/Documents/Demos/ADE Demos/Notebooks/input_folder/chomps.jpg']"
      ]
     },
     "execution_count": 3,
     "metadata": {},
     "output_type": "execute_result"
    }
   ],
   "source": [
    "# Collect all document file paths in input folder with supported extensions\n",
    "# Convert each Path object to a string to ensure compatibility with parse()\n",
    "file_paths = [\n",
    "    str(p)\n",
    "    for p in input_folder.iterdir()\n",
    "    if p.suffix.lower() in [\".pdf\", \".png\", \".jpg\", \".jpeg\"]\n",
    "]\n",
    "\n",
    "file_paths"
   ]
  },
  {
   "cell_type": "markdown",
   "id": "9b01b070",
   "metadata": {},
   "source": [
    "## 🚀 Run Agentic Document Extraction\n",
    "\n",
    "Call the `parse()` function from `agentic_doc` to extract structured data and save results to the output folders.\n",
    "\n",
    "See https://docs.landing.ai/ade/ade-parse-docs for details"
   ]
  },
  {
   "cell_type": "code",
   "execution_count": 4,
   "id": "299eb4cb",
   "metadata": {},
   "outputs": [
    {
     "name": "stdout",
     "output_type": "stream",
     "text": [
      "\u001b[2m2025-07-24 16:39:24\u001b[0m [info   \u001b[0m] \u001b[1mAPI key is valid.             \u001b[0m [\u001b[0m\u001b[1m\u001b[34magentic_doc.utils\u001b[0m]\u001b[0m (utils.py:44)\n",
      "\u001b[2m2025-07-24 16:39:24\u001b[0m [info   \u001b[0m] \u001b[1mParsing 6 documents           \u001b[0m [\u001b[0m\u001b[1m\u001b[34magentic_doc.parse\u001b[0m]\u001b[0m (parse.py:322)\n"
     ]
    },
    {
     "name": "stderr",
     "output_type": "stream",
     "text": [
      "Parsing documents:   0%|          | 0/6 [00:00<?, ?it/s]"
     ]
    },
    {
     "name": "stdout",
     "output_type": "stream",
     "text": [
      "HTTP Request: POST https://api.va.landing.ai/v1/tools/agentic-document-analysis \"HTTP/1.1 200 OK\" (_client.py:1025)\n",
      "\u001b[2m2025-07-24 16:39:30\u001b[0m [info   \u001b[0m] \u001b[1mTime taken to successfully parse a document chunk: 5.28 seconds\u001b[0m [\u001b[0m\u001b[1m\u001b[34magentic_doc.parse\u001b[0m]\u001b[0m (parse.py:683)\n",
      "\u001b[2m2025-07-24 16:39:30\u001b[0m [info   \u001b[0m] \u001b[1mSaving 10 chunks as images to '/Users/andreakropp/Documents/Demos/ADE Demos/Notebooks/groundings_folder/force_of_nature_beef_20250724_093930'\u001b[0m [\u001b[0m\u001b[1m\u001b[34magentic_doc.utils\u001b[0m]\u001b[0m \u001b[36mfile_path\u001b[0m=\u001b[35mPosixPath('/Users/andreakropp/Documents/Demos/ADE Demos/Notebooks/input_folder/force_of_nature_beef.jpg')\u001b[0m \u001b[36mfile_type\u001b[0m=\u001b[35mimage\u001b[0m (utils.py:84)\n",
      "\u001b[2m2025-07-24 16:39:30\u001b[0m [info   \u001b[0m] \u001b[1mSaved the parsed result to '/Users/andreakropp/Documents/Demos/ADE Demos/Notebooks/results_folder/force_of_nature_beef_20250724_093930.json'\u001b[0m [\u001b[0m\u001b[1m\u001b[34magentic_doc.parse\u001b[0m]\u001b[0m (parse.py:407)\n",
      "HTTP Request: POST https://api.va.landing.ai/v1/tools/agentic-document-analysis \"HTTP/1.1 200 OK\" (_client.py:1025)\n",
      "\u001b[2m2025-07-24 16:39:32\u001b[0m [info   \u001b[0m] \u001b[1mTime taken to successfully parse a document chunk: 8.03 seconds\u001b[0m [\u001b[0m\u001b[1m\u001b[34magentic_doc.parse\u001b[0m]\u001b[0m (parse.py:683)\n",
      "\u001b[2m2025-07-24 16:39:32\u001b[0m [info   \u001b[0m] \u001b[1mSaving 1 chunks as images to '/Users/andreakropp/Documents/Demos/ADE Demos/Notebooks/groundings_folder/alexandre_yogurt_20250724_093932'\u001b[0m [\u001b[0m\u001b[1m\u001b[34magentic_doc.utils\u001b[0m]\u001b[0m \u001b[36mfile_path\u001b[0m=\u001b[35mPosixPath('/Users/andreakropp/Documents/Demos/ADE Demos/Notebooks/input_folder/alexandre_yogurt.jpg')\u001b[0m \u001b[36mfile_type\u001b[0m=\u001b[35mimage\u001b[0m (utils.py:84)\n",
      "\u001b[2m2025-07-24 16:39:32\u001b[0m [info   \u001b[0m] \u001b[1mSaved the parsed result to '/Users/andreakropp/Documents/Demos/ADE Demos/Notebooks/results_folder/alexandre_yogurt_20250724_093932.json'\u001b[0m [\u001b[0m\u001b[1m\u001b[34magentic_doc.parse\u001b[0m]\u001b[0m (parse.py:407)\n"
     ]
    },
    {
     "name": "stderr",
     "output_type": "stream",
     "text": [
      "Parsing documents:  17%|█▋        | 1/6 [00:08<00:40,  8.03s/it]"
     ]
    },
    {
     "name": "stdout",
     "output_type": "stream",
     "text": [
      "HTTP Request: POST https://api.va.landing.ai/v1/tools/agentic-document-analysis \"HTTP/1.1 200 OK\" (_client.py:1025)\n",
      "\u001b[2m2025-07-24 16:39:33\u001b[0m [info   \u001b[0m] \u001b[1mTime taken to successfully parse a document chunk: 8.25 seconds\u001b[0m [\u001b[0m\u001b[1m\u001b[34magentic_doc.parse\u001b[0m]\u001b[0m (parse.py:683)\n",
      "\u001b[2m2025-07-24 16:39:33\u001b[0m [info   \u001b[0m] \u001b[1mSaving 4 chunks as images to '/Users/andreakropp/Documents/Demos/ADE Demos/Notebooks/groundings_folder/goji_20250724_093933'\u001b[0m [\u001b[0m\u001b[1m\u001b[34magentic_doc.utils\u001b[0m]\u001b[0m \u001b[36mfile_path\u001b[0m=\u001b[35mPosixPath('/Users/andreakropp/Documents/Demos/ADE Demos/Notebooks/input_folder/goji.jpg')\u001b[0m \u001b[36mfile_type\u001b[0m=\u001b[35mimage\u001b[0m (utils.py:84)\n",
      "\u001b[2m2025-07-24 16:39:33\u001b[0m [info   \u001b[0m] \u001b[1mSaved the parsed result to '/Users/andreakropp/Documents/Demos/ADE Demos/Notebooks/results_folder/goji_20250724_093933.json'\u001b[0m [\u001b[0m\u001b[1m\u001b[34magentic_doc.parse\u001b[0m]\u001b[0m (parse.py:407)\n"
     ]
    },
    {
     "name": "stderr",
     "output_type": "stream",
     "text": [
      "Parsing documents:  50%|█████     | 3/6 [00:08<00:06,  2.16s/it]"
     ]
    },
    {
     "name": "stdout",
     "output_type": "stream",
     "text": [
      "HTTP Request: POST https://api.va.landing.ai/v1/tools/agentic-document-analysis \"HTTP/1.1 200 OK\" (_client.py:1025)\n",
      "\u001b[2m2025-07-24 16:39:37\u001b[0m [info   \u001b[0m] \u001b[1mTime taken to successfully parse a document chunk: 12.24 seconds\u001b[0m [\u001b[0m\u001b[1m\u001b[34magentic_doc.parse\u001b[0m]\u001b[0m (parse.py:683)\n",
      "\u001b[2m2025-07-24 16:39:37\u001b[0m [info   \u001b[0m] \u001b[1mSaving 1 chunks as images to '/Users/andreakropp/Documents/Demos/ADE Demos/Notebooks/groundings_folder/garden_of_life_collagen_20250724_093937'\u001b[0m [\u001b[0m\u001b[1m\u001b[34magentic_doc.utils\u001b[0m]\u001b[0m \u001b[36mfile_path\u001b[0m=\u001b[35mPosixPath('/Users/andreakropp/Documents/Demos/ADE Demos/Notebooks/input_folder/garden_of_life_collagen.jpg')\u001b[0m \u001b[36mfile_type\u001b[0m=\u001b[35mimage\u001b[0m (utils.py:84)\n",
      "\u001b[2m2025-07-24 16:39:37\u001b[0m [info   \u001b[0m] \u001b[1mSaved the parsed result to '/Users/andreakropp/Documents/Demos/ADE Demos/Notebooks/results_folder/garden_of_life_collagen_20250724_093937.json'\u001b[0m [\u001b[0m\u001b[1m\u001b[34magentic_doc.parse\u001b[0m]\u001b[0m (parse.py:407)\n"
     ]
    },
    {
     "name": "stderr",
     "output_type": "stream",
     "text": [
      "Parsing documents:  67%|██████▋   | 4/6 [00:12<00:05,  2.79s/it]"
     ]
    },
    {
     "name": "stdout",
     "output_type": "stream",
     "text": [
      "HTTP Request: POST https://api.va.landing.ai/v1/tools/agentic-document-analysis \"HTTP/1.1 200 OK\" (_client.py:1025)\n",
      "\u001b[2m2025-07-24 16:39:37\u001b[0m [info   \u001b[0m] \u001b[1mTime taken to successfully parse a document chunk: 4.58 seconds\u001b[0m [\u001b[0m\u001b[1m\u001b[34magentic_doc.parse\u001b[0m]\u001b[0m (parse.py:683)\n",
      "\u001b[2m2025-07-24 16:39:37\u001b[0m [info   \u001b[0m] \u001b[1mSaving 2 chunks as images to '/Users/andreakropp/Documents/Demos/ADE Demos/Notebooks/groundings_folder/chomps_20250724_093937'\u001b[0m [\u001b[0m\u001b[1m\u001b[34magentic_doc.utils\u001b[0m]\u001b[0m \u001b[36mfile_path\u001b[0m=\u001b[35mPosixPath('/Users/andreakropp/Documents/Demos/ADE Demos/Notebooks/input_folder/chomps.jpg')\u001b[0m \u001b[36mfile_type\u001b[0m=\u001b[35mimage\u001b[0m (utils.py:84)\n",
      "\u001b[2m2025-07-24 16:39:37\u001b[0m [info   \u001b[0m] \u001b[1mSaved the parsed result to '/Users/andreakropp/Documents/Demos/ADE Demos/Notebooks/results_folder/chomps_20250724_093937.json'\u001b[0m [\u001b[0m\u001b[1m\u001b[34magentic_doc.parse\u001b[0m]\u001b[0m (parse.py:407)\n",
      "HTTP Request: POST https://api.va.landing.ai/v1/tools/agentic-document-analysis \"HTTP/1.1 200 OK\" (_client.py:1025)\n",
      "\u001b[2m2025-07-24 16:39:43\u001b[0m [info   \u001b[0m] \u001b[1mTime taken to successfully parse a document chunk: 13.83 seconds\u001b[0m [\u001b[0m\u001b[1m\u001b[34magentic_doc.parse\u001b[0m]\u001b[0m (parse.py:683)\n",
      "\u001b[2m2025-07-24 16:39:43\u001b[0m [info   \u001b[0m] \u001b[1mSaving 11 chunks as images to '/Users/andreakropp/Documents/Demos/ADE Demos/Notebooks/groundings_folder/teton_hot_dogs_20250724_093943'\u001b[0m [\u001b[0m\u001b[1m\u001b[34magentic_doc.utils\u001b[0m]\u001b[0m \u001b[36mfile_path\u001b[0m=\u001b[35mPosixPath('/Users/andreakropp/Documents/Demos/ADE Demos/Notebooks/input_folder/teton_hot_dogs.jpg')\u001b[0m \u001b[36mfile_type\u001b[0m=\u001b[35mimage\u001b[0m (utils.py:84)\n",
      "\u001b[2m2025-07-24 16:39:43\u001b[0m [info   \u001b[0m] \u001b[1mSaved the parsed result to '/Users/andreakropp/Documents/Demos/ADE Demos/Notebooks/results_folder/teton_hot_dogs_20250724_093943.json'\u001b[0m [\u001b[0m\u001b[1m\u001b[34magentic_doc.parse\u001b[0m]\u001b[0m (parse.py:407)\n"
     ]
    },
    {
     "name": "stderr",
     "output_type": "stream",
     "text": [
      "Parsing documents: 100%|██████████| 6/6 [00:19<00:00,  3.19s/it]\n"
     ]
    }
   ],
   "source": [
    "# Parse documents using LandingAI ADE\n",
    "\n",
    "result = parse(\n",
    "    documents=file_paths,\n",
    "    result_save_dir=str(results_folder),\n",
    "    grounding_save_dir=str(groundings_folder),\n",
    "    include_marginalia=True,\n",
    "    include_metadata_in_markdown=True,      \n",
    "    )"
   ]
  },
  {
   "cell_type": "markdown",
   "id": "4a33c67a",
   "metadata": {},
   "source": [
    "## 📑 Define Custom Schema for Field Extraction\n",
    "\n",
    "Using `pydantic`, we define a schema to extract specific fields (e.g., product name) from the document.\n",
    "\n",
    "See https://docs.landing.ai/ade/ade-extract-library"
   ]
  },
  {
   "cell_type": "code",
   "execution_count": 6,
   "id": "94fb22ab",
   "metadata": {},
   "outputs": [],
   "source": [
    "# Import pydantic for schema definition\n",
    "from pydantic import BaseModel, Field\n",
    "\n",
    "# Define schema for structured extraction\n",
    "class Product(BaseModel):\n",
    "    product_name: str = Field(description=\"The full name of the product excluding the brand name as it appears on the packaging.\")\n",
    "    brand: str = Field(description=\"The brand or company name.\")\n",
    "    net_weight_oz: float = Field(description=\"The net weight of the product in ounces, as labeled (e.g., 'NET WT 8 OZ'). Return empty field if not found.\")\n",
    "    net_weight_g: float = Field(description=\"The net weight of the product in grams, often shown in parentheses next to ounces (e.g., '330 g'). Return empty field if not found.\")\n",
    "    servings_per_container: int = Field(description=\"The total number of servings per container, usually listed in the Nutrition Facts panel. Return empty field if not found.\")\n",
    "    serving_size: str = Field(description=\"The serving size as printed on the package, such as '1 stick (45g)' or '1 scoop (10g)'. Return empty field if not found.\")\n",
    "    product_type: str = Field(description=\"General category of the product (e.g., 'yogurt', 'hot dogs', 'supplement').\")\n",
    "    flavor: str = Field(description=\"The flavor of the product if applicable, such as 'creamy vanilla'. Return empty field if not found or not applicable.\")\n",
    "    is_grass_fed: bool = Field(description=\"True if the label mentions 'Grass-Fed'.\")\n",
    "    is_organic: bool = Field(description=\"True if the label mentions 'Organic' or includes the 'USDA Organic' seal.\")\n",
    "    is_keto_friendly: bool = Field(description=\"True if the label mentions 'Keto' or 'Ketogenic' diets or similar.\")\n",
    "    is_paleo_friendly: bool = Field(description=\"True if the label mentions 'Paleo' or 'Paleolithic' diets or similar.\")\n",
    "    is_kosher: bool = Field(description=\"True if the label mentions 'Kosher'.\")\n",
    "    is_regenerative: bool = Field(description=\"True if the label includes terms like 'Regeneratively Sourced' or 'Certified Regenerative'.\")\n",
    "    is_certified_humane: bool = Field(description=\"True if the label features the 'Certified Humane' logo or wording.\")\n",
    "    is_animal_welfare_certified: bool = Field(description=\"True if the product is 'Animal Welfare Certified' or meets GAP (Global Animal Partnership) standards.\")\n",
    "    is_pasture_raised: bool = Field(description=\"True if the label claims the animals were 'Pasture Raised'.\")\n",
    "    is_non_gmo: bool = Field(description=\"True if the product is labeled 'Non-GMO' or has the 'Non-GMO Project Verified' seal.\")\n",
    "    is_gluten_free: bool = Field(description=\"True if the product is labeled 'Gluten-Free' or certified gluten-free.\")\n",
    "    is_dairy_free: bool = Field(description=\"True if the product states 'Dairy-Free' or No Dairy.\")\n",
    "    is_lactose_free: bool = Field(description=\"True if the product explicitly states 'Lactose-Free' or no lactose.\")\n",
    "    is_whole30_approved: bool = Field(description=\"True if the product is labeled as 'Whole30 Approved'.\")\n",
    "    has_no_added_sugar: bool = Field(description=\"True if the packaging says 'No Added Sugar' or 'Zero Sugar' or similar.\")\n",
    "    no_antibiotics: bool = Field(description=\"True if the label claims 'No Antibiotics' or similar language.\")\n",
    "    no_hormones: bool = Field(description=\"True if the product claims 'No Hormones' or or 'Not treated with rBST' or similar language.\")\n",
    "    no_animal_byproducts: bool = Field(description=\"True if it states animals were not fed animal by-products.\")\n",
    "    usda_inspected: bool = Field(description=\"True if the USDA inspection seal is present on the packaging.\")\n"
   ]
  },
  {
   "cell_type": "markdown",
   "id": "ea197793",
   "metadata": {},
   "source": [
    "## 🚀 Run Agentic Document Extraction with Schema\n",
    "\n",
    "Call the `parse()` function from `agentic_doc` to extract structured data and save results to the output folders.\n",
    "\n",
    "Pass the `extraction_model` as an input to `parse()`.\n",
    "\n",
    "To learn more about parsing visit [https://docs.landing.ai/ade/ade-parse-docs](https://docs.landing.ai/ade/ade-parse-docs)."
   ]
  },
  {
   "cell_type": "code",
   "execution_count": 7,
   "id": "6289035f",
   "metadata": {},
   "outputs": [
    {
     "name": "stdout",
     "output_type": "stream",
     "text": [
      "\u001b[2m2025-07-24 16:41:54\u001b[0m [info   \u001b[0m] \u001b[1mAPI key is valid.             \u001b[0m [\u001b[0m\u001b[1m\u001b[34magentic_doc.utils\u001b[0m]\u001b[0m (utils.py:44)\n",
      "\u001b[2m2025-07-24 16:41:54\u001b[0m [info   \u001b[0m] \u001b[1mParsing 6 documents           \u001b[0m [\u001b[0m\u001b[1m\u001b[34magentic_doc.parse\u001b[0m]\u001b[0m (parse.py:261)\n"
     ]
    },
    {
     "name": "stderr",
     "output_type": "stream",
     "text": [
      "Parsing documents:   0%|          | 0/6 [00:00<?, ?it/s]"
     ]
    },
    {
     "name": "stdout",
     "output_type": "stream",
     "text": [
      "HTTP Request: POST https://api.va.landing.ai/v1/tools/agentic-document-analysis \"HTTP/1.1 200 OK\" (_client.py:1025)\n",
      "\u001b[2m2025-07-24 16:42:03\u001b[0m [info   \u001b[0m] \u001b[1mTime taken to successfully parse a document chunk: 9.47 seconds\u001b[0m [\u001b[0m\u001b[1m\u001b[34magentic_doc.parse\u001b[0m]\u001b[0m (parse.py:683)\n",
      "HTTP Request: POST https://api.va.landing.ai/v1/tools/agentic-document-analysis \"HTTP/1.1 200 OK\" (_client.py:1025)\n",
      "\u001b[2m2025-07-24 16:42:04\u001b[0m [info   \u001b[0m] \u001b[1mTime taken to successfully parse a document chunk: 10.34 seconds\u001b[0m [\u001b[0m\u001b[1m\u001b[34magentic_doc.parse\u001b[0m]\u001b[0m (parse.py:683)\n",
      "HTTP Request: POST https://api.va.landing.ai/v1/tools/agentic-document-analysis \"HTTP/1.1 200 OK\" (_client.py:1025)\n",
      "\u001b[2m2025-07-24 16:42:08\u001b[0m [info   \u001b[0m] \u001b[1mTime taken to successfully parse a document chunk: 13.98 seconds\u001b[0m [\u001b[0m\u001b[1m\u001b[34magentic_doc.parse\u001b[0m]\u001b[0m (parse.py:683)\n",
      "HTTP Request: POST https://api.va.landing.ai/v1/tools/agentic-document-analysis \"HTTP/1.1 200 OK\" (_client.py:1025)\n",
      "\u001b[2m2025-07-24 16:42:12\u001b[0m [info   \u001b[0m] \u001b[1mTime taken to successfully parse a document chunk: 17.90 seconds\u001b[0m [\u001b[0m\u001b[1m\u001b[34magentic_doc.parse\u001b[0m]\u001b[0m (parse.py:683)\n"
     ]
    },
    {
     "name": "stderr",
     "output_type": "stream",
     "text": [
      "Parsing documents:  17%|█▋        | 1/6 [00:17<01:29, 17.90s/it]"
     ]
    },
    {
     "name": "stdout",
     "output_type": "stream",
     "text": [
      "HTTP Request: POST https://api.va.landing.ai/v1/tools/agentic-document-analysis \"HTTP/1.1 200 OK\" (_client.py:1025)\n",
      "\u001b[2m2025-07-24 16:42:16\u001b[0m [info   \u001b[0m] \u001b[1mTime taken to successfully parse a document chunk: 11.58 seconds\u001b[0m [\u001b[0m\u001b[1m\u001b[34magentic_doc.parse\u001b[0m]\u001b[0m (parse.py:683)\n",
      "HTTP Request: POST https://api.va.landing.ai/v1/tools/agentic-document-analysis \"HTTP/1.1 200 OK\" (_client.py:1025)\n",
      "\u001b[2m2025-07-24 16:42:25\u001b[0m [info   \u001b[0m] \u001b[1mTime taken to successfully parse a document chunk: 21.95 seconds\u001b[0m [\u001b[0m\u001b[1m\u001b[34magentic_doc.parse\u001b[0m]\u001b[0m (parse.py:683)\n"
     ]
    },
    {
     "name": "stderr",
     "output_type": "stream",
     "text": [
      "Parsing documents: 100%|██████████| 6/6 [00:31<00:00,  5.24s/it]\n"
     ]
    }
   ],
   "source": [
    "# Run ADE using the custom Product schema for structured field extraction\n",
    "result_fe = parse(\n",
    "    documents=file_paths, \n",
    "    extraction_model=Product  # This line is new\n",
    "    )"
   ]
  },
  {
   "cell_type": "code",
   "execution_count": 8,
   "id": "1cbfed9d",
   "metadata": {},
   "outputs": [
    {
     "data": {
      "text/plain": [
       "[ParsedDocument(markdown='Summary : This is a product label for Alexandre Family Farm 100% Grass-Fed A2/A2 Organic Plain Yogurt, highlighting certifications and product features.\\n\\nphoto:\\nScene Overview :\\n  • The main subject is the front label of a yogurt container.\\n  • The label is cream-colored with green text and graphics.\\n  • A realistic illustration of a cow is present on the left side.\\n  • The product is described as \"100% Grass-Fed A2/A2 Organic Plain Yogurt\" with \"Extra Cream Top\".\\n  • The container size is specified as 24 oz (680 g).\\n\\nTechnical Details :\\n  • Multiple certifications are visible: \"Certified Humane\", \"Certified Grass-Fed Organic Dairy\", \"USDA Organic\", \"Regenerative Organic Certified\".\\n  • Additional text includes \"Certified Regenerative\", \"Stir Well\", \"Non-Homogenized\", and \"Thank You\".\\n  • The label includes the brand name \"Alexandre Family Farm\" in large, stylized font.\\n\\nSpatial Relationships :\\n  • The cow illustration is on the left, occupying the lower left quadrant.\\n  • The main product description is centered and prominent.\\n  • Certification logos are distributed along the top and right edges.\\n  • The weight is at the bottom center.\\n\\nAnalysis :\\n  • The label emphasizes organic, grass-fed, and regenerative farming practices, appealing to health- and eco-conscious consumers.\\n  • The use of green and natural imagery reinforces the product\\'s organic and sustainable positioning.\\n  • Multiple certifications are prominently displayed to build trust and credibility. <!-- figure, from page 0 (l=0.088,t=0.183,r=0.897,b=0.986), with ID 2c27ec64-98e9-4743-b4e7-b1b8a4d44d03 -->', chunks=[Chunk(text='Summary : This is a product label for Alexandre Family Farm 100% Grass-Fed A2/A2 Organic Plain Yogurt, highlighting certifications and product features.\\n\\nphoto:\\nScene Overview :\\n  • The main subject is the front label of a yogurt container.\\n  • The label is cream-colored with green text and graphics.\\n  • A realistic illustration of a cow is present on the left side.\\n  • The product is described as \"100% Grass-Fed A2/A2 Organic Plain Yogurt\" with \"Extra Cream Top\".\\n  • The container size is specified as 24 oz (680 g).\\n\\nTechnical Details :\\n  • Multiple certifications are visible: \"Certified Humane\", \"Certified Grass-Fed Organic Dairy\", \"USDA Organic\", \"Regenerative Organic Certified\".\\n  • Additional text includes \"Certified Regenerative\", \"Stir Well\", \"Non-Homogenized\", and \"Thank You\".\\n  • The label includes the brand name \"Alexandre Family Farm\" in large, stylized font.\\n\\nSpatial Relationships :\\n  • The cow illustration is on the left, occupying the lower left quadrant.\\n  • The main product description is centered and prominent.\\n  • Certification logos are distributed along the top and right edges.\\n  • The weight is at the bottom center.\\n\\nAnalysis :\\n  • The label emphasizes organic, grass-fed, and regenerative farming practices, appealing to health- and eco-conscious consumers.\\n  • The use of green and natural imagery reinforces the product\\'s organic and sustainable positioning.\\n  • Multiple certifications are prominently displayed to build trust and credibility.', grounding=[ChunkGrounding(page=0, box=ChunkGroundingBox(l=0.08772972226142883, t=0.18278557062149048, r=0.8967723846435547, b=0.9863045811653137), image_path=None)], chunk_type=<ChunkType.figure: 'figure'>, chunk_id='2c27ec64-98e9-4743-b4e7-b1b8a4d44d03')], extraction=Product(product_name='100% Grass-Fed A2/A2 Organic Plain Yogurt', brand='Alexandre Family Farm', net_weight_oz=24.0, net_weight_g=680.0, servings_per_container=0, serving_size='', product_type='yogurt', flavor='plain', is_grass_fed=True, is_organic=True, is_keto_friendly=False, is_paleo_friendly=False, is_kosher=False, is_regenerative=True, is_certified_humane=True, is_animal_welfare_certified=False, is_pasture_raised=False, is_non_gmo=False, is_gluten_free=False, is_dairy_free=False, is_lactose_free=False, is_whole30_approved=False, has_no_added_sugar=False, no_antibiotics=False, no_hormones=False, no_animal_byproducts=False, usda_inspected=False), extraction_metadata=ProductMetadata(product_name={'chunk_references': ['2c27ec64-98e9-4743-b4e7-b1b8a4d44d03']}, brand={'chunk_references': ['2c27ec64-98e9-4743-b4e7-b1b8a4d44d03']}, net_weight_oz={'chunk_references': ['2c27ec64-98e9-4743-b4e7-b1b8a4d44d03']}, net_weight_g={'chunk_references': ['2c27ec64-98e9-4743-b4e7-b1b8a4d44d03']}, servings_per_container={'chunk_references': []}, serving_size={'chunk_references': []}, product_type={'chunk_references': ['2c27ec64-98e9-4743-b4e7-b1b8a4d44d03']}, flavor={'chunk_references': ['2c27ec64-98e9-4743-b4e7-b1b8a4d44d03']}, is_grass_fed={'chunk_references': ['2c27ec64-98e9-4743-b4e7-b1b8a4d44d03']}, is_organic={'chunk_references': ['2c27ec64-98e9-4743-b4e7-b1b8a4d44d03']}, is_keto_friendly={'chunk_references': []}, is_paleo_friendly={'chunk_references': []}, is_kosher={'chunk_references': []}, is_regenerative={'chunk_references': ['2c27ec64-98e9-4743-b4e7-b1b8a4d44d03']}, is_certified_humane={'chunk_references': ['2c27ec64-98e9-4743-b4e7-b1b8a4d44d03']}, is_animal_welfare_certified={'chunk_references': []}, is_pasture_raised={'chunk_references': []}, is_non_gmo={'chunk_references': []}, is_gluten_free={'chunk_references': []}, is_dairy_free={'chunk_references': []}, is_lactose_free={'chunk_references': []}, is_whole30_approved={'chunk_references': []}, has_no_added_sugar={'chunk_references': []}, no_antibiotics={'chunk_references': []}, no_hormones={'chunk_references': []}, no_animal_byproducts={'chunk_references': []}, usda_inspected={'chunk_references': []}), start_page_idx=0, end_page_idx=0, doc_type='image', result_path=None, errors=[], extraction_error=None),\n",
       " ParsedDocument(markdown='FORCE OF NATURE  \\nMADE WITH 100% <!-- text, from page 0 (l=0.232,t=0.205,r=0.690,b=0.304), with ID 03e1d9c7-b018-4d83-85d0-9dd2f1fb399b -->\\n\\nGRASS FED BEEF <!-- text, from page 0 (l=0.210,t=0.306,r=0.694,b=0.370), with ID 22285f81-76c4-43a3-b4d3-b99bbee8d7c8 -->\\n\\nANCESTRAL BLEND <!-- text, from page 0 (l=0.231,t=0.376,r=0.673,b=0.421), with ID 58deba68-7421-4a9c-a6b3-b604b33d2aa0 -->\\n\\nGROUND BEEF, BEEF LIVER, BEEF HEART <!-- text, from page 0 (l=0.247,t=0.424,r=0.656,b=0.455), with ID 2bea927f-8c40-40e7-afb8-dfb4b1f0f58f -->\\n\\nPREVIOUSLY FROZEN FOR YOUR PROTECTION.\\nKEEP REFRIGERATED OR FROZEN <!-- text, from page 0 (l=0.311,t=0.564,r=0.590,b=0.599), with ID 70d03f9a-304c-47e2-adca-7dc045d92d46 -->\\n\\n22 g\\nPROTEIN\\nPER SERVING <!-- text, from page 0 (l=0.221,t=0.598,r=0.307,b=0.661), with ID f4b56d33-af37-444c-9b7d-ea2a3aed807e -->\\n\\nREGENERATIVELY  \\nSOURCED* <!-- text, from page 0 (l=0.330,t=0.605,r=0.567,b=0.661), with ID ce90f4e2-1767-4f93-9810-2775a9fafc86 -->\\n\\nSummary : This image shows two regulatory markings commonly found on food packaging in the United States: a net weight declaration and a USDA inspection stamp.\\n\\nstamp:  \\nNet Weight Declaration :  \\n  • Text reads “NET WT. 16 OZ (1lb)”, indicating the product’s net weight is 16 ounces, equivalent to 1 pound.  \\n  • Text is in uppercase, sans-serif font, left-aligned.\\n\\nUSDA Inspection Stamp :  \\n  • Circular black border.  \\n  • Inner text (all uppercase, sans-serif, centered):  \\n    – “U.S. INSPECTED AND PASSED BY DEPARTMENT OF AGRICULTURE”  \\n  • No additional graphics, numbers, or dates visible.\\n\\nPlacement & Dimensions :  \\n  • Net weight text is to the left of the circular stamp.  \\n  • Both elements are printed in black on a light background.  \\n  • The stamp is approximately the same height as the net weight text.\\n\\nAnalysis :  \\n  • The net weight declaration and USDA inspection stamp are standard regulatory requirements for packaged meat and poultry products in the U.S.  \\n  • The stamp certifies that the product has been inspected and approved by the U.S. Department of Agriculture.  \\n  • The clear, bold presentation ensures legibility and compliance with labeling laws. <!-- figure, from page 0 (l=0.583,t=0.606,r=0.711,b=0.675), with ID 4093b83c-ad18-47fa-bb20-69a9ce1aa9c4 -->\\n\\n\"Force of Nature defines holistic regenerative grazing as planned rotational grazing, leaving ground cover, and allowing adequate recovery time between grazing rotations.\" <!-- text, from page 0 (l=0.261,t=0.663,r=0.634,b=0.719), with ID d9d7caf4-80cd-424b-88c5-d4eb5c76df04 -->\\n\\nlogo:\\n\\nANIMAL WELFARE CERTIFIED\\nCertifiedtoAtlas\\nPASTURE RAISED\\n\\n[4]\\n\\n[4] Certified to Global Animal Partnership standards by EarthClaims, LLC. <!-- text, from page 0 (l=0.157,t=0.695,r=0.340,b=0.803), with ID 42ea4d50-b398-4f77-b539-bd407436e4b0 -->', chunks=[Chunk(text='FORCE OF NATURE  \\nMADE WITH 100%', grounding=[ChunkGrounding(page=0, box=ChunkGroundingBox(l=0.23176652193069458, t=0.20494917035102844, r=0.689963698387146, b=0.30417051911354065), image_path=None)], chunk_type=<ChunkType.text: 'text'>, chunk_id='03e1d9c7-b018-4d83-85d0-9dd2f1fb399b'), Chunk(text='GRASS FED BEEF', grounding=[ChunkGrounding(page=0, box=ChunkGroundingBox(l=0.21045434474945068, t=0.30631405115127563, r=0.6939619779586792, b=0.369867205619812), image_path=None)], chunk_type=<ChunkType.text: 'text'>, chunk_id='22285f81-76c4-43a3-b4d3-b99bbee8d7c8'), Chunk(text='ANCESTRAL BLEND', grounding=[ChunkGrounding(page=0, box=ChunkGroundingBox(l=0.2310350090265274, t=0.3763998746871948, r=0.6729516386985779, b=0.4213019013404846), image_path=None)], chunk_type=<ChunkType.text: 'text'>, chunk_id='58deba68-7421-4a9c-a6b3-b604b33d2aa0'), Chunk(text='GROUND BEEF, BEEF LIVER, BEEF HEART', grounding=[ChunkGrounding(page=0, box=ChunkGroundingBox(l=0.24689239263534546, t=0.4240748882293701, r=0.6561141014099121, b=0.45502281188964844), image_path=None)], chunk_type=<ChunkType.text: 'text'>, chunk_id='2bea927f-8c40-40e7-afb8-dfb4b1f0f58f'), Chunk(text='PREVIOUSLY FROZEN FOR YOUR PROTECTION.\\nKEEP REFRIGERATED OR FROZEN', grounding=[ChunkGrounding(page=0, box=ChunkGroundingBox(l=0.3114336133003235, t=0.5638969540596008, r=0.5900039076805115, b=0.5988273024559021), image_path=None)], chunk_type=<ChunkType.text: 'text'>, chunk_id='70d03f9a-304c-47e2-adca-7dc045d92d46'), Chunk(text='22 g\\nPROTEIN\\nPER SERVING', grounding=[ChunkGrounding(page=0, box=ChunkGroundingBox(l=0.22139815986156464, t=0.5979417562484741, r=0.30716097354888916, b=0.6614770889282227), image_path=None)], chunk_type=<ChunkType.text: 'text'>, chunk_id='f4b56d33-af37-444c-9b7d-ea2a3aed807e'), Chunk(text='REGENERATIVELY  \\nSOURCED*', grounding=[ChunkGrounding(page=0, box=ChunkGroundingBox(l=0.3296397030353546, t=0.6053270697593689, r=0.5665656328201294, b=0.661384642124176), image_path=None)], chunk_type=<ChunkType.text: 'text'>, chunk_id='ce90f4e2-1767-4f93-9810-2775a9fafc86'), Chunk(text='Summary : This image shows two regulatory markings commonly found on food packaging in the United States: a net weight declaration and a USDA inspection stamp.\\n\\nstamp:  \\nNet Weight Declaration :  \\n  • Text reads “NET WT. 16 OZ (1lb)”, indicating the product’s net weight is 16 ounces, equivalent to 1 pound.  \\n  • Text is in uppercase, sans-serif font, left-aligned.\\n\\nUSDA Inspection Stamp :  \\n  • Circular black border.  \\n  • Inner text (all uppercase, sans-serif, centered):  \\n    – “U.S. INSPECTED AND PASSED BY DEPARTMENT OF AGRICULTURE”  \\n  • No additional graphics, numbers, or dates visible.\\n\\nPlacement & Dimensions :  \\n  • Net weight text is to the left of the circular stamp.  \\n  • Both elements are printed in black on a light background.  \\n  • The stamp is approximately the same height as the net weight text.\\n\\nAnalysis :  \\n  • The net weight declaration and USDA inspection stamp are standard regulatory requirements for packaged meat and poultry products in the U.S.  \\n  • The stamp certifies that the product has been inspected and approved by the U.S. Department of Agriculture.  \\n  • The clear, bold presentation ensures legibility and compliance with labeling laws.', grounding=[ChunkGrounding(page=0, box=ChunkGroundingBox(l=0.5830222368240356, t=0.6064788699150085, r=0.7106815576553345, b=0.6751149296760559), image_path=None)], chunk_type=<ChunkType.figure: 'figure'>, chunk_id='4093b83c-ad18-47fa-bb20-69a9ce1aa9c4'), Chunk(text='\"Force of Nature defines holistic regenerative grazing as planned rotational grazing, leaving ground cover, and allowing adequate recovery time between grazing rotations.\"', grounding=[ChunkGrounding(page=0, box=ChunkGroundingBox(l=0.2611411213874817, t=0.6626409292221069, r=0.6339209675788879, b=0.7188358306884766), image_path=None)], chunk_type=<ChunkType.text: 'text'>, chunk_id='d9d7caf4-80cd-424b-88c5-d4eb5c76df04'), Chunk(text='logo:\\n\\nANIMAL WELFARE CERTIFIED\\nCertifiedtoAtlas\\nPASTURE RAISED\\n\\n[4]\\n\\n[4] Certified to Global Animal Partnership standards by EarthClaims, LLC.', grounding=[ChunkGrounding(page=0, box=ChunkGroundingBox(l=0.1571815013885498, t=0.6950061321258545, r=0.3396257162094116, b=0.802910327911377), image_path=None)], chunk_type=<ChunkType.text: 'text'>, chunk_id='42ea4d50-b398-4f77-b539-bd407436e4b0')], extraction=Product(product_name='Ancestral Blend Ground Beef, Beef Liver, Beef Heart', brand='Force of Nature', net_weight_oz=16.0, net_weight_g=0.0, servings_per_container=0, serving_size='', product_type='ground beef', flavor='', is_grass_fed=True, is_organic=False, is_keto_friendly=False, is_paleo_friendly=False, is_kosher=False, is_regenerative=True, is_certified_humane=False, is_animal_welfare_certified=True, is_pasture_raised=True, is_non_gmo=False, is_gluten_free=False, is_dairy_free=False, is_lactose_free=False, is_whole30_approved=False, has_no_added_sugar=False, no_antibiotics=False, no_hormones=False, no_animal_byproducts=False, usda_inspected=True), extraction_metadata=ProductMetadata(product_name={'chunk_references': ['58deba68-7421-4a9c-a6b3-b604b33d2aa0', '2bea927f-8c40-40e7-afb8-dfb4b1f0f58f']}, brand={'chunk_references': ['03e1d9c7-b018-4d83-85d0-9dd2f1fb399b']}, net_weight_oz={'chunk_references': ['4093b83c-ad18-47fa-bb20-69a9ce1aa9c4']}, net_weight_g={'chunk_references': []}, servings_per_container={'chunk_references': []}, serving_size={'chunk_references': []}, product_type={'chunk_references': ['22285f81-76c4-43a3-b4d3-b99bbee8d7c8']}, flavor={'chunk_references': []}, is_grass_fed={'chunk_references': ['22285f81-76c4-43a3-b4d3-b99bbee8d7c8']}, is_organic={'chunk_references': []}, is_keto_friendly={'chunk_references': []}, is_paleo_friendly={'chunk_references': []}, is_kosher={'chunk_references': []}, is_regenerative={'chunk_references': ['ce90f4e2-1767-4f93-9810-2775a9fafc86']}, is_certified_humane={'chunk_references': []}, is_animal_welfare_certified={'chunk_references': ['42ea4d50-b398-4f77-b539-bd407436e4b0']}, is_pasture_raised={'chunk_references': ['42ea4d50-b398-4f77-b539-bd407436e4b0']}, is_non_gmo={'chunk_references': []}, is_gluten_free={'chunk_references': []}, is_dairy_free={'chunk_references': []}, is_lactose_free={'chunk_references': []}, is_whole30_approved={'chunk_references': []}, has_no_added_sugar={'chunk_references': []}, no_antibiotics={'chunk_references': []}, no_hormones={'chunk_references': []}, no_animal_byproducts={'chunk_references': []}, usda_inspected={'chunk_references': ['4093b83c-ad18-47fa-bb20-69a9ce1aa9c4']}), start_page_idx=0, end_page_idx=0, doc_type='image', result_path=None, errors=[], extraction_error=None),\n",
       " ParsedDocument(markdown='Summary : This image is a logo-style graphic promoting the concept of \"Super Foods with Purpose,\" emphasizing benefits for individuals, farmers, and the planet.\\n\\nlogo:  \\nVisible Text & Tagline :  \\n  • Main text: \"SUPER FOODS WITH PURPOSE\" in bold, uppercase letters.  \\n  • Tagline at the bottom: \"FOR YOU – FOR FARMERS FOR THE PLANET\" in uppercase, white text.\\n\\nGraphic Elements :  \\n  • Central illustration of a stylized plant with six green leaves and visible white roots extending into brown soil.  \\n  • Background is a gradient teal, with a purple border on the left and right edges.\\n\\nLayout & Design :  \\n  • Text is centered above the plant illustration.  \\n  • Plant is centrally placed, with roots extending downward into the soil, visually connecting the tagline to the main graphic.  \\n  • Colour palette: teal, green, brown, white, and purple.\\n\\nAnalysis :  \\n  • The logo uses plant imagery and earthy colours to convey themes of sustainability, health, and environmental consciousness.  \\n  • The tagline reinforces a triple-benefit message: personal health, support for farmers, and positive planetary impact. <!-- figure, from page 0 (l=0.116,t=0.010,r=0.255,b=0.226), with ID d5604e6b-afd7-45e9-8a10-3220b67bf9c3 -->\\n\\nSummary : This is a product label illustration promoting a food item as suitable for topping and snacking, with a callout for recipes on the back.\\n\\nillustration:\\nScene Overview :\\n  • Central image is a stylized bowl containing a purple substance, topped with banana slices, strawberries, and blueberries, with a spoon resting on the bowl.\\n  • The bowl is set within a yellow-orange circular badge.\\n  • Text in the badge reads: \"GREAT FOR TOPPING + SNACKING\".\\n  • A red circular overlay in the upper right contains the text: \"RECIPES ON BACK\".\\n  • The background is a solid magenta or purple color.\\n\\nTechnical Details :\\n  • All text is in uppercase, bold, and sans-serif font.\\n  • The illustration uses flat, cartoon-like vector graphics with high contrast and simple shapes.\\n  • No scale bar or measurement indicators are present.\\n\\nSpatial Relationships :\\n  • The bowl is centered within the badge.\\n  • The red \"RECIPES ON BACK\" circle partially overlaps the upper right of the badge, obscuring part of the bowl illustration.\\n\\nAnalysis :\\n  • The design visually emphasizes the product\\'s versatility for both topping and snacking, and directs consumers to additional recipes, likely to encourage usage ideas. <!-- figure, from page 0 (l=0.567,t=0.029,r=0.732,b=0.187), with ID a484a55b-42cc-4db9-9004-5288b6ecc13e -->\\n\\nlogo: NAVITAS ORGANICS <!-- text, from page 0 (l=0.262,t=0.214,r=0.573,b=0.368), with ID ea3adc5b-5fd0-4f80-b734-16c6e8436c0b -->\\n\\nSummary : This is a product package image for organic goji berries, highlighting key features and certifications.\\n\\nphoto:\\nScene Overview :\\n  • The main subject is a package of organic goji berries.\\n  • The package is predominantly purple and pink with white and red accents.\\n  • A white spoon filled with dried goji berries is prominently displayed, along with an illustration of fresh goji berries and green leaves.\\n  • The text \"ORGANIC GOJI BERRIES\" is large and central.\\n  • The phrase \"PLANT-BASED SUPERFOOD\" appears in a pink box at the top right.\\n\\nTechnical Details :\\n  • The package lists several product features:\\n    – \"HIGH IN ANTIOXIDANTS (VIT. A)\"\\n    – \"MILDLY SWEET & TANGY\"\\n    – \"UNSULFURED & GENTLY DRIED\"\\n  • Certifications and labels visible:\\n    – \"USDA ORGANIC\" seal (bottom left)\\n    – \"NON GMO\" icon (bottom left)\\n  • Net weight is specified as \"NET WT 8 OZ (227g)\" at the bottom.\\n  • The product is described as \"PLANT-BASED SUPERFOOD\" and \"ORGANIC\".\\n\\nSpatial Relationships :\\n  • The spoon with dried goji berries is on the right side, overlapping the product name area.\\n  • The fresh goji berry illustration is below the spoon, with green leaves extending leftward.\\n  • Certification icons are at the bottom left, with the net weight centered at the bottom.\\n\\nAnalysis :\\n  • The packaging design emphasizes health benefits (antioxidants, organic, non-GMO), plant-based qualities, and product purity (unsulfured, gently dried).\\n  • The visual focus on both dried and fresh berries, along with green leaves, reinforces the natural and wholesome image of the product.\\n  • Prominent placement of certifications and product features targets health-conscious consumers. <!-- figure, from page 0 (l=0.124,t=0.397,r=0.733,b=0.977), with ID b0070276-1ffa-41c9-9c19-589be655e6a5 -->', chunks=[Chunk(text='Summary : This image is a logo-style graphic promoting the concept of \"Super Foods with Purpose,\" emphasizing benefits for individuals, farmers, and the planet.\\n\\nlogo:  \\nVisible Text & Tagline :  \\n  • Main text: \"SUPER FOODS WITH PURPOSE\" in bold, uppercase letters.  \\n  • Tagline at the bottom: \"FOR YOU – FOR FARMERS FOR THE PLANET\" in uppercase, white text.\\n\\nGraphic Elements :  \\n  • Central illustration of a stylized plant with six green leaves and visible white roots extending into brown soil.  \\n  • Background is a gradient teal, with a purple border on the left and right edges.\\n\\nLayout & Design :  \\n  • Text is centered above the plant illustration.  \\n  • Plant is centrally placed, with roots extending downward into the soil, visually connecting the tagline to the main graphic.  \\n  • Colour palette: teal, green, brown, white, and purple.\\n\\nAnalysis :  \\n  • The logo uses plant imagery and earthy colours to convey themes of sustainability, health, and environmental consciousness.  \\n  • The tagline reinforces a triple-benefit message: personal health, support for farmers, and positive planetary impact.', grounding=[ChunkGrounding(page=0, box=ChunkGroundingBox(l=0.11592970043420792, t=0.010168477892875671, r=0.2546069622039795, b=0.22621563076972961), image_path=None)], chunk_type=<ChunkType.figure: 'figure'>, chunk_id='d5604e6b-afd7-45e9-8a10-3220b67bf9c3'), Chunk(text='Summary : This is a product label illustration promoting a food item as suitable for topping and snacking, with a callout for recipes on the back.\\n\\nillustration:\\nScene Overview :\\n  • Central image is a stylized bowl containing a purple substance, topped with banana slices, strawberries, and blueberries, with a spoon resting on the bowl.\\n  • The bowl is set within a yellow-orange circular badge.\\n  • Text in the badge reads: \"GREAT FOR TOPPING + SNACKING\".\\n  • A red circular overlay in the upper right contains the text: \"RECIPES ON BACK\".\\n  • The background is a solid magenta or purple color.\\n\\nTechnical Details :\\n  • All text is in uppercase, bold, and sans-serif font.\\n  • The illustration uses flat, cartoon-like vector graphics with high contrast and simple shapes.\\n  • No scale bar or measurement indicators are present.\\n\\nSpatial Relationships :\\n  • The bowl is centered within the badge.\\n  • The red \"RECIPES ON BACK\" circle partially overlaps the upper right of the badge, obscuring part of the bowl illustration.\\n\\nAnalysis :\\n  • The design visually emphasizes the product\\'s versatility for both topping and snacking, and directs consumers to additional recipes, likely to encourage usage ideas.', grounding=[ChunkGrounding(page=0, box=ChunkGroundingBox(l=0.567258894443512, t=0.028576791286468506, r=0.732022225856781, b=0.18708758056163788), image_path=None)], chunk_type=<ChunkType.figure: 'figure'>, chunk_id='a484a55b-42cc-4db9-9004-5288b6ecc13e'), Chunk(text='logo: NAVITAS ORGANICS', grounding=[ChunkGrounding(page=0, box=ChunkGroundingBox(l=0.26173728704452515, t=0.21447405219078064, r=0.5727711915969849, b=0.3681424558162689), image_path=None)], chunk_type=<ChunkType.text: 'text'>, chunk_id='ea3adc5b-5fd0-4f80-b734-16c6e8436c0b'), Chunk(text='Summary : This is a product package image for organic goji berries, highlighting key features and certifications.\\n\\nphoto:\\nScene Overview :\\n  • The main subject is a package of organic goji berries.\\n  • The package is predominantly purple and pink with white and red accents.\\n  • A white spoon filled with dried goji berries is prominently displayed, along with an illustration of fresh goji berries and green leaves.\\n  • The text \"ORGANIC GOJI BERRIES\" is large and central.\\n  • The phrase \"PLANT-BASED SUPERFOOD\" appears in a pink box at the top right.\\n\\nTechnical Details :\\n  • The package lists several product features:\\n    – \"HIGH IN ANTIOXIDANTS (VIT. A)\"\\n    – \"MILDLY SWEET & TANGY\"\\n    – \"UNSULFURED & GENTLY DRIED\"\\n  • Certifications and labels visible:\\n    – \"USDA ORGANIC\" seal (bottom left)\\n    – \"NON GMO\" icon (bottom left)\\n  • Net weight is specified as \"NET WT 8 OZ (227g)\" at the bottom.\\n  • The product is described as \"PLANT-BASED SUPERFOOD\" and \"ORGANIC\".\\n\\nSpatial Relationships :\\n  • The spoon with dried goji berries is on the right side, overlapping the product name area.\\n  • The fresh goji berry illustration is below the spoon, with green leaves extending leftward.\\n  • Certification icons are at the bottom left, with the net weight centered at the bottom.\\n\\nAnalysis :\\n  • The packaging design emphasizes health benefits (antioxidants, organic, non-GMO), plant-based qualities, and product purity (unsulfured, gently dried).\\n  • The visual focus on both dried and fresh berries, along with green leaves, reinforces the natural and wholesome image of the product.\\n  • Prominent placement of certifications and product features targets health-conscious consumers.', grounding=[ChunkGrounding(page=0, box=ChunkGroundingBox(l=0.12386670708656311, t=0.3972513973712921, r=0.7326459884643555, b=0.977474570274353), image_path=None)], chunk_type=<ChunkType.figure: 'figure'>, chunk_id='b0070276-1ffa-41c9-9c19-589be655e6a5')], extraction=Product(product_name='Organic Goji Berries', brand='NAVITAS ORGANICS', net_weight_oz=8.0, net_weight_g=227.0, servings_per_container=0, serving_size='', product_type='superfood', flavor='', is_grass_fed=False, is_organic=True, is_keto_friendly=False, is_paleo_friendly=False, is_kosher=False, is_regenerative=False, is_certified_humane=False, is_animal_welfare_certified=False, is_pasture_raised=False, is_non_gmo=True, is_gluten_free=False, is_dairy_free=False, is_lactose_free=False, is_whole30_approved=False, has_no_added_sugar=False, no_antibiotics=False, no_hormones=False, no_animal_byproducts=False, usda_inspected=False), extraction_metadata=ProductMetadata(product_name={'chunk_references': ['b0070276-1ffa-41c9-9c19-589be655e6a5']}, brand={'chunk_references': ['ea3adc5b-5fd0-4f80-b734-16c6e8436c0b']}, net_weight_oz={'chunk_references': ['b0070276-1ffa-41c9-9c19-589be655e6a5']}, net_weight_g={'chunk_references': ['b0070276-1ffa-41c9-9c19-589be655e6a5']}, servings_per_container={'chunk_references': []}, serving_size={'chunk_references': []}, product_type={'chunk_references': ['b0070276-1ffa-41c9-9c19-589be655e6a5']}, flavor={'chunk_references': []}, is_grass_fed={'chunk_references': []}, is_organic={'chunk_references': ['b0070276-1ffa-41c9-9c19-589be655e6a5']}, is_keto_friendly={'chunk_references': []}, is_paleo_friendly={'chunk_references': []}, is_kosher={'chunk_references': []}, is_regenerative={'chunk_references': []}, is_certified_humane={'chunk_references': []}, is_animal_welfare_certified={'chunk_references': []}, is_pasture_raised={'chunk_references': []}, is_non_gmo={'chunk_references': ['b0070276-1ffa-41c9-9c19-589be655e6a5']}, is_gluten_free={'chunk_references': []}, is_dairy_free={'chunk_references': []}, is_lactose_free={'chunk_references': []}, is_whole30_approved={'chunk_references': []}, has_no_added_sugar={'chunk_references': []}, no_antibiotics={'chunk_references': []}, no_hormones={'chunk_references': []}, no_animal_byproducts={'chunk_references': []}, usda_inspected={'chunk_references': []}), start_page_idx=0, end_page_idx=0, doc_type='image', result_path=None, errors=[], extraction_error=None),\n",
       " ParsedDocument(markdown='Garden of Life  \\ngrass fed  \\nCOLLAGEN  \\nCREAMER  \\n10g COLLAGEN + MCTs + PROBIOTICS  \\nMADE WITH COCONUT MILK  \\nENERGY, BEAUTY & JOINTS†  \\ncreamy vanilla  \\nflavor  \\nDAIRY FREE  \\n12 SERVINGS  \\nNET WT 11.64 oz (330 g)  \\nDIETARY SUPPLEMENT <!-- text, from page 0 (l=0.207,t=0.079,r=0.793,b=0.976), with ID 74e35e41-4753-499e-9a89-bc1396e2570e -->', chunks=[Chunk(text='Garden of Life  \\ngrass fed  \\nCOLLAGEN  \\nCREAMER  \\n10g COLLAGEN + MCTs + PROBIOTICS  \\nMADE WITH COCONUT MILK  \\nENERGY, BEAUTY & JOINTS†  \\ncreamy vanilla  \\nflavor  \\nDAIRY FREE  \\n12 SERVINGS  \\nNET WT 11.64 oz (330 g)  \\nDIETARY SUPPLEMENT', grounding=[ChunkGrounding(page=0, box=ChunkGroundingBox(l=0.2073645293712616, t=0.0794941782951355, r=0.7934401035308838, b=0.975657045841217), image_path=None)], chunk_type=<ChunkType.text: 'text'>, chunk_id='74e35e41-4753-499e-9a89-bc1396e2570e')], extraction=Product(product_name='COLLAGEN CREAMER', brand='Garden of Life', net_weight_oz=11.64, net_weight_g=330.0, servings_per_container=12, serving_size='', product_type='supplement', flavor='creamy vanilla', is_grass_fed=True, is_organic=False, is_keto_friendly=False, is_paleo_friendly=False, is_kosher=False, is_regenerative=False, is_certified_humane=False, is_animal_welfare_certified=False, is_pasture_raised=False, is_non_gmo=False, is_gluten_free=False, is_dairy_free=True, is_lactose_free=False, is_whole30_approved=False, has_no_added_sugar=False, no_antibiotics=False, no_hormones=False, no_animal_byproducts=False, usda_inspected=False), extraction_metadata=ProductMetadata(product_name={'chunk_references': ['74e35e41-4753-499e-9a89-bc1396e2570e']}, brand={'chunk_references': ['74e35e41-4753-499e-9a89-bc1396e2570e']}, net_weight_oz={'chunk_references': ['74e35e41-4753-499e-9a89-bc1396e2570e']}, net_weight_g={'chunk_references': ['74e35e41-4753-499e-9a89-bc1396e2570e']}, servings_per_container={'chunk_references': ['74e35e41-4753-499e-9a89-bc1396e2570e']}, serving_size={'chunk_references': []}, product_type={'chunk_references': ['74e35e41-4753-499e-9a89-bc1396e2570e']}, flavor={'chunk_references': ['74e35e41-4753-499e-9a89-bc1396e2570e']}, is_grass_fed={'chunk_references': ['74e35e41-4753-499e-9a89-bc1396e2570e']}, is_organic={'chunk_references': []}, is_keto_friendly={'chunk_references': []}, is_paleo_friendly={'chunk_references': []}, is_kosher={'chunk_references': []}, is_regenerative={'chunk_references': []}, is_certified_humane={'chunk_references': []}, is_animal_welfare_certified={'chunk_references': []}, is_pasture_raised={'chunk_references': []}, is_non_gmo={'chunk_references': []}, is_gluten_free={'chunk_references': []}, is_dairy_free={'chunk_references': ['74e35e41-4753-499e-9a89-bc1396e2570e']}, is_lactose_free={'chunk_references': []}, is_whole30_approved={'chunk_references': []}, has_no_added_sugar={'chunk_references': []}, no_antibiotics={'chunk_references': []}, no_hormones={'chunk_references': []}, no_animal_byproducts={'chunk_references': []}, usda_inspected={'chunk_references': []}), start_page_idx=0, end_page_idx=0, doc_type='image', result_path=None, errors=[], extraction_error=None),\n",
       " ParsedDocument(markdown='BUN LENGTH <!-- text, from page 0 (l=0.153,t=0.029,r=0.388,b=0.092), with ID 8d522ccc-8b65-4e54-b473-2cd9a1d83e6d -->\\n\\nUNCURED  \\nBEEF  \\nHOT DOGS  \\nNO NITRITES OR  \\nNITRATES ADDED  \\nExcept those naturally occurring in  \\nsea salt and cultured celery powder <!-- text, from page 0 (l=0.169,t=0.098,r=0.372,b=0.318), with ID 79d50a02-f930-4e16-8197-4b1f4a9b41a6 -->\\n\\nNOT PRESERVED  \\nKEEP REFRIGERATED  \\nBELOW 40°F AT ALL TIMES  \\nFULLY COOKED  \\nGLUTEN FREE\\n\\nTO HEAT: BROWN IN A PAN  \\nOR GRILL FOR 5-7 MIN. <!-- text, from page 0 (l=0.171,t=0.324,r=0.352,b=0.476), with ID b64b0e73-7bf3-493d-b24f-2b8e31dce2e6 -->\\n\\nSummary : This image displays three certification and product claim logos related to food labeling, specifically for beef products.\\n\\nlogo:  \\nCertification & Claim Logos :  \\n  • \"CERTIFIED HUMANE RAISED & HANDLED GRASS-FED BEEF\" with the website \"CERTIFIEDHUMANE.ORG\" in a blue and green rectangular badge.\\n  • \"NO SUGAR ADDED\" in a blue and white rectangular badge.\\n  • \"WHOLE 30 Approved\" in a blue and white rectangular badge, with the \"30\" stylized in large font and a circular design.\\nAdditional Text :  \\n  • Small print at the bottom: \"NOT A LOW CALORIE FOOD - SEE NUTRITION FACTS FOR SUGAR AND CALORIE CONTENT.\"\\n\\nAnalysis :  \\n  • The logos and claims emphasize humane animal treatment, absence of added sugar, and compliance with the Whole30 dietary program. The use of blue and green colors suggests a focus on health and natural practices. The small print clarifies that the product is not low in calories despite the \"no sugar added\" claim. <!-- figure, from page 0 (l=0.142,t=0.538,r=0.400,b=0.649), with ID 3d49f2dc-a475-49e1-b6bf-6b9da5083638 -->\\n\\nSummary : This is a product packaging illustration for Teton Waters Ranch, highlighting the use of 100% grass-fed beef and specific claims about the beef\\'s production.\\n\\nphoto:\\nScene Overview :\\n  • The main subject is a product label for Teton Waters Ranch (TWR).\\n  • The label prominently features the text \"MADE WITH 100% GRASS-FED BEEF\" in large, bold letters.\\n  • The TWR logo appears at the top left, with \"TETON WATERS RANCH\" written across the top.\\n  • There is a blue illustration of a cow\\'s head in the lower right corner.\\n  • The color palette is primarily tan and blue, with white and blue text.\\n\\nTechnical Details :\\n  • The label includes the following claims:\\n    – \"MADE WITH 100% GRASS-FED BEEF\"\\n    – \"MADE WITH BEEF USING NO ANTIBIOTICS ADDED HORMONES\"\\n    – \"NEVER FED ANIMAL BY-PRODUCTS\"\\n  • The text is arranged in a hierarchy, with the largest font for \"100% GRASS-FED BEEF.\"\\n  • No scale bar, magnification, or technical imaging details are present.\\n\\nSpatial Relationships :\\n  • The TWR logo and brand name are at the top.\\n  • The main product claim (\"100% GRASS-FED BEEF\") is centered and occupies most of the label.\\n  • The cow illustration is in the lower right, partially cropped.\\n  • Additional claims are in smaller text at the bottom.\\n\\nAnalysis :\\n  • The label design emphasizes the purity and quality of the beef, using large, bold text for \"100% GRASS-FED BEEF\" and supporting claims about the absence of antibiotics, hormones, and animal by-products.\\n  • The blue cow illustration and blue accent text reinforce the brand identity and draw attention to key product attributes. <!-- figure, from page 0 (l=0.417,t=0.049,r=0.845,b=0.640), with ID 9df85225-17c9-49a0-a482-76e6db882c17 -->\\n\\n<table><thead><tr><th colspan=\"4\">Nutrition Facts</th></tr></thead><tbody><tr><td colspan=\"4\">5 servings per container</td></tr><tr><td colspan=\"4\">Serving size 1 link (45g)</td></tr><tr><td colspan=\"2\">Calories 110</td><td colspan=\"2\">per serving</td></tr><tr><td>Amount Per Serving</td><td>%DV*</td><td>Amount Per Serving</td><td>%DV*</td></tr><tr><td>Total Fat 9g</td><td>12%</td><td>Total Carb 0g</td><td>0%</td></tr><tr><td>Sat Fat 3.5g</td><td>18%</td><td>Dietary Fiber 0g</td><td>0%</td></tr><tr><td>Trans Fat 0.5g</td><td></td><td>Total Sugars 0g</td><td></td></tr><tr><td>Cholest 30mg</td><td>9%</td><td>Incl 0g Added Sugars</td><td>0%</td></tr><tr><td>Sodium 360mg</td><td>16%</td><td>Protein 6g</td><td></td></tr><tr><td colspan=\"4\">Vitamin D 0% • Calcium 0% • Iron 4% • Potassium 2%</td></tr><tr><td colspan=\"4\">The % Daily Value (DV) tells you how much a nutrient in a serving of food contributes to a daily diet. 2,000 calories a day is used for general nutrition advice.</td></tr></tbody></table> <!-- table, from page 0 (l=0.187,t=0.650,r=0.694,b=0.861), with ID 0f809eda-1094-4d22-8b34-0ea468413bcf -->\\n\\nSummary : This image shows a vertically oriented barcode label with both a numeric code and an alphanumeric identifier.\\n\\nbarcode:\\nFull Code & Type :\\n  • Numeric code: 532310071212\\n  • Alphanumeric identifier: 8SHD08C1 (printed above the barcode)\\n  • Barcode type: Not explicitly stated; appears to be a 12-digit UPC-A or similar linear barcode.\\n  • Orientation: Vertical (numbers run from top to bottom along the left side of the barcode)\\n  • Quiet zone: Present on both sides of the barcode (white space)\\n  • Module count: Standard for 12-digit linear barcodes; precise count not specified.\\n\\nPlacement & Dimensions :\\n  • Label is narrow and vertically oriented.\\n  • Numeric code is printed along the left edge, alphanumeric code at the top.\\n\\nAnalysis :\\n  • The barcode is designed for machine scanning and human readability, with both numeric and alphanumeric codes present. The vertical orientation suggests it may be used on a small or narrow product package. <!-- figure, from page 0 (l=0.701,t=0.649,r=0.792,b=0.857), with ID 2e41515b-f5ea-4dd2-9966-0c0ea1559a03 -->\\n\\nNET WT 8 OZ <!-- text, from page 0 (l=0.154,t=0.867,r=0.312,b=0.917), with ID 0ba0ae06-e3e8-45e6-bff9-84b7727d2dad -->\\n\\nINGREDIENTS: GRASS FED BEEF, WATER, LESS THAN 2% OF THE FOLLOWING: SPICES INCLUDING PAPRIKA, SEA SALT, VINEGAR, CULTURED CELERY POWDER, GARLIC POWDER, CHERRY POWDER, ONION POWDER. <!-- text, from page 0 (l=0.432,t=0.861,r=0.649,b=0.921), with ID 9d08836c-f198-44aa-8806-f5f32d3d9ee5 -->\\n\\nDistributed by\\nTeton Waters Ranch\\nLoveland, CO 80538\\nTetonWatersRanch.com <!-- marginalia, from page 0 (l=0.659,t=0.867,r=0.763,b=0.919), with ID e1ebd41d-b54d-49a5-a2c9-696bfbc24e9b -->\\n\\nstamp:  \\nShape, Border, and Ink : \\n  • Circular stamp with a single black border line.\\n  • Black ink on a light background.\\n\\nText : \\n  • \"U.S.\"\\n  • \"INSPECTED AND PASSED BY DEPARTMENT OF AGRICULTURE\"\\n\\nDimensions & Placement : \\n  • Proportions suggest a diameter of approximately 1–2 inches.\\n  • Text is centered within the circle.\\n\\nAnalysis : \\n  • This is a standard U.S. Department of Agriculture inspection stamp, typically found on meat or poultry products to indicate federal inspection and approval. <!-- figure, from page 0 (l=0.824,t=0.851,r=0.885,b=0.915), with ID 6a9f2c91-1556-448b-8cec-e15137fac703 -->', chunks=[Chunk(text='BUN LENGTH', grounding=[ChunkGrounding(page=0, box=ChunkGroundingBox(l=0.15298891067504883, t=0.02859390527009964, r=0.38849395513534546, b=0.09163343906402588), image_path=None)], chunk_type=<ChunkType.text: 'text'>, chunk_id='8d522ccc-8b65-4e54-b473-2cd9a1d83e6d'), Chunk(text='UNCURED  \\nBEEF  \\nHOT DOGS  \\nNO NITRITES OR  \\nNITRATES ADDED  \\nExcept those naturally occurring in  \\nsea salt and cultured celery powder', grounding=[ChunkGrounding(page=0, box=ChunkGroundingBox(l=0.16915875673294067, t=0.09763464331626892, r=0.37200164794921875, b=0.31815484166145325), image_path=None)], chunk_type=<ChunkType.text: 'text'>, chunk_id='79d50a02-f930-4e16-8197-4b1f4a9b41a6'), Chunk(text='NOT PRESERVED  \\nKEEP REFRIGERATED  \\nBELOW 40°F AT ALL TIMES  \\nFULLY COOKED  \\nGLUTEN FREE\\n\\nTO HEAT: BROWN IN A PAN  \\nOR GRILL FOR 5-7 MIN.', grounding=[ChunkGrounding(page=0, box=ChunkGroundingBox(l=0.17146925628185272, t=0.32439807057380676, r=0.3524060845375061, b=0.47614535689353943), image_path=None)], chunk_type=<ChunkType.text: 'text'>, chunk_id='b64b0e73-7bf3-493d-b24f-2b8e31dce2e6'), Chunk(text='Summary : This image displays three certification and product claim logos related to food labeling, specifically for beef products.\\n\\nlogo:  \\nCertification & Claim Logos :  \\n  • \"CERTIFIED HUMANE RAISED & HANDLED GRASS-FED BEEF\" with the website \"CERTIFIEDHUMANE.ORG\" in a blue and green rectangular badge.\\n  • \"NO SUGAR ADDED\" in a blue and white rectangular badge.\\n  • \"WHOLE 30 Approved\" in a blue and white rectangular badge, with the \"30\" stylized in large font and a circular design.\\nAdditional Text :  \\n  • Small print at the bottom: \"NOT A LOW CALORIE FOOD - SEE NUTRITION FACTS FOR SUGAR AND CALORIE CONTENT.\"\\n\\nAnalysis :  \\n  • The logos and claims emphasize humane animal treatment, absence of added sugar, and compliance with the Whole30 dietary program. The use of blue and green colors suggests a focus on health and natural practices. The small print clarifies that the product is not low in calories despite the \"no sugar added\" claim.', grounding=[ChunkGrounding(page=0, box=ChunkGroundingBox(l=0.14188559353351593, t=0.5380382537841797, r=0.3998628854751587, b=0.6488116979598999), image_path=None)], chunk_type=<ChunkType.figure: 'figure'>, chunk_id='3d49f2dc-a475-49e1-b6bf-6b9da5083638'), Chunk(text='Summary : This is a product packaging illustration for Teton Waters Ranch, highlighting the use of 100% grass-fed beef and specific claims about the beef\\'s production.\\n\\nphoto:\\nScene Overview :\\n  • The main subject is a product label for Teton Waters Ranch (TWR).\\n  • The label prominently features the text \"MADE WITH 100% GRASS-FED BEEF\" in large, bold letters.\\n  • The TWR logo appears at the top left, with \"TETON WATERS RANCH\" written across the top.\\n  • There is a blue illustration of a cow\\'s head in the lower right corner.\\n  • The color palette is primarily tan and blue, with white and blue text.\\n\\nTechnical Details :\\n  • The label includes the following claims:\\n    – \"MADE WITH 100% GRASS-FED BEEF\"\\n    – \"MADE WITH BEEF USING NO ANTIBIOTICS ADDED HORMONES\"\\n    – \"NEVER FED ANIMAL BY-PRODUCTS\"\\n  • The text is arranged in a hierarchy, with the largest font for \"100% GRASS-FED BEEF.\"\\n  • No scale bar, magnification, or technical imaging details are present.\\n\\nSpatial Relationships :\\n  • The TWR logo and brand name are at the top.\\n  • The main product claim (\"100% GRASS-FED BEEF\") is centered and occupies most of the label.\\n  • The cow illustration is in the lower right, partially cropped.\\n  • Additional claims are in smaller text at the bottom.\\n\\nAnalysis :\\n  • The label design emphasizes the purity and quality of the beef, using large, bold text for \"100% GRASS-FED BEEF\" and supporting claims about the absence of antibiotics, hormones, and animal by-products.\\n  • The blue cow illustration and blue accent text reinforce the brand identity and draw attention to key product attributes.', grounding=[ChunkGrounding(page=0, box=ChunkGroundingBox(l=0.4167827367782593, t=0.04868835210800171, r=0.8448642492294312, b=0.639910101890564), image_path=None)], chunk_type=<ChunkType.figure: 'figure'>, chunk_id='9df85225-17c9-49a0-a482-76e6db882c17'), Chunk(text='<table><thead><tr><th colspan=\"4\">Nutrition Facts</th></tr></thead><tbody><tr><td colspan=\"4\">5 servings per container</td></tr><tr><td colspan=\"4\">Serving size 1 link (45g)</td></tr><tr><td colspan=\"2\">Calories 110</td><td colspan=\"2\">per serving</td></tr><tr><td>Amount Per Serving</td><td>%DV*</td><td>Amount Per Serving</td><td>%DV*</td></tr><tr><td>Total Fat 9g</td><td>12%</td><td>Total Carb 0g</td><td>0%</td></tr><tr><td>Sat Fat 3.5g</td><td>18%</td><td>Dietary Fiber 0g</td><td>0%</td></tr><tr><td>Trans Fat 0.5g</td><td></td><td>Total Sugars 0g</td><td></td></tr><tr><td>Cholest 30mg</td><td>9%</td><td>Incl 0g Added Sugars</td><td>0%</td></tr><tr><td>Sodium 360mg</td><td>16%</td><td>Protein 6g</td><td></td></tr><tr><td colspan=\"4\">Vitamin D 0% • Calcium 0% • Iron 4% • Potassium 2%</td></tr><tr><td colspan=\"4\">The % Daily Value (DV) tells you how much a nutrient in a serving of food contributes to a daily diet. 2,000 calories a day is used for general nutrition advice.</td></tr></tbody></table>', grounding=[ChunkGrounding(page=0, box=ChunkGroundingBox(l=0.18744176626205444, t=0.6504496335983276, r=0.6937093734741211, b=0.8605146408081055), image_path=None)], chunk_type=<ChunkType.table: 'table'>, chunk_id='0f809eda-1094-4d22-8b34-0ea468413bcf'), Chunk(text='Summary : This image shows a vertically oriented barcode label with both a numeric code and an alphanumeric identifier.\\n\\nbarcode:\\nFull Code & Type :\\n  • Numeric code: 532310071212\\n  • Alphanumeric identifier: 8SHD08C1 (printed above the barcode)\\n  • Barcode type: Not explicitly stated; appears to be a 12-digit UPC-A or similar linear barcode.\\n  • Orientation: Vertical (numbers run from top to bottom along the left side of the barcode)\\n  • Quiet zone: Present on both sides of the barcode (white space)\\n  • Module count: Standard for 12-digit linear barcodes; precise count not specified.\\n\\nPlacement & Dimensions :\\n  • Label is narrow and vertically oriented.\\n  • Numeric code is printed along the left edge, alphanumeric code at the top.\\n\\nAnalysis :\\n  • The barcode is designed for machine scanning and human readability, with both numeric and alphanumeric codes present. The vertical orientation suggests it may be used on a small or narrow product package.', grounding=[ChunkGrounding(page=0, box=ChunkGroundingBox(l=0.7012795805931091, t=0.6486937999725342, r=0.7917370200157166, b=0.8567761182785034), image_path=None)], chunk_type=<ChunkType.figure: 'figure'>, chunk_id='2e41515b-f5ea-4dd2-9966-0c0ea1559a03'), Chunk(text='NET WT 8 OZ', grounding=[ChunkGrounding(page=0, box=ChunkGroundingBox(l=0.15396299958229065, t=0.8673994541168213, r=0.3122105896472931, b=0.9170569181442261), image_path=None)], chunk_type=<ChunkType.text: 'text'>, chunk_id='0ba0ae06-e3e8-45e6-bff9-84b7727d2dad'), Chunk(text='INGREDIENTS: GRASS FED BEEF, WATER, LESS THAN 2% OF THE FOLLOWING: SPICES INCLUDING PAPRIKA, SEA SALT, VINEGAR, CULTURED CELERY POWDER, GARLIC POWDER, CHERRY POWDER, ONION POWDER.', grounding=[ChunkGrounding(page=0, box=ChunkGroundingBox(l=0.4321235716342926, t=0.8606199622154236, r=0.6486995220184326, b=0.9213903546333313), image_path=None)], chunk_type=<ChunkType.text: 'text'>, chunk_id='9d08836c-f198-44aa-8806-f5f32d3d9ee5'), Chunk(text='Distributed by\\nTeton Waters Ranch\\nLoveland, CO 80538\\nTetonWatersRanch.com', grounding=[ChunkGrounding(page=0, box=ChunkGroundingBox(l=0.6586894392967224, t=0.8667811155319214, r=0.7625678181648254, b=0.9192259311676025), image_path=None)], chunk_type=<ChunkType.marginalia: 'marginalia'>, chunk_id='e1ebd41d-b54d-49a5-a2c9-696bfbc24e9b'), Chunk(text='stamp:  \\nShape, Border, and Ink : \\n  • Circular stamp with a single black border line.\\n  • Black ink on a light background.\\n\\nText : \\n  • \"U.S.\"\\n  • \"INSPECTED AND PASSED BY DEPARTMENT OF AGRICULTURE\"\\n\\nDimensions & Placement : \\n  • Proportions suggest a diameter of approximately 1–2 inches.\\n  • Text is centered within the circle.\\n\\nAnalysis : \\n  • This is a standard U.S. Department of Agriculture inspection stamp, typically found on meat or poultry products to indicate federal inspection and approval.', grounding=[ChunkGrounding(page=0, box=ChunkGroundingBox(l=0.8244832754135132, t=0.8510605692863464, r=0.8850430250167847, b=0.9146308302879333), image_path=None)], chunk_type=<ChunkType.figure: 'figure'>, chunk_id='6a9f2c91-1556-448b-8cec-e15137fac703')], extraction=Product(product_name='Uncured Beef Hot Dogs', brand='Teton Waters Ranch', net_weight_oz=8.0, net_weight_g=0.0, servings_per_container=5, serving_size='1 link (45g)', product_type='hot dogs', flavor='', is_grass_fed=True, is_organic=False, is_keto_friendly=False, is_paleo_friendly=False, is_kosher=False, is_regenerative=False, is_certified_humane=True, is_animal_welfare_certified=False, is_pasture_raised=False, is_non_gmo=False, is_gluten_free=True, is_dairy_free=False, is_lactose_free=False, is_whole30_approved=True, has_no_added_sugar=True, no_antibiotics=True, no_hormones=True, no_animal_byproducts=True, usda_inspected=True), extraction_metadata=ProductMetadata(product_name={'chunk_references': ['79d50a02-f930-4e16-8197-4b1f4a9b41a6']}, brand={'chunk_references': ['e1ebd41d-b54d-49a5-a2c9-696bfbc24e9b', '9df85225-17c9-49a0-a482-76e6db882c17']}, net_weight_oz={'chunk_references': ['0ba0ae06-e3e8-45e6-bff9-84b7727d2dad']}, net_weight_g={'chunk_references': []}, servings_per_container={'chunk_references': ['0f809eda-1094-4d22-8b34-0ea468413bcf']}, serving_size={'chunk_references': ['0f809eda-1094-4d22-8b34-0ea468413bcf']}, product_type={'chunk_references': ['79d50a02-f930-4e16-8197-4b1f4a9b41a6']}, flavor={'chunk_references': []}, is_grass_fed={'chunk_references': ['9df85225-17c9-49a0-a482-76e6db882c17', '3d49f2dc-a475-49a0-a482-76e6db882c17']}, is_organic={'chunk_references': []}, is_keto_friendly={'chunk_references': []}, is_paleo_friendly={'chunk_references': []}, is_kosher={'chunk_references': []}, is_regenerative={'chunk_references': []}, is_certified_humane={'chunk_references': ['3d49f2dc-a475-49a0-a482-76e6db882c17']}, is_animal_welfare_certified={'chunk_references': []}, is_pasture_raised={'chunk_references': []}, is_non_gmo={'chunk_references': []}, is_gluten_free={'chunk_references': ['b64b0e73-7bf3-493d-b24f-2b8e31dce2e6']}, is_dairy_free={'chunk_references': []}, is_lactose_free={'chunk_references': []}, is_whole30_approved={'chunk_references': ['3d49f2dc-a475-49a0-a482-76e6db882c17']}, has_no_added_sugar={'chunk_references': ['3d49f2dc-a475-49a0-a482-76e6db882c17']}, no_antibiotics={'chunk_references': ['9df85225-17c9-49a0-a482-76e6db882c17']}, no_hormones={'chunk_references': ['9df85225-17c9-49a0-a482-76e6db882c17']}, no_animal_byproducts={'chunk_references': ['9df85225-17c9-49a0-a482-76e6db882c17']}, usda_inspected={'chunk_references': ['6a9f2c91-1556-448b-8cec-e15137fac703']}), start_page_idx=0, end_page_idx=0, doc_type='image', result_path=None, errors=[], extraction_error=None),\n",
       " ParsedDocument(markdown='ORIGINAL BEEF MINI STICKS\\nMILD\\n\\n6 COUNT\\n\\nCHOMPS\\n— CHOMPLINGS —\\n\\nBEEF\\n4g PROTEIN\\n45 CALORIES\\nPER SERVING\\n\\nMADE WITH GRASS FED & FINISHED BEEF\\n\\n4G PROTEIN PER SERVING\\n\\n45 CALORIES PER SERVING\\n\\nZERO SUGAR\\nNOT A LOW CALORIE SNACK\\n\\nWHOLE 30 APPROVED\\n\\nCERTIFIED GLUTEN FREE\\n\\nU.S. INSPECTED AND PASSED BY DEPARTMENT OF AGRICULTURE\\n\\n6 STICKS - 0.5 OZ. EA. NET WT. 3 OZ (84G) <!-- text, from page 0 (l=0.130,t=0.040,r=0.841,b=0.960), with ID 044859ec-e1a6-44d4-9868-57b32668f1d4 -->\\n\\nSummary : This image is a logo-style label indicating a product quantity, specifically a \"6 pack\", with a design element resembling the Amazon smile arrow.\\n\\nlogo: \\n  Text & Elements : \\n    • Large black numeral \"6\" followed by the word \"pack\" in smaller black text.\\n    • Below the text, an orange curved arrow resembling the Amazon \"smile\" logo.\\n    • All elements are enclosed within a thick black oval border.\\n  Dimensions & Placement : \\n    • The numeral \"6\" is left-aligned, \"pack\" is right of the \"6\".\\n    • The orange arrow curves upward from left to right, positioned below the text.\\n    • The entire design is centered within the oval.\\n  Analysis : \\n    • The use of the Amazon-style arrow suggests association with Amazon\\'s branding, likely to indicate a multi-pack product sold on the platform. <!-- figure, from page 0 (l=0.875,t=0.000,r=0.999,b=0.093), with ID 59232b10-cf97-4e69-9384-4b18af1d41e4 -->', chunks=[Chunk(text='ORIGINAL BEEF MINI STICKS\\nMILD\\n\\n6 COUNT\\n\\nCHOMPS\\n— CHOMPLINGS —\\n\\nBEEF\\n4g PROTEIN\\n45 CALORIES\\nPER SERVING\\n\\nMADE WITH GRASS FED & FINISHED BEEF\\n\\n4G PROTEIN PER SERVING\\n\\n45 CALORIES PER SERVING\\n\\nZERO SUGAR\\nNOT A LOW CALORIE SNACK\\n\\nWHOLE 30 APPROVED\\n\\nCERTIFIED GLUTEN FREE\\n\\nU.S. INSPECTED AND PASSED BY DEPARTMENT OF AGRICULTURE\\n\\n6 STICKS - 0.5 OZ. EA. NET WT. 3 OZ (84G)', grounding=[ChunkGrounding(page=0, box=ChunkGroundingBox(l=0.13049376010894775, t=0.04003867506980896, r=0.8405967354774475, b=0.9603948593139648), image_path=None)], chunk_type=<ChunkType.text: 'text'>, chunk_id='044859ec-e1a6-44d4-9868-57b32668f1d4'), Chunk(text='Summary : This image is a logo-style label indicating a product quantity, specifically a \"6 pack\", with a design element resembling the Amazon smile arrow.\\n\\nlogo: \\n  Text & Elements : \\n    • Large black numeral \"6\" followed by the word \"pack\" in smaller black text.\\n    • Below the text, an orange curved arrow resembling the Amazon \"smile\" logo.\\n    • All elements are enclosed within a thick black oval border.\\n  Dimensions & Placement : \\n    • The numeral \"6\" is left-aligned, \"pack\" is right of the \"6\".\\n    • The orange arrow curves upward from left to right, positioned below the text.\\n    • The entire design is centered within the oval.\\n  Analysis : \\n    • The use of the Amazon-style arrow suggests association with Amazon\\'s branding, likely to indicate a multi-pack product sold on the platform.', grounding=[ChunkGrounding(page=0, box=ChunkGroundingBox(l=0.8754627108573914, t=2.9068440198898315e-05, r=0.9991852641105652, b=0.09332682192325592), image_path=None)], chunk_type=<ChunkType.figure: 'figure'>, chunk_id='59232b10-cf97-4e69-9384-4b18af1d41e4')], extraction=Product(product_name='ORIGINAL BEEF MINI STICKS', brand='CHOMPS', net_weight_oz=3.0, net_weight_g=84.0, servings_per_container=0, serving_size='1 stick (0.5 OZ)', product_type='beef sticks', flavor='mild', is_grass_fed=True, is_organic=False, is_keto_friendly=False, is_paleo_friendly=False, is_kosher=False, is_regenerative=False, is_certified_humane=False, is_animal_welfare_certified=False, is_pasture_raised=False, is_non_gmo=False, is_gluten_free=True, is_dairy_free=False, is_lactose_free=False, is_whole30_approved=True, has_no_added_sugar=True, no_antibiotics=False, no_hormones=False, no_animal_byproducts=False, usda_inspected=True), extraction_metadata=ProductMetadata(product_name={'chunk_references': ['044859ec-e1a6-44d4-9868-57b32668f1d4']}, brand={'chunk_references': ['044859ec-e1a6-44d4-9868-57b32668f1d4']}, net_weight_oz={'chunk_references': ['044859ec-e1a6-44d4-9868-57b32668f1d4']}, net_weight_g={'chunk_references': ['044859ec-e1a6-44d4-9868-57b32668f1d4']}, servings_per_container={'chunk_references': []}, serving_size={'chunk_references': ['044859ec-e1a6-44d4-9868-57b32668f1d4']}, product_type={'chunk_references': ['044859ec-e1a6-44d4-9868-57b32668f1d4']}, flavor={'chunk_references': ['044859ec-e1a6-44d4-9868-57b32668f1d4']}, is_grass_fed={'chunk_references': ['044859ec-e1a6-44d4-9868-57b32668f1d4']}, is_organic={'chunk_references': []}, is_keto_friendly={'chunk_references': []}, is_paleo_friendly={'chunk_references': []}, is_kosher={'chunk_references': []}, is_regenerative={'chunk_references': []}, is_certified_humane={'chunk_references': []}, is_animal_welfare_certified={'chunk_references': []}, is_pasture_raised={'chunk_references': []}, is_non_gmo={'chunk_references': []}, is_gluten_free={'chunk_references': ['044859ec-e1a6-44d4-9868-57b32668f1d4']}, is_dairy_free={'chunk_references': []}, is_lactose_free={'chunk_references': []}, is_whole30_approved={'chunk_references': ['044859ec-e1a6-44d4-9868-57b32668f1d4']}, has_no_added_sugar={'chunk_references': ['044859ec-e1a6-44d4-9868-57b32668f1d4']}, no_antibiotics={'chunk_references': []}, no_hormones={'chunk_references': []}, no_animal_byproducts={'chunk_references': []}, usda_inspected={'chunk_references': ['044859ec-e1a6-44d4-9868-57b32668f1d4']}), start_page_idx=0, end_page_idx=0, doc_type='image', result_path=None, errors=[], extraction_error=None)]"
      ]
     },
     "execution_count": 8,
     "metadata": {},
     "output_type": "execute_result"
    }
   ],
   "source": [
    "# View results\n",
    "result_fe"
   ]
  },
  {
   "cell_type": "markdown",
   "id": "556dc403",
   "metadata": {},
   "source": [
    "## 🔍 Explore Field Extraction Outputs\n",
    "\n",
    "Dive into the result to understand the contents and structure."
   ]
  },
  {
   "cell_type": "code",
   "execution_count": 9,
   "id": "0d05f115",
   "metadata": {},
   "outputs": [],
   "source": [
    "# Access one document from the results\n",
    "doc = result_fe[2] # Choose index based on available docs"
   ]
  },
  {
   "cell_type": "code",
   "execution_count": 10,
   "id": "be9daea9",
   "metadata": {},
   "outputs": [
    {
     "name": "stdout",
     "output_type": "stream",
     "text": [
      "Document Type: image\n",
      "Result Path: None\n",
      "Markdown Summary (first 100 chars):\n",
      "Summary : This image is a logo-style graphic promoting the concept of \"Super Foods with Purpose,\" em\n",
      "Total Chunks: 4\n",
      "\n",
      "--- Chunk 1 ---\n",
      "Chunk ID: d5604e6b-afd7-45e9-8a10-3220b67bf9c3\n",
      "Chunk Type: figure\n",
      "Text (shortened): Summary : This image is a logo-style graphic promoting the concept of \"Super Foods with Purpose,\" em ...\n",
      "  Page: 0\n",
      "  Box (l, t, r, b): (0.116, 0.010, 0.255, 0.226)\n",
      "  Image Path: None\n",
      "\n",
      "--- Chunk 2 ---\n",
      "Chunk ID: a484a55b-42cc-4db9-9004-5288b6ecc13e\n",
      "Chunk Type: figure\n",
      "Text (shortened): Summary : This is a product label illustration promoting a food item as suitable for topping and sna ...\n",
      "  Page: 0\n",
      "  Box (l, t, r, b): (0.567, 0.029, 0.732, 0.187)\n",
      "  Image Path: None\n",
      "\n",
      "--- Chunk 3 ---\n",
      "Chunk ID: ea3adc5b-5fd0-4f80-b734-16c6e8436c0b\n",
      "Chunk Type: text\n",
      "Text (shortened): logo: NAVITAS ORGANICS ...\n",
      "  Page: 0\n",
      "  Box (l, t, r, b): (0.262, 0.214, 0.573, 0.368)\n",
      "  Image Path: None\n",
      "\n",
      "--- Chunk 4 ---\n",
      "Chunk ID: b0070276-1ffa-41c9-9c19-589be655e6a5\n",
      "Chunk Type: figure\n",
      "Text (shortened): Summary : This is a product package image for organic goji berries, highlighting key features and ce ...\n",
      "  Page: 0\n",
      "  Box (l, t, r, b): (0.124, 0.397, 0.733, 0.977)\n",
      "  Image Path: None\n"
     ]
    }
   ],
   "source": [
    "# Extract various outputs\n",
    "markdown_output = doc.markdown\n",
    "chunk_output = doc.chunks\n",
    "doc_type = doc.doc_type\n",
    "result_path = str(doc.result_path)\n",
    "\n",
    "# Print metadata\n",
    "print(\"Document Type:\", doc_type)\n",
    "print(\"Result Path:\", result_path)\n",
    "print(\"Markdown Summary (first 100 chars):\")\n",
    "print(markdown_output[:100])\n",
    "\n",
    "# Access and iterate through chunks\n",
    "print(f\"Total Chunks: {len(doc.chunks)}\")\n",
    "\n",
    "for i, chunk in enumerate(doc.chunks):\n",
    "    print(f\"\\n--- Chunk {i+1} ---\")\n",
    "    print(\"Chunk ID:\", chunk.chunk_id)\n",
    "    print(\"Chunk Type:\", chunk.chunk_type.value)  # e.g., 'text', 'figure', etc.\n",
    "    print(\"Text (shortened):\", chunk.text[:100].replace(\"\\n\", \" \"), \"...\")\n",
    "\n",
    "    # Access grounding (box and image path)\n",
    "    for grounding in chunk.grounding:\n",
    "        box = grounding.box\n",
    "        print(\"  Page:\", grounding.page)\n",
    "        print(f\"  Box (l, t, r, b): ({box.l:.3f}, {box.t:.3f}, {box.r:.3f}, {box.b:.3f})\")\n",
    "        print(\"  Image Path:\", str(grounding.image_path))\n"
   ]
  },
  {
   "cell_type": "code",
   "execution_count": 11,
   "id": "b01532e7",
   "metadata": {},
   "outputs": [
    {
     "data": {
      "text/plain": [
       "Product(product_name='Organic Goji Berries', brand='NAVITAS ORGANICS', net_weight_oz=8.0, net_weight_g=227.0, servings_per_container=0, serving_size='', product_type='superfood', flavor='', is_grass_fed=False, is_organic=True, is_keto_friendly=False, is_paleo_friendly=False, is_kosher=False, is_regenerative=False, is_certified_humane=False, is_animal_welfare_certified=False, is_pasture_raised=False, is_non_gmo=True, is_gluten_free=False, is_dairy_free=False, is_lactose_free=False, is_whole30_approved=False, has_no_added_sugar=False, no_antibiotics=False, no_hormones=False, no_animal_byproducts=False, usda_inspected=False)"
      ]
     },
     "execution_count": 11,
     "metadata": {},
     "output_type": "execute_result"
    }
   ],
   "source": [
    "# print the field extractions\n",
    "doc.extraction"
   ]
  },
  {
   "cell_type": "code",
   "execution_count": 12,
   "id": "86f9b196",
   "metadata": {},
   "outputs": [
    {
     "data": {
      "text/plain": [
       "ProductMetadata(product_name={'chunk_references': ['b0070276-1ffa-41c9-9c19-589be655e6a5']}, brand={'chunk_references': ['ea3adc5b-5fd0-4f80-b734-16c6e8436c0b']}, net_weight_oz={'chunk_references': ['b0070276-1ffa-41c9-9c19-589be655e6a5']}, net_weight_g={'chunk_references': ['b0070276-1ffa-41c9-9c19-589be655e6a5']}, servings_per_container={'chunk_references': []}, serving_size={'chunk_references': []}, product_type={'chunk_references': ['b0070276-1ffa-41c9-9c19-589be655e6a5']}, flavor={'chunk_references': []}, is_grass_fed={'chunk_references': []}, is_organic={'chunk_references': ['b0070276-1ffa-41c9-9c19-589be655e6a5']}, is_keto_friendly={'chunk_references': []}, is_paleo_friendly={'chunk_references': []}, is_kosher={'chunk_references': []}, is_regenerative={'chunk_references': []}, is_certified_humane={'chunk_references': []}, is_animal_welfare_certified={'chunk_references': []}, is_pasture_raised={'chunk_references': []}, is_non_gmo={'chunk_references': ['b0070276-1ffa-41c9-9c19-589be655e6a5']}, is_gluten_free={'chunk_references': []}, is_dairy_free={'chunk_references': []}, is_lactose_free={'chunk_references': []}, is_whole30_approved={'chunk_references': []}, has_no_added_sugar={'chunk_references': []}, no_antibiotics={'chunk_references': []}, no_hormones={'chunk_references': []}, no_animal_byproducts={'chunk_references': []}, usda_inspected={'chunk_references': []})"
      ]
     },
     "execution_count": 12,
     "metadata": {},
     "output_type": "execute_result"
    }
   ],
   "source": [
    "# print the metadata for the field extractions\n",
    "doc.extraction_metadata"
   ]
  },
  {
   "cell_type": "code",
   "execution_count": 13,
   "id": "2276c47b",
   "metadata": {},
   "outputs": [
    {
     "data": {
      "text/plain": [
       "'Organic Goji Berries'"
      ]
     },
     "execution_count": 13,
     "metadata": {},
     "output_type": "execute_result"
    }
   ],
   "source": [
    "# print the extracted product name \n",
    "doc.extraction.product_name"
   ]
  },
  {
   "cell_type": "code",
   "execution_count": 14,
   "id": "00f40146",
   "metadata": {},
   "outputs": [
    {
     "data": {
      "text/plain": [
       "['b0070276-1ffa-41c9-9c19-589be655e6a5']"
      ]
     },
     "execution_count": 14,
     "metadata": {},
     "output_type": "execute_result"
    }
   ],
   "source": [
    "# print the chunk from which the product name is extracted\n",
    "# note that there can be more than one, so this is returned as a list\n",
    "doc.extraction_metadata.product_name['chunk_references']"
   ]
  },
  {
   "cell_type": "code",
   "execution_count": 15,
   "id": "5ec822ae",
   "metadata": {},
   "outputs": [
    {
     "name": "stdout",
     "output_type": "stream",
     "text": [
      "Chunk type: ChunkType.figure\n",
      "Chunk text: Summary : This is a product package image for organic goji berries, highlighting key features and certifications.\n",
      "\n",
      "photo:\n",
      "Scene Overview :\n",
      "  • The main subject is a package of organic goji berries.\n",
      "  • The package is predominantly purple and pink with white and red accents.\n",
      "  • A white spoon filled with dried goji berries is prominently displayed, along with an illustration of fresh goji berries and green leaves.\n",
      "  • The text \"ORGANIC GOJI BERRIES\" is large and central.\n",
      "  • The phrase \"PLANT-BASED SUPERFOOD\" appears in a pink box at the top right.\n",
      "\n",
      "Technical Details :\n",
      "  • The package lists several product features:\n",
      "    – \"HIGH IN ANTIOXIDANTS (VIT. A)\"\n",
      "    – \"MILDLY SWEET & TANGY\"\n",
      "    – \"UNSULFURED & GENTLY DRIED\"\n",
      "  • Certifications and labels visible:\n",
      "    – \"USDA ORGANIC\" seal (bottom left)\n",
      "    – \"NON GMO\" icon (bottom left)\n",
      "  • Net weight is specified as \"NET WT 8 OZ (227g)\" at the bottom.\n",
      "  • The product is described as \"PLANT-BASED SUPERFOOD\" and \"ORGANIC\".\n",
      "\n",
      "Spatial Relationships :\n",
      "  • The spoon with dried goji berries is on the right side, overlapping the product name area.\n",
      "  • The fresh goji berry illustration is below the spoon, with green leaves extending leftward.\n",
      "  • Certification icons are at the bottom left, with the net weight centered at the bottom.\n",
      "\n",
      "Analysis :\n",
      "  • The packaging design emphasizes health benefits (antioxidants, organic, non-GMO), plant-based qualities, and product purity (unsulfured, gently dried).\n",
      "  • The visual focus on both dried and fresh berries, along with green leaves, reinforces the natural and wholesome image of the product.\n",
      "  • Prominent placement of certifications and product features targets health-conscious consumers.\n",
      "Page: 0\n",
      "Box Coordinates:\n",
      "  Left (l):   0.12386670708656311\n",
      "  Top (t):    0.3972513973712921\n",
      "  Right (r):  0.7326459884643555\n",
      "  Bottom (b): 0.977474570274353\n"
     ]
    }
   ],
   "source": [
    "# print the page number and bounding box location for the chunk\n",
    "target_id = 'b0070276-1ffa-41c9-9c19-589be655e6a5'  #Update this value based on the response above\n",
    "\n",
    "# Search through chunks to find the one with the matching ID\n",
    "for chunk in doc.chunks:\n",
    "    if chunk.chunk_id == target_id:\n",
    "        print(\"Chunk type:\", chunk.chunk_type)\n",
    "        print(\"Chunk text:\", chunk.text)\n",
    "        for grounding in chunk.grounding:\n",
    "            box = grounding.box\n",
    "            print(\"Page:\", grounding.page)\n",
    "            print(f\"Box Coordinates:\")\n",
    "            print(f\"  Left (l):   {box.l}\")\n",
    "            print(f\"  Top (t):    {box.t}\")\n",
    "            print(f\"  Right (r):  {box.r}\")\n",
    "            print(f\"  Bottom (b): {box.b}\")\n",
    "        break\n",
    "else:\n",
    "    print(\"Chunk ID not found.\")"
   ]
  },
  {
   "cell_type": "code",
   "execution_count": 16,
   "id": "a89a067e",
   "metadata": {},
   "outputs": [
    {
     "name": "stdout",
     "output_type": "stream",
     "text": [
      "The product name is: Organic Goji Berries. This is extracted from chunk ['b0070276-1ffa-41c9-9c19-589be655e6a5']\n",
      "The product claims to be non-GMO: True. This is extracted from chunk ['b0070276-1ffa-41c9-9c19-589be655e6a5']\n",
      "The product claims to be gluten free: False. This is extracted from chunk []\n"
     ]
    }
   ],
   "source": [
    "# print specific fields and the associated metadata\n",
    "print(f\"The product name is: {doc.extraction.product_name}. This is extracted from chunk {doc.extraction_metadata.product_name['chunk_references']}\")\n",
    "print(f\"The product claims to be non-GMO: {doc.extraction.is_non_gmo}. This is extracted from chunk {doc.extraction_metadata.is_non_gmo['chunk_references']}\")\n",
    "print(f\"The product claims to be gluten free: {doc.extraction.is_gluten_free}. This is extracted from chunk {doc.extraction_metadata.is_gluten_free['chunk_references']}\")"
   ]
  },
  {
   "cell_type": "markdown",
   "id": "8fefba01",
   "metadata": {},
   "source": [
    "## 💾 Convert to Table and Save\n",
    "\n",
    "Convert the field extractions to a pandas dataframe. Save it to the results folder created earlier."
   ]
  },
  {
   "cell_type": "code",
   "execution_count": 17,
   "id": "c5b1ec80",
   "metadata": {},
   "outputs": [
    {
     "data": {
      "text/html": [
       "<div>\n",
       "<style scoped>\n",
       "    .dataframe tbody tr th:only-of-type {\n",
       "        vertical-align: middle;\n",
       "    }\n",
       "\n",
       "    .dataframe tbody tr th {\n",
       "        vertical-align: top;\n",
       "    }\n",
       "\n",
       "    .dataframe thead th {\n",
       "        text-align: right;\n",
       "    }\n",
       "</style>\n",
       "<table border=\"1\" class=\"dataframe\">\n",
       "  <thead>\n",
       "    <tr style=\"text-align: right;\">\n",
       "      <th></th>\n",
       "      <th>product_name</th>\n",
       "      <th>product_name_ref</th>\n",
       "      <th>brand</th>\n",
       "      <th>net_weight_oz</th>\n",
       "      <th>net_weight_oz_ref</th>\n",
       "      <th>net_weight_g</th>\n",
       "      <th>servings_per_container</th>\n",
       "      <th>serving_size</th>\n",
       "      <th>product_type</th>\n",
       "      <th>flavor</th>\n",
       "      <th>...</th>\n",
       "      <th>is_gluten_free</th>\n",
       "      <th>is_dairy_free</th>\n",
       "      <th>is_lactose_free</th>\n",
       "      <th>is_whole30_approved</th>\n",
       "      <th>has_no_added_sugar</th>\n",
       "      <th>no_antibiotics</th>\n",
       "      <th>no_hormones</th>\n",
       "      <th>no_animal_byproducts</th>\n",
       "      <th>usda_inspected</th>\n",
       "      <th>usda_inspected_ref</th>\n",
       "    </tr>\n",
       "  </thead>\n",
       "  <tbody>\n",
       "    <tr>\n",
       "      <th>0</th>\n",
       "      <td>100% Grass-Fed A2/A2 Organic Plain Yogurt</td>\n",
       "      <td>[2c27ec64-98e9-4743-b4e7-b1b8a4d44d03]</td>\n",
       "      <td>Alexandre Family Farm</td>\n",
       "      <td>24.00</td>\n",
       "      <td>[2c27ec64-98e9-4743-b4e7-b1b8a4d44d03]</td>\n",
       "      <td>680.0</td>\n",
       "      <td>0</td>\n",
       "      <td></td>\n",
       "      <td>yogurt</td>\n",
       "      <td>plain</td>\n",
       "      <td>...</td>\n",
       "      <td>False</td>\n",
       "      <td>False</td>\n",
       "      <td>False</td>\n",
       "      <td>False</td>\n",
       "      <td>False</td>\n",
       "      <td>False</td>\n",
       "      <td>False</td>\n",
       "      <td>False</td>\n",
       "      <td>False</td>\n",
       "      <td>[]</td>\n",
       "    </tr>\n",
       "    <tr>\n",
       "      <th>1</th>\n",
       "      <td>Ancestral Blend Ground Beef, Beef Liver, Beef ...</td>\n",
       "      <td>[58deba68-7421-4a9c-a6b3-b604b33d2aa0, 2bea927...</td>\n",
       "      <td>Force of Nature</td>\n",
       "      <td>16.00</td>\n",
       "      <td>[4093b83c-ad18-47fa-bb20-69a9ce1aa9c4]</td>\n",
       "      <td>0.0</td>\n",
       "      <td>0</td>\n",
       "      <td></td>\n",
       "      <td>ground beef</td>\n",
       "      <td></td>\n",
       "      <td>...</td>\n",
       "      <td>False</td>\n",
       "      <td>False</td>\n",
       "      <td>False</td>\n",
       "      <td>False</td>\n",
       "      <td>False</td>\n",
       "      <td>False</td>\n",
       "      <td>False</td>\n",
       "      <td>False</td>\n",
       "      <td>True</td>\n",
       "      <td>[4093b83c-ad18-47fa-bb20-69a9ce1aa9c4]</td>\n",
       "    </tr>\n",
       "    <tr>\n",
       "      <th>2</th>\n",
       "      <td>Organic Goji Berries</td>\n",
       "      <td>[b0070276-1ffa-41c9-9c19-589be655e6a5]</td>\n",
       "      <td>NAVITAS ORGANICS</td>\n",
       "      <td>8.00</td>\n",
       "      <td>[b0070276-1ffa-41c9-9c19-589be655e6a5]</td>\n",
       "      <td>227.0</td>\n",
       "      <td>0</td>\n",
       "      <td></td>\n",
       "      <td>superfood</td>\n",
       "      <td></td>\n",
       "      <td>...</td>\n",
       "      <td>False</td>\n",
       "      <td>False</td>\n",
       "      <td>False</td>\n",
       "      <td>False</td>\n",
       "      <td>False</td>\n",
       "      <td>False</td>\n",
       "      <td>False</td>\n",
       "      <td>False</td>\n",
       "      <td>False</td>\n",
       "      <td>[]</td>\n",
       "    </tr>\n",
       "    <tr>\n",
       "      <th>3</th>\n",
       "      <td>COLLAGEN CREAMER</td>\n",
       "      <td>[74e35e41-4753-499e-9a89-bc1396e2570e]</td>\n",
       "      <td>Garden of Life</td>\n",
       "      <td>11.64</td>\n",
       "      <td>[74e35e41-4753-499e-9a89-bc1396e2570e]</td>\n",
       "      <td>330.0</td>\n",
       "      <td>12</td>\n",
       "      <td></td>\n",
       "      <td>supplement</td>\n",
       "      <td>creamy vanilla</td>\n",
       "      <td>...</td>\n",
       "      <td>False</td>\n",
       "      <td>True</td>\n",
       "      <td>False</td>\n",
       "      <td>False</td>\n",
       "      <td>False</td>\n",
       "      <td>False</td>\n",
       "      <td>False</td>\n",
       "      <td>False</td>\n",
       "      <td>False</td>\n",
       "      <td>[]</td>\n",
       "    </tr>\n",
       "    <tr>\n",
       "      <th>4</th>\n",
       "      <td>Uncured Beef Hot Dogs</td>\n",
       "      <td>[79d50a02-f930-4e16-8197-4b1f4a9b41a6]</td>\n",
       "      <td>Teton Waters Ranch</td>\n",
       "      <td>8.00</td>\n",
       "      <td>[0ba0ae06-e3e8-45e6-bff9-84b7727d2dad]</td>\n",
       "      <td>0.0</td>\n",
       "      <td>5</td>\n",
       "      <td>1 link (45g)</td>\n",
       "      <td>hot dogs</td>\n",
       "      <td></td>\n",
       "      <td>...</td>\n",
       "      <td>True</td>\n",
       "      <td>False</td>\n",
       "      <td>False</td>\n",
       "      <td>True</td>\n",
       "      <td>True</td>\n",
       "      <td>True</td>\n",
       "      <td>True</td>\n",
       "      <td>True</td>\n",
       "      <td>True</td>\n",
       "      <td>[6a9f2c91-1556-448b-8cec-e15137fac703]</td>\n",
       "    </tr>\n",
       "    <tr>\n",
       "      <th>5</th>\n",
       "      <td>ORIGINAL BEEF MINI STICKS</td>\n",
       "      <td>[044859ec-e1a6-44d4-9868-57b32668f1d4]</td>\n",
       "      <td>CHOMPS</td>\n",
       "      <td>3.00</td>\n",
       "      <td>[044859ec-e1a6-44d4-9868-57b32668f1d4]</td>\n",
       "      <td>84.0</td>\n",
       "      <td>0</td>\n",
       "      <td>1 stick (0.5 OZ)</td>\n",
       "      <td>beef sticks</td>\n",
       "      <td>mild</td>\n",
       "      <td>...</td>\n",
       "      <td>True</td>\n",
       "      <td>False</td>\n",
       "      <td>False</td>\n",
       "      <td>True</td>\n",
       "      <td>True</td>\n",
       "      <td>False</td>\n",
       "      <td>False</td>\n",
       "      <td>False</td>\n",
       "      <td>True</td>\n",
       "      <td>[044859ec-e1a6-44d4-9868-57b32668f1d4]</td>\n",
       "    </tr>\n",
       "  </tbody>\n",
       "</table>\n",
       "<p>6 rows × 30 columns</p>\n",
       "</div>"
      ],
      "text/plain": [
       "                                        product_name  \\\n",
       "0          100% Grass-Fed A2/A2 Organic Plain Yogurt   \n",
       "1  Ancestral Blend Ground Beef, Beef Liver, Beef ...   \n",
       "2                               Organic Goji Berries   \n",
       "3                                   COLLAGEN CREAMER   \n",
       "4                              Uncured Beef Hot Dogs   \n",
       "5                          ORIGINAL BEEF MINI STICKS   \n",
       "\n",
       "                                    product_name_ref                  brand  \\\n",
       "0             [2c27ec64-98e9-4743-b4e7-b1b8a4d44d03]  Alexandre Family Farm   \n",
       "1  [58deba68-7421-4a9c-a6b3-b604b33d2aa0, 2bea927...        Force of Nature   \n",
       "2             [b0070276-1ffa-41c9-9c19-589be655e6a5]       NAVITAS ORGANICS   \n",
       "3             [74e35e41-4753-499e-9a89-bc1396e2570e]         Garden of Life   \n",
       "4             [79d50a02-f930-4e16-8197-4b1f4a9b41a6]     Teton Waters Ranch   \n",
       "5             [044859ec-e1a6-44d4-9868-57b32668f1d4]                 CHOMPS   \n",
       "\n",
       "   net_weight_oz                       net_weight_oz_ref  net_weight_g  \\\n",
       "0          24.00  [2c27ec64-98e9-4743-b4e7-b1b8a4d44d03]         680.0   \n",
       "1          16.00  [4093b83c-ad18-47fa-bb20-69a9ce1aa9c4]           0.0   \n",
       "2           8.00  [b0070276-1ffa-41c9-9c19-589be655e6a5]         227.0   \n",
       "3          11.64  [74e35e41-4753-499e-9a89-bc1396e2570e]         330.0   \n",
       "4           8.00  [0ba0ae06-e3e8-45e6-bff9-84b7727d2dad]           0.0   \n",
       "5           3.00  [044859ec-e1a6-44d4-9868-57b32668f1d4]          84.0   \n",
       "\n",
       "   servings_per_container      serving_size product_type          flavor  ...  \\\n",
       "0                       0                         yogurt           plain  ...   \n",
       "1                       0                    ground beef                  ...   \n",
       "2                       0                      superfood                  ...   \n",
       "3                      12                     supplement  creamy vanilla  ...   \n",
       "4                       5      1 link (45g)     hot dogs                  ...   \n",
       "5                       0  1 stick (0.5 OZ)  beef sticks            mild  ...   \n",
       "\n",
       "   is_gluten_free  is_dairy_free  is_lactose_free  is_whole30_approved  \\\n",
       "0           False          False            False                False   \n",
       "1           False          False            False                False   \n",
       "2           False          False            False                False   \n",
       "3           False           True            False                False   \n",
       "4            True          False            False                 True   \n",
       "5            True          False            False                 True   \n",
       "\n",
       "   has_no_added_sugar  no_antibiotics  no_hormones  no_animal_byproducts  \\\n",
       "0               False           False        False                 False   \n",
       "1               False           False        False                 False   \n",
       "2               False           False        False                 False   \n",
       "3               False           False        False                 False   \n",
       "4                True            True         True                  True   \n",
       "5                True           False        False                 False   \n",
       "\n",
       "   usda_inspected                      usda_inspected_ref  \n",
       "0           False                                      []  \n",
       "1            True  [4093b83c-ad18-47fa-bb20-69a9ce1aa9c4]  \n",
       "2           False                                      []  \n",
       "3           False                                      []  \n",
       "4            True  [6a9f2c91-1556-448b-8cec-e15137fac703]  \n",
       "5            True  [044859ec-e1a6-44d4-9868-57b32668f1d4]  \n",
       "\n",
       "[6 rows x 30 columns]"
      ]
     },
     "execution_count": 17,
     "metadata": {},
     "output_type": "execute_result"
    }
   ],
   "source": [
    "import pandas as pd\n",
    "\n",
    "# Assume result_fe is your list of ParsedDocument objects\n",
    "# Example: result_fe = [ParsedDocument(...), ParsedDocument(...), ...]\n",
    "\n",
    "# Extract the product data\n",
    "#Note that only 3 fields have chunk_references included for this example\n",
    "records = []\n",
    "for doc in result_fe:\n",
    "    product = doc.extraction\n",
    "    meta=doc.extraction_metadata\n",
    "    product_dict = {\n",
    "        \"product_name\": product.product_name,\n",
    "        \"product_name_ref\":meta.product_name['chunk_references'],\n",
    "        \"brand\": product.brand,\n",
    "        \"net_weight_oz\": product.net_weight_oz,\n",
    "        \"net_weight_oz_ref\":meta.net_weight_oz['chunk_references'],\n",
    "        \"net_weight_g\": product.net_weight_g,\n",
    "        \"servings_per_container\": product.servings_per_container,\n",
    "        \"serving_size\": product.serving_size,\n",
    "        \"product_type\": product.product_type,\n",
    "        \"flavor\": product.flavor,\n",
    "        \"is_grass_fed\": product.is_grass_fed,\n",
    "        \"is_organic\": product.is_organic,\n",
    "        \"is_keto_friendly\": product.is_keto_friendly,\n",
    "        \"is_paleo_friendly\": product.is_paleo_friendly,\n",
    "        \"is_kosher\": product.is_kosher,\n",
    "        \"is_regenerative\": product.is_regenerative,\n",
    "        \"is_certified_humane\": product.is_certified_humane,\n",
    "        \"is_animal_welfare_certified\": product.is_animal_welfare_certified,\n",
    "        \"is_pasture_raised\": product.is_pasture_raised,\n",
    "        \"is_non_gmo\": product.is_non_gmo,\n",
    "        \"is_gluten_free\": product.is_gluten_free,\n",
    "        \"is_dairy_free\": product.is_dairy_free,\n",
    "        \"is_lactose_free\": product.is_lactose_free,\n",
    "        \"is_whole30_approved\": product.is_whole30_approved,\n",
    "        \"has_no_added_sugar\": product.has_no_added_sugar,\n",
    "        \"no_antibiotics\": product.no_antibiotics,\n",
    "        \"no_hormones\": product.no_hormones,\n",
    "        \"no_animal_byproducts\": product.no_animal_byproducts,\n",
    "        \"usda_inspected\": product.usda_inspected,\n",
    "        \"usda_inspected_ref\": meta.usda_inspected['chunk_references'],\n",
    "    }\n",
    "    records.append(product_dict)\n",
    "\n",
    "# Create DataFrame\n",
    "df = pd.DataFrame(records)\n",
    "df\n"
   ]
  },
  {
   "cell_type": "code",
   "execution_count": 18,
   "id": "f1832a71",
   "metadata": {},
   "outputs": [],
   "source": [
    "# Save the DataFrame to a CSV file inside the results_folder\n",
    "csv_path = results_folder / \"output.csv\"\n",
    "df.to_csv(csv_path, index=False)"
   ]
  },
  {
   "cell_type": "markdown",
   "id": "dffce926",
   "metadata": {},
   "source": [
    "## ✅ Wrap-Up\n",
    "\n",
    "You’ve now used LandingAI’s ADE to:\n",
    "- Parse and extract data from images or PDFs\n",
    "- Define custom fields using `pydantic`\n",
    "- Export structured results to a table\n",
    "\n",
    "To learn more, visit the [LandingAI Documentation](https://docs.landing.ai/ade/ade-overview)."
   ]
  }
 ],
 "metadata": {
  "kernelspec": {
   "display_name": "Python 3",
   "language": "python",
   "name": "python3"
  },
  "language_info": {
   "codemirror_mode": {
    "name": "ipython",
    "version": 3
   },
   "file_extension": ".py",
   "mimetype": "text/x-python",
   "name": "python",
   "nbconvert_exporter": "python",
   "pygments_lexer": "ipython3",
   "version": "3.9.6"
  }
 },
 "nbformat": 4,
 "nbformat_minor": 5
}
