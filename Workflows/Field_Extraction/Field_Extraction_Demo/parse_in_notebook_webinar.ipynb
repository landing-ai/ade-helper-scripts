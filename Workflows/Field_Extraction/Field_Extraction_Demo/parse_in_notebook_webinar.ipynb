{
 "cells": [
  {
   "cell_type": "code",
   "execution_count": 1,
   "id": "2904a8b8",
   "metadata": {},
   "outputs": [
    {
     "name": "stdout",
     "output_type": "stream",
     "text": [
      "\u001b[2m2025-07-16 16:41:51\u001b[0m [info   \u001b[0m] \u001b[1mSettings loaded: {\n",
      "  \"endpoint_host\": \"https://api.va.landing.ai\",\n",
      "  \"vision_agent_api_key\": \"cmI5a[REDACTED]\",\n",
      "  \"batch_size\": 4,\n",
      "  \"max_workers\": 5,\n",
      "  \"max_retries\": 100,\n",
      "  \"max_retry_wait_time\": 60,\n",
      "  \"retry_logging_style\": \"log_msg\",\n",
      "  \"pdf_to_image_dpi\": 96,\n",
      "  \"split_size\": 10\n",
      "}\u001b[0m [\u001b[0m\u001b[1m\u001b[34magentic_doc.config\u001b[0m]\u001b[0m (config.py:84)\n"
     ]
    }
   ],
   "source": [
    "import os\n",
    "import json\n",
    "from pathlib import Path\n",
    "from PIL import Image as PILImage\n",
    "from agentic_doc.parse import parse\n",
    "from agentic_doc.utils import viz_parsed_document"
   ]
  },
  {
   "cell_type": "code",
   "execution_count": 2,
   "id": "d93a7504",
   "metadata": {},
   "outputs": [],
   "source": [
    "base_dir = Path(os.getcwd())\n",
    "input_folder = base_dir / \"input_folder_webinar\"\n",
    "results_folder = base_dir / \"results_folder_webinar\"\n",
    "groundings_folder = base_dir / \"groundings_folder_webinar\"\n",
    "visualizations_folder = base_dir / \"visualizations_folder_webinar\"\n",
    "input_folder.mkdir(parents=True, exist_ok=True)\n",
    "results_folder.mkdir(parents=True, exist_ok=True)\n",
    "groundings_folder.mkdir(parents=True, exist_ok=True)\n",
    "visualizations_folder.mkdir(parents=True, exist_ok=True)"
   ]
  },
  {
   "cell_type": "code",
   "execution_count": 3,
   "id": "23b44bb3",
   "metadata": {},
   "outputs": [],
   "source": [
    "file_paths = [\n",
    "    str(p)\n",
    "    for p in input_folder.iterdir()\n",
    "    if p.suffix.lower() in [\".pdf\", \".png\", \".jpg\", \".jpeg\"]\n",
    "]"
   ]
  },
  {
   "cell_type": "code",
   "execution_count": 4,
   "id": "d68d3ead",
   "metadata": {},
   "outputs": [
    {
     "data": {
      "text/plain": [
       "['/Users/andreakropp/Documents/Demos/ADE Demos/Notebooks/input_folder_webinar/alexandre_yogurt.jpg',\n",
       " '/Users/andreakropp/Documents/Demos/ADE Demos/Notebooks/input_folder_webinar/force_of_nature_beef.jpg',\n",
       " '/Users/andreakropp/Documents/Demos/ADE Demos/Notebooks/input_folder_webinar/goji.jpg',\n",
       " '/Users/andreakropp/Documents/Demos/ADE Demos/Notebooks/input_folder_webinar/garden_of_life_collagen.jpg',\n",
       " '/Users/andreakropp/Documents/Demos/ADE Demos/Notebooks/input_folder_webinar/teton_hot_dogs.jpg',\n",
       " '/Users/andreakropp/Documents/Demos/ADE Demos/Notebooks/input_folder_webinar/chomps.jpg']"
      ]
     },
     "execution_count": 4,
     "metadata": {},
     "output_type": "execute_result"
    }
   ],
   "source": [
    "file_paths"
   ]
  },
  {
   "cell_type": "code",
   "execution_count": 5,
   "id": "d39d1fed",
   "metadata": {},
   "outputs": [
    {
     "name": "stdout",
     "output_type": "stream",
     "text": [
      "\u001b[2m2025-07-16 16:43:17\u001b[0m [info   \u001b[0m] \u001b[1mAPI key is valid.             \u001b[0m [\u001b[0m\u001b[1m\u001b[34magentic_doc.utils\u001b[0m]\u001b[0m (utils.py:44)\n",
      "\u001b[2m2025-07-16 16:43:17\u001b[0m [info   \u001b[0m] \u001b[1mParsing 6 documents           \u001b[0m [\u001b[0m\u001b[1m\u001b[34magentic_doc.parse\u001b[0m]\u001b[0m (parse.py:322)\n"
     ]
    },
    {
     "name": "stderr",
     "output_type": "stream",
     "text": [
      "Parsing documents:   0%|          | 0/6 [00:00<?, ?it/s]"
     ]
    },
    {
     "name": "stdout",
     "output_type": "stream",
     "text": [
      "HTTP Request: POST https://api.va.landing.ai/v1/tools/agentic-document-analysis \"HTTP/1.1 200 OK\" (_client.py:1025)\n",
      "\u001b[2m2025-07-16 16:43:22\u001b[0m [info   \u001b[0m] \u001b[1mTime taken to successfully parse a document chunk: 5.81 seconds\u001b[0m [\u001b[0m\u001b[1m\u001b[34magentic_doc.parse\u001b[0m]\u001b[0m (parse.py:683)\n",
      "\u001b[2m2025-07-16 16:43:22\u001b[0m [info   \u001b[0m] \u001b[1mSaving 10 chunks as images to '/Users/andreakropp/Documents/Demos/ADE Demos/Notebooks/groundings_folder_webinar/force_of_nature_beef_20250716_094322'\u001b[0m [\u001b[0m\u001b[1m\u001b[34magentic_doc.utils\u001b[0m]\u001b[0m \u001b[36mfile_path\u001b[0m=\u001b[35mPosixPath('/Users/andreakropp/Documents/Demos/ADE Demos/Notebooks/input_folder_webinar/force_of_nature_beef.jpg')\u001b[0m \u001b[36mfile_type\u001b[0m=\u001b[35mimage\u001b[0m (utils.py:84)\n",
      "\u001b[2m2025-07-16 16:43:22\u001b[0m [info   \u001b[0m] \u001b[1mSaved the parsed result to '/Users/andreakropp/Documents/Demos/ADE Demos/Notebooks/results_folder_webinar/force_of_nature_beef_20250716_094322.json'\u001b[0m [\u001b[0m\u001b[1m\u001b[34magentic_doc.parse\u001b[0m]\u001b[0m (parse.py:407)\n",
      "HTTP Request: POST https://api.va.landing.ai/v1/tools/agentic-document-analysis \"HTTP/1.1 200 OK\" (_client.py:1025)\n",
      "\u001b[2m2025-07-16 16:43:23\u001b[0m [info   \u001b[0m] \u001b[1mTime taken to successfully parse a document chunk: 6.37 seconds\u001b[0m [\u001b[0m\u001b[1m\u001b[34magentic_doc.parse\u001b[0m]\u001b[0m (parse.py:683)\n",
      "\u001b[2m2025-07-16 16:43:23\u001b[0m [info   \u001b[0m] \u001b[1mSaving 1 chunks as images to '/Users/andreakropp/Documents/Demos/ADE Demos/Notebooks/groundings_folder_webinar/garden_of_life_collagen_20250716_094323'\u001b[0m [\u001b[0m\u001b[1m\u001b[34magentic_doc.utils\u001b[0m]\u001b[0m \u001b[36mfile_path\u001b[0m=\u001b[35mPosixPath('/Users/andreakropp/Documents/Demos/ADE Demos/Notebooks/input_folder_webinar/garden_of_life_collagen.jpg')\u001b[0m \u001b[36mfile_type\u001b[0m=\u001b[35mimage\u001b[0m (utils.py:84)\n",
      "\u001b[2m2025-07-16 16:43:23\u001b[0m [info   \u001b[0m] \u001b[1mSaved the parsed result to '/Users/andreakropp/Documents/Demos/ADE Demos/Notebooks/results_folder_webinar/garden_of_life_collagen_20250716_094323.json'\u001b[0m [\u001b[0m\u001b[1m\u001b[34magentic_doc.parse\u001b[0m]\u001b[0m (parse.py:407)\n",
      "HTTP Request: POST https://api.va.landing.ai/v1/tools/agentic-document-analysis \"HTTP/1.1 200 OK\" (_client.py:1025)\n",
      "\u001b[2m2025-07-16 16:43:24\u001b[0m [info   \u001b[0m] \u001b[1mTime taken to successfully parse a document chunk: 7.39 seconds\u001b[0m [\u001b[0m\u001b[1m\u001b[34magentic_doc.parse\u001b[0m]\u001b[0m (parse.py:683)\n",
      "\u001b[2m2025-07-16 16:43:24\u001b[0m [info   \u001b[0m] \u001b[1mSaving 4 chunks as images to '/Users/andreakropp/Documents/Demos/ADE Demos/Notebooks/groundings_folder_webinar/goji_20250716_094324'\u001b[0m [\u001b[0m\u001b[1m\u001b[34magentic_doc.utils\u001b[0m]\u001b[0m \u001b[36mfile_path\u001b[0m=\u001b[35mPosixPath('/Users/andreakropp/Documents/Demos/ADE Demos/Notebooks/input_folder_webinar/goji.jpg')\u001b[0m \u001b[36mfile_type\u001b[0m=\u001b[35mimage\u001b[0m (utils.py:84)\n",
      "\u001b[2m2025-07-16 16:43:24\u001b[0m [info   \u001b[0m] \u001b[1mSaved the parsed result to '/Users/andreakropp/Documents/Demos/ADE Demos/Notebooks/results_folder_webinar/goji_20250716_094324.json'\u001b[0m [\u001b[0m\u001b[1m\u001b[34magentic_doc.parse\u001b[0m]\u001b[0m (parse.py:407)\n",
      "HTTP Request: POST https://api.va.landing.ai/v1/tools/agentic-document-analysis \"HTTP/1.1 200 OK\" (_client.py:1025)\n",
      "\u001b[2m2025-07-16 16:43:26\u001b[0m [info   \u001b[0m] \u001b[1mTime taken to successfully parse a document chunk: 9.06 seconds\u001b[0m [\u001b[0m\u001b[1m\u001b[34magentic_doc.parse\u001b[0m]\u001b[0m (parse.py:683)\n",
      "\u001b[2m2025-07-16 16:43:26\u001b[0m [info   \u001b[0m] \u001b[1mSaving 1 chunks as images to '/Users/andreakropp/Documents/Demos/ADE Demos/Notebooks/groundings_folder_webinar/alexandre_yogurt_20250716_094326'\u001b[0m [\u001b[0m\u001b[1m\u001b[34magentic_doc.utils\u001b[0m]\u001b[0m \u001b[36mfile_path\u001b[0m=\u001b[35mPosixPath('/Users/andreakropp/Documents/Demos/ADE Demos/Notebooks/input_folder_webinar/alexandre_yogurt.jpg')\u001b[0m \u001b[36mfile_type\u001b[0m=\u001b[35mimage\u001b[0m (utils.py:84)\n",
      "\u001b[2m2025-07-16 16:43:26\u001b[0m [info   \u001b[0m] \u001b[1mSaved the parsed result to '/Users/andreakropp/Documents/Demos/ADE Demos/Notebooks/results_folder_webinar/alexandre_yogurt_20250716_094326.json'\u001b[0m [\u001b[0m\u001b[1m\u001b[34magentic_doc.parse\u001b[0m]\u001b[0m (parse.py:407)\n"
     ]
    },
    {
     "name": "stderr",
     "output_type": "stream",
     "text": [
      "Parsing documents:  17%|█▋        | 1/6 [00:09<00:45,  9.02s/it]"
     ]
    },
    {
     "name": "stdout",
     "output_type": "stream",
     "text": [
      "HTTP Request: POST https://api.va.landing.ai/v1/tools/agentic-document-analysis \"HTTP/1.1 200 OK\" (_client.py:1025)\n",
      "\u001b[2m2025-07-16 16:43:30\u001b[0m [info   \u001b[0m] \u001b[1mTime taken to successfully parse a document chunk: 6.77 seconds\u001b[0m [\u001b[0m\u001b[1m\u001b[34magentic_doc.parse\u001b[0m]\u001b[0m (parse.py:683)\n",
      "\u001b[2m2025-07-16 16:43:30\u001b[0m [info   \u001b[0m] \u001b[1mSaving 2 chunks as images to '/Users/andreakropp/Documents/Demos/ADE Demos/Notebooks/groundings_folder_webinar/chomps_20250716_094330'\u001b[0m [\u001b[0m\u001b[1m\u001b[34magentic_doc.utils\u001b[0m]\u001b[0m \u001b[36mfile_path\u001b[0m=\u001b[35mPosixPath('/Users/andreakropp/Documents/Demos/ADE Demos/Notebooks/input_folder_webinar/chomps.jpg')\u001b[0m \u001b[36mfile_type\u001b[0m=\u001b[35mimage\u001b[0m (utils.py:84)\n",
      "\u001b[2m2025-07-16 16:43:30\u001b[0m [info   \u001b[0m] \u001b[1mSaved the parsed result to '/Users/andreakropp/Documents/Demos/ADE Demos/Notebooks/results_folder_webinar/chomps_20250716_094330.json'\u001b[0m [\u001b[0m\u001b[1m\u001b[34magentic_doc.parse\u001b[0m]\u001b[0m (parse.py:407)\n",
      "HTTP Request: POST https://api.va.landing.ai/v1/tools/agentic-document-analysis \"HTTP/1.1 200 OK\" (_client.py:1025)\n",
      "\u001b[2m2025-07-16 16:43:35\u001b[0m [info   \u001b[0m] \u001b[1mTime taken to successfully parse a document chunk: 12.92 seconds\u001b[0m [\u001b[0m\u001b[1m\u001b[34magentic_doc.parse\u001b[0m]\u001b[0m (parse.py:683)\n",
      "\u001b[2m2025-07-16 16:43:35\u001b[0m [info   \u001b[0m] \u001b[1mSaving 11 chunks as images to '/Users/andreakropp/Documents/Demos/ADE Demos/Notebooks/groundings_folder_webinar/teton_hot_dogs_20250716_094335'\u001b[0m [\u001b[0m\u001b[1m\u001b[34magentic_doc.utils\u001b[0m]\u001b[0m \u001b[36mfile_path\u001b[0m=\u001b[35mPosixPath('/Users/andreakropp/Documents/Demos/ADE Demos/Notebooks/input_folder_webinar/teton_hot_dogs.jpg')\u001b[0m \u001b[36mfile_type\u001b[0m=\u001b[35mimage\u001b[0m (utils.py:84)\n",
      "\u001b[2m2025-07-16 16:43:35\u001b[0m [info   \u001b[0m] \u001b[1mSaved the parsed result to '/Users/andreakropp/Documents/Demos/ADE Demos/Notebooks/results_folder_webinar/teton_hot_dogs_20250716_094335.json'\u001b[0m [\u001b[0m\u001b[1m\u001b[34magentic_doc.parse\u001b[0m]\u001b[0m (parse.py:407)\n"
     ]
    },
    {
     "name": "stderr",
     "output_type": "stream",
     "text": [
      "Parsing documents: 100%|██████████| 6/6 [00:18<00:00,  3.12s/it]\n"
     ]
    }
   ],
   "source": [
    "result = parse(\n",
    "    documents=file_paths,\n",
    "    result_save_dir=str(results_folder),\n",
    "    grounding_save_dir=str(groundings_folder),\n",
    "    include_marginalia=True,\n",
    "    include_metadata_in_markdown=True,      \n",
    "    )"
   ]
  },
  {
   "cell_type": "code",
   "execution_count": 6,
   "id": "ba1c0e8c",
   "metadata": {},
   "outputs": [
    {
     "data": {
      "text/plain": [
       "[ParsedDocument(markdown='Summary : This is a product label for Alexandre Family Farm 100% Grass-Fed A2/A2 Organic Plain Yogurt, highlighting certifications, product features, and packaging details.\\n\\nphoto:\\nScene Overview :\\n  • The main subject is the front label of a yogurt container.\\n  • The label is cream-colored with green text and graphics.\\n  • Prominently features the brand name \"Alexandre Family Farm\" and a cow illustration on the left.\\n  • The product is described as \"100% Grass-Fed A2/A2 Organic Plain Yogurt\" with \"Extra Cream Top.\"\\n  • Certifications and seals are visible, including \"Certified Grass-Fed,\" \"Certified Humane,\" \"USDA Organic,\" and \"Regenerative Organic Certified.\"\\n  • The net weight is listed as \"24 OZ (680g).\"\\n\\nTechnical Details :\\n  • Multiple certification logos and seals are present.\\n  • Text includes \"Certified Regenerative,\" \"Stir Well,\" and \"Non-Homogenized.\"\\n  • The cow illustration is positioned on the left side of the label.\\n  • The background includes a green field graphic at the bottom.\\n\\nSpatial Relationships :\\n  • Brand name and product type are centered and occupy the upper and middle portions.\\n  • Certifications and seals are distributed along the sides.\\n  • The cow illustration is on the left, with the field graphic spanning the bottom.\\n\\nAnalysis :\\n  • The label emphasizes organic, grass-fed, and regenerative farming practices.\\n  • Multiple certifications are used to appeal to health- and environmentally-conscious consumers.\\n  • The design uses green to reinforce natural and organic qualities. <!-- figure, from page 0 (l=0.088,t=0.183,r=0.897,b=0.986), with ID 2532097e-6953-48ff-83ae-406a9c86f0cb -->', chunks=[Chunk(text='Summary : This is a product label for Alexandre Family Farm 100% Grass-Fed A2/A2 Organic Plain Yogurt, highlighting certifications, product features, and packaging details.\\n\\nphoto:\\nScene Overview :\\n  • The main subject is the front label of a yogurt container.\\n  • The label is cream-colored with green text and graphics.\\n  • Prominently features the brand name \"Alexandre Family Farm\" and a cow illustration on the left.\\n  • The product is described as \"100% Grass-Fed A2/A2 Organic Plain Yogurt\" with \"Extra Cream Top.\"\\n  • Certifications and seals are visible, including \"Certified Grass-Fed,\" \"Certified Humane,\" \"USDA Organic,\" and \"Regenerative Organic Certified.\"\\n  • The net weight is listed as \"24 OZ (680g).\"\\n\\nTechnical Details :\\n  • Multiple certification logos and seals are present.\\n  • Text includes \"Certified Regenerative,\" \"Stir Well,\" and \"Non-Homogenized.\"\\n  • The cow illustration is positioned on the left side of the label.\\n  • The background includes a green field graphic at the bottom.\\n\\nSpatial Relationships :\\n  • Brand name and product type are centered and occupy the upper and middle portions.\\n  • Certifications and seals are distributed along the sides.\\n  • The cow illustration is on the left, with the field graphic spanning the bottom.\\n\\nAnalysis :\\n  • The label emphasizes organic, grass-fed, and regenerative farming practices.\\n  • Multiple certifications are used to appeal to health- and environmentally-conscious consumers.\\n  • The design uses green to reinforce natural and organic qualities.', grounding=[ChunkGrounding(page=0, box=ChunkGroundingBox(l=0.08772972226142883, t=0.18278557062149048, r=0.8967723846435547, b=0.9863045811653137), image_path=PosixPath('/Users/andreakropp/Documents/Demos/ADE Demos/Notebooks/groundings_folder_webinar/alexandre_yogurt_20250716_094326/page_0/figure_2532097e-6953-48ff-83ae-406a9c86f0cb_0.png'))], chunk_type=<ChunkType.figure: 'figure'>, chunk_id='2532097e-6953-48ff-83ae-406a9c86f0cb')], extraction=None, extraction_metadata=None, start_page_idx=0, end_page_idx=0, doc_type='image', result_path=PosixPath('/Users/andreakropp/Documents/Demos/ADE Demos/Notebooks/results_folder_webinar/alexandre_yogurt_20250716_094326.json'), errors=[], extraction_error=None),\n",
       " ParsedDocument(markdown='FORCE OF NATURE  \\nMADE WITH 100% <!-- text, from page 0 (l=0.232,t=0.205,r=0.690,b=0.304), with ID 1ab78c97-2594-4434-b8b0-8033651e2aa7 -->\\n\\nGRASS FED BEEF <!-- text, from page 0 (l=0.210,t=0.306,r=0.694,b=0.370), with ID 0606da1e-4ed8-4450-bf5c-e1d290b1b350 -->\\n\\nANCESTRAL BLEND <!-- text, from page 0 (l=0.231,t=0.376,r=0.673,b=0.421), with ID 3bb95ec9-b6b4-4537-ba37-a9609dc1b8d6 -->\\n\\nGROUND BEEF, BEEF LIVER, BEEF HEART <!-- text, from page 0 (l=0.247,t=0.424,r=0.656,b=0.455), with ID 026579d9-9370-41e8-8c24-11d58ccb53bc -->\\n\\nPREVIOUSLY FROZEN FOR YOUR PROTECTION.\\nKEEP REFRIGERATED OR FROZEN <!-- text, from page 0 (l=0.311,t=0.564,r=0.590,b=0.599), with ID a215f32e-b82d-4e30-a933-9e5efaa9a3e9 -->\\n\\n22 g  \\nPROTEIN  \\nPER SERVING <!-- text, from page 0 (l=0.221,t=0.598,r=0.307,b=0.661), with ID cc6d05f1-d7df-424b-b1df-c772501d8cb4 -->\\n\\nREGENERATIVELY  \\nSOURCED* <!-- text, from page 0 (l=0.330,t=0.605,r=0.567,b=0.661), with ID f99a399a-13e2-41ac-98c5-1706290ee1c2 -->\\n\\nSummary : This image shows a USDA inspection stamp and a net weight declaration from a food product label.\\n\\nstamp:  \\nShape & Border : \\n  • Circular stamp with a thin black border.\\n\\nText : \\n  • \"U.S. INSPECTED AND PASSED BY DEPARTMENT OF AGRICULTURE\" in uppercase letters, centered within the circle.\\n\\nAdditional Label Information : \\n  • To the left of the stamp: \"NET WT. 16 OZ (1lb)\" in uppercase letters, indicating the net weight of the product.\\n\\nPlacement & Dimensions : \\n  • Stamp is adjacent to the net weight text, both printed in black on a light background.\\n  • Stamp diameter is approximately equal to the height of three lines of text.\\n\\nAnalysis : \\n  • The stamp certifies that the product has been inspected and approved by the USDA, a standard requirement for certain food products in the United States. The net weight declaration provides clear information for consumers regarding the quantity of the product. <!-- figure, from page 0 (l=0.583,t=0.606,r=0.711,b=0.675), with ID 1e6be87c-429e-492b-a39d-5c819cafebfa -->\\n\\n\"Force of Nature defines holistic regenerative grazing as planned rotational grazing, leaving ground cover, and allowing adequate recovery time between grazing rotations.\" <!-- text, from page 0 (l=0.261,t=0.663,r=0.634,b=0.719), with ID 78bb65ef-0fd3-4485-928d-c27fbbbcf6cc -->\\n\\nlogo: ANIMAL WELFARE CERTIFIED\\n\\nANIMAL WELFARE CERTIFIED\\nCertifiedToAtlas\\nPASTURE RAISED\\n\\n[4]\\n\\n[†] Certified to Global Animal Partnership standards by EarthClaims, LLC. <!-- text, from page 0 (l=0.157,t=0.695,r=0.340,b=0.803), with ID bd6094d2-f4c4-4815-88b4-ec9002408d4a -->', chunks=[Chunk(text='FORCE OF NATURE  \\nMADE WITH 100%', grounding=[ChunkGrounding(page=0, box=ChunkGroundingBox(l=0.23176652193069458, t=0.20494917035102844, r=0.689963698387146, b=0.30417051911354065), image_path=PosixPath('/Users/andreakropp/Documents/Demos/ADE Demos/Notebooks/groundings_folder_webinar/force_of_nature_beef_20250716_094322/page_0/text_1ab78c97-2594-4434-b8b0-8033651e2aa7_0.png'))], chunk_type=<ChunkType.text: 'text'>, chunk_id='1ab78c97-2594-4434-b8b0-8033651e2aa7'), Chunk(text='GRASS FED BEEF', grounding=[ChunkGrounding(page=0, box=ChunkGroundingBox(l=0.21045434474945068, t=0.30631405115127563, r=0.6939619779586792, b=0.369867205619812), image_path=PosixPath('/Users/andreakropp/Documents/Demos/ADE Demos/Notebooks/groundings_folder_webinar/force_of_nature_beef_20250716_094322/page_0/text_0606da1e-4ed8-4450-bf5c-e1d290b1b350_0.png'))], chunk_type=<ChunkType.text: 'text'>, chunk_id='0606da1e-4ed8-4450-bf5c-e1d290b1b350'), Chunk(text='ANCESTRAL BLEND', grounding=[ChunkGrounding(page=0, box=ChunkGroundingBox(l=0.2310350090265274, t=0.3763998746871948, r=0.6729516386985779, b=0.4213019013404846), image_path=PosixPath('/Users/andreakropp/Documents/Demos/ADE Demos/Notebooks/groundings_folder_webinar/force_of_nature_beef_20250716_094322/page_0/text_3bb95ec9-b6b4-4537-ba37-a9609dc1b8d6_0.png'))], chunk_type=<ChunkType.text: 'text'>, chunk_id='3bb95ec9-b6b4-4537-ba37-a9609dc1b8d6'), Chunk(text='GROUND BEEF, BEEF LIVER, BEEF HEART', grounding=[ChunkGrounding(page=0, box=ChunkGroundingBox(l=0.24689239263534546, t=0.4240748882293701, r=0.6561141014099121, b=0.45502281188964844), image_path=PosixPath('/Users/andreakropp/Documents/Demos/ADE Demos/Notebooks/groundings_folder_webinar/force_of_nature_beef_20250716_094322/page_0/text_026579d9-9370-41e8-8c24-11d58ccb53bc_0.png'))], chunk_type=<ChunkType.text: 'text'>, chunk_id='026579d9-9370-41e8-8c24-11d58ccb53bc'), Chunk(text='PREVIOUSLY FROZEN FOR YOUR PROTECTION.\\nKEEP REFRIGERATED OR FROZEN', grounding=[ChunkGrounding(page=0, box=ChunkGroundingBox(l=0.3114336133003235, t=0.5638969540596008, r=0.5900039076805115, b=0.5988273024559021), image_path=PosixPath('/Users/andreakropp/Documents/Demos/ADE Demos/Notebooks/groundings_folder_webinar/force_of_nature_beef_20250716_094322/page_0/text_a215f32e-b82d-4e30-a933-9e5efaa9a3e9_0.png'))], chunk_type=<ChunkType.text: 'text'>, chunk_id='a215f32e-b82d-4e30-a933-9e5efaa9a3e9'), Chunk(text='22 g  \\nPROTEIN  \\nPER SERVING', grounding=[ChunkGrounding(page=0, box=ChunkGroundingBox(l=0.22139815986156464, t=0.5979417562484741, r=0.30716097354888916, b=0.6614770889282227), image_path=PosixPath('/Users/andreakropp/Documents/Demos/ADE Demos/Notebooks/groundings_folder_webinar/force_of_nature_beef_20250716_094322/page_0/text_cc6d05f1-d7df-424b-b1df-c772501d8cb4_0.png'))], chunk_type=<ChunkType.text: 'text'>, chunk_id='cc6d05f1-d7df-424b-b1df-c772501d8cb4'), Chunk(text='REGENERATIVELY  \\nSOURCED*', grounding=[ChunkGrounding(page=0, box=ChunkGroundingBox(l=0.3296397030353546, t=0.6053270697593689, r=0.5665656328201294, b=0.661384642124176), image_path=PosixPath('/Users/andreakropp/Documents/Demos/ADE Demos/Notebooks/groundings_folder_webinar/force_of_nature_beef_20250716_094322/page_0/text_f99a399a-13e2-41ac-98c5-1706290ee1c2_0.png'))], chunk_type=<ChunkType.text: 'text'>, chunk_id='f99a399a-13e2-41ac-98c5-1706290ee1c2'), Chunk(text='Summary : This image shows a USDA inspection stamp and a net weight declaration from a food product label.\\n\\nstamp:  \\nShape & Border : \\n  • Circular stamp with a thin black border.\\n\\nText : \\n  • \"U.S. INSPECTED AND PASSED BY DEPARTMENT OF AGRICULTURE\" in uppercase letters, centered within the circle.\\n\\nAdditional Label Information : \\n  • To the left of the stamp: \"NET WT. 16 OZ (1lb)\" in uppercase letters, indicating the net weight of the product.\\n\\nPlacement & Dimensions : \\n  • Stamp is adjacent to the net weight text, both printed in black on a light background.\\n  • Stamp diameter is approximately equal to the height of three lines of text.\\n\\nAnalysis : \\n  • The stamp certifies that the product has been inspected and approved by the USDA, a standard requirement for certain food products in the United States. The net weight declaration provides clear information for consumers regarding the quantity of the product.', grounding=[ChunkGrounding(page=0, box=ChunkGroundingBox(l=0.5830222368240356, t=0.6064788699150085, r=0.7106815576553345, b=0.6751149296760559), image_path=PosixPath('/Users/andreakropp/Documents/Demos/ADE Demos/Notebooks/groundings_folder_webinar/force_of_nature_beef_20250716_094322/page_0/figure_1e6be87c-429e-492b-a39d-5c819cafebfa_0.png'))], chunk_type=<ChunkType.figure: 'figure'>, chunk_id='1e6be87c-429e-492b-a39d-5c819cafebfa'), Chunk(text='\"Force of Nature defines holistic regenerative grazing as planned rotational grazing, leaving ground cover, and allowing adequate recovery time between grazing rotations.\"', grounding=[ChunkGrounding(page=0, box=ChunkGroundingBox(l=0.2611411213874817, t=0.6626409292221069, r=0.6339209675788879, b=0.7188358306884766), image_path=PosixPath('/Users/andreakropp/Documents/Demos/ADE Demos/Notebooks/groundings_folder_webinar/force_of_nature_beef_20250716_094322/page_0/text_78bb65ef-0fd3-4485-928d-c27fbbbcf6cc_0.png'))], chunk_type=<ChunkType.text: 'text'>, chunk_id='78bb65ef-0fd3-4485-928d-c27fbbbcf6cc'), Chunk(text='logo: ANIMAL WELFARE CERTIFIED\\n\\nANIMAL WELFARE CERTIFIED\\nCertifiedToAtlas\\nPASTURE RAISED\\n\\n[4]\\n\\n[†] Certified to Global Animal Partnership standards by EarthClaims, LLC.', grounding=[ChunkGrounding(page=0, box=ChunkGroundingBox(l=0.1571815013885498, t=0.6950061321258545, r=0.3396257162094116, b=0.802910327911377), image_path=PosixPath('/Users/andreakropp/Documents/Demos/ADE Demos/Notebooks/groundings_folder_webinar/force_of_nature_beef_20250716_094322/page_0/text_bd6094d2-f4c4-4815-88b4-ec9002408d4a_0.png'))], chunk_type=<ChunkType.text: 'text'>, chunk_id='bd6094d2-f4c4-4815-88b4-ec9002408d4a')], extraction=None, extraction_metadata=None, start_page_idx=0, end_page_idx=0, doc_type='image', result_path=PosixPath('/Users/andreakropp/Documents/Demos/ADE Demos/Notebooks/results_folder_webinar/force_of_nature_beef_20250716_094322.json'), errors=[], extraction_error=None),\n",
       " ParsedDocument(markdown='Summary : This image is a logo or label for a superfood-related initiative, emphasizing purpose-driven food choices that benefit consumers, farmers, and the planet.\\n\\nlogo:  \\nVisible Text & Tagline : \\n  • Main text: \"SUPER FOODS WITH PURPOSE\"\\n  • Tagline at bottom: \"FOR YOU – FOR FARMERS FOR THE PLANET\"\\n\\nGraphic Elements : \\n  • Central illustration of a stylized plant with six leaves, roots visible below ground.\\n  • Background is a gradient teal/green with a brown section representing soil.\\n  • White text, bold sans-serif font, all uppercase.\\n\\nDimensions & Placement : \\n  • Text is centered above and below the plant illustration.\\n  • Plant is centrally placed, roots extend into the brown soil area at the bottom.\\n\\nAnalysis : \\n  • The logo uses green and brown to evoke themes of agriculture, sustainability, and environmental consciousness.\\n  • The tagline positions the brand as beneficial for multiple stakeholders: consumers, farmers, and the environment. <!-- figure, from page 0 (l=0.116,t=0.010,r=0.255,b=0.226), with ID 2bb05fcc-ee6d-422f-bed2-b6e0b1e92d2b -->\\n\\nSummary : This is a circular product label illustration promoting a food item as suitable for topping and snacking, with a recipe suggestion on the back.\\n\\nillustration:\\nScene Overview :\\n  • Main subject is a stylized bowl containing a purple substance, topped with banana slices, strawberries, and blueberries, with a spoon resting on the bowl.\\n  • The bowl is centered within a yellow-orange circular badge.\\n  • The text “GREAT FOR TOPPING + SNACKING” encircles the bowl.\\n  • A red circle in the upper right contains the text “RECIPES ON BACK”.\\n  • The background is a solid magenta/purple color.\\n\\nTechnical Details :\\n  • No scale bar or units present.\\n  • All text is in uppercase, bold, and highly legible.\\n  • The illustration uses flat, cartoon-like vector art with a limited color palette (yellow, purple, white, red, blue, orange).\\n\\nSpatial Relationships :\\n  • The bowl is centrally placed within the badge.\\n  • The “RECIPES ON BACK” circle partially overlaps the upper right of the badge.\\n\\nAnalysis :\\n  • The label visually emphasizes the product’s versatility for both topping and snacking, and directs consumers to additional recipes, likely to encourage usage ideas. <!-- figure, from page 0 (l=0.567,t=0.029,r=0.732,b=0.187), with ID d2a25015-67e1-466e-8059-5902368284ee -->\\n\\nlogo: NAVITAS ORGANICS\\n\\nNAVITAS\\nORGANICS <!-- text, from page 0 (l=0.262,t=0.214,r=0.573,b=0.368), with ID 7d8e341e-fb32-4391-a108-626bc2ce1faf -->\\n\\nSummary : This is a product package image for organic goji berries, highlighting its features and certifications.\\n\\nphoto:\\nScene Overview :\\n  • The main subject is a package of organic goji berries.\\n  • The package is predominantly purple and pink with white and red accents.\\n  • A white spoon filled with dried goji berries is prominently displayed, along with an illustration of fresh goji berries and green leaves.\\n  • The text \"ORGANIC GOJI BERRIES\" is large and central.\\n  • The label \"PLANT-BASED SUPERFOOD\" appears in a pink box at the top right.\\n\\nTechnical Details :\\n  • The package lists several product features:\\n    – \"HIGH IN ANTIOXIDANTS (VIT. A)\"\\n    – \"MILDLY SWEET & TANGY\"\\n    – \"UNSULFURED & GENTLY DRIED\"\\n  • Certifications and claims shown:\\n    – USDA ORGANIC (logo)\\n    – NON GMO (logo)\\n  • Net weight is specified as \"NET WT 8 OZ (227g)\".\\n  • The product is described as \"PLANT-BASED SUPERFOOD\" and \"ORGANIC\".\\n\\nSpatial Relationships :\\n  • The spoon with dried goji berries is on the right side, overlapping the product name area.\\n  • The fresh goji berry illustration is below the spoon, with green leaves extending leftward.\\n  • Certification logos are at the bottom left.\\n\\nAnalysis :\\n  • The packaging design emphasizes health benefits (antioxidants, organic, non-GMO) and product purity (unsulfured, gently dried).\\n  • The use of both dried and fresh berry imagery visually reinforces the product\\'s natural origin and appeal as a superfood.\\n  • Prominent placement of certifications and product features targets health-conscious consumers. <!-- figure, from page 0 (l=0.124,t=0.397,r=0.733,b=0.977), with ID 9257e62d-e6ae-4283-a065-6a2af4ba5c72 -->', chunks=[Chunk(text='Summary : This image is a logo or label for a superfood-related initiative, emphasizing purpose-driven food choices that benefit consumers, farmers, and the planet.\\n\\nlogo:  \\nVisible Text & Tagline : \\n  • Main text: \"SUPER FOODS WITH PURPOSE\"\\n  • Tagline at bottom: \"FOR YOU – FOR FARMERS FOR THE PLANET\"\\n\\nGraphic Elements : \\n  • Central illustration of a stylized plant with six leaves, roots visible below ground.\\n  • Background is a gradient teal/green with a brown section representing soil.\\n  • White text, bold sans-serif font, all uppercase.\\n\\nDimensions & Placement : \\n  • Text is centered above and below the plant illustration.\\n  • Plant is centrally placed, roots extend into the brown soil area at the bottom.\\n\\nAnalysis : \\n  • The logo uses green and brown to evoke themes of agriculture, sustainability, and environmental consciousness.\\n  • The tagline positions the brand as beneficial for multiple stakeholders: consumers, farmers, and the environment.', grounding=[ChunkGrounding(page=0, box=ChunkGroundingBox(l=0.11592970043420792, t=0.010168477892875671, r=0.2546069622039795, b=0.22621563076972961), image_path=PosixPath('/Users/andreakropp/Documents/Demos/ADE Demos/Notebooks/groundings_folder_webinar/goji_20250716_094324/page_0/figure_2bb05fcc-ee6d-422f-bed2-b6e0b1e92d2b_0.png'))], chunk_type=<ChunkType.figure: 'figure'>, chunk_id='2bb05fcc-ee6d-422f-bed2-b6e0b1e92d2b'), Chunk(text='Summary : This is a circular product label illustration promoting a food item as suitable for topping and snacking, with a recipe suggestion on the back.\\n\\nillustration:\\nScene Overview :\\n  • Main subject is a stylized bowl containing a purple substance, topped with banana slices, strawberries, and blueberries, with a spoon resting on the bowl.\\n  • The bowl is centered within a yellow-orange circular badge.\\n  • The text “GREAT FOR TOPPING + SNACKING” encircles the bowl.\\n  • A red circle in the upper right contains the text “RECIPES ON BACK”.\\n  • The background is a solid magenta/purple color.\\n\\nTechnical Details :\\n  • No scale bar or units present.\\n  • All text is in uppercase, bold, and highly legible.\\n  • The illustration uses flat, cartoon-like vector art with a limited color palette (yellow, purple, white, red, blue, orange).\\n\\nSpatial Relationships :\\n  • The bowl is centrally placed within the badge.\\n  • The “RECIPES ON BACK” circle partially overlaps the upper right of the badge.\\n\\nAnalysis :\\n  • The label visually emphasizes the product’s versatility for both topping and snacking, and directs consumers to additional recipes, likely to encourage usage ideas.', grounding=[ChunkGrounding(page=0, box=ChunkGroundingBox(l=0.567258894443512, t=0.028576791286468506, r=0.732022225856781, b=0.18708758056163788), image_path=PosixPath('/Users/andreakropp/Documents/Demos/ADE Demos/Notebooks/groundings_folder_webinar/goji_20250716_094324/page_0/figure_d2a25015-67e1-466e-8059-5902368284ee_0.png'))], chunk_type=<ChunkType.figure: 'figure'>, chunk_id='d2a25015-67e1-466e-8059-5902368284ee'), Chunk(text='logo: NAVITAS ORGANICS\\n\\nNAVITAS\\nORGANICS', grounding=[ChunkGrounding(page=0, box=ChunkGroundingBox(l=0.26173728704452515, t=0.21447405219078064, r=0.5727711915969849, b=0.3681424558162689), image_path=PosixPath('/Users/andreakropp/Documents/Demos/ADE Demos/Notebooks/groundings_folder_webinar/goji_20250716_094324/page_0/text_7d8e341e-fb32-4391-a108-626bc2ce1faf_0.png'))], chunk_type=<ChunkType.text: 'text'>, chunk_id='7d8e341e-fb32-4391-a108-626bc2ce1faf'), Chunk(text='Summary : This is a product package image for organic goji berries, highlighting its features and certifications.\\n\\nphoto:\\nScene Overview :\\n  • The main subject is a package of organic goji berries.\\n  • The package is predominantly purple and pink with white and red accents.\\n  • A white spoon filled with dried goji berries is prominently displayed, along with an illustration of fresh goji berries and green leaves.\\n  • The text \"ORGANIC GOJI BERRIES\" is large and central.\\n  • The label \"PLANT-BASED SUPERFOOD\" appears in a pink box at the top right.\\n\\nTechnical Details :\\n  • The package lists several product features:\\n    – \"HIGH IN ANTIOXIDANTS (VIT. A)\"\\n    – \"MILDLY SWEET & TANGY\"\\n    – \"UNSULFURED & GENTLY DRIED\"\\n  • Certifications and claims shown:\\n    – USDA ORGANIC (logo)\\n    – NON GMO (logo)\\n  • Net weight is specified as \"NET WT 8 OZ (227g)\".\\n  • The product is described as \"PLANT-BASED SUPERFOOD\" and \"ORGANIC\".\\n\\nSpatial Relationships :\\n  • The spoon with dried goji berries is on the right side, overlapping the product name area.\\n  • The fresh goji berry illustration is below the spoon, with green leaves extending leftward.\\n  • Certification logos are at the bottom left.\\n\\nAnalysis :\\n  • The packaging design emphasizes health benefits (antioxidants, organic, non-GMO) and product purity (unsulfured, gently dried).\\n  • The use of both dried and fresh berry imagery visually reinforces the product\\'s natural origin and appeal as a superfood.\\n  • Prominent placement of certifications and product features targets health-conscious consumers.', grounding=[ChunkGrounding(page=0, box=ChunkGroundingBox(l=0.12386670708656311, t=0.3972513973712921, r=0.7326459884643555, b=0.977474570274353), image_path=PosixPath('/Users/andreakropp/Documents/Demos/ADE Demos/Notebooks/groundings_folder_webinar/goji_20250716_094324/page_0/figure_9257e62d-e6ae-4283-a065-6a2af4ba5c72_0.png'))], chunk_type=<ChunkType.figure: 'figure'>, chunk_id='9257e62d-e6ae-4283-a065-6a2af4ba5c72')], extraction=None, extraction_metadata=None, start_page_idx=0, end_page_idx=0, doc_type='image', result_path=PosixPath('/Users/andreakropp/Documents/Demos/ADE Demos/Notebooks/results_folder_webinar/goji_20250716_094324.json'), errors=[], extraction_error=None),\n",
       " ParsedDocument(markdown='Summary : This is a product label for \"Garden of Life Grass Fed Collagen Creamer\" in creamy vanilla flavor, highlighting its nutritional content and intended benefits.\\n\\nphoto:\\nScene Overview :\\n  • The main subject is a cylindrical container of dietary supplement powder.\\n  • The label is predominantly light blue and white, with the \"Garden of Life\" logo at the top.\\n  • The product is described as \"grass fed COLLAGEN CREAMER\" with creamy vanilla flavor.\\n  • The label states it contains 10g collagen, MCTs, probiotics, and is made with coconut milk.\\n  • Additional claims: \"Energy, Beauty & Joints\", \"Dairy Free\", \"12 Servings\", \"Net Wt 11.64 oz (330 g)\".\\n  • The label also notes \"Dietary Supplement\".\\n\\nTechnical Details :\\n  • The logo features a farmer in a field with fruits and vegetables.\\n  • There is a vanilla flower illustration near the bottom right.\\n  • The text is clear, with key features and benefits prominently displayed.\\n\\nSpatial Relationships :\\n  • The logo is centered at the top, with the product name and features below.\\n  • The flavor and serving information are at the bottom of the label.\\n\\nAnalysis :\\n  • The label is designed to emphasize the product\\'s health benefits, natural ingredients, and suitability for those avoiding dairy.\\n  • The use of blue and white suggests a clean, health-oriented product.\\n  • The inclusion of serving size and net weight provides clear information for consumers. <!-- figure, from page 0 (l=0.207,t=0.079,r=0.793,b=0.976), with ID 167c0885-07fa-49a3-8d81-4a47b01b3420 -->', chunks=[Chunk(text='Summary : This is a product label for \"Garden of Life Grass Fed Collagen Creamer\" in creamy vanilla flavor, highlighting its nutritional content and intended benefits.\\n\\nphoto:\\nScene Overview :\\n  • The main subject is a cylindrical container of dietary supplement powder.\\n  • The label is predominantly light blue and white, with the \"Garden of Life\" logo at the top.\\n  • The product is described as \"grass fed COLLAGEN CREAMER\" with creamy vanilla flavor.\\n  • The label states it contains 10g collagen, MCTs, probiotics, and is made with coconut milk.\\n  • Additional claims: \"Energy, Beauty & Joints\", \"Dairy Free\", \"12 Servings\", \"Net Wt 11.64 oz (330 g)\".\\n  • The label also notes \"Dietary Supplement\".\\n\\nTechnical Details :\\n  • The logo features a farmer in a field with fruits and vegetables.\\n  • There is a vanilla flower illustration near the bottom right.\\n  • The text is clear, with key features and benefits prominently displayed.\\n\\nSpatial Relationships :\\n  • The logo is centered at the top, with the product name and features below.\\n  • The flavor and serving information are at the bottom of the label.\\n\\nAnalysis :\\n  • The label is designed to emphasize the product\\'s health benefits, natural ingredients, and suitability for those avoiding dairy.\\n  • The use of blue and white suggests a clean, health-oriented product.\\n  • The inclusion of serving size and net weight provides clear information for consumers.', grounding=[ChunkGrounding(page=0, box=ChunkGroundingBox(l=0.2073645293712616, t=0.0794941782951355, r=0.7934401035308838, b=0.975657045841217), image_path=PosixPath('/Users/andreakropp/Documents/Demos/ADE Demos/Notebooks/groundings_folder_webinar/garden_of_life_collagen_20250716_094323/page_0/figure_167c0885-07fa-49a3-8d81-4a47b01b3420_0.png'))], chunk_type=<ChunkType.figure: 'figure'>, chunk_id='167c0885-07fa-49a3-8d81-4a47b01b3420')], extraction=None, extraction_metadata=None, start_page_idx=0, end_page_idx=0, doc_type='image', result_path=PosixPath('/Users/andreakropp/Documents/Demos/ADE Demos/Notebooks/results_folder_webinar/garden_of_life_collagen_20250716_094323.json'), errors=[], extraction_error=None),\n",
       " ParsedDocument(markdown='BUN LENGTH <!-- text, from page 0 (l=0.153,t=0.029,r=0.388,b=0.092), with ID c517100e-1b28-4545-a0bd-a25f7511254a -->\\n\\nUNCURED\\nBEEF\\nHOT DOGS\\nNO NITRITES OR\\nNITRATES ADDED\\nExcept those naturally occurring in\\nsea salt and cultured celery powder <!-- text, from page 0 (l=0.169,t=0.098,r=0.372,b=0.318), with ID 53409e79-967b-4f54-ab94-a59ac4aea092 -->\\n\\nNOT PRESERVED\\nKEEP REFRIGERATED\\nBELOW 40°F AT ALL TIMES\\nFULLY COOKED\\nGLUTEN FREE\\n\\nTO HEAT: BROWN IN A PAN\\nOR GRILL FOR 5-7 MIN. <!-- text, from page 0 (l=0.171,t=0.324,r=0.352,b=0.476), with ID bb66961c-ee8e-4432-b391-d28698fa4dd4 -->\\n\\nSummary : This image displays three certification and product claim badges related to food labeling, specifically for beef products.\\n\\nlogo:  \\nBadges & Claims : \\n  • \"CERTIFIED HUMANE RAISED & HANDLED GRASS-FED BEEF\" with the website \"CERTIFIEDHUMANE.ORG\".\\n  • \"NO SUGAR ADDED\" in a blue box.\\n  • \"WHOLE 30 Approved\" with the Whole30 logo.\\n  • Additional text at the bottom: \"NOT A LOW CALORIE FOOD - SEE NUTRITION FACTS FOR SUGAR AND CALORIE CONTENT.\"\\n\\nDesign & Layout : \\n  • Three adjacent rectangular badges, each with distinct color schemes (blue/green, blue/white, blue/white).\\n  • All-caps, bold sans-serif fonts for emphasis.\\n  • Red background for the overall image.\\n\\nAnalysis : \\n  • The badges communicate that the product is certified humane, contains no added sugar, and is approved for the Whole30 diet, targeting health-conscious consumers and those following specific dietary guidelines. <!-- figure, from page 0 (l=0.142,t=0.538,r=0.400,b=0.649), with ID 046cbc29-72bb-4d69-8304-8a00a3240a5c -->\\n\\nSummary : This is a product packaging label for Teton Waters Ranch beef, highlighting its sourcing and quality claims.\\n\\nlogo: Teton Waters Ranch (TWR)\\n\\n# Scene Overview :\\n• The main subject is a product label with prominent text and a stylized blue illustration of a cow\\'s head in the lower right.\\n• The label background is kraft brown with blue and white text.\\n• The Teton Waters Ranch (TWR) logo appears at the top left, consisting of a blue hexagon with \"TWR\" in white stylized letters.\\n• The largest text reads \"100% GRASS-FED BEEF\" in white, with \"MADE WITH\" and \"MADE WITH BEEF USING\" in blue boxes.\\n• Additional claims in white and blue text: \"NO ANTIBIOTICS,\" \"ADDED HORMONES,\" and \"NEVER FED ANIMAL BY-PRODUCTS.\"\\n\\n# Technical Details :\\n• No scale bar or measurement units are present.\\n• The label uses a bold sans-serif font for all text.\\n• The cow illustration is monochrome blue, stylized, and occupies the lower right corner.\\n\\n# Spatial Relationships :\\n• The TWR logo and \"TETON WATERS RANCH\" are at the top.\\n• The \"100% GRASS-FED BEEF\" text is centered and dominates the label.\\n• Quality claims are listed at the bottom, with the cow illustration adjacent.\\n\\nAnalysis :\\n• The label emphasizes the product\\'s natural and ethical sourcing, using large, bold text and a simple color palette to communicate key selling points. The blue cow illustration reinforces the beef theme and brand identity. <!-- figure, from page 0 (l=0.417,t=0.049,r=0.845,b=0.640), with ID eb4577dd-151c-4477-beea-65de62a4d410 -->\\n\\nNutrition Facts\\n5 servings per container\\nServing size 1 link (45g)\\nCalories 110 per serving\\n<table><tr><td>Amount Per Serving</td><td>%DV*</td><td>Amount Per Serving</td><td>%DV*</td></tr><tr><td>Total Fat 9g</td><td>12%</td><td>Total Carb 0g</td><td>0%</td></tr><tr><td>Sat Fat 3.5g</td><td>18%</td><td>Dietary Fiber 0g</td><td>0%</td></tr><tr><td>Trans Fat 0.5g</td><td></td><td>Total Sugars 0g</td><td></td></tr><tr><td>Cholest 30mg</td><td>9%</td><td>Incl 0g Added Sugars</td><td>0%</td></tr><tr><td>Sodium 360mg</td><td>16%</td><td>Protein 6g</td><td></td></tr><tr><td colspan=\"4\">Vitamin D 0% • Calcium 0% • Iron 4% • Potassium 2%</td></tr></table>\\nThe % Daily Value (DV) tells you how much a nutrient in a serving of food contributes to a daily diet. 2,000 calories a day is used for general nutrition advice. <!-- table, from page 0 (l=0.187,t=0.650,r=0.694,b=0.861), with ID 8dd1a897-47aa-410e-b8cd-f5740e63a706 -->\\n\\nSummary : This image shows a vertically oriented barcode label containing both a numeric code and an alphanumeric identifier.\\n\\nbarcode:\\n  Full Code :\\n    • Numeric string: 853231007122\\n    • Alphanumeric identifier at top: 8SHD08C1\\n  Barcode Type & Structure :\\n    • 12-digit numeric code, consistent with UPC-A format.\\n    • Black vertical bars of varying thickness and spacing.\\n    • Quiet zones (blank margins) present at top and bottom.\\n  Placement & Orientation :\\n    • Barcode is vertically aligned (portrait orientation).\\n    • Numeric code is printed along the left side, running vertically.\\n    • Alphanumeric identifier is printed horizontally at the top.\\n    • No additional logos, graphics, or text visible.\\n\\nAnalysis :\\n    • The barcode is formatted for machine scanning, with clear numeric and alphanumeric identifiers for human reference. The presence of both a 12-digit code and a separate alphanumeric string suggests use in retail or inventory tracking. <!-- figure, from page 0 (l=0.701,t=0.649,r=0.792,b=0.857), with ID f514f117-ed86-486e-a1b1-e83c7cebebf1 -->\\n\\nNET WT 8 OZ <!-- text, from page 0 (l=0.154,t=0.867,r=0.312,b=0.917), with ID d1e43057-1450-4966-8244-8190eebd3625 -->\\n\\nINGREDIENTS: GRASS FED BEEF, WATER, LESS THAN 2% OF THE FOLLOWING: SPICES INCLUDING PAPRIKA, SEA SALT, VINEGAR, CULTURED CELERY POWDER, GARLIC POWDER, CHERRY POWDER, ONION POWDER. <!-- text, from page 0 (l=0.432,t=0.861,r=0.649,b=0.921), with ID ed00dbf7-d19e-4fad-a3c7-3f7580be5db8 -->\\n\\nDistributed by\\nTeton Waters Ranch\\nLoveland, CO 80538\\nTetonWatersRanch.com <!-- marginalia, from page 0 (l=0.659,t=0.867,r=0.763,b=0.919), with ID f5b18c88-a88d-4730-9fad-f5dba5eeb81d -->\\n\\nSummary : This is a circular stamp indicating inspection and approval by a U.S. government agency.\\n\\nstamp:  \\nShape & Border :  \\n  • Circular stamp with a single black border.  \\n\\nText :  \\n  • \"U.S. INSPECTED AND PASSED BY DEPARTMENT OF AGRICULTURE\" in uppercase letters, centered within the circle.  \\n\\nInk Colour :  \\n  • Black text and border on a light background.  \\n\\nOrientation & Placement :  \\n  • Upright orientation; no date or additional graphic elements visible.  \\n\\nAnalysis :  \\n  • This stamp signifies official inspection and approval by the U.S. Department of Agriculture, commonly found on food products to indicate regulatory compliance. <!-- figure, from page 0 (l=0.824,t=0.851,r=0.885,b=0.915), with ID 7871977f-f42e-4d2e-8a9e-b93a5f5b6883 -->', chunks=[Chunk(text='BUN LENGTH', grounding=[ChunkGrounding(page=0, box=ChunkGroundingBox(l=0.15298891067504883, t=0.02859390527009964, r=0.38849395513534546, b=0.09163343906402588), image_path=PosixPath('/Users/andreakropp/Documents/Demos/ADE Demos/Notebooks/groundings_folder_webinar/teton_hot_dogs_20250716_094335/page_0/text_c517100e-1b28-4545-a0bd-a25f7511254a_0.png'))], chunk_type=<ChunkType.text: 'text'>, chunk_id='c517100e-1b28-4545-a0bd-a25f7511254a'), Chunk(text='UNCURED\\nBEEF\\nHOT DOGS\\nNO NITRITES OR\\nNITRATES ADDED\\nExcept those naturally occurring in\\nsea salt and cultured celery powder', grounding=[ChunkGrounding(page=0, box=ChunkGroundingBox(l=0.16915875673294067, t=0.09763464331626892, r=0.37200164794921875, b=0.31815484166145325), image_path=PosixPath('/Users/andreakropp/Documents/Demos/ADE Demos/Notebooks/groundings_folder_webinar/teton_hot_dogs_20250716_094335/page_0/text_53409e79-967b-4f54-ab94-a59ac4aea092_0.png'))], chunk_type=<ChunkType.text: 'text'>, chunk_id='53409e79-967b-4f54-ab94-a59ac4aea092'), Chunk(text='NOT PRESERVED\\nKEEP REFRIGERATED\\nBELOW 40°F AT ALL TIMES\\nFULLY COOKED\\nGLUTEN FREE\\n\\nTO HEAT: BROWN IN A PAN\\nOR GRILL FOR 5-7 MIN.', grounding=[ChunkGrounding(page=0, box=ChunkGroundingBox(l=0.17146925628185272, t=0.32439807057380676, r=0.3524060845375061, b=0.47614535689353943), image_path=PosixPath('/Users/andreakropp/Documents/Demos/ADE Demos/Notebooks/groundings_folder_webinar/teton_hot_dogs_20250716_094335/page_0/text_bb66961c-ee8e-4432-b391-d28698fa4dd4_0.png'))], chunk_type=<ChunkType.text: 'text'>, chunk_id='bb66961c-ee8e-4432-b391-d28698fa4dd4'), Chunk(text='Summary : This image displays three certification and product claim badges related to food labeling, specifically for beef products.\\n\\nlogo:  \\nBadges & Claims : \\n  • \"CERTIFIED HUMANE RAISED & HANDLED GRASS-FED BEEF\" with the website \"CERTIFIEDHUMANE.ORG\".\\n  • \"NO SUGAR ADDED\" in a blue box.\\n  • \"WHOLE 30 Approved\" with the Whole30 logo.\\n  • Additional text at the bottom: \"NOT A LOW CALORIE FOOD - SEE NUTRITION FACTS FOR SUGAR AND CALORIE CONTENT.\"\\n\\nDesign & Layout : \\n  • Three adjacent rectangular badges, each with distinct color schemes (blue/green, blue/white, blue/white).\\n  • All-caps, bold sans-serif fonts for emphasis.\\n  • Red background for the overall image.\\n\\nAnalysis : \\n  • The badges communicate that the product is certified humane, contains no added sugar, and is approved for the Whole30 diet, targeting health-conscious consumers and those following specific dietary guidelines.', grounding=[ChunkGrounding(page=0, box=ChunkGroundingBox(l=0.14188559353351593, t=0.5380382537841797, r=0.3998628854751587, b=0.6488116979598999), image_path=PosixPath('/Users/andreakropp/Documents/Demos/ADE Demos/Notebooks/groundings_folder_webinar/teton_hot_dogs_20250716_094335/page_0/figure_046cbc29-72bb-4d69-8304-8a00a3240a5c_0.png'))], chunk_type=<ChunkType.figure: 'figure'>, chunk_id='046cbc29-72bb-4d69-8304-8a00a3240a5c'), Chunk(text='Summary : This is a product packaging label for Teton Waters Ranch beef, highlighting its sourcing and quality claims.\\n\\nlogo: Teton Waters Ranch (TWR)\\n\\n# Scene Overview :\\n• The main subject is a product label with prominent text and a stylized blue illustration of a cow\\'s head in the lower right.\\n• The label background is kraft brown with blue and white text.\\n• The Teton Waters Ranch (TWR) logo appears at the top left, consisting of a blue hexagon with \"TWR\" in white stylized letters.\\n• The largest text reads \"100% GRASS-FED BEEF\" in white, with \"MADE WITH\" and \"MADE WITH BEEF USING\" in blue boxes.\\n• Additional claims in white and blue text: \"NO ANTIBIOTICS,\" \"ADDED HORMONES,\" and \"NEVER FED ANIMAL BY-PRODUCTS.\"\\n\\n# Technical Details :\\n• No scale bar or measurement units are present.\\n• The label uses a bold sans-serif font for all text.\\n• The cow illustration is monochrome blue, stylized, and occupies the lower right corner.\\n\\n# Spatial Relationships :\\n• The TWR logo and \"TETON WATERS RANCH\" are at the top.\\n• The \"100% GRASS-FED BEEF\" text is centered and dominates the label.\\n• Quality claims are listed at the bottom, with the cow illustration adjacent.\\n\\nAnalysis :\\n• The label emphasizes the product\\'s natural and ethical sourcing, using large, bold text and a simple color palette to communicate key selling points. The blue cow illustration reinforces the beef theme and brand identity.', grounding=[ChunkGrounding(page=0, box=ChunkGroundingBox(l=0.4167827367782593, t=0.04868835210800171, r=0.8448642492294312, b=0.639910101890564), image_path=PosixPath('/Users/andreakropp/Documents/Demos/ADE Demos/Notebooks/groundings_folder_webinar/teton_hot_dogs_20250716_094335/page_0/figure_eb4577dd-151c-4477-beea-65de62a4d410_0.png'))], chunk_type=<ChunkType.figure: 'figure'>, chunk_id='eb4577dd-151c-4477-beea-65de62a4d410'), Chunk(text='Nutrition Facts\\n5 servings per container\\nServing size 1 link (45g)\\nCalories 110 per serving\\n<table><tr><td>Amount Per Serving</td><td>%DV*</td><td>Amount Per Serving</td><td>%DV*</td></tr><tr><td>Total Fat 9g</td><td>12%</td><td>Total Carb 0g</td><td>0%</td></tr><tr><td>Sat Fat 3.5g</td><td>18%</td><td>Dietary Fiber 0g</td><td>0%</td></tr><tr><td>Trans Fat 0.5g</td><td></td><td>Total Sugars 0g</td><td></td></tr><tr><td>Cholest 30mg</td><td>9%</td><td>Incl 0g Added Sugars</td><td>0%</td></tr><tr><td>Sodium 360mg</td><td>16%</td><td>Protein 6g</td><td></td></tr><tr><td colspan=\"4\">Vitamin D 0% • Calcium 0% • Iron 4% • Potassium 2%</td></tr></table>\\nThe % Daily Value (DV) tells you how much a nutrient in a serving of food contributes to a daily diet. 2,000 calories a day is used for general nutrition advice.', grounding=[ChunkGrounding(page=0, box=ChunkGroundingBox(l=0.18744176626205444, t=0.6504496335983276, r=0.6937093734741211, b=0.8605146408081055), image_path=PosixPath('/Users/andreakropp/Documents/Demos/ADE Demos/Notebooks/groundings_folder_webinar/teton_hot_dogs_20250716_094335/page_0/table_8dd1a897-47aa-410e-b8cd-f5740e63a706_0.png'))], chunk_type=<ChunkType.table: 'table'>, chunk_id='8dd1a897-47aa-410e-b8cd-f5740e63a706'), Chunk(text='Summary : This image shows a vertically oriented barcode label containing both a numeric code and an alphanumeric identifier.\\n\\nbarcode:\\n  Full Code :\\n    • Numeric string: 853231007122\\n    • Alphanumeric identifier at top: 8SHD08C1\\n  Barcode Type & Structure :\\n    • 12-digit numeric code, consistent with UPC-A format.\\n    • Black vertical bars of varying thickness and spacing.\\n    • Quiet zones (blank margins) present at top and bottom.\\n  Placement & Orientation :\\n    • Barcode is vertically aligned (portrait orientation).\\n    • Numeric code is printed along the left side, running vertically.\\n    • Alphanumeric identifier is printed horizontally at the top.\\n    • No additional logos, graphics, or text visible.\\n\\nAnalysis :\\n    • The barcode is formatted for machine scanning, with clear numeric and alphanumeric identifiers for human reference. The presence of both a 12-digit code and a separate alphanumeric string suggests use in retail or inventory tracking.', grounding=[ChunkGrounding(page=0, box=ChunkGroundingBox(l=0.7012795805931091, t=0.6486937999725342, r=0.7917370200157166, b=0.8567761182785034), image_path=PosixPath('/Users/andreakropp/Documents/Demos/ADE Demos/Notebooks/groundings_folder_webinar/teton_hot_dogs_20250716_094335/page_0/figure_f514f117-ed86-486e-a1b1-e83c7cebebf1_0.png'))], chunk_type=<ChunkType.figure: 'figure'>, chunk_id='f514f117-ed86-486e-a1b1-e83c7cebebf1'), Chunk(text='NET WT 8 OZ', grounding=[ChunkGrounding(page=0, box=ChunkGroundingBox(l=0.15396299958229065, t=0.8673994541168213, r=0.3122105896472931, b=0.9170569181442261), image_path=PosixPath('/Users/andreakropp/Documents/Demos/ADE Demos/Notebooks/groundings_folder_webinar/teton_hot_dogs_20250716_094335/page_0/text_d1e43057-1450-4966-8244-8190eebd3625_0.png'))], chunk_type=<ChunkType.text: 'text'>, chunk_id='d1e43057-1450-4966-8244-8190eebd3625'), Chunk(text='INGREDIENTS: GRASS FED BEEF, WATER, LESS THAN 2% OF THE FOLLOWING: SPICES INCLUDING PAPRIKA, SEA SALT, VINEGAR, CULTURED CELERY POWDER, GARLIC POWDER, CHERRY POWDER, ONION POWDER.', grounding=[ChunkGrounding(page=0, box=ChunkGroundingBox(l=0.4321235716342926, t=0.8606199622154236, r=0.6486995220184326, b=0.9213903546333313), image_path=PosixPath('/Users/andreakropp/Documents/Demos/ADE Demos/Notebooks/groundings_folder_webinar/teton_hot_dogs_20250716_094335/page_0/text_ed00dbf7-d19e-4fad-a3c7-3f7580be5db8_0.png'))], chunk_type=<ChunkType.text: 'text'>, chunk_id='ed00dbf7-d19e-4fad-a3c7-3f7580be5db8'), Chunk(text='Distributed by\\nTeton Waters Ranch\\nLoveland, CO 80538\\nTetonWatersRanch.com', grounding=[ChunkGrounding(page=0, box=ChunkGroundingBox(l=0.6586894392967224, t=0.8667811155319214, r=0.7625678181648254, b=0.9192259311676025), image_path=PosixPath('/Users/andreakropp/Documents/Demos/ADE Demos/Notebooks/groundings_folder_webinar/teton_hot_dogs_20250716_094335/page_0/marginalia_f5b18c88-a88d-4730-9fad-f5dba5eeb81d_0.png'))], chunk_type=<ChunkType.marginalia: 'marginalia'>, chunk_id='f5b18c88-a88d-4730-9fad-f5dba5eeb81d'), Chunk(text='Summary : This is a circular stamp indicating inspection and approval by a U.S. government agency.\\n\\nstamp:  \\nShape & Border :  \\n  • Circular stamp with a single black border.  \\n\\nText :  \\n  • \"U.S. INSPECTED AND PASSED BY DEPARTMENT OF AGRICULTURE\" in uppercase letters, centered within the circle.  \\n\\nInk Colour :  \\n  • Black text and border on a light background.  \\n\\nOrientation & Placement :  \\n  • Upright orientation; no date or additional graphic elements visible.  \\n\\nAnalysis :  \\n  • This stamp signifies official inspection and approval by the U.S. Department of Agriculture, commonly found on food products to indicate regulatory compliance.', grounding=[ChunkGrounding(page=0, box=ChunkGroundingBox(l=0.8244832754135132, t=0.8510605692863464, r=0.8850430250167847, b=0.9146308302879333), image_path=PosixPath('/Users/andreakropp/Documents/Demos/ADE Demos/Notebooks/groundings_folder_webinar/teton_hot_dogs_20250716_094335/page_0/figure_7871977f-f42e-4d2e-8a9e-b93a5f5b6883_0.png'))], chunk_type=<ChunkType.figure: 'figure'>, chunk_id='7871977f-f42e-4d2e-8a9e-b93a5f5b6883')], extraction=None, extraction_metadata=None, start_page_idx=0, end_page_idx=0, doc_type='image', result_path=PosixPath('/Users/andreakropp/Documents/Demos/ADE Demos/Notebooks/results_folder_webinar/teton_hot_dogs_20250716_094335.json'), errors=[], extraction_error=None),\n",
       " ParsedDocument(markdown='ORIGINAL BEEF MINI STICKS\\nMILD\\n\\n6 COUNT\\n\\nCHOMPS\\n— CHOMPLINGS —\\n\\nBEEF\\n4G PROTEIN\\n45 CALORIES\\nPER SERVING\\n\\nMADE WITH GRASS FED & FINISHED BEEF\\n\\n4G PROTEIN PER SERVING\\n\\n45 CALORIES PER SERVING\\n\\nZERO SUGAR\\nNOT A LOW CALORIE SNACK\\n\\nWHOLE 30 APPROVED\\n\\nCERTIFIED GLUTEN FREE\\n\\nU.S. INSPECTED AND PASSED BY DEPARTMENT OF AGRICULTURE\\n\\n6 STICKS - 0.5 OZ. EA. NET WT. 3 OZ (84G) <!-- text, from page 0 (l=0.130,t=0.040,r=0.841,b=0.960), with ID 1b30950e-5651-4eb6-9af9-c9d630451558 -->\\n\\nSummary : This image is a logo-style badge indicating a product quantity pack, featuring the number \"6\" and the word \"pack\" with a stylized orange arrow resembling the Amazon logo.\\n\\nlogo: \\n  Visible Elements : \\n    • Large black numeral \"6\" on the left.\\n    • The word \"pack\" in black, right of the numeral.\\n    • Curved orange arrow (Amazon smile) beneath the text, pointing right.\\n    • All elements enclosed in a thick black oval border.\\n  Dimensions & Placement : \\n    • Horizontal oval layout.\\n    • Text and arrow are centered within the oval.\\n  Analysis : \\n    • The design mimics Amazon\\'s branding, suggesting this is a multi-pack (6 units) product label for use on e-commerce platforms. <!-- figure, from page 0 (l=0.875,t=0.000,r=0.999,b=0.093), with ID 9d0191c0-f10d-44d9-92e1-6a62c97c92a4 -->', chunks=[Chunk(text='ORIGINAL BEEF MINI STICKS\\nMILD\\n\\n6 COUNT\\n\\nCHOMPS\\n— CHOMPLINGS —\\n\\nBEEF\\n4G PROTEIN\\n45 CALORIES\\nPER SERVING\\n\\nMADE WITH GRASS FED & FINISHED BEEF\\n\\n4G PROTEIN PER SERVING\\n\\n45 CALORIES PER SERVING\\n\\nZERO SUGAR\\nNOT A LOW CALORIE SNACK\\n\\nWHOLE 30 APPROVED\\n\\nCERTIFIED GLUTEN FREE\\n\\nU.S. INSPECTED AND PASSED BY DEPARTMENT OF AGRICULTURE\\n\\n6 STICKS - 0.5 OZ. EA. NET WT. 3 OZ (84G)', grounding=[ChunkGrounding(page=0, box=ChunkGroundingBox(l=0.13049376010894775, t=0.04003867506980896, r=0.8405967354774475, b=0.9603948593139648), image_path=PosixPath('/Users/andreakropp/Documents/Demos/ADE Demos/Notebooks/groundings_folder_webinar/chomps_20250716_094330/page_0/text_1b30950e-5651-4eb6-9af9-c9d630451558_0.png'))], chunk_type=<ChunkType.text: 'text'>, chunk_id='1b30950e-5651-4eb6-9af9-c9d630451558'), Chunk(text='Summary : This image is a logo-style badge indicating a product quantity pack, featuring the number \"6\" and the word \"pack\" with a stylized orange arrow resembling the Amazon logo.\\n\\nlogo: \\n  Visible Elements : \\n    • Large black numeral \"6\" on the left.\\n    • The word \"pack\" in black, right of the numeral.\\n    • Curved orange arrow (Amazon smile) beneath the text, pointing right.\\n    • All elements enclosed in a thick black oval border.\\n  Dimensions & Placement : \\n    • Horizontal oval layout.\\n    • Text and arrow are centered within the oval.\\n  Analysis : \\n    • The design mimics Amazon\\'s branding, suggesting this is a multi-pack (6 units) product label for use on e-commerce platforms.', grounding=[ChunkGrounding(page=0, box=ChunkGroundingBox(l=0.8754627108573914, t=2.9068440198898315e-05, r=0.9991852641105652, b=0.09332682192325592), image_path=PosixPath('/Users/andreakropp/Documents/Demos/ADE Demos/Notebooks/groundings_folder_webinar/chomps_20250716_094330/page_0/figure_9d0191c0-f10d-44d9-92e1-6a62c97c92a4_0.png'))], chunk_type=<ChunkType.figure: 'figure'>, chunk_id='9d0191c0-f10d-44d9-92e1-6a62c97c92a4')], extraction=None, extraction_metadata=None, start_page_idx=0, end_page_idx=0, doc_type='image', result_path=PosixPath('/Users/andreakropp/Documents/Demos/ADE Demos/Notebooks/results_folder_webinar/chomps_20250716_094330.json'), errors=[], extraction_error=None)]"
      ]
     },
     "execution_count": 6,
     "metadata": {},
     "output_type": "execute_result"
    }
   ],
   "source": [
    "result"
   ]
  },
  {
   "cell_type": "code",
   "execution_count": 7,
   "id": "6c7f6e47",
   "metadata": {},
   "outputs": [
    {
     "data": {
      "text/plain": [
       "ParsedDocument(markdown='Summary : This image is a logo or label for a superfood-related initiative, emphasizing purpose-driven food choices that benefit consumers, farmers, and the planet.\\n\\nlogo:  \\nVisible Text & Tagline : \\n  • Main text: \"SUPER FOODS WITH PURPOSE\"\\n  • Tagline at bottom: \"FOR YOU – FOR FARMERS FOR THE PLANET\"\\n\\nGraphic Elements : \\n  • Central illustration of a stylized plant with six leaves, roots visible below ground.\\n  • Background is a gradient teal/green with a brown section representing soil.\\n  • White text, bold sans-serif font, all uppercase.\\n\\nDimensions & Placement : \\n  • Text is centered above and below the plant illustration.\\n  • Plant is centrally placed, roots extend into the brown soil area at the bottom.\\n\\nAnalysis : \\n  • The logo uses green and brown to evoke themes of agriculture, sustainability, and environmental consciousness.\\n  • The tagline positions the brand as beneficial for multiple stakeholders: consumers, farmers, and the environment. <!-- figure, from page 0 (l=0.116,t=0.010,r=0.255,b=0.226), with ID 2bb05fcc-ee6d-422f-bed2-b6e0b1e92d2b -->\\n\\nSummary : This is a circular product label illustration promoting a food item as suitable for topping and snacking, with a recipe suggestion on the back.\\n\\nillustration:\\nScene Overview :\\n  • Main subject is a stylized bowl containing a purple substance, topped with banana slices, strawberries, and blueberries, with a spoon resting on the bowl.\\n  • The bowl is centered within a yellow-orange circular badge.\\n  • The text “GREAT FOR TOPPING + SNACKING” encircles the bowl.\\n  • A red circle in the upper right contains the text “RECIPES ON BACK”.\\n  • The background is a solid magenta/purple color.\\n\\nTechnical Details :\\n  • No scale bar or units present.\\n  • All text is in uppercase, bold, and highly legible.\\n  • The illustration uses flat, cartoon-like vector art with a limited color palette (yellow, purple, white, red, blue, orange).\\n\\nSpatial Relationships :\\n  • The bowl is centrally placed within the badge.\\n  • The “RECIPES ON BACK” circle partially overlaps the upper right of the badge.\\n\\nAnalysis :\\n  • The label visually emphasizes the product’s versatility for both topping and snacking, and directs consumers to additional recipes, likely to encourage usage ideas. <!-- figure, from page 0 (l=0.567,t=0.029,r=0.732,b=0.187), with ID d2a25015-67e1-466e-8059-5902368284ee -->\\n\\nlogo: NAVITAS ORGANICS\\n\\nNAVITAS\\nORGANICS <!-- text, from page 0 (l=0.262,t=0.214,r=0.573,b=0.368), with ID 7d8e341e-fb32-4391-a108-626bc2ce1faf -->\\n\\nSummary : This is a product package image for organic goji berries, highlighting its features and certifications.\\n\\nphoto:\\nScene Overview :\\n  • The main subject is a package of organic goji berries.\\n  • The package is predominantly purple and pink with white and red accents.\\n  • A white spoon filled with dried goji berries is prominently displayed, along with an illustration of fresh goji berries and green leaves.\\n  • The text \"ORGANIC GOJI BERRIES\" is large and central.\\n  • The label \"PLANT-BASED SUPERFOOD\" appears in a pink box at the top right.\\n\\nTechnical Details :\\n  • The package lists several product features:\\n    – \"HIGH IN ANTIOXIDANTS (VIT. A)\"\\n    – \"MILDLY SWEET & TANGY\"\\n    – \"UNSULFURED & GENTLY DRIED\"\\n  • Certifications and claims shown:\\n    – USDA ORGANIC (logo)\\n    – NON GMO (logo)\\n  • Net weight is specified as \"NET WT 8 OZ (227g)\".\\n  • The product is described as \"PLANT-BASED SUPERFOOD\" and \"ORGANIC\".\\n\\nSpatial Relationships :\\n  • The spoon with dried goji berries is on the right side, overlapping the product name area.\\n  • The fresh goji berry illustration is below the spoon, with green leaves extending leftward.\\n  • Certification logos are at the bottom left.\\n\\nAnalysis :\\n  • The packaging design emphasizes health benefits (antioxidants, organic, non-GMO) and product purity (unsulfured, gently dried).\\n  • The use of both dried and fresh berry imagery visually reinforces the product\\'s natural origin and appeal as a superfood.\\n  • Prominent placement of certifications and product features targets health-conscious consumers. <!-- figure, from page 0 (l=0.124,t=0.397,r=0.733,b=0.977), with ID 9257e62d-e6ae-4283-a065-6a2af4ba5c72 -->', chunks=[Chunk(text='Summary : This image is a logo or label for a superfood-related initiative, emphasizing purpose-driven food choices that benefit consumers, farmers, and the planet.\\n\\nlogo:  \\nVisible Text & Tagline : \\n  • Main text: \"SUPER FOODS WITH PURPOSE\"\\n  • Tagline at bottom: \"FOR YOU – FOR FARMERS FOR THE PLANET\"\\n\\nGraphic Elements : \\n  • Central illustration of a stylized plant with six leaves, roots visible below ground.\\n  • Background is a gradient teal/green with a brown section representing soil.\\n  • White text, bold sans-serif font, all uppercase.\\n\\nDimensions & Placement : \\n  • Text is centered above and below the plant illustration.\\n  • Plant is centrally placed, roots extend into the brown soil area at the bottom.\\n\\nAnalysis : \\n  • The logo uses green and brown to evoke themes of agriculture, sustainability, and environmental consciousness.\\n  • The tagline positions the brand as beneficial for multiple stakeholders: consumers, farmers, and the environment.', grounding=[ChunkGrounding(page=0, box=ChunkGroundingBox(l=0.11592970043420792, t=0.010168477892875671, r=0.2546069622039795, b=0.22621563076972961), image_path=PosixPath('/Users/andreakropp/Documents/Demos/ADE Demos/Notebooks/groundings_folder_webinar/goji_20250716_094324/page_0/figure_2bb05fcc-ee6d-422f-bed2-b6e0b1e92d2b_0.png'))], chunk_type=<ChunkType.figure: 'figure'>, chunk_id='2bb05fcc-ee6d-422f-bed2-b6e0b1e92d2b'), Chunk(text='Summary : This is a circular product label illustration promoting a food item as suitable for topping and snacking, with a recipe suggestion on the back.\\n\\nillustration:\\nScene Overview :\\n  • Main subject is a stylized bowl containing a purple substance, topped with banana slices, strawberries, and blueberries, with a spoon resting on the bowl.\\n  • The bowl is centered within a yellow-orange circular badge.\\n  • The text “GREAT FOR TOPPING + SNACKING” encircles the bowl.\\n  • A red circle in the upper right contains the text “RECIPES ON BACK”.\\n  • The background is a solid magenta/purple color.\\n\\nTechnical Details :\\n  • No scale bar or units present.\\n  • All text is in uppercase, bold, and highly legible.\\n  • The illustration uses flat, cartoon-like vector art with a limited color palette (yellow, purple, white, red, blue, orange).\\n\\nSpatial Relationships :\\n  • The bowl is centrally placed within the badge.\\n  • The “RECIPES ON BACK” circle partially overlaps the upper right of the badge.\\n\\nAnalysis :\\n  • The label visually emphasizes the product’s versatility for both topping and snacking, and directs consumers to additional recipes, likely to encourage usage ideas.', grounding=[ChunkGrounding(page=0, box=ChunkGroundingBox(l=0.567258894443512, t=0.028576791286468506, r=0.732022225856781, b=0.18708758056163788), image_path=PosixPath('/Users/andreakropp/Documents/Demos/ADE Demos/Notebooks/groundings_folder_webinar/goji_20250716_094324/page_0/figure_d2a25015-67e1-466e-8059-5902368284ee_0.png'))], chunk_type=<ChunkType.figure: 'figure'>, chunk_id='d2a25015-67e1-466e-8059-5902368284ee'), Chunk(text='logo: NAVITAS ORGANICS\\n\\nNAVITAS\\nORGANICS', grounding=[ChunkGrounding(page=0, box=ChunkGroundingBox(l=0.26173728704452515, t=0.21447405219078064, r=0.5727711915969849, b=0.3681424558162689), image_path=PosixPath('/Users/andreakropp/Documents/Demos/ADE Demos/Notebooks/groundings_folder_webinar/goji_20250716_094324/page_0/text_7d8e341e-fb32-4391-a108-626bc2ce1faf_0.png'))], chunk_type=<ChunkType.text: 'text'>, chunk_id='7d8e341e-fb32-4391-a108-626bc2ce1faf'), Chunk(text='Summary : This is a product package image for organic goji berries, highlighting its features and certifications.\\n\\nphoto:\\nScene Overview :\\n  • The main subject is a package of organic goji berries.\\n  • The package is predominantly purple and pink with white and red accents.\\n  • A white spoon filled with dried goji berries is prominently displayed, along with an illustration of fresh goji berries and green leaves.\\n  • The text \"ORGANIC GOJI BERRIES\" is large and central.\\n  • The label \"PLANT-BASED SUPERFOOD\" appears in a pink box at the top right.\\n\\nTechnical Details :\\n  • The package lists several product features:\\n    – \"HIGH IN ANTIOXIDANTS (VIT. A)\"\\n    – \"MILDLY SWEET & TANGY\"\\n    – \"UNSULFURED & GENTLY DRIED\"\\n  • Certifications and claims shown:\\n    – USDA ORGANIC (logo)\\n    – NON GMO (logo)\\n  • Net weight is specified as \"NET WT 8 OZ (227g)\".\\n  • The product is described as \"PLANT-BASED SUPERFOOD\" and \"ORGANIC\".\\n\\nSpatial Relationships :\\n  • The spoon with dried goji berries is on the right side, overlapping the product name area.\\n  • The fresh goji berry illustration is below the spoon, with green leaves extending leftward.\\n  • Certification logos are at the bottom left.\\n\\nAnalysis :\\n  • The packaging design emphasizes health benefits (antioxidants, organic, non-GMO) and product purity (unsulfured, gently dried).\\n  • The use of both dried and fresh berry imagery visually reinforces the product\\'s natural origin and appeal as a superfood.\\n  • Prominent placement of certifications and product features targets health-conscious consumers.', grounding=[ChunkGrounding(page=0, box=ChunkGroundingBox(l=0.12386670708656311, t=0.3972513973712921, r=0.7326459884643555, b=0.977474570274353), image_path=PosixPath('/Users/andreakropp/Documents/Demos/ADE Demos/Notebooks/groundings_folder_webinar/goji_20250716_094324/page_0/figure_9257e62d-e6ae-4283-a065-6a2af4ba5c72_0.png'))], chunk_type=<ChunkType.figure: 'figure'>, chunk_id='9257e62d-e6ae-4283-a065-6a2af4ba5c72')], extraction=None, extraction_metadata=None, start_page_idx=0, end_page_idx=0, doc_type='image', result_path=PosixPath('/Users/andreakropp/Documents/Demos/ADE Demos/Notebooks/results_folder_webinar/goji_20250716_094324.json'), errors=[], extraction_error=None)"
      ]
     },
     "execution_count": 7,
     "metadata": {},
     "output_type": "execute_result"
    }
   ],
   "source": [
    "parsed_doc = result[2]\n",
    "parsed_doc"
   ]
  },
  {
   "cell_type": "code",
   "execution_count": 8,
   "id": "8f535df7",
   "metadata": {},
   "outputs": [
    {
     "data": {
      "text/markdown": [
       "Summary : This image is a logo or label for a superfood-related initiative, emphasizing purpose-driven food choices that benefit consumers, farmers, and the planet.\n",
       "\n",
       "logo:  \n",
       "Visible Text & Tagline : \n",
       "  • Main text: \"SUPER FOODS WITH PURPOSE\"\n",
       "  • Tagline at bottom: \"FOR YOU – FOR FARMERS FOR THE PLANET\"\n",
       "\n",
       "Graphic Elements : \n",
       "  • Central illustration of a stylized plant with six leaves, roots visible below ground.\n",
       "  • Background is a gradient teal/green with a brown section representing soil.\n",
       "  • White text, bold sans-serif font, all uppercase.\n",
       "\n",
       "Dimensions & Placement : \n",
       "  • Text is centered above and below the plant illustration.\n",
       "  • Plant is centrally placed, roots extend into the brown soil area at the bottom.\n",
       "\n",
       "Analysis : \n",
       "  • The logo uses green and brown to evoke themes of agriculture, sustainability, and environmental consciousness.\n",
       "  • The tagline positions the brand as beneficial for multiple stakeholders: consumers, farmers, and the environment. <!-- figure, from page 0 (l=0.116,t=0.010,r=0.255,b=0.226), with ID 2bb05fcc-ee6d-422f-bed2-b6e0b1e92d2b -->\n",
       "\n",
       "Summary : This is a circular product label illustration promoting a food item as suitable for topping and snacking, with a recipe suggestion on the back.\n",
       "\n",
       "illustration:\n",
       "Scene Overview :\n",
       "  • Main subject is a stylized bowl containing a purple substance, topped with banana slices, strawberries, and blueberries, with a spoon resting on the bowl.\n",
       "  • The bowl is centered within a yellow-orange circular badge.\n",
       "  • The text “GREAT FOR TOPPING + SNACKING” encircles the bowl.\n",
       "  • A red circle in the upper right contains the text “RECIPES ON BACK”.\n",
       "  • The background is a solid magenta/purple color.\n",
       "\n",
       "Technical Details :\n",
       "  • No scale bar or units present.\n",
       "  • All text is in uppercase, bold, and highly legible.\n",
       "  • The illustration uses flat, cartoon-like vector art with a limited color palette (yellow, purple, white, red, blue, orange).\n",
       "\n",
       "Spatial Relationships :\n",
       "  • The bowl is centrally placed within the badge.\n",
       "  • The “RECIPES ON BACK” circle partially overlaps the upper right of the badge.\n",
       "\n",
       "Analysis :\n",
       "  • The label visually emphasizes the product’s versatility for both topping and snacking, and directs consumers to additional recipes, likely to encourage usage ideas. <!-- figure, from page 0 (l=0.567,t=0.029,r=0.732,b=0.187), with ID d2a25015-67e1-466e-8059-5902368284ee -->\n",
       "\n",
       "logo: NAVITAS ORGANICS\n",
       "\n",
       "NAVITAS\n",
       "ORGANICS <!-- text, from page 0 (l=0.262,t=0.214,r=0.573,b=0.368), with ID 7d8e341e-fb32-4391-a108-626bc2ce1faf -->\n",
       "\n",
       "Summary : This is a product package image for organic goji berries, highlighting its features and certifications.\n",
       "\n",
       "photo:\n",
       "Scene Overview :\n",
       "  • The main subject is a package of organic goji berries.\n",
       "  • The package is predominantly purple and pink with white and red accents.\n",
       "  • A white spoon filled with dried goji berries is prominently displayed, along with an illustration of fresh goji berries and green leaves.\n",
       "  • The text \"ORGANIC GOJI BERRIES\" is large and central.\n",
       "  • The label \"PLANT-BASED SUPERFOOD\" appears in a pink box at the top right.\n",
       "\n",
       "Technical Details :\n",
       "  • The package lists several product features:\n",
       "    – \"HIGH IN ANTIOXIDANTS (VIT. A)\"\n",
       "    – \"MILDLY SWEET & TANGY\"\n",
       "    – \"UNSULFURED & GENTLY DRIED\"\n",
       "  • Certifications and claims shown:\n",
       "    – USDA ORGANIC (logo)\n",
       "    – NON GMO (logo)\n",
       "  • Net weight is specified as \"NET WT 8 OZ (227g)\".\n",
       "  • The product is described as \"PLANT-BASED SUPERFOOD\" and \"ORGANIC\".\n",
       "\n",
       "Spatial Relationships :\n",
       "  • The spoon with dried goji berries is on the right side, overlapping the product name area.\n",
       "  • The fresh goji berry illustration is below the spoon, with green leaves extending leftward.\n",
       "  • Certification logos are at the bottom left.\n",
       "\n",
       "Analysis :\n",
       "  • The packaging design emphasizes health benefits (antioxidants, organic, non-GMO) and product purity (unsulfured, gently dried).\n",
       "  • The use of both dried and fresh berry imagery visually reinforces the product's natural origin and appeal as a superfood.\n",
       "  • Prominent placement of certifications and product features targets health-conscious consumers. <!-- figure, from page 0 (l=0.124,t=0.397,r=0.733,b=0.977), with ID 9257e62d-e6ae-4283-a065-6a2af4ba5c72 -->"
      ],
      "text/plain": [
       "<IPython.core.display.Markdown object>"
      ]
     },
     "execution_count": 8,
     "metadata": {},
     "output_type": "execute_result"
    }
   ],
   "source": [
    "from IPython.display import Markdown\n",
    "Markdown(parsed_doc.markdown)"
   ]
  },
  {
   "cell_type": "code",
   "execution_count": 9,
   "id": "5e71d163",
   "metadata": {},
   "outputs": [
    {
     "name": "stdout",
     "output_type": "stream",
     "text": [
      "Doc type: image\n",
      "Pages: 0 to 0\n",
      "\n",
      "Number of chunks: 4\n",
      "\n",
      "Markdown summary:\n",
      "Summary : This image is a logo or label for a superfood-related initiative, emphasizing purpose-driven food choices that benefit consumers, farmers, and the planet.\n",
      "\n",
      "logo:  \n",
      "Visible Text & Tagline : \n",
      "  • Main text: \"SUPER FOODS WITH PURPOSE\"\n",
      "  • Tagline at bottom: \"FOR YOU – FOR FARMERS FOR THE PLANET\"\n",
      "\n",
      "Graphic Elements : \n",
      "  • Central illustration of a stylized plant with six leaves, roots visible below ground.\n",
      "  • Background is a gradient teal/green with a brown section representing soil.\n",
      "  • W\n"
     ]
    }
   ],
   "source": [
    "\n",
    "print(\"Doc type:\", parsed_doc.doc_type)\n",
    "print(\"Pages:\", parsed_doc.start_page_idx, \"to\", parsed_doc.end_page_idx)\n",
    "\n",
    "# Chunks\n",
    "chunks = parsed_doc.chunks\n",
    "print(\"\\nNumber of chunks:\", len(chunks))\n",
    "\n",
    "# Markdown summary\n",
    "print(\"\\nMarkdown summary:\")\n",
    "print(parsed_doc.markdown[:500])  # just the first 500 characters\n"
   ]
  },
  {
   "cell_type": "code",
   "execution_count": 10,
   "id": "8ed97e7d",
   "metadata": {},
   "outputs": [
    {
     "data": {
      "text/html": [
       "<div>\n",
       "<style scoped>\n",
       "    .dataframe tbody tr th:only-of-type {\n",
       "        vertical-align: middle;\n",
       "    }\n",
       "\n",
       "    .dataframe tbody tr th {\n",
       "        vertical-align: top;\n",
       "    }\n",
       "\n",
       "    .dataframe thead th {\n",
       "        text-align: right;\n",
       "    }\n",
       "</style>\n",
       "<table border=\"1\" class=\"dataframe\">\n",
       "  <thead>\n",
       "    <tr style=\"text-align: right;\">\n",
       "      <th></th>\n",
       "      <th>page</th>\n",
       "      <th>chunk_id</th>\n",
       "      <th>chunk_type</th>\n",
       "      <th>text</th>\n",
       "      <th>image_path</th>\n",
       "      <th>box_l</th>\n",
       "      <th>box_t</th>\n",
       "      <th>box_r</th>\n",
       "      <th>box_b</th>\n",
       "    </tr>\n",
       "  </thead>\n",
       "  <tbody>\n",
       "    <tr>\n",
       "      <th>0</th>\n",
       "      <td>0</td>\n",
       "      <td>2bb05fcc-ee6d-422f-bed2-b6e0b1e92d2b</td>\n",
       "      <td>figure</td>\n",
       "      <td>Summary : This image is a logo or label for a ...</td>\n",
       "      <td>/Users/andreakropp/Documents/Demos/ADE Demos/N...</td>\n",
       "      <td>0.115930</td>\n",
       "      <td>0.010168</td>\n",
       "      <td>0.254607</td>\n",
       "      <td>0.226216</td>\n",
       "    </tr>\n",
       "    <tr>\n",
       "      <th>1</th>\n",
       "      <td>0</td>\n",
       "      <td>d2a25015-67e1-466e-8059-5902368284ee</td>\n",
       "      <td>figure</td>\n",
       "      <td>Summary : This is a circular product label ill...</td>\n",
       "      <td>/Users/andreakropp/Documents/Demos/ADE Demos/N...</td>\n",
       "      <td>0.567259</td>\n",
       "      <td>0.028577</td>\n",
       "      <td>0.732022</td>\n",
       "      <td>0.187088</td>\n",
       "    </tr>\n",
       "    <tr>\n",
       "      <th>2</th>\n",
       "      <td>0</td>\n",
       "      <td>7d8e341e-fb32-4391-a108-626bc2ce1faf</td>\n",
       "      <td>text</td>\n",
       "      <td>logo: NAVITAS ORGANICS  NAVITAS ORGANICS</td>\n",
       "      <td>/Users/andreakropp/Documents/Demos/ADE Demos/N...</td>\n",
       "      <td>0.261737</td>\n",
       "      <td>0.214474</td>\n",
       "      <td>0.572771</td>\n",
       "      <td>0.368142</td>\n",
       "    </tr>\n",
       "    <tr>\n",
       "      <th>3</th>\n",
       "      <td>0</td>\n",
       "      <td>9257e62d-e6ae-4283-a065-6a2af4ba5c72</td>\n",
       "      <td>figure</td>\n",
       "      <td>Summary : This is a product package image for ...</td>\n",
       "      <td>/Users/andreakropp/Documents/Demos/ADE Demos/N...</td>\n",
       "      <td>0.123867</td>\n",
       "      <td>0.397251</td>\n",
       "      <td>0.732646</td>\n",
       "      <td>0.977475</td>\n",
       "    </tr>\n",
       "  </tbody>\n",
       "</table>\n",
       "</div>"
      ],
      "text/plain": [
       "   page                              chunk_id chunk_type  \\\n",
       "0     0  2bb05fcc-ee6d-422f-bed2-b6e0b1e92d2b     figure   \n",
       "1     0  d2a25015-67e1-466e-8059-5902368284ee     figure   \n",
       "2     0  7d8e341e-fb32-4391-a108-626bc2ce1faf       text   \n",
       "3     0  9257e62d-e6ae-4283-a065-6a2af4ba5c72     figure   \n",
       "\n",
       "                                                text  \\\n",
       "0  Summary : This image is a logo or label for a ...   \n",
       "1  Summary : This is a circular product label ill...   \n",
       "2           logo: NAVITAS ORGANICS  NAVITAS ORGANICS   \n",
       "3  Summary : This is a product package image for ...   \n",
       "\n",
       "                                          image_path     box_l     box_t  \\\n",
       "0  /Users/andreakropp/Documents/Demos/ADE Demos/N...  0.115930  0.010168   \n",
       "1  /Users/andreakropp/Documents/Demos/ADE Demos/N...  0.567259  0.028577   \n",
       "2  /Users/andreakropp/Documents/Demos/ADE Demos/N...  0.261737  0.214474   \n",
       "3  /Users/andreakropp/Documents/Demos/ADE Demos/N...  0.123867  0.397251   \n",
       "\n",
       "      box_r     box_b  \n",
       "0  0.254607  0.226216  \n",
       "1  0.732022  0.187088  \n",
       "2  0.572771  0.368142  \n",
       "3  0.732646  0.977475  "
      ]
     },
     "execution_count": 10,
     "metadata": {},
     "output_type": "execute_result"
    }
   ],
   "source": [
    "import pandas as pd\n",
    "\n",
    "chunk_rows = []\n",
    "\n",
    "for chunk in chunks:\n",
    "    chunk_id = getattr(chunk, \"chunk_id\", None)\n",
    "    chunk_type = chunk.chunk_type.value if chunk.chunk_type else None\n",
    "    text = getattr(chunk, \"text\", \"\")\n",
    "    grounding = getattr(chunk, \"grounding\", [])\n",
    "\n",
    "    if grounding:\n",
    "        for g in grounding:\n",
    "            row = {\n",
    "                \"page\": g.page if hasattr(g, \"page\") else None,\n",
    "                \"chunk_id\": chunk_id,\n",
    "                \"chunk_type\": chunk_type,\n",
    "                \"text\": text.strip().replace(\"\\n\", \" \"),\n",
    "                \"image_path\": str(g.image_path) if g.image_path else None,\n",
    "                \"box_l\": g.box.l if g.box else None,\n",
    "                \"box_t\": g.box.t if g.box else None,\n",
    "                \"box_r\": g.box.r if g.box else None,\n",
    "                \"box_b\": g.box.b if g.box else None,\n",
    "            }\n",
    "            chunk_rows.append(row)\n",
    "    else:\n",
    "        chunk_rows.append({\n",
    "            \"page\": None,\n",
    "            \"chunk_id\": chunk_id,\n",
    "            \"chunk_type\": chunk_type,\n",
    "            \"text\": text.strip().replace(\"\\n\", \" \"),\n",
    "            \"image_path\": None,\n",
    "            \"box_l\": None,\n",
    "            \"box_t\": None,\n",
    "            \"box_r\": None,\n",
    "            \"box_b\": None,\n",
    "        })\n",
    "\n",
    "# Create DataFrame\n",
    "df_chunks = pd.DataFrame(chunk_rows)\n",
    "df_chunks"
   ]
  },
  {
   "cell_type": "code",
   "execution_count": null,
   "id": "634edb0f",
   "metadata": {},
   "outputs": [],
   "source": [
    "# Access the markdown content\n",
    "markdown_text = parsed_doc.markdown\n",
    "\n",
    "# Choose a filename to save\n",
    "output_path = results_folder / \"goji.md\"\n",
    "\n",
    "# Write to file\n",
    "with open(output_path, \"w\", encoding=\"utf-8\") as f:\n",
    "    f.write(markdown_text)"
   ]
  },
  {
   "cell_type": "code",
   "execution_count": null,
   "id": "ccc8f26b",
   "metadata": {},
   "outputs": [],
   "source": [
    "import json\n",
    "from pathlib import Path\n",
    "\n",
    "# Convert chunks to serializable format using model_dump()\n",
    "chunk_dicts = [chunk.model_dump() for chunk in parsed_doc.chunks]\n",
    "\n",
    "# Recursively convert PosixPath objects to strings\n",
    "def stringify_paths(obj):\n",
    "    if isinstance(obj, Path):\n",
    "        return str(obj)\n",
    "    elif isinstance(obj, dict):\n",
    "        return {k: stringify_paths(v) for k, v in obj.items()}\n",
    "    elif isinstance(obj, list):\n",
    "        return [stringify_paths(v) for v in obj]\n",
    "    else:\n",
    "        return obj\n",
    "\n",
    "chunk_dicts_serializable = stringify_paths(chunk_dicts)\n",
    "\n",
    "# Define output path\n",
    "output_path = results_folder / \"goji.json\"\n",
    "\n",
    "# Write to JSON file\n",
    "with open(output_path, \"w\", encoding=\"utf-8\") as f:\n",
    "    json.dump(chunk_dicts_serializable, f, indent=2)"
   ]
  },
  {
   "cell_type": "code",
   "execution_count": null,
   "id": "ca89fd23",
   "metadata": {},
   "outputs": [],
   "source": [
    "output_dir = \"./visualizations\""
   ]
  },
  {
   "cell_type": "code",
   "execution_count": null,
   "id": "a338a468",
   "metadata": {},
   "outputs": [],
   "source": [
    "images = viz_parsed_document(\n",
    "    file_paths[0],\n",
    "    parsed_doc,\n",
    "    output_dir=visualizations_folder\n",
    ")"
   ]
  },
  {
   "cell_type": "code",
   "execution_count": null,
   "id": "bd0d352c",
   "metadata": {},
   "outputs": [],
   "source": [
    "from IPython.display import Image, display\n",
    "\n",
    "display(Image(filename='./visualizations/chomps_viz_page_0.png'))"
   ]
  },
  {
   "cell_type": "code",
   "execution_count": 11,
   "id": "1e4050ec",
   "metadata": {},
   "outputs": [],
   "source": [
    "# Field Extraction \n",
    "from pydantic import BaseModel, Field\n",
    "\n",
    "# Main product schema\n",
    "class Product(BaseModel):\n",
    "    product_name: str = Field(description=\"The full name of the product excluding the brand name as it appears on the packaging.\")\n",
    "    brand: str = Field(description=\"The brand or company name.\")\n",
    "    net_weight_oz: float = Field(description=\"The net weight of the product in ounces, as labeled (e.g., 'NET WT 8 OZ'). Return empty field if not found.\")\n",
    "    net_weight_g: float = Field(description=\"The net weight of the product in grams, often shown in parentheses next to ounces (e.g., '330 g'). Return empty field if not found.\")\n",
    "    servings_per_container: int = Field(description=\"The total number of servings per container, usually listed in the Nutrition Facts panel. Return empty field if not found.\")\n",
    "    serving_size: str = Field(description=\"The serving size as printed on the package, such as '1 stick (45g)' or '1 scoop (10g)'. Return empty field if not found.\")\n",
    "    product_type: str = Field(description=\"General category of the product (e.g., 'yogurt', 'hot dogs', 'supplement').\")\n",
    "    flavor: str = Field(description=\"The flavor of the product if applicable, such as 'creamy vanilla'. Return empty field if not found or not applicable.\")\n",
    "    is_grass_fed: bool = Field(description=\"True if the label mentions 'Grass-Fed'.\")\n",
    "    is_organic: bool = Field(description=\"True if the label mentions 'Organic' or includes the 'USDA Organic' seal.\")\n",
    "    is_keto_friendly: bool = Field(description=\"True if the label mentions 'Keto' or 'Ketogenic' diets or similar.\")\n",
    "    is_paleo_friendly: bool = Field(description=\"True if the label mentions 'Paleo' or 'Paleolithic' diets or similar.\")\n",
    "    is_kosher: bool = Field(description=\"True if the label mentions 'Kosher'.\")\n",
    "    is_regenerative: bool = Field(description=\"True if the label includes terms like 'Regeneratively Sourced' or 'Certified Regenerative'.\")\n",
    "    is_certified_humane: bool = Field(description=\"True if the label features the 'Certified Humane' logo or wording.\")\n",
    "    is_animal_welfare_certified: bool = Field(description=\"True if the product is 'Animal Welfare Certified' or meets GAP (Global Animal Partnership) standards.\")\n",
    "    is_pasture_raised: bool = Field(description=\"True if the label claims the animals were 'Pasture Raised'.\")\n",
    "    is_non_gmo: bool = Field(description=\"True if the product is labeled 'Non-GMO' or has the 'Non-GMO Project Verified' seal.\")\n",
    "    is_gluten_free: bool = Field(description=\"True if the product is labeled 'Gluten-Free' or certified gluten-free.\")\n",
    "    is_dairy_free: bool = Field(description=\"True if the product states 'Dairy-Free' or No Dairy.\")\n",
    "    is_lactose_free: bool = Field(description=\"True if the product explicitly states 'Lactose-Free' or no lactose.\")\n",
    "    is_whole30_approved: bool = Field(description=\"True if the product is labeled as 'Whole30 Approved'.\")\n",
    "    has_no_added_sugar: bool = Field(description=\"True if the packaging says 'No Added Sugar' or 'Zero Sugar' or similar.\")\n",
    "    no_antibiotics: bool = Field(description=\"True if the label claims 'No Antibiotics' or similar language.\")\n",
    "    no_hormones: bool = Field(description=\"True if the product claims 'No Hormones' or or 'Not treated with rBST' or similar language.\")\n",
    "    no_animal_byproducts: bool = Field(description=\"True if it states animals were not fed animal by-products.\")\n",
    "    usda_inspected: bool = Field(description=\"True if the USDA inspection seal is present on the packaging.\")\n"
   ]
  },
  {
   "cell_type": "code",
   "execution_count": null,
   "id": "51175659",
   "metadata": {},
   "outputs": [],
   "source": [
    "# DO NOT RUN\n",
    "result = parse(\n",
    "    documents=file_paths,\n",
    "    result_save_dir=str(results_folder),\n",
    "    grounding_save_dir=str(groundings_folder),\n",
    "    include_marginalia=True,\n",
    "    include_metadata_in_markdown=True,      \n",
    "    )"
   ]
  },
  {
   "cell_type": "code",
   "execution_count": 12,
   "id": "6289035f",
   "metadata": {},
   "outputs": [
    {
     "name": "stdout",
     "output_type": "stream",
     "text": [
      "\u001b[2m2025-07-16 16:48:06\u001b[0m [info   \u001b[0m] \u001b[1mAPI key is valid.             \u001b[0m [\u001b[0m\u001b[1m\u001b[34magentic_doc.utils\u001b[0m]\u001b[0m (utils.py:44)\n",
      "\u001b[2m2025-07-16 16:48:06\u001b[0m [info   \u001b[0m] \u001b[1mParsing 6 documents           \u001b[0m [\u001b[0m\u001b[1m\u001b[34magentic_doc.parse\u001b[0m]\u001b[0m (parse.py:261)\n"
     ]
    },
    {
     "name": "stderr",
     "output_type": "stream",
     "text": [
      "Parsing documents:   0%|          | 0/6 [00:00<?, ?it/s]"
     ]
    },
    {
     "name": "stdout",
     "output_type": "stream",
     "text": [
      "HTTP Request: POST https://api.va.landing.ai/v1/tools/agentic-document-analysis \"HTTP/1.1 200 OK\" (_client.py:1025)\n",
      "\u001b[2m2025-07-16 16:48:17\u001b[0m [info   \u001b[0m] \u001b[1mTime taken to successfully parse a document chunk: 10.87 seconds\u001b[0m [\u001b[0m\u001b[1m\u001b[34magentic_doc.parse\u001b[0m]\u001b[0m (parse.py:683)\n",
      "HTTP Request: POST https://api.va.landing.ai/v1/tools/agentic-document-analysis \"HTTP/1.1 200 OK\" (_client.py:1025)\n",
      "\u001b[2m2025-07-16 16:48:18\u001b[0m [info   \u001b[0m] \u001b[1mTime taken to successfully parse a document chunk: 11.44 seconds\u001b[0m [\u001b[0m\u001b[1m\u001b[34magentic_doc.parse\u001b[0m]\u001b[0m (parse.py:683)\n",
      "HTTP Request: POST https://api.va.landing.ai/v1/tools/agentic-document-analysis \"HTTP/1.1 200 OK\" (_client.py:1025)\n",
      "\u001b[2m2025-07-16 16:48:18\u001b[0m [info   \u001b[0m] \u001b[1mTime taken to successfully parse a document chunk: 12.03 seconds\u001b[0m [\u001b[0m\u001b[1m\u001b[34magentic_doc.parse\u001b[0m]\u001b[0m (parse.py:683)\n",
      "HTTP Request: POST https://api.va.landing.ai/v1/tools/agentic-document-analysis \"HTTP/1.1 200 OK\" (_client.py:1025)\n",
      "\u001b[2m2025-07-16 16:48:21\u001b[0m [info   \u001b[0m] \u001b[1mTime taken to successfully parse a document chunk: 14.51 seconds\u001b[0m [\u001b[0m\u001b[1m\u001b[34magentic_doc.parse\u001b[0m]\u001b[0m (parse.py:683)\n"
     ]
    },
    {
     "name": "stderr",
     "output_type": "stream",
     "text": [
      "Parsing documents:  17%|█▋        | 1/6 [00:14<01:12, 14.53s/it]"
     ]
    },
    {
     "name": "stdout",
     "output_type": "stream",
     "text": [
      "HTTP Request: POST https://api.va.landing.ai/v1/tools/agentic-document-analysis \"HTTP/1.1 200 OK\" (_client.py:1025)\n",
      "\u001b[2m2025-07-16 16:48:29\u001b[0m [info   \u001b[0m] \u001b[1mTime taken to successfully parse a document chunk: 11.43 seconds\u001b[0m [\u001b[0m\u001b[1m\u001b[34magentic_doc.parse\u001b[0m]\u001b[0m (parse.py:683)\n",
      "HTTP Request: POST https://api.va.landing.ai/v1/tools/agentic-document-analysis \"HTTP/1.1 200 OK\" (_client.py:1025)\n",
      "\u001b[2m2025-07-16 16:48:37\u001b[0m [info   \u001b[0m] \u001b[1mTime taken to successfully parse a document chunk: 19.82 seconds\u001b[0m [\u001b[0m\u001b[1m\u001b[34magentic_doc.parse\u001b[0m]\u001b[0m (parse.py:683)\n"
     ]
    },
    {
     "name": "stderr",
     "output_type": "stream",
     "text": [
      "Parsing documents: 100%|██████████| 6/6 [00:30<00:00,  5.12s/it]\n"
     ]
    }
   ],
   "source": [
    "result_fe = parse(\n",
    "    documents=file_paths, \n",
    "    extraction_model=Product)"
   ]
  },
  {
   "cell_type": "code",
   "execution_count": 13,
   "id": "1cbfed9d",
   "metadata": {},
   "outputs": [
    {
     "data": {
      "text/plain": [
       "[ParsedDocument(markdown='Summary : This is a product label for Alexandre Family Farm 100% Grass-Fed A2/A2 Organic Plain Yogurt, highlighting certifications and product features.\\n\\nphoto:\\nScene Overview :\\n  • The main subject is the front label of a yogurt container.\\n  • The label prominently displays the brand \"Alexandre Family Farm\" in green script.\\n  • The product is described as \"100% Grass-Fed A2/A2 Organic Plain Yogurt\" with \"Extra Cream Top.\"\\n  • The container size is specified as \"24 OZ (680g).\"\\n  • The label features a realistic illustration of a cow on the left side, standing in a green pasture.\\n\\nTechnical Details :\\n  • Multiple certifications are visible: \"Certified Humane,\" \"Certified Grass-Fed Organic Dairy,\" \"USDA Organic,\" and \"Regenerative Organic Certified.\"\\n  • Additional text includes \"Certified Regenerative\" and \"Stir Well Non-Homogenized.\"\\n  • The label uses a green and white color palette, with green text on a white background and a green field at the bottom.\\n\\nSpatial Relationships :\\n  • The cow illustration is on the left, with text centered and extending to the right.\\n  • Certification logos are distributed along the top and right edges of the label.\\n\\nAnalysis :\\n  • The label emphasizes organic, grass-fed, and humane certifications, appealing to health-conscious and environmentally aware consumers.\\n  • The use of green and natural imagery reinforces the product\\'s organic and regenerative claims.\\n  • The \"A2/A2\" and \"Extra Cream Top\" features are highlighted to differentiate the product in the dairy market. <!-- figure, from page 0 (l=0.088,t=0.183,r=0.897,b=0.986), with ID 598c5194-9ce2-41fa-95eb-619dfa86e63a -->', chunks=[Chunk(text='Summary : This is a product label for Alexandre Family Farm 100% Grass-Fed A2/A2 Organic Plain Yogurt, highlighting certifications and product features.\\n\\nphoto:\\nScene Overview :\\n  • The main subject is the front label of a yogurt container.\\n  • The label prominently displays the brand \"Alexandre Family Farm\" in green script.\\n  • The product is described as \"100% Grass-Fed A2/A2 Organic Plain Yogurt\" with \"Extra Cream Top.\"\\n  • The container size is specified as \"24 OZ (680g).\"\\n  • The label features a realistic illustration of a cow on the left side, standing in a green pasture.\\n\\nTechnical Details :\\n  • Multiple certifications are visible: \"Certified Humane,\" \"Certified Grass-Fed Organic Dairy,\" \"USDA Organic,\" and \"Regenerative Organic Certified.\"\\n  • Additional text includes \"Certified Regenerative\" and \"Stir Well Non-Homogenized.\"\\n  • The label uses a green and white color palette, with green text on a white background and a green field at the bottom.\\n\\nSpatial Relationships :\\n  • The cow illustration is on the left, with text centered and extending to the right.\\n  • Certification logos are distributed along the top and right edges of the label.\\n\\nAnalysis :\\n  • The label emphasizes organic, grass-fed, and humane certifications, appealing to health-conscious and environmentally aware consumers.\\n  • The use of green and natural imagery reinforces the product\\'s organic and regenerative claims.\\n  • The \"A2/A2\" and \"Extra Cream Top\" features are highlighted to differentiate the product in the dairy market.', grounding=[ChunkGrounding(page=0, box=ChunkGroundingBox(l=0.08772972226142883, t=0.18278557062149048, r=0.8967723846435547, b=0.9863045811653137), image_path=None)], chunk_type=<ChunkType.figure: 'figure'>, chunk_id='598c5194-9ce2-41fa-95eb-619dfa86e63a')], extraction=Product(product_name='100% Grass-Fed A2/A2 Organic Plain Yogurt, Extra Cream Top', brand='Alexandre Family Farm', net_weight_oz=24.0, net_weight_g=680.0, servings_per_container=0, serving_size='', product_type='yogurt', flavor='plain', is_grass_fed=True, is_organic=True, is_keto_friendly=False, is_paleo_friendly=False, is_kosher=False, is_regenerative=True, is_certified_humane=True, is_animal_welfare_certified=False, is_pasture_raised=False, is_non_gmo=False, is_gluten_free=False, is_dairy_free=False, is_lactose_free=False, is_whole30_approved=False, has_no_added_sugar=False, no_antibiotics=False, no_hormones=False, no_animal_byproducts=False, usda_inspected=False), extraction_metadata=ProductMetadata(product_name={'chunk_references': ['598c5194-9ce2-41fa-95eb-619dfa86e63a']}, brand={'chunk_references': ['598c5194-9ce2-41fa-95eb-619dfa86e63a']}, net_weight_oz={'chunk_references': ['598c5194-9ce2-41fa-95eb-619dfa86e63a']}, net_weight_g={'chunk_references': ['598c5194-9ce2-41fa-95eb-619dfa86e63a']}, servings_per_container={'chunk_references': []}, serving_size={'chunk_references': []}, product_type={'chunk_references': ['598c5194-9ce2-41fa-95eb-619dfa86e63a']}, flavor={'chunk_references': ['598c5194-9ce2-41fa-95eb-619dfa86e63a']}, is_grass_fed={'chunk_references': ['598c5194-9ce2-41fa-95eb-619dfa86e63a']}, is_organic={'chunk_references': ['598c5194-9ce2-41fa-95eb-619dfa86e63a']}, is_keto_friendly={'chunk_references': []}, is_paleo_friendly={'chunk_references': []}, is_kosher={'chunk_references': []}, is_regenerative={'chunk_references': ['598c5194-9ce2-41fa-95eb-619dfa86e63a']}, is_certified_humane={'chunk_references': ['598c5194-9ce2-41fa-95eb-619dfa86e63a']}, is_animal_welfare_certified={'chunk_references': []}, is_pasture_raised={'chunk_references': []}, is_non_gmo={'chunk_references': []}, is_gluten_free={'chunk_references': []}, is_dairy_free={'chunk_references': []}, is_lactose_free={'chunk_references': []}, is_whole30_approved={'chunk_references': []}, has_no_added_sugar={'chunk_references': []}, no_antibiotics={'chunk_references': []}, no_hormones={'chunk_references': []}, no_animal_byproducts={'chunk_references': []}, usda_inspected={'chunk_references': []}), start_page_idx=0, end_page_idx=0, doc_type='image', result_path=None, errors=[], extraction_error=None),\n",
       " ParsedDocument(markdown='FORCE OF NATURE  \\nMADE WITH 100% <!-- text, from page 0 (l=0.232,t=0.205,r=0.690,b=0.304), with ID 017f05e2-27fe-4454-af6f-c4ecb6fbd0fd -->\\n\\nGRASS FED BEEF <!-- text, from page 0 (l=0.210,t=0.306,r=0.694,b=0.370), with ID 9a79c735-cb7a-4340-88e7-6e0dac034288 -->\\n\\nANCESTRAL BLEND <!-- text, from page 0 (l=0.231,t=0.376,r=0.673,b=0.421), with ID 462b018d-7413-4e64-a06b-64a396114baf -->\\n\\nGROUND BEEF, BEEF LIVER, BEEF HEART <!-- text, from page 0 (l=0.247,t=0.424,r=0.656,b=0.455), with ID 2108488f-9999-413f-9940-18874e04d8ea -->\\n\\nPREVIOUSLY FROZEN FOR YOUR PROTECTION.\\nKEEP REFRIGERATED OR FROZEN <!-- text, from page 0 (l=0.311,t=0.564,r=0.590,b=0.599), with ID 7c6fcbe8-e2f7-42ad-b452-fd1b429b1834 -->\\n\\n22 g\\nPROTEIN\\nPER SERVING <!-- text, from page 0 (l=0.221,t=0.598,r=0.307,b=0.661), with ID d997e971-998b-43e3-8cc8-4a0afaf375ee -->\\n\\nREGENERATIVELY  \\nSOURCED* <!-- text, from page 0 (l=0.330,t=0.605,r=0.567,b=0.661), with ID 68e6868f-78c2-4c8f-8cb8-0e70976862dd -->\\n\\nSummary : This image shows two regulatory markings commonly found on food packaging: a net weight declaration and a USDA inspection stamp.\\n\\nstamp:  \\nNet Weight Declaration :  \\n  • Text reads “NET WT. 16 OZ (1lb)”.  \\n  • Indicates the product’s net weight is 16 ounces, equivalent to 1 pound.\\n\\nUSDA Inspection Stamp :  \\n  • Circular black border.  \\n  • Inner text:  \\n    – “U.S. INSPECTED AND PASSED BY DEPARTMENT OF AGRICULTURE”  \\n  • All text is uppercase and centered within the circle.\\n\\nDesign & Placement :  \\n  • Both markings are printed in black ink on a light background.  \\n  • The net weight text is left-aligned; the inspection stamp is to the right.\\n\\nAnalysis :  \\n  • The net weight declaration provides standardized product quantity information.  \\n  • The USDA stamp certifies that the product has been inspected and approved for sale by the U.S. Department of Agriculture, a requirement for many meat and poultry products. <!-- figure, from page 0 (l=0.583,t=0.606,r=0.711,b=0.675), with ID 334d08cc-efff-410d-b059-bab759ac41bf -->\\n\\n\"Force of Nature defines holistic regenerative grazing as planned rotational grazing, leaving ground cover, and allowing adequate recovery time between grazing rotations.\" <!-- text, from page 0 (l=0.261,t=0.663,r=0.634,b=0.719), with ID b8ad6f30-f7ee-4223-8f57-682419ad20ea -->\\n\\nlogo: ANIMAL WELFARE CERTIFIED\\n\\nANIMAL WELFARE CERTIFIED  \\nCertifiedToAtlas  \\nPASTURE RAISED 4\\n\\n[†]  \\n[†] Certified to Global Animal Partnership standards by EarthClaims, LLC. <!-- text, from page 0 (l=0.157,t=0.695,r=0.340,b=0.803), with ID 29e43779-21bc-4e3b-b99d-4723a61098cc -->', chunks=[Chunk(text='FORCE OF NATURE  \\nMADE WITH 100%', grounding=[ChunkGrounding(page=0, box=ChunkGroundingBox(l=0.23176652193069458, t=0.20494917035102844, r=0.689963698387146, b=0.30417051911354065), image_path=None)], chunk_type=<ChunkType.text: 'text'>, chunk_id='017f05e2-27fe-4454-af6f-c4ecb6fbd0fd'), Chunk(text='GRASS FED BEEF', grounding=[ChunkGrounding(page=0, box=ChunkGroundingBox(l=0.21045434474945068, t=0.30631405115127563, r=0.6939619779586792, b=0.369867205619812), image_path=None)], chunk_type=<ChunkType.text: 'text'>, chunk_id='9a79c735-cb7a-4340-88e7-6e0dac034288'), Chunk(text='ANCESTRAL BLEND', grounding=[ChunkGrounding(page=0, box=ChunkGroundingBox(l=0.2310350090265274, t=0.3763998746871948, r=0.6729516386985779, b=0.4213019013404846), image_path=None)], chunk_type=<ChunkType.text: 'text'>, chunk_id='462b018d-7413-4e64-a06b-64a396114baf'), Chunk(text='GROUND BEEF, BEEF LIVER, BEEF HEART', grounding=[ChunkGrounding(page=0, box=ChunkGroundingBox(l=0.24689239263534546, t=0.4240748882293701, r=0.6561141014099121, b=0.45502281188964844), image_path=None)], chunk_type=<ChunkType.text: 'text'>, chunk_id='2108488f-9999-413f-9940-18874e04d8ea'), Chunk(text='PREVIOUSLY FROZEN FOR YOUR PROTECTION.\\nKEEP REFRIGERATED OR FROZEN', grounding=[ChunkGrounding(page=0, box=ChunkGroundingBox(l=0.3114336133003235, t=0.5638969540596008, r=0.5900039076805115, b=0.5988273024559021), image_path=None)], chunk_type=<ChunkType.text: 'text'>, chunk_id='7c6fcbe8-e2f7-42ad-b452-fd1b429b1834'), Chunk(text='22 g\\nPROTEIN\\nPER SERVING', grounding=[ChunkGrounding(page=0, box=ChunkGroundingBox(l=0.22139815986156464, t=0.5979417562484741, r=0.30716097354888916, b=0.6614770889282227), image_path=None)], chunk_type=<ChunkType.text: 'text'>, chunk_id='d997e971-998b-43e3-8cc8-4a0afaf375ee'), Chunk(text='REGENERATIVELY  \\nSOURCED*', grounding=[ChunkGrounding(page=0, box=ChunkGroundingBox(l=0.3296397030353546, t=0.6053270697593689, r=0.5665656328201294, b=0.661384642124176), image_path=None)], chunk_type=<ChunkType.text: 'text'>, chunk_id='68e6868f-78c2-4c8f-8cb8-0e70976862dd'), Chunk(text='Summary : This image shows two regulatory markings commonly found on food packaging: a net weight declaration and a USDA inspection stamp.\\n\\nstamp:  \\nNet Weight Declaration :  \\n  • Text reads “NET WT. 16 OZ (1lb)”.  \\n  • Indicates the product’s net weight is 16 ounces, equivalent to 1 pound.\\n\\nUSDA Inspection Stamp :  \\n  • Circular black border.  \\n  • Inner text:  \\n    – “U.S. INSPECTED AND PASSED BY DEPARTMENT OF AGRICULTURE”  \\n  • All text is uppercase and centered within the circle.\\n\\nDesign & Placement :  \\n  • Both markings are printed in black ink on a light background.  \\n  • The net weight text is left-aligned; the inspection stamp is to the right.\\n\\nAnalysis :  \\n  • The net weight declaration provides standardized product quantity information.  \\n  • The USDA stamp certifies that the product has been inspected and approved for sale by the U.S. Department of Agriculture, a requirement for many meat and poultry products.', grounding=[ChunkGrounding(page=0, box=ChunkGroundingBox(l=0.5830222368240356, t=0.6064788699150085, r=0.7106815576553345, b=0.6751149296760559), image_path=None)], chunk_type=<ChunkType.figure: 'figure'>, chunk_id='334d08cc-efff-410d-b059-bab759ac41bf'), Chunk(text='\"Force of Nature defines holistic regenerative grazing as planned rotational grazing, leaving ground cover, and allowing adequate recovery time between grazing rotations.\"', grounding=[ChunkGrounding(page=0, box=ChunkGroundingBox(l=0.2611411213874817, t=0.6626409292221069, r=0.6339209675788879, b=0.7188358306884766), image_path=None)], chunk_type=<ChunkType.text: 'text'>, chunk_id='b8ad6f30-f7ee-4223-8f57-682419ad20ea'), Chunk(text='logo: ANIMAL WELFARE CERTIFIED\\n\\nANIMAL WELFARE CERTIFIED  \\nCertifiedToAtlas  \\nPASTURE RAISED 4\\n\\n[†]  \\n[†] Certified to Global Animal Partnership standards by EarthClaims, LLC.', grounding=[ChunkGrounding(page=0, box=ChunkGroundingBox(l=0.1571815013885498, t=0.6950061321258545, r=0.3396257162094116, b=0.802910327911377), image_path=None)], chunk_type=<ChunkType.text: 'text'>, chunk_id='29e43779-21bc-4e3b-b99d-4723a61098cc')], extraction=Product(product_name='Ancestral Blend Ground Beef, Beef Liver, Beef Heart', brand='Force of Nature', net_weight_oz=16.0, net_weight_g=0.0, servings_per_container=0, serving_size='', product_type='ground beef', flavor='', is_grass_fed=True, is_organic=False, is_keto_friendly=False, is_paleo_friendly=False, is_kosher=False, is_regenerative=True, is_certified_humane=False, is_animal_welfare_certified=True, is_pasture_raised=True, is_non_gmo=False, is_gluten_free=False, is_dairy_free=False, is_lactose_free=False, is_whole30_approved=False, has_no_added_sugar=False, no_antibiotics=False, no_hormones=False, no_animal_byproducts=False, usda_inspected=True), extraction_metadata=ProductMetadata(product_name={'chunk_references': ['462b018d-7413-4e64-a06b-64a396114baf', '2108488f-9999-413f-9940-18874e04d8ea']}, brand={'chunk_references': ['017f05e2-27fe-4454-af6f-c4ecb6fbd0fd']}, net_weight_oz={'chunk_references': ['334d08cc-efff-410d-b059-bab759ac41bf']}, net_weight_g={'chunk_references': []}, servings_per_container={'chunk_references': []}, serving_size={'chunk_references': []}, product_type={'chunk_references': ['2108488f-9999-413f-9940-18874e04d8ea']}, flavor={'chunk_references': []}, is_grass_fed={'chunk_references': ['9a79c735-cb7a-4340-88e7-6e0dac034288']}, is_organic={'chunk_references': []}, is_keto_friendly={'chunk_references': []}, is_paleo_friendly={'chunk_references': []}, is_kosher={'chunk_references': []}, is_regenerative={'chunk_references': ['68e6868f-78c2-4c8f-8cb8-0e70976862dd']}, is_certified_humane={'chunk_references': []}, is_animal_welfare_certified={'chunk_references': ['29e43779-21bc-4e3b-b99d-4723a61098cc']}, is_pasture_raised={'chunk_references': ['29e43779-21bc-4e3b-b99d-4723a61098cc']}, is_non_gmo={'chunk_references': []}, is_gluten_free={'chunk_references': []}, is_dairy_free={'chunk_references': []}, is_lactose_free={'chunk_references': []}, is_whole30_approved={'chunk_references': []}, has_no_added_sugar={'chunk_references': []}, no_antibiotics={'chunk_references': []}, no_hormones={'chunk_references': []}, no_animal_byproducts={'chunk_references': []}, usda_inspected={'chunk_references': ['334d08cc-efff-410d-b059-bab759ac41bf']}), start_page_idx=0, end_page_idx=0, doc_type='image', result_path=None, errors=[], extraction_error=None),\n",
       " ParsedDocument(markdown='Summary : This image is a logo or label for a superfood-related initiative, featuring a stylized plant with roots and the tagline \"FOR YOU – FOR FARMERS FOR THE PLANET\".\\n\\nlogo:  \\n  Visible Text : \\n    • \"SUPER FOODS WITH PURPOSE\"\\n    • \"FOR YOU – FOR FARMERS FOR THE PLANET\"\\n  Graphic Elements : \\n    • Central stylized plant with six leaves and visible roots extending into brown soil.\\n    • Background is a gradient teal/green with a brown base representing soil.\\n  Layout : \\n    • Text is centered at the top, plant graphic in the middle, tagline at the bottom.\\n    • Rectangular vertical orientation.\\n  Colour Palette : \\n    • Teal/green background, brown soil, white text, green plant.\\n  Dimensions & Placement : \\n    • Logo is vertically oriented, with text and graphics stacked.\\n  Analysis : \\n    • The use of green and plant imagery emphasizes sustainability and eco-friendliness, aligning with the tagline\\'s focus on benefits for consumers, farmers, and the planet. <!-- figure, from page 0 (l=0.116,t=0.010,r=0.255,b=0.226), with ID 1f6f891b-2829-4e8c-afd7-0134a4a3f41f -->\\n\\nSummary : This is a product usage badge indicating suggested uses and recipe availability for a food item, featuring a bowl of food illustration and prominent text.\\n\\nlogo: \\n  Main Elements : \\n    • Circular badge with a yellow-orange border and purple background.\\n    • Central illustration of a white bowl containing a purple substance, topped with banana slices, strawberries, and blueberries, with a spoon resting on the bowl.\\n    • Text in black: “GREAT FOR TOPPING + SNACKING” encircling the bowl.\\n    • Red circle overlay with white text: “RECIPES ON BACK”.\\n  Dimensions & Placement : \\n    • Circular design, with the red overlay partially covering the upper right of the badge.\\n    • Illustration centered within the badge.\\n  Analysis : \\n    • The badge is designed to quickly communicate product versatility (topping, snacking) and to direct consumers to additional recipes, enhancing product appeal and usage ideas. <!-- figure, from page 0 (l=0.567,t=0.029,r=0.732,b=0.187), with ID 38ab9ff5-bba3-45bb-ae8a-95ec5dba9d01 -->\\n\\nlogo: NAVITAS ORGANICS\\n\\nNAVITAS\\nORGANICS <!-- text, from page 0 (l=0.262,t=0.214,r=0.573,b=0.368), with ID d42b04b3-b099-406b-a2cd-82f750733416 -->\\n\\nSummary : This is a product package image for organic goji berries, highlighting key features and certifications.\\n\\nphoto:\\nScene Overview :\\n  • The main subject is a package of organic goji berries.\\n  • The package is predominantly purple and pink with white and red accents.\\n  • A white spoon filled with dried goji berries is prominently displayed, along with an illustration of fresh goji berries and green leaves.\\n  • The text \"ORGANIC GOJI BERRIES\" is large and central.\\n  • The package is labeled as a \"PLANT-BASED SUPERFOOD\".\\n\\nTechnical Details :\\n  • The package lists several product features:\\n    – \"HIGH IN ANTIOXIDANTS (VIT. A)\"\\n    – \"MILDLY SWEET & TANGY\"\\n    – \"UNSULFURED & GENTLY DRIED\"\\n  • Certifications and claims include:\\n    – USDA ORGANIC (logo present)\\n    – NON GMO (logo present)\\n  • Net weight is specified as \"NET WT 8 OZ (227g)\".\\n  • The product is described as \"PLANT-BASED SUPERFOOD\" in a pink box at the top right.\\n\\nSpatial Relationships :\\n  • The spoon with dried goji berries is on the right side, overlapping the product name area.\\n  • The fresh goji berry illustration is below the spoon, with green leaves extending leftward.\\n  • Certification logos are at the bottom left.\\n  • The net weight is centered at the bottom.\\n\\nAnalysis :\\n  • The packaging design emphasizes health benefits (antioxidants, organic, non-GMO) and product purity (unsulfured, gently dried).\\n  • The visual contrast between dried and fresh berries highlights the product\\'s natural origin.\\n  • Prominent placement of certifications and product features targets health-conscious consumers. <!-- figure, from page 0 (l=0.124,t=0.397,r=0.733,b=0.977), with ID af504027-dc27-49d4-9eef-bac83c7cbfc8 -->', chunks=[Chunk(text='Summary : This image is a logo or label for a superfood-related initiative, featuring a stylized plant with roots and the tagline \"FOR YOU – FOR FARMERS FOR THE PLANET\".\\n\\nlogo:  \\n  Visible Text : \\n    • \"SUPER FOODS WITH PURPOSE\"\\n    • \"FOR YOU – FOR FARMERS FOR THE PLANET\"\\n  Graphic Elements : \\n    • Central stylized plant with six leaves and visible roots extending into brown soil.\\n    • Background is a gradient teal/green with a brown base representing soil.\\n  Layout : \\n    • Text is centered at the top, plant graphic in the middle, tagline at the bottom.\\n    • Rectangular vertical orientation.\\n  Colour Palette : \\n    • Teal/green background, brown soil, white text, green plant.\\n  Dimensions & Placement : \\n    • Logo is vertically oriented, with text and graphics stacked.\\n  Analysis : \\n    • The use of green and plant imagery emphasizes sustainability and eco-friendliness, aligning with the tagline\\'s focus on benefits for consumers, farmers, and the planet.', grounding=[ChunkGrounding(page=0, box=ChunkGroundingBox(l=0.11592970043420792, t=0.010168477892875671, r=0.2546069622039795, b=0.22621563076972961), image_path=None)], chunk_type=<ChunkType.figure: 'figure'>, chunk_id='1f6f891b-2829-4e8c-afd7-0134a4a3f41f'), Chunk(text='Summary : This is a product usage badge indicating suggested uses and recipe availability for a food item, featuring a bowl of food illustration and prominent text.\\n\\nlogo: \\n  Main Elements : \\n    • Circular badge with a yellow-orange border and purple background.\\n    • Central illustration of a white bowl containing a purple substance, topped with banana slices, strawberries, and blueberries, with a spoon resting on the bowl.\\n    • Text in black: “GREAT FOR TOPPING + SNACKING” encircling the bowl.\\n    • Red circle overlay with white text: “RECIPES ON BACK”.\\n  Dimensions & Placement : \\n    • Circular design, with the red overlay partially covering the upper right of the badge.\\n    • Illustration centered within the badge.\\n  Analysis : \\n    • The badge is designed to quickly communicate product versatility (topping, snacking) and to direct consumers to additional recipes, enhancing product appeal and usage ideas.', grounding=[ChunkGrounding(page=0, box=ChunkGroundingBox(l=0.567258894443512, t=0.028576791286468506, r=0.732022225856781, b=0.18708758056163788), image_path=None)], chunk_type=<ChunkType.figure: 'figure'>, chunk_id='38ab9ff5-bba3-45bb-ae8a-95ec5dba9d01'), Chunk(text='logo: NAVITAS ORGANICS\\n\\nNAVITAS\\nORGANICS', grounding=[ChunkGrounding(page=0, box=ChunkGroundingBox(l=0.26173728704452515, t=0.21447405219078064, r=0.5727711915969849, b=0.3681424558162689), image_path=None)], chunk_type=<ChunkType.text: 'text'>, chunk_id='d42b04b3-b099-406b-a2cd-82f750733416'), Chunk(text='Summary : This is a product package image for organic goji berries, highlighting key features and certifications.\\n\\nphoto:\\nScene Overview :\\n  • The main subject is a package of organic goji berries.\\n  • The package is predominantly purple and pink with white and red accents.\\n  • A white spoon filled with dried goji berries is prominently displayed, along with an illustration of fresh goji berries and green leaves.\\n  • The text \"ORGANIC GOJI BERRIES\" is large and central.\\n  • The package is labeled as a \"PLANT-BASED SUPERFOOD\".\\n\\nTechnical Details :\\n  • The package lists several product features:\\n    – \"HIGH IN ANTIOXIDANTS (VIT. A)\"\\n    – \"MILDLY SWEET & TANGY\"\\n    – \"UNSULFURED & GENTLY DRIED\"\\n  • Certifications and claims include:\\n    – USDA ORGANIC (logo present)\\n    – NON GMO (logo present)\\n  • Net weight is specified as \"NET WT 8 OZ (227g)\".\\n  • The product is described as \"PLANT-BASED SUPERFOOD\" in a pink box at the top right.\\n\\nSpatial Relationships :\\n  • The spoon with dried goji berries is on the right side, overlapping the product name area.\\n  • The fresh goji berry illustration is below the spoon, with green leaves extending leftward.\\n  • Certification logos are at the bottom left.\\n  • The net weight is centered at the bottom.\\n\\nAnalysis :\\n  • The packaging design emphasizes health benefits (antioxidants, organic, non-GMO) and product purity (unsulfured, gently dried).\\n  • The visual contrast between dried and fresh berries highlights the product\\'s natural origin.\\n  • Prominent placement of certifications and product features targets health-conscious consumers.', grounding=[ChunkGrounding(page=0, box=ChunkGroundingBox(l=0.12386670708656311, t=0.3972513973712921, r=0.7326459884643555, b=0.977474570274353), image_path=None)], chunk_type=<ChunkType.figure: 'figure'>, chunk_id='af504027-dc27-49d4-9eef-bac83c7cbfc8')], extraction=Product(product_name='GOJI BERRIES', brand='NAVITAS ORGANICS', net_weight_oz=8.0, net_weight_g=227.0, servings_per_container=0, serving_size='', product_type='superfood', flavor='', is_grass_fed=False, is_organic=True, is_keto_friendly=False, is_paleo_friendly=False, is_kosher=False, is_regenerative=False, is_certified_humane=False, is_animal_welfare_certified=False, is_pasture_raised=False, is_non_gmo=True, is_gluten_free=False, is_dairy_free=False, is_lactose_free=False, is_whole30_approved=False, has_no_added_sugar=False, no_antibiotics=False, no_hormones=False, no_animal_byproducts=False, usda_inspected=False), extraction_metadata=ProductMetadata(product_name={'chunk_references': ['af504027-dc27-49d4-9eef-bac83c7cbfc8']}, brand={'chunk_references': ['d42b04b3-b099-406b-a2cd-82f750733416']}, net_weight_oz={'chunk_references': ['af504027-dc27-49d4-9eef-bac83c7cbfc8']}, net_weight_g={'chunk_references': ['af504027-dc27-49d4-9eef-bac83c7cbfc8']}, servings_per_container={'chunk_references': []}, serving_size={'chunk_references': []}, product_type={'chunk_references': ['af504027-dc27-49d4-9eef-bac83c7cbfc8']}, flavor={'chunk_references': []}, is_grass_fed={'chunk_references': []}, is_organic={'chunk_references': ['af504027-dc27-49d4-9eef-bac83c7cbfc8']}, is_keto_friendly={'chunk_references': []}, is_paleo_friendly={'chunk_references': []}, is_kosher={'chunk_references': []}, is_regenerative={'chunk_references': []}, is_certified_humane={'chunk_references': []}, is_animal_welfare_certified={'chunk_references': []}, is_pasture_raised={'chunk_references': []}, is_non_gmo={'chunk_references': ['af504027-dc27-49d4-9eef-bac83c7cbfc8']}, is_gluten_free={'chunk_references': []}, is_dairy_free={'chunk_references': []}, is_lactose_free={'chunk_references': []}, is_whole30_approved={'chunk_references': []}, has_no_added_sugar={'chunk_references': []}, no_antibiotics={'chunk_references': []}, no_hormones={'chunk_references': []}, no_animal_byproducts={'chunk_references': []}, usda_inspected={'chunk_references': []}), start_page_idx=0, end_page_idx=0, doc_type='image', result_path=None, errors=[], extraction_error=None),\n",
       " ParsedDocument(markdown='Garden of Life  \\ngrass fed  \\nCOLLAGEN  \\nCREAMER  \\n10g COLLAGEN + MCTs + PROBIOTICS  \\nMADE WITH COCONUT MILK  \\nENERGY, BEAUTY & JOINTS†  \\ncreamy vanilla  \\nflavor  \\nDAIRY FREE  \\n12 SERVINGS  \\nNET WT 11.64 oz (330 g)  \\nDIETARY SUPPLEMENT <!-- text, from page 0 (l=0.207,t=0.079,r=0.793,b=0.976), with ID 954d37c4-5545-4da5-8f27-49474cc397c7 -->', chunks=[Chunk(text='Garden of Life  \\ngrass fed  \\nCOLLAGEN  \\nCREAMER  \\n10g COLLAGEN + MCTs + PROBIOTICS  \\nMADE WITH COCONUT MILK  \\nENERGY, BEAUTY & JOINTS†  \\ncreamy vanilla  \\nflavor  \\nDAIRY FREE  \\n12 SERVINGS  \\nNET WT 11.64 oz (330 g)  \\nDIETARY SUPPLEMENT', grounding=[ChunkGrounding(page=0, box=ChunkGroundingBox(l=0.2073645293712616, t=0.0794941782951355, r=0.7934401035308838, b=0.975657045841217), image_path=None)], chunk_type=<ChunkType.text: 'text'>, chunk_id='954d37c4-5545-4da5-8f27-49474cc397c7')], extraction=Product(product_name='COLLAGEN CREAMER', brand='Garden of Life', net_weight_oz=11.64, net_weight_g=330.0, servings_per_container=12, serving_size='', product_type='supplement', flavor='creamy vanilla', is_grass_fed=True, is_organic=False, is_keto_friendly=False, is_paleo_friendly=False, is_kosher=False, is_regenerative=False, is_certified_humane=False, is_animal_welfare_certified=False, is_pasture_raised=False, is_non_gmo=False, is_gluten_free=False, is_dairy_free=True, is_lactose_free=False, is_whole30_approved=False, has_no_added_sugar=False, no_antibiotics=False, no_hormones=False, no_animal_byproducts=False, usda_inspected=False), extraction_metadata=ProductMetadata(product_name={'chunk_references': ['954d37c4-5545-4da5-8f27-49474cc397c7']}, brand={'chunk_references': ['954d37c4-5545-4da5-8f27-49474cc397c7']}, net_weight_oz={'chunk_references': ['954d37c4-5545-4da5-8f27-49474cc397c7']}, net_weight_g={'chunk_references': ['954d37c4-5545-4da5-8f27-49474cc397c7']}, servings_per_container={'chunk_references': ['954d37c4-5545-4da5-8f27-49474cc397c7']}, serving_size={'chunk_references': []}, product_type={'chunk_references': ['954d37c4-5545-4da5-8f27-49474cc397c7']}, flavor={'chunk_references': ['954d37c4-5545-4da5-8f27-49474cc397c7']}, is_grass_fed={'chunk_references': ['954d37c4-5545-4da5-8f27-49474cc397c7']}, is_organic={'chunk_references': []}, is_keto_friendly={'chunk_references': []}, is_paleo_friendly={'chunk_references': []}, is_kosher={'chunk_references': []}, is_regenerative={'chunk_references': []}, is_certified_humane={'chunk_references': []}, is_animal_welfare_certified={'chunk_references': []}, is_pasture_raised={'chunk_references': []}, is_non_gmo={'chunk_references': []}, is_gluten_free={'chunk_references': []}, is_dairy_free={'chunk_references': ['954d37c4-5545-4da5-8f27-49474cc397c7']}, is_lactose_free={'chunk_references': []}, is_whole30_approved={'chunk_references': []}, has_no_added_sugar={'chunk_references': []}, no_antibiotics={'chunk_references': []}, no_hormones={'chunk_references': []}, no_animal_byproducts={'chunk_references': []}, usda_inspected={'chunk_references': []}), start_page_idx=0, end_page_idx=0, doc_type='image', result_path=None, errors=[], extraction_error=None),\n",
       " ParsedDocument(markdown='BUN LENGTH <!-- text, from page 0 (l=0.153,t=0.029,r=0.388,b=0.092), with ID 9710d303-0be0-4237-8b5d-d628adf9585c -->\\n\\nUNCURED  \\nBEEF  \\nHOT DOGS  \\nNO NITRITES OR  \\nNITRATES ADDED  \\nExcept those naturally occurring in  \\nsea salt and cultured celery powder <!-- text, from page 0 (l=0.169,t=0.098,r=0.372,b=0.318), with ID 7f2cfac3-de64-4146-89b4-75dd7d1bfc61 -->\\n\\nNOT PRESERVED  \\nKEEP REFRIGERATED  \\nBELOW 40°F AT ALL TIMES  \\nFULLY COOKED  \\nGLUTEN FREE\\n\\nTO HEAT: BROWN IN A PAN  \\nOR GRILL FOR 5-7 MIN. <!-- text, from page 0 (l=0.171,t=0.324,r=0.352,b=0.476), with ID 97dfb2b5-cd23-4719-97ff-a8da8d46d688 -->\\n\\nSummary : This image displays three certification and product claim badges related to food labeling, specifically for beef products.\\n\\nlogo:  \\nBadges & Claims : \\n  • \"CERTIFIED HUMANE RAISED & HANDLED GRASS-FED BEEF\" with the website \"CERTIFIEDHUMANE.ORG\".\\n  • \"NO SUGAR ADDED\" in a blue box.\\n  • \"WHOLE 30 Approved\" with the website \"WHOLE30.COM\".\\n  • Additional text at the bottom: \"NOT A LOW CALORIE FOOD - SEE NUTRITION FACTS FOR SUGAR AND CALORIE CONTENT.\"\\n\\nDesign & Layout : \\n  • Three adjacent rectangular badges, each with distinct color schemes (blue/green, blue/white, blue/white).\\n  • All-caps, bold sans-serif fonts for emphasis.\\n  • Red background with white and colored text for contrast.\\n\\nAnalysis : \\n  • The badges communicate that the product is certified humane, contains no added sugar, and is approved for the Whole30 diet, targeting health-conscious consumers and those following specific dietary guidelines. <!-- figure, from page 0 (l=0.142,t=0.538,r=0.400,b=0.649), with ID ce86c9d0-9156-406d-b500-3e7b1e4f7ecc -->\\n\\nSummary : This is a product packaging label for Teton Waters Ranch beef, highlighting its sourcing and production claims.\\n\\nlogo: Teton Waters Ranch (TWR)\\nScene Overview : \\n  • The main subject is a product label with a prominent logo and large text.\\n  • The label uses a blue and tan color palette.\\n  • The TWR logo appears at the top left, with \"TETON WATERS RANCH\" in large blue letters.\\n  • The text \"MADE WITH 100% GRASS-FED BEEF\" is the central focus, with \"100%\" and \"GRASS-FED BEEF\" in the largest font.\\n  • A blue illustration of a cow\\'s head is at the bottom right.\\n\\nTechnical Details : \\n  • Additional claims: \"MADE WITH BEEF USING NO ANTIBIOTICS ADDED HORMONES NEVER FED ANIMAL BY-PRODUCTS\" in smaller text.\\n  • The phrase \"MADE WITH\" is in a vertical blue box to the left of \"100%\".\\n  • The phrase \"MADE WITH BEEF USING\" is in a horizontal blue box above the claims about antibiotics and hormones.\\n\\nSpatial Relationships : \\n  • The logo and brand name are at the top.\\n  • The main product claim (\"100% GRASS-FED BEEF\") is centered and dominates the label.\\n  • The cow illustration anchors the bottom right, balancing the text-heavy left and center.\\n\\nAnalysis : \\n  • The label emphasizes the purity and quality of the beef, using large, bold text for \"100% GRASS-FED BEEF\" and supporting claims about the absence of antibiotics, hormones, and animal by-products.\\n  • The blue color and cow illustration reinforce the ranch and natural themes.\\n  • The layout is designed to quickly communicate key selling points to consumers. <!-- figure, from page 0 (l=0.417,t=0.049,r=0.845,b=0.640), with ID f2515613-7fc9-4e04-80d7-4a62500cc4f6 -->\\n\\nNutrition Facts\\n5 servings per container\\nServing size 1 link (45g)\\nCalories 110 per serving\\n<table><thead><tr><th>Amount Per Serving</th><th>%DV*</th><th>Amount Per Serving</th><th>%DV*</th></tr></thead><tbody><tr><td>Total Fat 9g</td><td>12%</td><td>Total Carb 0g</td><td>0%</td></tr><tr><td>Sat Fat 3.5g</td><td>18%</td><td>Dietary Fiber 0g</td><td>0%</td></tr><tr><td>Trans Fat 0.5g</td><td></td><td>Total Sugars 0g</td><td></td></tr><tr><td>Cholest 30mg</td><td>9%</td><td>Incl 0g Added Sugars</td><td>0%</td></tr><tr><td>Sodium 360mg</td><td>16%</td><td>Protein 6g</td><td></td></tr><tr><td colspan=\"4\">Vitamin D 0% • Calcium 0% • Iron 4% • Potassium 2%</td></tr></tbody></table>\\nThe % Daily Value (DV) tells you how much a nutrient in a serving of food contributes to a daily diet. 2,000 calories a day is used for general nutrition advice. <!-- table, from page 0 (l=0.187,t=0.650,r=0.694,b=0.861), with ID 43f5a485-2efd-4cd9-904b-3363b21608f2 -->\\n\\nSummary : This image shows a vertically oriented barcode label containing both a numeric code and an alphanumeric identifier.\\n\\nbarcode:\\n  Full Code :\\n    • Numeric string: 853231007122\\n    • Alphanumeric identifier: 8SHD08C1 (printed above the barcode)\\n  Barcode Type & Structure :\\n    • Barcode type not explicitly labeled, but format resembles UPC-A or EAN-13.\\n    • 12 numeric digits, standard for UPC-A.\\n    • Vertical orientation; quiet zones visible at top and bottom.\\n  Placement & Dimensions :\\n    • Numeric code printed vertically along the left side of the barcode.\\n    • Alphanumeric code printed horizontally at the top.\\n    • No additional graphics, logos, or colour elements.\\n\\nAnalysis :\\n    • The barcode is designed for retail product identification and scanning, with both machine-readable (bars) and human-readable (digits and code) elements. The presence of an alphanumeric identifier may indicate a batch or internal tracking code. <!-- figure, from page 0 (l=0.701,t=0.649,r=0.792,b=0.857), with ID 30b938db-67eb-4e71-ac14-e8cd16ff13be -->\\n\\nNET WT 8 OZ <!-- text, from page 0 (l=0.154,t=0.867,r=0.312,b=0.917), with ID 8bbd8a58-bebb-403c-a9d0-08a2a066761c -->\\n\\nINGREDIENTS: GRASS FED BEEF, WATER, LESS THAN 2% OF THE FOLLOWING: SPICES INCLUDING PAPRIKA, SEA SALT, VINEGAR, CULTURED CELERY POWDER, GARLIC POWDER, CHERRY POWDER, ONION POWDER. <!-- text, from page 0 (l=0.432,t=0.861,r=0.649,b=0.921), with ID ac83c915-56dd-4c69-a200-f6062ec40b98 -->\\n\\nDistributed by\\nTeton Waters Ranch\\nLoveland, CO 80538\\nTetonWatersRanch.com <!-- marginalia, from page 0 (l=0.659,t=0.867,r=0.763,b=0.919), with ID d987f60d-d1c9-4e64-8526-9f1e33b76905 -->\\n\\nSummary : This is a circular stamp indicating inspection and approval by a U.S. government agency.\\n\\nstamp:  \\nShape & Border : \\n  • Circular stamp with a single black border line.\\n\\nText : \\n  • \"U.S.\"\\n  • \"INSPECTED AND PASSED BY DEPARTMENT OF AGRICULTURE\"\\n\\nInk Colour & Orientation : \\n  • Black ink on a light background.\\n  • Upright orientation.\\n\\nDimensions & Placement : \\n  • Proportions suggest a standard inspection stamp size, typically a few centimeters in diameter.\\n  • No additional graphic elements or date present.\\n\\nAnalysis : \\n  • The stamp certifies that the item has been inspected and approved by the U.S. Department of Agriculture, commonly found on food products or packaging to indicate regulatory compliance. <!-- figure, from page 0 (l=0.824,t=0.851,r=0.885,b=0.915), with ID ce5a7fb7-9bd8-4dd5-a69d-3f2d6a5f6259 -->', chunks=[Chunk(text='BUN LENGTH', grounding=[ChunkGrounding(page=0, box=ChunkGroundingBox(l=0.15298891067504883, t=0.02859390527009964, r=0.38849395513534546, b=0.09163343906402588), image_path=None)], chunk_type=<ChunkType.text: 'text'>, chunk_id='9710d303-0be0-4237-8b5d-d628adf9585c'), Chunk(text='UNCURED  \\nBEEF  \\nHOT DOGS  \\nNO NITRITES OR  \\nNITRATES ADDED  \\nExcept those naturally occurring in  \\nsea salt and cultured celery powder', grounding=[ChunkGrounding(page=0, box=ChunkGroundingBox(l=0.16915875673294067, t=0.09763464331626892, r=0.37200164794921875, b=0.31815484166145325), image_path=None)], chunk_type=<ChunkType.text: 'text'>, chunk_id='7f2cfac3-de64-4146-89b4-75dd7d1bfc61'), Chunk(text='NOT PRESERVED  \\nKEEP REFRIGERATED  \\nBELOW 40°F AT ALL TIMES  \\nFULLY COOKED  \\nGLUTEN FREE\\n\\nTO HEAT: BROWN IN A PAN  \\nOR GRILL FOR 5-7 MIN.', grounding=[ChunkGrounding(page=0, box=ChunkGroundingBox(l=0.17146925628185272, t=0.32439807057380676, r=0.3524060845375061, b=0.47614535689353943), image_path=None)], chunk_type=<ChunkType.text: 'text'>, chunk_id='97dfb2b5-cd23-4719-97ff-a8da8d46d688'), Chunk(text='Summary : This image displays three certification and product claim badges related to food labeling, specifically for beef products.\\n\\nlogo:  \\nBadges & Claims : \\n  • \"CERTIFIED HUMANE RAISED & HANDLED GRASS-FED BEEF\" with the website \"CERTIFIEDHUMANE.ORG\".\\n  • \"NO SUGAR ADDED\" in a blue box.\\n  • \"WHOLE 30 Approved\" with the website \"WHOLE30.COM\".\\n  • Additional text at the bottom: \"NOT A LOW CALORIE FOOD - SEE NUTRITION FACTS FOR SUGAR AND CALORIE CONTENT.\"\\n\\nDesign & Layout : \\n  • Three adjacent rectangular badges, each with distinct color schemes (blue/green, blue/white, blue/white).\\n  • All-caps, bold sans-serif fonts for emphasis.\\n  • Red background with white and colored text for contrast.\\n\\nAnalysis : \\n  • The badges communicate that the product is certified humane, contains no added sugar, and is approved for the Whole30 diet, targeting health-conscious consumers and those following specific dietary guidelines.', grounding=[ChunkGrounding(page=0, box=ChunkGroundingBox(l=0.14188559353351593, t=0.5380382537841797, r=0.3998628854751587, b=0.6488116979598999), image_path=None)], chunk_type=<ChunkType.figure: 'figure'>, chunk_id='ce86c9d0-9156-406d-b500-3e7b1e4f7ecc'), Chunk(text='Summary : This is a product packaging label for Teton Waters Ranch beef, highlighting its sourcing and production claims.\\n\\nlogo: Teton Waters Ranch (TWR)\\nScene Overview : \\n  • The main subject is a product label with a prominent logo and large text.\\n  • The label uses a blue and tan color palette.\\n  • The TWR logo appears at the top left, with \"TETON WATERS RANCH\" in large blue letters.\\n  • The text \"MADE WITH 100% GRASS-FED BEEF\" is the central focus, with \"100%\" and \"GRASS-FED BEEF\" in the largest font.\\n  • A blue illustration of a cow\\'s head is at the bottom right.\\n\\nTechnical Details : \\n  • Additional claims: \"MADE WITH BEEF USING NO ANTIBIOTICS ADDED HORMONES NEVER FED ANIMAL BY-PRODUCTS\" in smaller text.\\n  • The phrase \"MADE WITH\" is in a vertical blue box to the left of \"100%\".\\n  • The phrase \"MADE WITH BEEF USING\" is in a horizontal blue box above the claims about antibiotics and hormones.\\n\\nSpatial Relationships : \\n  • The logo and brand name are at the top.\\n  • The main product claim (\"100% GRASS-FED BEEF\") is centered and dominates the label.\\n  • The cow illustration anchors the bottom right, balancing the text-heavy left and center.\\n\\nAnalysis : \\n  • The label emphasizes the purity and quality of the beef, using large, bold text for \"100% GRASS-FED BEEF\" and supporting claims about the absence of antibiotics, hormones, and animal by-products.\\n  • The blue color and cow illustration reinforce the ranch and natural themes.\\n  • The layout is designed to quickly communicate key selling points to consumers.', grounding=[ChunkGrounding(page=0, box=ChunkGroundingBox(l=0.4167827367782593, t=0.04868835210800171, r=0.8448642492294312, b=0.639910101890564), image_path=None)], chunk_type=<ChunkType.figure: 'figure'>, chunk_id='f2515613-7fc9-4e04-80d7-4a62500cc4f6'), Chunk(text='Nutrition Facts\\n5 servings per container\\nServing size 1 link (45g)\\nCalories 110 per serving\\n<table><thead><tr><th>Amount Per Serving</th><th>%DV*</th><th>Amount Per Serving</th><th>%DV*</th></tr></thead><tbody><tr><td>Total Fat 9g</td><td>12%</td><td>Total Carb 0g</td><td>0%</td></tr><tr><td>Sat Fat 3.5g</td><td>18%</td><td>Dietary Fiber 0g</td><td>0%</td></tr><tr><td>Trans Fat 0.5g</td><td></td><td>Total Sugars 0g</td><td></td></tr><tr><td>Cholest 30mg</td><td>9%</td><td>Incl 0g Added Sugars</td><td>0%</td></tr><tr><td>Sodium 360mg</td><td>16%</td><td>Protein 6g</td><td></td></tr><tr><td colspan=\"4\">Vitamin D 0% • Calcium 0% • Iron 4% • Potassium 2%</td></tr></tbody></table>\\nThe % Daily Value (DV) tells you how much a nutrient in a serving of food contributes to a daily diet. 2,000 calories a day is used for general nutrition advice.', grounding=[ChunkGrounding(page=0, box=ChunkGroundingBox(l=0.18744176626205444, t=0.6504496335983276, r=0.6937093734741211, b=0.8605146408081055), image_path=None)], chunk_type=<ChunkType.table: 'table'>, chunk_id='43f5a485-2efd-4cd9-904b-3363b21608f2'), Chunk(text='Summary : This image shows a vertically oriented barcode label containing both a numeric code and an alphanumeric identifier.\\n\\nbarcode:\\n  Full Code :\\n    • Numeric string: 853231007122\\n    • Alphanumeric identifier: 8SHD08C1 (printed above the barcode)\\n  Barcode Type & Structure :\\n    • Barcode type not explicitly labeled, but format resembles UPC-A or EAN-13.\\n    • 12 numeric digits, standard for UPC-A.\\n    • Vertical orientation; quiet zones visible at top and bottom.\\n  Placement & Dimensions :\\n    • Numeric code printed vertically along the left side of the barcode.\\n    • Alphanumeric code printed horizontally at the top.\\n    • No additional graphics, logos, or colour elements.\\n\\nAnalysis :\\n    • The barcode is designed for retail product identification and scanning, with both machine-readable (bars) and human-readable (digits and code) elements. The presence of an alphanumeric identifier may indicate a batch or internal tracking code.', grounding=[ChunkGrounding(page=0, box=ChunkGroundingBox(l=0.7012795805931091, t=0.6486937999725342, r=0.7917370200157166, b=0.8567761182785034), image_path=None)], chunk_type=<ChunkType.figure: 'figure'>, chunk_id='30b938db-67eb-4e71-ac14-e8cd16ff13be'), Chunk(text='NET WT 8 OZ', grounding=[ChunkGrounding(page=0, box=ChunkGroundingBox(l=0.15396299958229065, t=0.8673994541168213, r=0.3122105896472931, b=0.9170569181442261), image_path=None)], chunk_type=<ChunkType.text: 'text'>, chunk_id='8bbd8a58-bebb-403c-a9d0-08a2a066761c'), Chunk(text='INGREDIENTS: GRASS FED BEEF, WATER, LESS THAN 2% OF THE FOLLOWING: SPICES INCLUDING PAPRIKA, SEA SALT, VINEGAR, CULTURED CELERY POWDER, GARLIC POWDER, CHERRY POWDER, ONION POWDER.', grounding=[ChunkGrounding(page=0, box=ChunkGroundingBox(l=0.4321235716342926, t=0.8606199622154236, r=0.6486995220184326, b=0.9213903546333313), image_path=None)], chunk_type=<ChunkType.text: 'text'>, chunk_id='ac83c915-56dd-4c69-a200-f6062ec40b98'), Chunk(text='Distributed by\\nTeton Waters Ranch\\nLoveland, CO 80538\\nTetonWatersRanch.com', grounding=[ChunkGrounding(page=0, box=ChunkGroundingBox(l=0.6586894392967224, t=0.8667811155319214, r=0.7625678181648254, b=0.9192259311676025), image_path=None)], chunk_type=<ChunkType.marginalia: 'marginalia'>, chunk_id='d987f60d-d1c9-4e64-8526-9f1e33b76905'), Chunk(text='Summary : This is a circular stamp indicating inspection and approval by a U.S. government agency.\\n\\nstamp:  \\nShape & Border : \\n  • Circular stamp with a single black border line.\\n\\nText : \\n  • \"U.S.\"\\n  • \"INSPECTED AND PASSED BY DEPARTMENT OF AGRICULTURE\"\\n\\nInk Colour & Orientation : \\n  • Black ink on a light background.\\n  • Upright orientation.\\n\\nDimensions & Placement : \\n  • Proportions suggest a standard inspection stamp size, typically a few centimeters in diameter.\\n  • No additional graphic elements or date present.\\n\\nAnalysis : \\n  • The stamp certifies that the item has been inspected and approved by the U.S. Department of Agriculture, commonly found on food products or packaging to indicate regulatory compliance.', grounding=[ChunkGrounding(page=0, box=ChunkGroundingBox(l=0.8244832754135132, t=0.8510605692863464, r=0.8850430250167847, b=0.9146308302879333), image_path=None)], chunk_type=<ChunkType.figure: 'figure'>, chunk_id='ce5a7fb7-9bd8-4dd5-a69d-3f2d6a5f6259')], extraction=Product(product_name='Uncured Beef Hot Dogs', brand='Teton Waters Ranch', net_weight_oz=8.0, net_weight_g=0.0, servings_per_container=5, serving_size='1 link (45g)', product_type='hot dogs', flavor='', is_grass_fed=True, is_organic=False, is_keto_friendly=False, is_paleo_friendly=False, is_kosher=False, is_regenerative=False, is_certified_humane=True, is_animal_welfare_certified=False, is_pasture_raised=False, is_non_gmo=False, is_gluten_free=True, is_dairy_free=False, is_lactose_free=False, is_whole30_approved=True, has_no_added_sugar=True, no_antibiotics=True, no_hormones=True, no_animal_byproducts=True, usda_inspected=True), extraction_metadata=ProductMetadata(product_name={'chunk_references': ['7f2cfac3-de64-4146-89b4-75dd7d1bfc61']}, brand={'chunk_references': ['d987f60d-d1c9-4e64-8526-9f1e33b76905', 'f2515613-7fc9-4e04-80d7-4a62500cc4f6']}, net_weight_oz={'chunk_references': ['8bbd8a58-bebb-403c-a9d0-08a2a066761c']}, net_weight_g={'chunk_references': []}, servings_per_container={'chunk_references': ['43f5a485-2efd-4cd9-904b-3363b21608f2']}, serving_size={'chunk_references': ['43f5a485-2efd-4cd9-904b-3363b21608f2']}, product_type={'chunk_references': ['7f2cfac3-de64-4146-89b4-75dd7d1bfc61']}, flavor={'chunk_references': []}, is_grass_fed={'chunk_references': ['f2515613-7fc9-4e04-80d7-4a62500cc4f6', 'ce86c9d0-9156-406d-b500-3e7b1e4f7ecc', 'ac83c915-56dd-4c69-a200-f6062ec40b98']}, is_organic={'chunk_references': []}, is_keto_friendly={'chunk_references': []}, is_paleo_friendly={'chunk_references': []}, is_kosher={'chunk_references': []}, is_regenerative={'chunk_references': []}, is_certified_humane={'chunk_references': ['ce86c9d0-9156-406d-b500-3e7b1e4f7ecc']}, is_animal_welfare_certified={'chunk_references': []}, is_pasture_raised={'chunk_references': []}, is_non_gmo={'chunk_references': []}, is_gluten_free={'chunk_references': ['97dfb2b5-cd23-4719-97ff-a8da8d46d688']}, is_dairy_free={'chunk_references': []}, is_lactose_free={'chunk_references': []}, is_whole30_approved={'chunk_references': ['ce86c9d0-9156-406d-b500-3e7b1e4f7ecc']}, has_no_added_sugar={'chunk_references': ['ce86c9d0-9156-406d-b500-3e7b1e4f7ecc']}, no_antibiotics={'chunk_references': ['f2515613-7fc9-4e04-80d7-4a62500cc4f6']}, no_hormones={'chunk_references': ['f2515613-7fc9-4e04-80d7-4a62500cc4f6']}, no_animal_byproducts={'chunk_references': ['f2515613-7fc9-4e04-80d7-4a62500cc4f6']}, usda_inspected={'chunk_references': ['ce5a7fb7-9bd8-4dd5-a69d-3f2d6a5f6259']}), start_page_idx=0, end_page_idx=0, doc_type='image', result_path=None, errors=[], extraction_error=None),\n",
       " ParsedDocument(markdown='ORIGINAL BEEF MINI STICKS\\nMILD\\n\\n6 COUNT\\n\\nCHOMPS\\n— CHOMPLINGS —\\n\\nBEEF\\n4G PROTEIN\\n45 CALORIES\\nPER SERVING\\n\\nMADE WITH GRASS FED & FINISHED BEEF\\n\\n4G PROTEIN PER SERVING\\n\\n45 CALORIES PER SERVING\\n\\nZERO SUGAR\\nNOT A LOW CALORIE SNACK\\n\\nWHOLE 30 APPROVED\\n\\nCERTIFIED GLUTEN FREE\\n\\nU.S. INSPECTED AND PASSED BY DEPARTMENT OF AGRICULTURE\\n\\n6 STICKS - 0.5 OZ. EA. NET WT. 3 OZ (84G) <!-- text, from page 0 (l=0.130,t=0.040,r=0.841,b=0.960), with ID 96006f71-01b4-497b-9c7b-d8b6562765c9 -->\\n\\nSummary : This image is a logo-style label indicating a product quantity, specifically a \"6 pack\", with a design element resembling the Amazon logo\\'s orange arrow.\\n\\nlogo:  \\nVisible Elements :  \\n  • Large black numeral \"6\" on the left.  \\n  • The word \"pack\" in smaller black text to the right of the numeral.  \\n  • An orange curved arrow beneath the text, similar to the Amazon logo\\'s smile/arrow.  \\n  • All elements are enclosed within a thick black oval border.\\n\\nDesign & Placement :  \\n  • The numeral and text are horizontally aligned, with the arrow curving upward from left to right.  \\n  • The design is centered within the oval, with balanced spacing.\\n\\nAnalysis :  \\n  • The label clearly communicates that the product is sold as a six-pack, using Amazon\\'s recognizable branding to reinforce the association with the retailer or platform. <!-- figure, from page 0 (l=0.875,t=0.000,r=0.999,b=0.093), with ID d350b607-b1cc-4038-ab6a-754cc3482502 -->', chunks=[Chunk(text='ORIGINAL BEEF MINI STICKS\\nMILD\\n\\n6 COUNT\\n\\nCHOMPS\\n— CHOMPLINGS —\\n\\nBEEF\\n4G PROTEIN\\n45 CALORIES\\nPER SERVING\\n\\nMADE WITH GRASS FED & FINISHED BEEF\\n\\n4G PROTEIN PER SERVING\\n\\n45 CALORIES PER SERVING\\n\\nZERO SUGAR\\nNOT A LOW CALORIE SNACK\\n\\nWHOLE 30 APPROVED\\n\\nCERTIFIED GLUTEN FREE\\n\\nU.S. INSPECTED AND PASSED BY DEPARTMENT OF AGRICULTURE\\n\\n6 STICKS - 0.5 OZ. EA. NET WT. 3 OZ (84G)', grounding=[ChunkGrounding(page=0, box=ChunkGroundingBox(l=0.13049376010894775, t=0.04003867506980896, r=0.8405967354774475, b=0.9603948593139648), image_path=None)], chunk_type=<ChunkType.text: 'text'>, chunk_id='96006f71-01b4-497b-9c7b-d8b6562765c9'), Chunk(text='Summary : This image is a logo-style label indicating a product quantity, specifically a \"6 pack\", with a design element resembling the Amazon logo\\'s orange arrow.\\n\\nlogo:  \\nVisible Elements :  \\n  • Large black numeral \"6\" on the left.  \\n  • The word \"pack\" in smaller black text to the right of the numeral.  \\n  • An orange curved arrow beneath the text, similar to the Amazon logo\\'s smile/arrow.  \\n  • All elements are enclosed within a thick black oval border.\\n\\nDesign & Placement :  \\n  • The numeral and text are horizontally aligned, with the arrow curving upward from left to right.  \\n  • The design is centered within the oval, with balanced spacing.\\n\\nAnalysis :  \\n  • The label clearly communicates that the product is sold as a six-pack, using Amazon\\'s recognizable branding to reinforce the association with the retailer or platform.', grounding=[ChunkGrounding(page=0, box=ChunkGroundingBox(l=0.8754627108573914, t=2.9068440198898315e-05, r=0.9991852641105652, b=0.09332682192325592), image_path=None)], chunk_type=<ChunkType.figure: 'figure'>, chunk_id='d350b607-b1cc-4038-ab6a-754cc3482502')], extraction=Product(product_name='ORIGINAL BEEF MINI STICKS', brand='CHOMPS', net_weight_oz=3.0, net_weight_g=84.0, servings_per_container=0, serving_size='', product_type='beef sticks', flavor='MILD', is_grass_fed=True, is_organic=False, is_keto_friendly=False, is_paleo_friendly=False, is_kosher=False, is_regenerative=False, is_certified_humane=False, is_animal_welfare_certified=False, is_pasture_raised=False, is_non_gmo=False, is_gluten_free=True, is_dairy_free=False, is_lactose_free=False, is_whole30_approved=True, has_no_added_sugar=True, no_antibiotics=False, no_hormones=False, no_animal_byproducts=False, usda_inspected=True), extraction_metadata=ProductMetadata(product_name={'chunk_references': ['96006f71-01b4-497b-9c7b-d8b6562765c9']}, brand={'chunk_references': ['96006f71-01b4-497b-9c7b-d8b6562765c9']}, net_weight_oz={'chunk_references': ['96006f71-01b4-497b-9c7b-d8b6562765c9']}, net_weight_g={'chunk_references': ['96006f71-01b4-497b-9c7b-d8b6562765c9']}, servings_per_container={'chunk_references': []}, serving_size={'chunk_references': []}, product_type={'chunk_references': ['96006f71-01b4-497b-9c7b-d8b6562765c9']}, flavor={'chunk_references': ['96006f71-01b4-497b-9c7b-d8b6562765c9']}, is_grass_fed={'chunk_references': ['96006f71-01b4-497b-9c7b-d8b6562765c9']}, is_organic={'chunk_references': []}, is_keto_friendly={'chunk_references': []}, is_paleo_friendly={'chunk_references': []}, is_kosher={'chunk_references': []}, is_regenerative={'chunk_references': []}, is_certified_humane={'chunk_references': []}, is_animal_welfare_certified={'chunk_references': []}, is_pasture_raised={'chunk_references': []}, is_non_gmo={'chunk_references': []}, is_gluten_free={'chunk_references': ['96006f71-01b4-497b-9c7b-d8b6562765c9']}, is_dairy_free={'chunk_references': []}, is_lactose_free={'chunk_references': []}, is_whole30_approved={'chunk_references': ['96006f71-01b4-497b-9c7b-d8b6562765c9']}, has_no_added_sugar={'chunk_references': ['96006f71-01b4-497b-9c7b-d8b6562765c9']}, no_antibiotics={'chunk_references': []}, no_hormones={'chunk_references': []}, no_animal_byproducts={'chunk_references': []}, usda_inspected={'chunk_references': ['96006f71-01b4-497b-9c7b-d8b6562765c9']}), start_page_idx=0, end_page_idx=0, doc_type='image', result_path=None, errors=[], extraction_error=None)]"
      ]
     },
     "execution_count": 13,
     "metadata": {},
     "output_type": "execute_result"
    }
   ],
   "source": [
    "result_fe"
   ]
  },
  {
   "cell_type": "code",
   "execution_count": null,
   "id": "86f9b196",
   "metadata": {},
   "outputs": [],
   "source": [
    "result_fe[2].extraction_metadata"
   ]
  },
  {
   "cell_type": "code",
   "execution_count": 14,
   "id": "c5b1ec80",
   "metadata": {},
   "outputs": [
    {
     "data": {
      "text/html": [
       "<div>\n",
       "<style scoped>\n",
       "    .dataframe tbody tr th:only-of-type {\n",
       "        vertical-align: middle;\n",
       "    }\n",
       "\n",
       "    .dataframe tbody tr th {\n",
       "        vertical-align: top;\n",
       "    }\n",
       "\n",
       "    .dataframe thead th {\n",
       "        text-align: right;\n",
       "    }\n",
       "</style>\n",
       "<table border=\"1\" class=\"dataframe\">\n",
       "  <thead>\n",
       "    <tr style=\"text-align: right;\">\n",
       "      <th></th>\n",
       "      <th>product_name</th>\n",
       "      <th>product_name_ref</th>\n",
       "      <th>brand</th>\n",
       "      <th>net_weight_oz</th>\n",
       "      <th>net_weight_oz_ref</th>\n",
       "      <th>net_weight_g</th>\n",
       "      <th>servings_per_container</th>\n",
       "      <th>serving_size</th>\n",
       "      <th>product_type</th>\n",
       "      <th>flavor</th>\n",
       "      <th>...</th>\n",
       "      <th>is_gluten_free</th>\n",
       "      <th>is_dairy_free</th>\n",
       "      <th>is_lactose_free</th>\n",
       "      <th>is_whole30_approved</th>\n",
       "      <th>has_no_added_sugar</th>\n",
       "      <th>no_antibiotics</th>\n",
       "      <th>no_hormones</th>\n",
       "      <th>no_animal_byproducts</th>\n",
       "      <th>usda_inspected</th>\n",
       "      <th>usda_inspected_ref</th>\n",
       "    </tr>\n",
       "  </thead>\n",
       "  <tbody>\n",
       "    <tr>\n",
       "      <th>0</th>\n",
       "      <td>100% Grass-Fed A2/A2 Organic Plain Yogurt, Ext...</td>\n",
       "      <td>{'chunk_references': ['598c5194-9ce2-41fa-95eb...</td>\n",
       "      <td>Alexandre Family Farm</td>\n",
       "      <td>24.00</td>\n",
       "      <td>{'chunk_references': ['598c5194-9ce2-41fa-95eb...</td>\n",
       "      <td>680.0</td>\n",
       "      <td>0</td>\n",
       "      <td></td>\n",
       "      <td>yogurt</td>\n",
       "      <td>plain</td>\n",
       "      <td>...</td>\n",
       "      <td>False</td>\n",
       "      <td>False</td>\n",
       "      <td>False</td>\n",
       "      <td>False</td>\n",
       "      <td>False</td>\n",
       "      <td>False</td>\n",
       "      <td>False</td>\n",
       "      <td>False</td>\n",
       "      <td>False</td>\n",
       "      <td>{'chunk_references': []}</td>\n",
       "    </tr>\n",
       "    <tr>\n",
       "      <th>1</th>\n",
       "      <td>Ancestral Blend Ground Beef, Beef Liver, Beef ...</td>\n",
       "      <td>{'chunk_references': ['462b018d-7413-4e64-a06b...</td>\n",
       "      <td>Force of Nature</td>\n",
       "      <td>16.00</td>\n",
       "      <td>{'chunk_references': ['334d08cc-efff-410d-b059...</td>\n",
       "      <td>0.0</td>\n",
       "      <td>0</td>\n",
       "      <td></td>\n",
       "      <td>ground beef</td>\n",
       "      <td></td>\n",
       "      <td>...</td>\n",
       "      <td>False</td>\n",
       "      <td>False</td>\n",
       "      <td>False</td>\n",
       "      <td>False</td>\n",
       "      <td>False</td>\n",
       "      <td>False</td>\n",
       "      <td>False</td>\n",
       "      <td>False</td>\n",
       "      <td>True</td>\n",
       "      <td>{'chunk_references': ['334d08cc-efff-410d-b059...</td>\n",
       "    </tr>\n",
       "    <tr>\n",
       "      <th>2</th>\n",
       "      <td>GOJI BERRIES</td>\n",
       "      <td>{'chunk_references': ['af504027-dc27-49d4-9eef...</td>\n",
       "      <td>NAVITAS ORGANICS</td>\n",
       "      <td>8.00</td>\n",
       "      <td>{'chunk_references': ['af504027-dc27-49d4-9eef...</td>\n",
       "      <td>227.0</td>\n",
       "      <td>0</td>\n",
       "      <td></td>\n",
       "      <td>superfood</td>\n",
       "      <td></td>\n",
       "      <td>...</td>\n",
       "      <td>False</td>\n",
       "      <td>False</td>\n",
       "      <td>False</td>\n",
       "      <td>False</td>\n",
       "      <td>False</td>\n",
       "      <td>False</td>\n",
       "      <td>False</td>\n",
       "      <td>False</td>\n",
       "      <td>False</td>\n",
       "      <td>{'chunk_references': []}</td>\n",
       "    </tr>\n",
       "    <tr>\n",
       "      <th>3</th>\n",
       "      <td>COLLAGEN CREAMER</td>\n",
       "      <td>{'chunk_references': ['954d37c4-5545-4da5-8f27...</td>\n",
       "      <td>Garden of Life</td>\n",
       "      <td>11.64</td>\n",
       "      <td>{'chunk_references': ['954d37c4-5545-4da5-8f27...</td>\n",
       "      <td>330.0</td>\n",
       "      <td>12</td>\n",
       "      <td></td>\n",
       "      <td>supplement</td>\n",
       "      <td>creamy vanilla</td>\n",
       "      <td>...</td>\n",
       "      <td>False</td>\n",
       "      <td>True</td>\n",
       "      <td>False</td>\n",
       "      <td>False</td>\n",
       "      <td>False</td>\n",
       "      <td>False</td>\n",
       "      <td>False</td>\n",
       "      <td>False</td>\n",
       "      <td>False</td>\n",
       "      <td>{'chunk_references': []}</td>\n",
       "    </tr>\n",
       "    <tr>\n",
       "      <th>4</th>\n",
       "      <td>Uncured Beef Hot Dogs</td>\n",
       "      <td>{'chunk_references': ['7f2cfac3-de64-4146-89b4...</td>\n",
       "      <td>Teton Waters Ranch</td>\n",
       "      <td>8.00</td>\n",
       "      <td>{'chunk_references': ['8bbd8a58-bebb-403c-a9d0...</td>\n",
       "      <td>0.0</td>\n",
       "      <td>5</td>\n",
       "      <td>1 link (45g)</td>\n",
       "      <td>hot dogs</td>\n",
       "      <td></td>\n",
       "      <td>...</td>\n",
       "      <td>True</td>\n",
       "      <td>False</td>\n",
       "      <td>False</td>\n",
       "      <td>True</td>\n",
       "      <td>True</td>\n",
       "      <td>True</td>\n",
       "      <td>True</td>\n",
       "      <td>True</td>\n",
       "      <td>True</td>\n",
       "      <td>{'chunk_references': ['ce5a7fb7-9bd8-4dd5-a69d...</td>\n",
       "    </tr>\n",
       "    <tr>\n",
       "      <th>5</th>\n",
       "      <td>ORIGINAL BEEF MINI STICKS</td>\n",
       "      <td>{'chunk_references': ['96006f71-01b4-497b-9c7b...</td>\n",
       "      <td>CHOMPS</td>\n",
       "      <td>3.00</td>\n",
       "      <td>{'chunk_references': ['96006f71-01b4-497b-9c7b...</td>\n",
       "      <td>84.0</td>\n",
       "      <td>0</td>\n",
       "      <td></td>\n",
       "      <td>beef sticks</td>\n",
       "      <td>MILD</td>\n",
       "      <td>...</td>\n",
       "      <td>True</td>\n",
       "      <td>False</td>\n",
       "      <td>False</td>\n",
       "      <td>True</td>\n",
       "      <td>True</td>\n",
       "      <td>False</td>\n",
       "      <td>False</td>\n",
       "      <td>False</td>\n",
       "      <td>True</td>\n",
       "      <td>{'chunk_references': ['96006f71-01b4-497b-9c7b...</td>\n",
       "    </tr>\n",
       "  </tbody>\n",
       "</table>\n",
       "<p>6 rows × 30 columns</p>\n",
       "</div>"
      ],
      "text/plain": [
       "                                        product_name  \\\n",
       "0  100% Grass-Fed A2/A2 Organic Plain Yogurt, Ext...   \n",
       "1  Ancestral Blend Ground Beef, Beef Liver, Beef ...   \n",
       "2                                       GOJI BERRIES   \n",
       "3                                   COLLAGEN CREAMER   \n",
       "4                              Uncured Beef Hot Dogs   \n",
       "5                          ORIGINAL BEEF MINI STICKS   \n",
       "\n",
       "                                    product_name_ref                  brand  \\\n",
       "0  {'chunk_references': ['598c5194-9ce2-41fa-95eb...  Alexandre Family Farm   \n",
       "1  {'chunk_references': ['462b018d-7413-4e64-a06b...        Force of Nature   \n",
       "2  {'chunk_references': ['af504027-dc27-49d4-9eef...       NAVITAS ORGANICS   \n",
       "3  {'chunk_references': ['954d37c4-5545-4da5-8f27...         Garden of Life   \n",
       "4  {'chunk_references': ['7f2cfac3-de64-4146-89b4...     Teton Waters Ranch   \n",
       "5  {'chunk_references': ['96006f71-01b4-497b-9c7b...                 CHOMPS   \n",
       "\n",
       "   net_weight_oz                                  net_weight_oz_ref  \\\n",
       "0          24.00  {'chunk_references': ['598c5194-9ce2-41fa-95eb...   \n",
       "1          16.00  {'chunk_references': ['334d08cc-efff-410d-b059...   \n",
       "2           8.00  {'chunk_references': ['af504027-dc27-49d4-9eef...   \n",
       "3          11.64  {'chunk_references': ['954d37c4-5545-4da5-8f27...   \n",
       "4           8.00  {'chunk_references': ['8bbd8a58-bebb-403c-a9d0...   \n",
       "5           3.00  {'chunk_references': ['96006f71-01b4-497b-9c7b...   \n",
       "\n",
       "   net_weight_g  servings_per_container  serving_size product_type  \\\n",
       "0         680.0                       0                     yogurt   \n",
       "1           0.0                       0                ground beef   \n",
       "2         227.0                       0                  superfood   \n",
       "3         330.0                      12                 supplement   \n",
       "4           0.0                       5  1 link (45g)     hot dogs   \n",
       "5          84.0                       0                beef sticks   \n",
       "\n",
       "           flavor  ...  is_gluten_free  is_dairy_free  is_lactose_free  \\\n",
       "0           plain  ...           False          False            False   \n",
       "1                  ...           False          False            False   \n",
       "2                  ...           False          False            False   \n",
       "3  creamy vanilla  ...           False           True            False   \n",
       "4                  ...            True          False            False   \n",
       "5            MILD  ...            True          False            False   \n",
       "\n",
       "   is_whole30_approved  has_no_added_sugar  no_antibiotics  no_hormones  \\\n",
       "0                False               False           False        False   \n",
       "1                False               False           False        False   \n",
       "2                False               False           False        False   \n",
       "3                False               False           False        False   \n",
       "4                 True                True            True         True   \n",
       "5                 True                True           False        False   \n",
       "\n",
       "   no_animal_byproducts  usda_inspected  \\\n",
       "0                 False           False   \n",
       "1                 False            True   \n",
       "2                 False           False   \n",
       "3                 False           False   \n",
       "4                  True            True   \n",
       "5                 False            True   \n",
       "\n",
       "                                  usda_inspected_ref  \n",
       "0                           {'chunk_references': []}  \n",
       "1  {'chunk_references': ['334d08cc-efff-410d-b059...  \n",
       "2                           {'chunk_references': []}  \n",
       "3                           {'chunk_references': []}  \n",
       "4  {'chunk_references': ['ce5a7fb7-9bd8-4dd5-a69d...  \n",
       "5  {'chunk_references': ['96006f71-01b4-497b-9c7b...  \n",
       "\n",
       "[6 rows x 30 columns]"
      ]
     },
     "execution_count": 14,
     "metadata": {},
     "output_type": "execute_result"
    }
   ],
   "source": [
    "import pandas as pd\n",
    "\n",
    "# Assume parsed_docs is your list of ParsedDocument objects\n",
    "# Example: parsed_docs = [ParsedDocument(...), ParsedDocument(...), ...]\n",
    "\n",
    "# Extract the product data\n",
    "records = []\n",
    "for doc in result_fe:\n",
    "    product = doc.extraction\n",
    "    meta=doc.extraction_metadata\n",
    "    product_dict = {\n",
    "        \"product_name\": product.product_name,\n",
    "        \"product_name_ref\":meta.product_name,\n",
    "        \"brand\": product.brand,\n",
    "        \"net_weight_oz\": product.net_weight_oz,\n",
    "        \"net_weight_oz_ref\":meta.net_weight_oz,\n",
    "        \"net_weight_g\": product.net_weight_g,\n",
    "        \"servings_per_container\": product.servings_per_container,\n",
    "        \"serving_size\": product.serving_size,\n",
    "        \"product_type\": product.product_type,\n",
    "        \"flavor\": product.flavor,\n",
    "        \"is_grass_fed\": product.is_grass_fed,\n",
    "        \"is_organic\": product.is_organic,\n",
    "        \"is_keto_friendly\": product.is_keto_friendly,\n",
    "        \"is_paleo_friendly\": product.is_paleo_friendly,\n",
    "        \"is_kosher\": product.is_kosher,\n",
    "        \"is_regenerative\": product.is_regenerative,\n",
    "        \"is_certified_humane\": product.is_certified_humane,\n",
    "        \"is_animal_welfare_certified\": product.is_animal_welfare_certified,\n",
    "        \"is_pasture_raised\": product.is_pasture_raised,\n",
    "        \"is_non_gmo\": product.is_non_gmo,\n",
    "        \"is_gluten_free\": product.is_gluten_free,\n",
    "        \"is_dairy_free\": product.is_dairy_free,\n",
    "        \"is_lactose_free\": product.is_lactose_free,\n",
    "        \"is_whole30_approved\": product.is_whole30_approved,\n",
    "        \"has_no_added_sugar\": product.has_no_added_sugar,\n",
    "        \"no_antibiotics\": product.no_antibiotics,\n",
    "        \"no_hormones\": product.no_hormones,\n",
    "        \"no_animal_byproducts\": product.no_animal_byproducts,\n",
    "        \"usda_inspected\": product.usda_inspected,\n",
    "        \"usda_inspected_ref\": meta.usda_inspected,\n",
    "    }\n",
    "    records.append(product_dict)\n",
    "\n",
    "# Create DataFrame\n",
    "df = pd.DataFrame(records)\n",
    "df\n"
   ]
  },
  {
   "cell_type": "markdown",
   "id": "21d79524",
   "metadata": {},
   "source": []
  },
  {
   "cell_type": "markdown",
   "id": "ba221e0b",
   "metadata": {},
   "source": []
  },
  {
   "cell_type": "code",
   "execution_count": null,
   "id": "f1832a71",
   "metadata": {},
   "outputs": [],
   "source": []
  }
 ],
 "metadata": {
  "kernelspec": {
   "display_name": "Python 3",
   "language": "python",
   "name": "python3"
  },
  "language_info": {
   "codemirror_mode": {
    "name": "ipython",
    "version": 3
   },
   "file_extension": ".py",
   "mimetype": "text/x-python",
   "name": "python",
   "nbconvert_exporter": "python",
   "pygments_lexer": "ipython3",
   "version": "3.9.6"
  }
 },
 "nbformat": 4,
 "nbformat_minor": 5
}
