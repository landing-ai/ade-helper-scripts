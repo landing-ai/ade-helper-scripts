{
 "cells": [
  {
   "cell_type": "markdown",
   "id": "b1177b2e-38bd-419a-92e5-86487be1e3d0",
   "metadata": {},
   "source": [
    "# Standard Imports"
   ]
  },
  {
   "cell_type": "code",
   "execution_count": 1,
   "id": "79c17704-1ea6-48d1-a9d3-5b9f790e0b69",
   "metadata": {
    "tags": []
   },
   "outputs": [
    {
     "name": "stdout",
     "output_type": "stream",
     "text": [
      "\u001b[2m2025-08-03 16:07:13\u001b[0m [info   \u001b[0m] \u001b[1mSettings loaded: {\n",
      "  \"endpoint_host\": \"https://api.va.landing.ai\",\n",
      "  \"vision_agent_api_key\": \"dzhra[REDACTED]\",\n",
      "  \"batch_size\": 4,\n",
      "  \"max_workers\": 5,\n",
      "  \"max_retries\": 100,\n",
      "  \"max_retry_wait_time\": 60,\n",
      "  \"retry_logging_style\": \"log_msg\",\n",
      "  \"pdf_to_image_dpi\": 96,\n",
      "  \"split_size\": 10,\n",
      "  \"extraction_split_size\": 50\n",
      "}\u001b[0m [\u001b[0m\u001b[1m\u001b[34magentic_doc.config\u001b[0m]\u001b[0m (config.py:170)\n"
     ]
    }
   ],
   "source": [
    "import os\n",
    "import json\n",
    "from pathlib import Path\n",
    "from IPython.display import display, Image\n",
    "from dotenv import load_dotenv\n",
    "\n",
    "# OpenAI & ChromaDB - Embedding + Vector Store\n",
    "import openai\n",
    "import chromadb\n",
    "\n",
    "# LandingAI SDK\n",
    "from agentic_doc.parse import parse\n",
    "from agentic_doc.utils import viz_parsed_document"
   ]
  },
  {
   "cell_type": "markdown",
   "id": "827df9c2-c104-4aad-acee-3cc6881a694f",
   "metadata": {},
   "source": [
    "---"
   ]
  },
  {
   "cell_type": "markdown",
   "id": "bdee3381-3e04-45fc-97f5-5b6db3d92898",
   "metadata": {},
   "source": [
    "# Configuration"
   ]
  },
  {
   "cell_type": "code",
   "execution_count": 4,
   "id": "c55d041a-eab0-4f1c-adf0-53d1441657ae",
   "metadata": {
    "tags": []
   },
   "outputs": [],
   "source": [
    "# Setting Directories and Paths\n",
    "DOC_PATH = \"apple_10k.pdf\"\n",
    "OUTPUT_DIR = \"./ade_outputs\"\n",
    "GROUNDING_DIR = f\"{OUTPUT_DIR}/grounding\"\n",
    "ADE_JSON_PATH = f\"{OUTPUT_DIR}/apple_10k.json\"\n",
    "ADE_MD_PATH = f\"{OUTPUT_DIR}/apple_10k.md\"\n",
    "\n",
    "# Load API keys from .env\n",
    "load_dotenv()\n",
    "openai.api_key = os.getenv(\"OPENAI_API_KEY\")"
   ]
  },
  {
   "cell_type": "markdown",
   "id": "10eb11be-e3c3-4f6d-8370-c1fb68135cca",
   "metadata": {
    "tags": []
   },
   "source": [
    "---"
   ]
  },
  {
   "cell_type": "markdown",
   "id": "2c7f70d7-cb7b-4ec4-a149-78a8e73e9ca6",
   "metadata": {},
   "source": [
    "# Chunk Normalization Function"
   ]
  },
  {
   "cell_type": "code",
   "execution_count": 6,
   "id": "0266d4f7-cbfb-4559-9921-1790664f49a4",
   "metadata": {
    "tags": []
   },
   "outputs": [],
   "source": [
    "def normalize_chunk(chunk):\n",
    "    \"\"\"Convert PosixPath objects in chunk dict to plain strings for JSON storage.\"\"\"\n",
    "    normalized = {}\n",
    "    for k, v in chunk.items():\n",
    "        if isinstance(v, Path):\n",
    "            normalized[k] = str(v)\n",
    "        elif isinstance(v, list):\n",
    "            normalized[k] = [\n",
    "                normalize_chunk(i) if isinstance(i, dict) else (str(i) if isinstance(i, Path) else i)\n",
    "                for i in v\n",
    "            ]\n",
    "        elif isinstance(v, dict):\n",
    "            normalized[k] = normalize_chunk(v)\n",
    "        else:\n",
    "            normalized[k] = v\n",
    "    return normalized"
   ]
  },
  {
   "cell_type": "markdown",
   "id": "b517b029-0613-4258-ad7a-ecb71fcdf406",
   "metadata": {},
   "source": [
    "---"
   ]
  },
  {
   "cell_type": "markdown",
   "id": "07c580a9-0bc9-4bf4-9e85-44d43222e534",
   "metadata": {},
   "source": [
    "# LandingAI - Agentic Document Extraction 10K Parsing"
   ]
  },
  {
   "cell_type": "code",
   "execution_count": 8,
   "id": "fe79b32d-0530-49d1-b028-be832e4f3350",
   "metadata": {
    "tags": []
   },
   "outputs": [
    {
     "name": "stdout",
     "output_type": "stream",
     "text": [
      "\u001b[2m2025-08-03 16:07:21\u001b[0m [info   \u001b[0m] \u001b[1mAPI key is valid.             \u001b[0m [\u001b[0m\u001b[1m\u001b[34magentic_doc.utils\u001b[0m]\u001b[0m (utils.py:42)\n",
      "\u001b[2m2025-08-03 16:07:21\u001b[0m [info   \u001b[0m] \u001b[1mParsing 1 documents           \u001b[0m [\u001b[0m\u001b[1m\u001b[34magentic_doc.parse\u001b[0m]\u001b[0m (parse.py:280)\n",
      "\u001b[2m2025-08-03 16:07:21\u001b[0m [info   \u001b[0m] \u001b[1mSplitting PDF: 'apple_10k.pdf' into 7 parts under '/var/folders/_0/xg_50ybj0bs8yjqd5wjj40h40000gn/T/tmp1_h65je8'\u001b[0m [\u001b[0m\u001b[1m\u001b[34magentic_doc.utils\u001b[0m]\u001b[0m (utils.py:236)\n"
     ]
    },
    {
     "name": "stderr",
     "output_type": "stream",
     "text": [
      "Parsing documents:   0%|                                  | 0/1 [00:00<?, ?it/s]"
     ]
    },
    {
     "name": "stdout",
     "output_type": "stream",
     "text": [
      "\u001b[2m2025-08-03 16:07:21\u001b[0m [info   \u001b[0m] \u001b[1mCreated /var/folders/_0/xg_50ybj0bs8yjqd5wjj40h40000gn/T/tmp1_h65je8/apple_10k_1.pdf\u001b[0m [\u001b[0m\u001b[1m\u001b[34magentic_doc.utils\u001b[0m]\u001b[0m (utils.py:252)\n",
      "\u001b[2m2025-08-03 16:07:21\u001b[0m [info   \u001b[0m] \u001b[1mCreated /var/folders/_0/xg_50ybj0bs8yjqd5wjj40h40000gn/T/tmp1_h65je8/apple_10k_2.pdf\u001b[0m [\u001b[0m\u001b[1m\u001b[34magentic_doc.utils\u001b[0m]\u001b[0m (utils.py:252)\n",
      "\u001b[2m2025-08-03 16:07:21\u001b[0m [info   \u001b[0m] \u001b[1mCreated /var/folders/_0/xg_50ybj0bs8yjqd5wjj40h40000gn/T/tmp1_h65je8/apple_10k_3.pdf\u001b[0m [\u001b[0m\u001b[1m\u001b[34magentic_doc.utils\u001b[0m]\u001b[0m (utils.py:252)\n",
      "\u001b[2m2025-08-03 16:07:21\u001b[0m [info   \u001b[0m] \u001b[1mCreated /var/folders/_0/xg_50ybj0bs8yjqd5wjj40h40000gn/T/tmp1_h65je8/apple_10k_4.pdf\u001b[0m [\u001b[0m\u001b[1m\u001b[34magentic_doc.utils\u001b[0m]\u001b[0m (utils.py:252)\n",
      "\u001b[2m2025-08-03 16:07:21\u001b[0m [info   \u001b[0m] \u001b[1mCreated /var/folders/_0/xg_50ybj0bs8yjqd5wjj40h40000gn/T/tmp1_h65je8/apple_10k_5.pdf\u001b[0m [\u001b[0m\u001b[1m\u001b[34magentic_doc.utils\u001b[0m]\u001b[0m (utils.py:252)\n",
      "\u001b[2m2025-08-03 16:07:21\u001b[0m [info   \u001b[0m] \u001b[1mCreated /var/folders/_0/xg_50ybj0bs8yjqd5wjj40h40000gn/T/tmp1_h65je8/apple_10k_6.pdf\u001b[0m [\u001b[0m\u001b[1m\u001b[34magentic_doc.utils\u001b[0m]\u001b[0m (utils.py:252)\n",
      "\u001b[2m2025-08-03 16:07:21\u001b[0m [info   \u001b[0m] \u001b[1mCreated /var/folders/_0/xg_50ybj0bs8yjqd5wjj40h40000gn/T/tmp1_h65je8/apple_10k_7.pdf\u001b[0m [\u001b[0m\u001b[1m\u001b[34magentic_doc.utils\u001b[0m]\u001b[0m (utils.py:252)\n",
      "\u001b[2m2025-08-03 16:07:21\u001b[0m [info   \u001b[0m] \u001b[1mCreated /var/folders/_0/xg_50ybj0bs8yjqd5wjj40h40000gn/T/tmp1_h65je8/apple_10k_8.pdf\u001b[0m [\u001b[0m\u001b[1m\u001b[34magentic_doc.utils\u001b[0m]\u001b[0m (utils.py:252)\n",
      "\u001b[2m2025-08-03 16:07:21\u001b[0m [info   \u001b[0m] \u001b[1mStart parsing document part: 'File name: apple_10k_1.pdf\tPage: [0:9]'\u001b[0m [\u001b[0m\u001b[1m\u001b[34magentic_doc.parse\u001b[0m]\u001b[0m (parse.py:670)\n",
      "\u001b[2m2025-08-03 16:07:21\u001b[0m [info   \u001b[0m] \u001b[1mStart parsing document part: 'File name: apple_10k_2.pdf\tPage: [10:19]'\u001b[0m [\u001b[0m\u001b[1m\u001b[34magentic_doc.parse\u001b[0m]\u001b[0m (parse.py:670)\n",
      "\u001b[2m2025-08-03 16:07:21\u001b[0m [info   \u001b[0m] \u001b[1mStart parsing document part: 'File name: apple_10k_3.pdf\tPage: [20:29]'\u001b[0m [\u001b[0m\u001b[1m\u001b[34magentic_doc.parse\u001b[0m]\u001b[0m (parse.py:670)\n"
     ]
    },
    {
     "name": "stderr",
     "output_type": "stream",
     "text": [
      "\n",
      "Parsing document parts from 'apple_10k.pdf':   0%|        | 0/8 [00:00<?, ?it/s]"
     ]
    },
    {
     "name": "stdout",
     "output_type": "stream",
     "text": [
      "\u001b[2m2025-08-03 16:07:21\u001b[0m [info   \u001b[0m] \u001b[1mStart parsing document part: 'File name: apple_10k_4.pdf\tPage: [30:39]'\u001b[0m [\u001b[0m\u001b[1m\u001b[34magentic_doc.parse\u001b[0m]\u001b[0m (parse.py:670)\n"
     ]
    },
    {
     "name": "stderr",
     "output_type": "stream",
     "text": [
      "\u001b[A"
     ]
    },
    {
     "name": "stdout",
     "output_type": "stream",
     "text": [
      "\u001b[2m2025-08-03 16:07:21\u001b[0m [info   \u001b[0m] \u001b[1mStart parsing document part: 'File name: apple_10k_5.pdf\tPage: [40:49]'\u001b[0m [\u001b[0m\u001b[1m\u001b[34magentic_doc.parse\u001b[0m]\u001b[0m (parse.py:670)\n",
      "HTTP Request: POST https://api.va.landing.ai/v1/tools/agentic-document-analysis \"HTTP/1.1 200 OK\" (_client.py:1025)\n",
      "\u001b[2m2025-08-03 16:07:38\u001b[0m [info   \u001b[0m] \u001b[1mTime taken to successfully parse a document chunk: 17.04 seconds\u001b[0m [\u001b[0m\u001b[1m\u001b[34magentic_doc.parse\u001b[0m]\u001b[0m (parse.py:823)\n",
      "\u001b[2m2025-08-03 16:07:38\u001b[0m [info   \u001b[0m] \u001b[1mSuccessfully parsed document part: 'File name: apple_10k_3.pdf\tPage: [20:29]'\u001b[0m [\u001b[0m\u001b[1m\u001b[34magentic_doc.parse\u001b[0m]\u001b[0m (parse.py:679)\n",
      "\u001b[2m2025-08-03 16:07:38\u001b[0m [info   \u001b[0m] \u001b[1mStart parsing document part: 'File name: apple_10k_6.pdf\tPage: [50:59]'\u001b[0m [\u001b[0m\u001b[1m\u001b[34magentic_doc.parse\u001b[0m]\u001b[0m (parse.py:670)\n",
      "HTTP Request: POST https://api.va.landing.ai/v1/tools/agentic-document-analysis \"HTTP/1.1 200 OK\" (_client.py:1025)\n",
      "\u001b[2m2025-08-03 16:07:39\u001b[0m [info   \u001b[0m] \u001b[1mTime taken to successfully parse a document chunk: 17.17 seconds\u001b[0m [\u001b[0m\u001b[1m\u001b[34magentic_doc.parse\u001b[0m]\u001b[0m (parse.py:823)\n",
      "\u001b[2m2025-08-03 16:07:39\u001b[0m [info   \u001b[0m] \u001b[1mSuccessfully parsed document part: 'File name: apple_10k_2.pdf\tPage: [10:19]'\u001b[0m [\u001b[0m\u001b[1m\u001b[34magentic_doc.parse\u001b[0m]\u001b[0m (parse.py:679)\n",
      "\u001b[2m2025-08-03 16:07:39\u001b[0m [info   \u001b[0m] \u001b[1mStart parsing document part: 'File name: apple_10k_7.pdf\tPage: [60:69]'\u001b[0m [\u001b[0m\u001b[1m\u001b[34magentic_doc.parse\u001b[0m]\u001b[0m (parse.py:670)\n",
      "HTTP Request: POST https://api.va.landing.ai/v1/tools/agentic-document-analysis \"HTTP/1.1 200 OK\" (_client.py:1025)\n",
      "\u001b[2m2025-08-03 16:07:41\u001b[0m [info   \u001b[0m] \u001b[1mTime taken to successfully parse a document chunk: 19.65 seconds\u001b[0m [\u001b[0m\u001b[1m\u001b[34magentic_doc.parse\u001b[0m]\u001b[0m (parse.py:823)\n",
      "\u001b[2m2025-08-03 16:07:41\u001b[0m [info   \u001b[0m] \u001b[1mSuccessfully parsed document part: 'File name: apple_10k_1.pdf\tPage: [0:9]'\u001b[0m [\u001b[0m\u001b[1m\u001b[34magentic_doc.parse\u001b[0m]\u001b[0m (parse.py:679)\n",
      "\u001b[2m2025-08-03 16:07:41\u001b[0m [info   \u001b[0m] \u001b[1mStart parsing document part: 'File name: apple_10k_8.pdf\tPage: [70:73]'\u001b[0m [\u001b[0m\u001b[1m\u001b[34magentic_doc.parse\u001b[0m]\u001b[0m (parse.py:670)\n"
     ]
    },
    {
     "name": "stderr",
     "output_type": "stream",
     "text": [
      "\n",
      "Parsing document parts from 'apple_10k.pdf':  12%|▏| 1/8 [00:19<02:17, 19.65s/it\u001b[A"
     ]
    },
    {
     "name": "stdout",
     "output_type": "stream",
     "text": [
      "HTTP Request: POST https://api.va.landing.ai/v1/tools/agentic-document-analysis \"HTTP/1.1 200 OK\" (_client.py:1025)\n",
      "\u001b[2m2025-08-03 16:07:48\u001b[0m [info   \u001b[0m] \u001b[1mTime taken to successfully parse a document chunk: 26.85 seconds\u001b[0m [\u001b[0m\u001b[1m\u001b[34magentic_doc.parse\u001b[0m]\u001b[0m (parse.py:823)\n",
      "\u001b[2m2025-08-03 16:07:48\u001b[0m [info   \u001b[0m] \u001b[1mSuccessfully parsed document part: 'File name: apple_10k_4.pdf\tPage: [30:39]'\u001b[0m [\u001b[0m\u001b[1m\u001b[34magentic_doc.parse\u001b[0m]\u001b[0m (parse.py:679)\n"
     ]
    },
    {
     "name": "stderr",
     "output_type": "stream",
     "text": [
      "\n",
      "Parsing document parts from 'apple_10k.pdf':  50%|▌| 4/8 [00:26<00:22,  5.67s/it\u001b[A"
     ]
    },
    {
     "name": "stdout",
     "output_type": "stream",
     "text": [
      "HTTP Request: POST https://api.va.landing.ai/v1/tools/agentic-document-analysis \"HTTP/1.1 200 OK\" (_client.py:1025)\n",
      "\u001b[2m2025-08-03 16:07:57\u001b[0m [info   \u001b[0m] \u001b[1mTime taken to successfully parse a document chunk: 35.42 seconds\u001b[0m [\u001b[0m\u001b[1m\u001b[34magentic_doc.parse\u001b[0m]\u001b[0m (parse.py:823)\n",
      "\u001b[2m2025-08-03 16:07:57\u001b[0m [info   \u001b[0m] \u001b[1mSuccessfully parsed document part: 'File name: apple_10k_5.pdf\tPage: [40:49]'\u001b[0m [\u001b[0m\u001b[1m\u001b[34magentic_doc.parse\u001b[0m]\u001b[0m (parse.py:679)\n"
     ]
    },
    {
     "name": "stderr",
     "output_type": "stream",
     "text": [
      "\n",
      "Parsing document parts from 'apple_10k.pdf':  62%|▋| 5/8 [00:35<00:19,  6.47s/it\u001b[A"
     ]
    },
    {
     "name": "stdout",
     "output_type": "stream",
     "text": [
      "HTTP Request: POST https://api.va.landing.ai/v1/tools/agentic-document-analysis \"HTTP/1.1 200 OK\" (_client.py:1025)\n",
      "\u001b[2m2025-08-03 16:07:57\u001b[0m [info   \u001b[0m] \u001b[1mTime taken to successfully parse a document chunk: 18.51 seconds\u001b[0m [\u001b[0m\u001b[1m\u001b[34magentic_doc.parse\u001b[0m]\u001b[0m (parse.py:823)\n",
      "\u001b[2m2025-08-03 16:07:57\u001b[0m [info   \u001b[0m] \u001b[1mSuccessfully parsed document part: 'File name: apple_10k_6.pdf\tPage: [50:59]'\u001b[0m [\u001b[0m\u001b[1m\u001b[34magentic_doc.parse\u001b[0m]\u001b[0m (parse.py:679)\n"
     ]
    },
    {
     "name": "stderr",
     "output_type": "stream",
     "text": [
      "\n",
      "Parsing document parts from 'apple_10k.pdf':  75%|▊| 6/8 [00:35<00:09,  4.67s/it\u001b[A"
     ]
    },
    {
     "name": "stdout",
     "output_type": "stream",
     "text": [
      "HTTP Request: POST https://api.va.landing.ai/v1/tools/agentic-document-analysis \"HTTP/1.1 200 OK\" (_client.py:1025)\n",
      "\u001b[2m2025-08-03 16:08:14\u001b[0m [info   \u001b[0m] \u001b[1mTime taken to successfully parse a document chunk: 33.48 seconds\u001b[0m [\u001b[0m\u001b[1m\u001b[34magentic_doc.parse\u001b[0m]\u001b[0m (parse.py:823)\n",
      "\u001b[2m2025-08-03 16:08:14\u001b[0m [info   \u001b[0m] \u001b[1mSuccessfully parsed document part: 'File name: apple_10k_8.pdf\tPage: [70:73]'\u001b[0m [\u001b[0m\u001b[1m\u001b[34magentic_doc.parse\u001b[0m]\u001b[0m (parse.py:679)\n",
      "HTTP Request: POST https://api.va.landing.ai/v1/tools/agentic-document-analysis \"HTTP/1.1 200 OK\" (_client.py:1025)\n",
      "\u001b[2m2025-08-03 16:08:16\u001b[0m [info   \u001b[0m] \u001b[1mTime taken to successfully parse a document chunk: 37.70 seconds\u001b[0m [\u001b[0m\u001b[1m\u001b[34magentic_doc.parse\u001b[0m]\u001b[0m (parse.py:823)\n",
      "\u001b[2m2025-08-03 16:08:16\u001b[0m [info   \u001b[0m] \u001b[1mSuccessfully parsed document part: 'File name: apple_10k_7.pdf\tPage: [60:69]'\u001b[0m [\u001b[0m\u001b[1m\u001b[34magentic_doc.parse\u001b[0m]\u001b[0m (parse.py:679)\n"
     ]
    },
    {
     "name": "stderr",
     "output_type": "stream",
     "text": [
      "\n",
      "Parsing document parts from 'apple_10k.pdf': 100%|█| 8/8 [00:54<00:00,  6.86s/it\u001b[A"
     ]
    },
    {
     "name": "stdout",
     "output_type": "stream",
     "text": [
      "\u001b[2m2025-08-03 16:08:16\u001b[0m [info   \u001b[0m] \u001b[1mSaving 458 chunks as images to 'ade_outputs/grounding/apple_10k_20250803_160816'\u001b[0m [\u001b[0m\u001b[1m\u001b[34magentic_doc.utils\u001b[0m]\u001b[0m \u001b[36mfile_path\u001b[0m=\u001b[35mPosixPath('apple_10k.pdf')\u001b[0m \u001b[36mfile_type\u001b[0m=\u001b[35mpdf\u001b[0m (utils.py:82)\n"
     ]
    },
    {
     "name": "stderr",
     "output_type": "stream",
     "text": [
      "\n",
      "Parsing documents: 100%|██████████████████████████| 1/1 [00:55<00:00, 55.59s/it]"
     ]
    },
    {
     "name": "stdout",
     "output_type": "stream",
     "text": [
      "\u001b[2m2025-08-03 16:08:17\u001b[0m [info   \u001b[0m] \u001b[1mVisualizing parsed document of: 'apple_10k.pdf'\u001b[0m [\u001b[0m\u001b[1m\u001b[34magentic_doc.utils\u001b[0m]\u001b[0m (utils.py:305)\n"
     ]
    },
    {
     "name": "stderr",
     "output_type": "stream",
     "text": [
      "\n",
      "/var/folders/_0/xg_50ybj0bs8yjqd5wjj40h40000gn/T/ipykernel_33550/2857715197.py:5: PydanticDeprecatedSince20: The `dict` method is deprecated; use `model_dump` instead. Deprecated in Pydantic V2.0 to be removed in V3.0. See Pydantic V2 Migration Guide at https://errors.pydantic.dev/2.11/migration/\n",
      "  normalized_chunks = [normalize_chunk(c.dict()) for c in parsed_doc.chunks]\n"
     ]
    },
    {
     "name": "stdout",
     "output_type": "stream",
     "text": [
      "\n",
      "Parsing + Visualization Complete ✅\n",
      "- Markdown: ./ade_outputs/apple_10k.md\n",
      "- JSON: ./ade_outputs/apple_10k.json\n",
      "- Page bounding box visualizations: 74 images saved in ./ade_outputs\n",
      "- Grounding crops: saved in ./ade_outputs/grounding\n",
      "\n"
     ]
    }
   ],
   "source": [
    "# LandingAI Python Library for Document Parsing & Saving Chunk Images\n",
    "results = parse(DOC_PATH, grounding_save_dir=GROUNDING_DIR)\n",
    "parsed_doc = results[0]\n",
    "\n",
    "# Normalize Chunks into JSON-Safe Format\n",
    "normalized_chunks = [normalize_chunk(c.dict()) for c in parsed_doc.chunks]\n",
    "\n",
    "# Save Normalized Chunks\n",
    "with open(ADE_JSON_PATH, \"w\") as f:\n",
    "    json.dump(normalized_chunks, f, indent=2)\n",
    "\n",
    "# Save Markdown Output\n",
    "with open(ADE_MD_PATH, \"w\") as f:\n",
    "    f.write(parsed_doc.markdown)\n",
    "\n",
    "# Save Visualization Images with Bounding Boxes\n",
    "images = viz_parsed_document(DOC_PATH, parsed_doc, output_dir=OUTPUT_DIR)\n",
    "\n",
    "print(f\"\"\"\n",
    "Parsing + Visualization Complete ✅\n",
    "- Markdown: {ADE_MD_PATH}\n",
    "- JSON: {ADE_JSON_PATH}\n",
    "- Page bounding box visualizations: {len(images)} images saved in {OUTPUT_DIR}\n",
    "- Grounding crops: saved in {GROUNDING_DIR}\n",
    "\"\"\")"
   ]
  },
  {
   "cell_type": "markdown",
   "id": "f94aa912-9237-4051-92ca-755f96b8d0cb",
   "metadata": {},
   "source": [
    "---"
   ]
  },
  {
   "cell_type": "markdown",
   "id": "7ee5ca73-3e17-41fc-a269-b1cb124bbe69",
   "metadata": {},
   "source": [
    "# Chroma Initialization (Persistent Vector Store)"
   ]
  },
  {
   "cell_type": "code",
   "execution_count": 10,
   "id": "576832db-1a1d-4a76-a31f-637adcc877bb",
   "metadata": {
    "tags": []
   },
   "outputs": [
    {
     "name": "stdout",
     "output_type": "stream",
     "text": [
      "Anonymized telemetry enabled. See                     https://docs.trychroma.com/telemetry for more information. (posthog.py:22)\n"
     ]
    }
   ],
   "source": [
    "# Instantiate the Chroma Client\n",
    "chroma_client = chromadb.PersistentClient(path=\"./chroma_db\")\n",
    "\n",
    "# Create or Load ADE Collection\n",
    "collection = chroma_client.get_or_create_collection(name=\"ade_documents\")"
   ]
  },
  {
   "cell_type": "markdown",
   "id": "1498b234-b3a4-49b2-a80b-0ed3b2ca7f31",
   "metadata": {},
   "source": [
    "---"
   ]
  },
  {
   "cell_type": "markdown",
   "id": "30e25f13-e09e-45b1-9114-a4b376b4eca9",
   "metadata": {},
   "source": [
    "# Insert ADE Chunks into Chroma"
   ]
  },
  {
   "cell_type": "code",
   "execution_count": 12,
   "id": "6adda104-d7ae-4ac1-b56c-dcd0563c8a91",
   "metadata": {
    "tags": []
   },
   "outputs": [
    {
     "name": "stdout",
     "output_type": "stream",
     "text": [
      "HTTP Request: POST https://api.openai.com/v1/embeddings \"HTTP/1.1 200 OK\" (_client.py:1025)\n",
      "HTTP Request: POST https://api.openai.com/v1/embeddings \"HTTP/1.1 200 OK\" (_client.py:1025)\n",
      "HTTP Request: POST https://api.openai.com/v1/embeddings \"HTTP/1.1 200 OK\" (_client.py:1025)\n",
      "HTTP Request: POST https://api.openai.com/v1/embeddings \"HTTP/1.1 200 OK\" (_client.py:1025)\n",
      "HTTP Request: POST https://api.openai.com/v1/embeddings \"HTTP/1.1 200 OK\" (_client.py:1025)\n",
      "HTTP Request: POST https://api.openai.com/v1/embeddings \"HTTP/1.1 200 OK\" (_client.py:1025)\n",
      "HTTP Request: POST https://api.openai.com/v1/embeddings \"HTTP/1.1 200 OK\" (_client.py:1025)\n",
      "HTTP Request: POST https://api.openai.com/v1/embeddings \"HTTP/1.1 200 OK\" (_client.py:1025)\n",
      "HTTP Request: POST https://api.openai.com/v1/embeddings \"HTTP/1.1 200 OK\" (_client.py:1025)\n",
      "HTTP Request: POST https://api.openai.com/v1/embeddings \"HTTP/1.1 200 OK\" (_client.py:1025)\n",
      "HTTP Request: POST https://api.openai.com/v1/embeddings \"HTTP/1.1 200 OK\" (_client.py:1025)\n",
      "HTTP Request: POST https://api.openai.com/v1/embeddings \"HTTP/1.1 200 OK\" (_client.py:1025)\n",
      "HTTP Request: POST https://api.openai.com/v1/embeddings \"HTTP/1.1 200 OK\" (_client.py:1025)\n",
      "HTTP Request: POST https://api.openai.com/v1/embeddings \"HTTP/1.1 200 OK\" (_client.py:1025)\n",
      "HTTP Request: POST https://api.openai.com/v1/embeddings \"HTTP/1.1 200 OK\" (_client.py:1025)\n",
      "HTTP Request: POST https://api.openai.com/v1/embeddings \"HTTP/1.1 200 OK\" (_client.py:1025)\n",
      "HTTP Request: POST https://api.openai.com/v1/embeddings \"HTTP/1.1 200 OK\" (_client.py:1025)\n",
      "HTTP Request: POST https://api.openai.com/v1/embeddings \"HTTP/1.1 200 OK\" (_client.py:1025)\n",
      "HTTP Request: POST https://api.openai.com/v1/embeddings \"HTTP/1.1 200 OK\" (_client.py:1025)\n",
      "HTTP Request: POST https://api.openai.com/v1/embeddings \"HTTP/1.1 200 OK\" (_client.py:1025)\n",
      "HTTP Request: POST https://api.openai.com/v1/embeddings \"HTTP/1.1 200 OK\" (_client.py:1025)\n",
      "HTTP Request: POST https://api.openai.com/v1/embeddings \"HTTP/1.1 200 OK\" (_client.py:1025)\n",
      "HTTP Request: POST https://api.openai.com/v1/embeddings \"HTTP/1.1 200 OK\" (_client.py:1025)\n",
      "HTTP Request: POST https://api.openai.com/v1/embeddings \"HTTP/1.1 200 OK\" (_client.py:1025)\n",
      "HTTP Request: POST https://api.openai.com/v1/embeddings \"HTTP/1.1 200 OK\" (_client.py:1025)\n",
      "HTTP Request: POST https://api.openai.com/v1/embeddings \"HTTP/1.1 200 OK\" (_client.py:1025)\n",
      "HTTP Request: POST https://api.openai.com/v1/embeddings \"HTTP/1.1 200 OK\" (_client.py:1025)\n",
      "HTTP Request: POST https://api.openai.com/v1/embeddings \"HTTP/1.1 200 OK\" (_client.py:1025)\n",
      "HTTP Request: POST https://api.openai.com/v1/embeddings \"HTTP/1.1 200 OK\" (_client.py:1025)\n",
      "HTTP Request: POST https://api.openai.com/v1/embeddings \"HTTP/1.1 200 OK\" (_client.py:1025)\n",
      "HTTP Request: POST https://api.openai.com/v1/embeddings \"HTTP/1.1 200 OK\" (_client.py:1025)\n",
      "HTTP Request: POST https://api.openai.com/v1/embeddings \"HTTP/1.1 200 OK\" (_client.py:1025)\n",
      "HTTP Request: POST https://api.openai.com/v1/embeddings \"HTTP/1.1 200 OK\" (_client.py:1025)\n",
      "HTTP Request: POST https://api.openai.com/v1/embeddings \"HTTP/1.1 200 OK\" (_client.py:1025)\n",
      "HTTP Request: POST https://api.openai.com/v1/embeddings \"HTTP/1.1 200 OK\" (_client.py:1025)\n",
      "HTTP Request: POST https://api.openai.com/v1/embeddings \"HTTP/1.1 200 OK\" (_client.py:1025)\n",
      "HTTP Request: POST https://api.openai.com/v1/embeddings \"HTTP/1.1 200 OK\" (_client.py:1025)\n",
      "HTTP Request: POST https://api.openai.com/v1/embeddings \"HTTP/1.1 200 OK\" (_client.py:1025)\n",
      "HTTP Request: POST https://api.openai.com/v1/embeddings \"HTTP/1.1 200 OK\" (_client.py:1025)\n",
      "HTTP Request: POST https://api.openai.com/v1/embeddings \"HTTP/1.1 200 OK\" (_client.py:1025)\n",
      "HTTP Request: POST https://api.openai.com/v1/embeddings \"HTTP/1.1 200 OK\" (_client.py:1025)\n",
      "HTTP Request: POST https://api.openai.com/v1/embeddings \"HTTP/1.1 200 OK\" (_client.py:1025)\n",
      "HTTP Request: POST https://api.openai.com/v1/embeddings \"HTTP/1.1 200 OK\" (_client.py:1025)\n",
      "HTTP Request: POST https://api.openai.com/v1/embeddings \"HTTP/1.1 200 OK\" (_client.py:1025)\n",
      "HTTP Request: POST https://api.openai.com/v1/embeddings \"HTTP/1.1 200 OK\" (_client.py:1025)\n",
      "HTTP Request: POST https://api.openai.com/v1/embeddings \"HTTP/1.1 200 OK\" (_client.py:1025)\n",
      "HTTP Request: POST https://api.openai.com/v1/embeddings \"HTTP/1.1 200 OK\" (_client.py:1025)\n",
      "HTTP Request: POST https://api.openai.com/v1/embeddings \"HTTP/1.1 200 OK\" (_client.py:1025)\n",
      "HTTP Request: POST https://api.openai.com/v1/embeddings \"HTTP/1.1 200 OK\" (_client.py:1025)\n",
      "HTTP Request: POST https://api.openai.com/v1/embeddings \"HTTP/1.1 200 OK\" (_client.py:1025)\n",
      "HTTP Request: POST https://api.openai.com/v1/embeddings \"HTTP/1.1 200 OK\" (_client.py:1025)\n",
      "HTTP Request: POST https://api.openai.com/v1/embeddings \"HTTP/1.1 200 OK\" (_client.py:1025)\n",
      "HTTP Request: POST https://api.openai.com/v1/embeddings \"HTTP/1.1 200 OK\" (_client.py:1025)\n",
      "HTTP Request: POST https://api.openai.com/v1/embeddings \"HTTP/1.1 200 OK\" (_client.py:1025)\n",
      "HTTP Request: POST https://api.openai.com/v1/embeddings \"HTTP/1.1 200 OK\" (_client.py:1025)\n",
      "HTTP Request: POST https://api.openai.com/v1/embeddings \"HTTP/1.1 200 OK\" (_client.py:1025)\n",
      "HTTP Request: POST https://api.openai.com/v1/embeddings \"HTTP/1.1 200 OK\" (_client.py:1025)\n",
      "HTTP Request: POST https://api.openai.com/v1/embeddings \"HTTP/1.1 200 OK\" (_client.py:1025)\n",
      "HTTP Request: POST https://api.openai.com/v1/embeddings \"HTTP/1.1 200 OK\" (_client.py:1025)\n",
      "HTTP Request: POST https://api.openai.com/v1/embeddings \"HTTP/1.1 200 OK\" (_client.py:1025)\n",
      "HTTP Request: POST https://api.openai.com/v1/embeddings \"HTTP/1.1 200 OK\" (_client.py:1025)\n",
      "HTTP Request: POST https://api.openai.com/v1/embeddings \"HTTP/1.1 200 OK\" (_client.py:1025)\n",
      "HTTP Request: POST https://api.openai.com/v1/embeddings \"HTTP/1.1 200 OK\" (_client.py:1025)\n",
      "HTTP Request: POST https://api.openai.com/v1/embeddings \"HTTP/1.1 200 OK\" (_client.py:1025)\n",
      "HTTP Request: POST https://api.openai.com/v1/embeddings \"HTTP/1.1 200 OK\" (_client.py:1025)\n",
      "HTTP Request: POST https://api.openai.com/v1/embeddings \"HTTP/1.1 200 OK\" (_client.py:1025)\n",
      "HTTP Request: POST https://api.openai.com/v1/embeddings \"HTTP/1.1 200 OK\" (_client.py:1025)\n",
      "HTTP Request: POST https://api.openai.com/v1/embeddings \"HTTP/1.1 200 OK\" (_client.py:1025)\n",
      "HTTP Request: POST https://api.openai.com/v1/embeddings \"HTTP/1.1 200 OK\" (_client.py:1025)\n",
      "HTTP Request: POST https://api.openai.com/v1/embeddings \"HTTP/1.1 200 OK\" (_client.py:1025)\n",
      "HTTP Request: POST https://api.openai.com/v1/embeddings \"HTTP/1.1 200 OK\" (_client.py:1025)\n",
      "HTTP Request: POST https://api.openai.com/v1/embeddings \"HTTP/1.1 200 OK\" (_client.py:1025)\n",
      "HTTP Request: POST https://api.openai.com/v1/embeddings \"HTTP/1.1 200 OK\" (_client.py:1025)\n",
      "HTTP Request: POST https://api.openai.com/v1/embeddings \"HTTP/1.1 200 OK\" (_client.py:1025)\n",
      "HTTP Request: POST https://api.openai.com/v1/embeddings \"HTTP/1.1 200 OK\" (_client.py:1025)\n",
      "HTTP Request: POST https://api.openai.com/v1/embeddings \"HTTP/1.1 200 OK\" (_client.py:1025)\n",
      "HTTP Request: POST https://api.openai.com/v1/embeddings \"HTTP/1.1 200 OK\" (_client.py:1025)\n",
      "HTTP Request: POST https://api.openai.com/v1/embeddings \"HTTP/1.1 200 OK\" (_client.py:1025)\n",
      "HTTP Request: POST https://api.openai.com/v1/embeddings \"HTTP/1.1 200 OK\" (_client.py:1025)\n",
      "HTTP Request: POST https://api.openai.com/v1/embeddings \"HTTP/1.1 200 OK\" (_client.py:1025)\n",
      "HTTP Request: POST https://api.openai.com/v1/embeddings \"HTTP/1.1 200 OK\" (_client.py:1025)\n",
      "HTTP Request: POST https://api.openai.com/v1/embeddings \"HTTP/1.1 200 OK\" (_client.py:1025)\n",
      "HTTP Request: POST https://api.openai.com/v1/embeddings \"HTTP/1.1 200 OK\" (_client.py:1025)\n",
      "HTTP Request: POST https://api.openai.com/v1/embeddings \"HTTP/1.1 200 OK\" (_client.py:1025)\n",
      "HTTP Request: POST https://api.openai.com/v1/embeddings \"HTTP/1.1 200 OK\" (_client.py:1025)\n",
      "HTTP Request: POST https://api.openai.com/v1/embeddings \"HTTP/1.1 200 OK\" (_client.py:1025)\n",
      "HTTP Request: POST https://api.openai.com/v1/embeddings \"HTTP/1.1 200 OK\" (_client.py:1025)\n",
      "HTTP Request: POST https://api.openai.com/v1/embeddings \"HTTP/1.1 200 OK\" (_client.py:1025)\n",
      "HTTP Request: POST https://api.openai.com/v1/embeddings \"HTTP/1.1 200 OK\" (_client.py:1025)\n",
      "HTTP Request: POST https://api.openai.com/v1/embeddings \"HTTP/1.1 200 OK\" (_client.py:1025)\n",
      "HTTP Request: POST https://api.openai.com/v1/embeddings \"HTTP/1.1 200 OK\" (_client.py:1025)\n",
      "HTTP Request: POST https://api.openai.com/v1/embeddings \"HTTP/1.1 200 OK\" (_client.py:1025)\n",
      "HTTP Request: POST https://api.openai.com/v1/embeddings \"HTTP/1.1 200 OK\" (_client.py:1025)\n",
      "HTTP Request: POST https://api.openai.com/v1/embeddings \"HTTP/1.1 200 OK\" (_client.py:1025)\n",
      "HTTP Request: POST https://api.openai.com/v1/embeddings \"HTTP/1.1 200 OK\" (_client.py:1025)\n",
      "HTTP Request: POST https://api.openai.com/v1/embeddings \"HTTP/1.1 200 OK\" (_client.py:1025)\n",
      "HTTP Request: POST https://api.openai.com/v1/embeddings \"HTTP/1.1 200 OK\" (_client.py:1025)\n",
      "HTTP Request: POST https://api.openai.com/v1/embeddings \"HTTP/1.1 200 OK\" (_client.py:1025)\n",
      "HTTP Request: POST https://api.openai.com/v1/embeddings \"HTTP/1.1 200 OK\" (_client.py:1025)\n",
      "HTTP Request: POST https://api.openai.com/v1/embeddings \"HTTP/1.1 200 OK\" (_client.py:1025)\n",
      "HTTP Request: POST https://api.openai.com/v1/embeddings \"HTTP/1.1 200 OK\" (_client.py:1025)\n",
      "HTTP Request: POST https://api.openai.com/v1/embeddings \"HTTP/1.1 200 OK\" (_client.py:1025)\n",
      "HTTP Request: POST https://api.openai.com/v1/embeddings \"HTTP/1.1 200 OK\" (_client.py:1025)\n",
      "HTTP Request: POST https://api.openai.com/v1/embeddings \"HTTP/1.1 200 OK\" (_client.py:1025)\n",
      "HTTP Request: POST https://api.openai.com/v1/embeddings \"HTTP/1.1 200 OK\" (_client.py:1025)\n",
      "HTTP Request: POST https://api.openai.com/v1/embeddings \"HTTP/1.1 200 OK\" (_client.py:1025)\n",
      "HTTP Request: POST https://api.openai.com/v1/embeddings \"HTTP/1.1 200 OK\" (_client.py:1025)\n",
      "HTTP Request: POST https://api.openai.com/v1/embeddings \"HTTP/1.1 200 OK\" (_client.py:1025)\n",
      "HTTP Request: POST https://api.openai.com/v1/embeddings \"HTTP/1.1 200 OK\" (_client.py:1025)\n",
      "HTTP Request: POST https://api.openai.com/v1/embeddings \"HTTP/1.1 200 OK\" (_client.py:1025)\n",
      "HTTP Request: POST https://api.openai.com/v1/embeddings \"HTTP/1.1 200 OK\" (_client.py:1025)\n",
      "HTTP Request: POST https://api.openai.com/v1/embeddings \"HTTP/1.1 200 OK\" (_client.py:1025)\n",
      "HTTP Request: POST https://api.openai.com/v1/embeddings \"HTTP/1.1 200 OK\" (_client.py:1025)\n",
      "HTTP Request: POST https://api.openai.com/v1/embeddings \"HTTP/1.1 200 OK\" (_client.py:1025)\n",
      "HTTP Request: POST https://api.openai.com/v1/embeddings \"HTTP/1.1 200 OK\" (_client.py:1025)\n",
      "HTTP Request: POST https://api.openai.com/v1/embeddings \"HTTP/1.1 200 OK\" (_client.py:1025)\n",
      "HTTP Request: POST https://api.openai.com/v1/embeddings \"HTTP/1.1 200 OK\" (_client.py:1025)\n",
      "HTTP Request: POST https://api.openai.com/v1/embeddings \"HTTP/1.1 200 OK\" (_client.py:1025)\n",
      "HTTP Request: POST https://api.openai.com/v1/embeddings \"HTTP/1.1 200 OK\" (_client.py:1025)\n",
      "HTTP Request: POST https://api.openai.com/v1/embeddings \"HTTP/1.1 200 OK\" (_client.py:1025)\n",
      "HTTP Request: POST https://api.openai.com/v1/embeddings \"HTTP/1.1 200 OK\" (_client.py:1025)\n",
      "HTTP Request: POST https://api.openai.com/v1/embeddings \"HTTP/1.1 200 OK\" (_client.py:1025)\n",
      "HTTP Request: POST https://api.openai.com/v1/embeddings \"HTTP/1.1 200 OK\" (_client.py:1025)\n",
      "HTTP Request: POST https://api.openai.com/v1/embeddings \"HTTP/1.1 200 OK\" (_client.py:1025)\n",
      "HTTP Request: POST https://api.openai.com/v1/embeddings \"HTTP/1.1 200 OK\" (_client.py:1025)\n",
      "HTTP Request: POST https://api.openai.com/v1/embeddings \"HTTP/1.1 200 OK\" (_client.py:1025)\n",
      "HTTP Request: POST https://api.openai.com/v1/embeddings \"HTTP/1.1 200 OK\" (_client.py:1025)\n",
      "HTTP Request: POST https://api.openai.com/v1/embeddings \"HTTP/1.1 200 OK\" (_client.py:1025)\n",
      "HTTP Request: POST https://api.openai.com/v1/embeddings \"HTTP/1.1 200 OK\" (_client.py:1025)\n",
      "HTTP Request: POST https://api.openai.com/v1/embeddings \"HTTP/1.1 200 OK\" (_client.py:1025)\n",
      "HTTP Request: POST https://api.openai.com/v1/embeddings \"HTTP/1.1 200 OK\" (_client.py:1025)\n",
      "HTTP Request: POST https://api.openai.com/v1/embeddings \"HTTP/1.1 200 OK\" (_client.py:1025)\n",
      "HTTP Request: POST https://api.openai.com/v1/embeddings \"HTTP/1.1 200 OK\" (_client.py:1025)\n",
      "HTTP Request: POST https://api.openai.com/v1/embeddings \"HTTP/1.1 200 OK\" (_client.py:1025)\n",
      "HTTP Request: POST https://api.openai.com/v1/embeddings \"HTTP/1.1 200 OK\" (_client.py:1025)\n",
      "HTTP Request: POST https://api.openai.com/v1/embeddings \"HTTP/1.1 200 OK\" (_client.py:1025)\n",
      "HTTP Request: POST https://api.openai.com/v1/embeddings \"HTTP/1.1 200 OK\" (_client.py:1025)\n",
      "HTTP Request: POST https://api.openai.com/v1/embeddings \"HTTP/1.1 200 OK\" (_client.py:1025)\n",
      "HTTP Request: POST https://api.openai.com/v1/embeddings \"HTTP/1.1 200 OK\" (_client.py:1025)\n",
      "HTTP Request: POST https://api.openai.com/v1/embeddings \"HTTP/1.1 200 OK\" (_client.py:1025)\n",
      "HTTP Request: POST https://api.openai.com/v1/embeddings \"HTTP/1.1 200 OK\" (_client.py:1025)\n",
      "HTTP Request: POST https://api.openai.com/v1/embeddings \"HTTP/1.1 200 OK\" (_client.py:1025)\n",
      "HTTP Request: POST https://api.openai.com/v1/embeddings \"HTTP/1.1 200 OK\" (_client.py:1025)\n",
      "HTTP Request: POST https://api.openai.com/v1/embeddings \"HTTP/1.1 200 OK\" (_client.py:1025)\n",
      "HTTP Request: POST https://api.openai.com/v1/embeddings \"HTTP/1.1 200 OK\" (_client.py:1025)\n",
      "HTTP Request: POST https://api.openai.com/v1/embeddings \"HTTP/1.1 200 OK\" (_client.py:1025)\n",
      "HTTP Request: POST https://api.openai.com/v1/embeddings \"HTTP/1.1 200 OK\" (_client.py:1025)\n",
      "HTTP Request: POST https://api.openai.com/v1/embeddings \"HTTP/1.1 200 OK\" (_client.py:1025)\n",
      "HTTP Request: POST https://api.openai.com/v1/embeddings \"HTTP/1.1 200 OK\" (_client.py:1025)\n",
      "HTTP Request: POST https://api.openai.com/v1/embeddings \"HTTP/1.1 200 OK\" (_client.py:1025)\n",
      "HTTP Request: POST https://api.openai.com/v1/embeddings \"HTTP/1.1 200 OK\" (_client.py:1025)\n",
      "HTTP Request: POST https://api.openai.com/v1/embeddings \"HTTP/1.1 200 OK\" (_client.py:1025)\n",
      "HTTP Request: POST https://api.openai.com/v1/embeddings \"HTTP/1.1 200 OK\" (_client.py:1025)\n",
      "HTTP Request: POST https://api.openai.com/v1/embeddings \"HTTP/1.1 200 OK\" (_client.py:1025)\n",
      "HTTP Request: POST https://api.openai.com/v1/embeddings \"HTTP/1.1 200 OK\" (_client.py:1025)\n",
      "HTTP Request: POST https://api.openai.com/v1/embeddings \"HTTP/1.1 200 OK\" (_client.py:1025)\n",
      "HTTP Request: POST https://api.openai.com/v1/embeddings \"HTTP/1.1 200 OK\" (_client.py:1025)\n",
      "HTTP Request: POST https://api.openai.com/v1/embeddings \"HTTP/1.1 200 OK\" (_client.py:1025)\n",
      "HTTP Request: POST https://api.openai.com/v1/embeddings \"HTTP/1.1 200 OK\" (_client.py:1025)\n",
      "HTTP Request: POST https://api.openai.com/v1/embeddings \"HTTP/1.1 200 OK\" (_client.py:1025)\n",
      "HTTP Request: POST https://api.openai.com/v1/embeddings \"HTTP/1.1 200 OK\" (_client.py:1025)\n",
      "HTTP Request: POST https://api.openai.com/v1/embeddings \"HTTP/1.1 200 OK\" (_client.py:1025)\n",
      "HTTP Request: POST https://api.openai.com/v1/embeddings \"HTTP/1.1 200 OK\" (_client.py:1025)\n",
      "HTTP Request: POST https://api.openai.com/v1/embeddings \"HTTP/1.1 200 OK\" (_client.py:1025)\n",
      "HTTP Request: POST https://api.openai.com/v1/embeddings \"HTTP/1.1 200 OK\" (_client.py:1025)\n",
      "HTTP Request: POST https://api.openai.com/v1/embeddings \"HTTP/1.1 200 OK\" (_client.py:1025)\n",
      "HTTP Request: POST https://api.openai.com/v1/embeddings \"HTTP/1.1 200 OK\" (_client.py:1025)\n",
      "HTTP Request: POST https://api.openai.com/v1/embeddings \"HTTP/1.1 200 OK\" (_client.py:1025)\n",
      "HTTP Request: POST https://api.openai.com/v1/embeddings \"HTTP/1.1 200 OK\" (_client.py:1025)\n",
      "HTTP Request: POST https://api.openai.com/v1/embeddings \"HTTP/1.1 200 OK\" (_client.py:1025)\n",
      "HTTP Request: POST https://api.openai.com/v1/embeddings \"HTTP/1.1 200 OK\" (_client.py:1025)\n",
      "HTTP Request: POST https://api.openai.com/v1/embeddings \"HTTP/1.1 200 OK\" (_client.py:1025)\n",
      "HTTP Request: POST https://api.openai.com/v1/embeddings \"HTTP/1.1 200 OK\" (_client.py:1025)\n",
      "HTTP Request: POST https://api.openai.com/v1/embeddings \"HTTP/1.1 200 OK\" (_client.py:1025)\n",
      "HTTP Request: POST https://api.openai.com/v1/embeddings \"HTTP/1.1 200 OK\" (_client.py:1025)\n",
      "HTTP Request: POST https://api.openai.com/v1/embeddings \"HTTP/1.1 200 OK\" (_client.py:1025)\n",
      "HTTP Request: POST https://api.openai.com/v1/embeddings \"HTTP/1.1 200 OK\" (_client.py:1025)\n",
      "HTTP Request: POST https://api.openai.com/v1/embeddings \"HTTP/1.1 200 OK\" (_client.py:1025)\n",
      "HTTP Request: POST https://api.openai.com/v1/embeddings \"HTTP/1.1 200 OK\" (_client.py:1025)\n",
      "HTTP Request: POST https://api.openai.com/v1/embeddings \"HTTP/1.1 200 OK\" (_client.py:1025)\n",
      "HTTP Request: POST https://api.openai.com/v1/embeddings \"HTTP/1.1 200 OK\" (_client.py:1025)\n",
      "HTTP Request: POST https://api.openai.com/v1/embeddings \"HTTP/1.1 200 OK\" (_client.py:1025)\n",
      "HTTP Request: POST https://api.openai.com/v1/embeddings \"HTTP/1.1 200 OK\" (_client.py:1025)\n",
      "HTTP Request: POST https://api.openai.com/v1/embeddings \"HTTP/1.1 200 OK\" (_client.py:1025)\n",
      "HTTP Request: POST https://api.openai.com/v1/embeddings \"HTTP/1.1 200 OK\" (_client.py:1025)\n",
      "HTTP Request: POST https://api.openai.com/v1/embeddings \"HTTP/1.1 200 OK\" (_client.py:1025)\n",
      "HTTP Request: POST https://api.openai.com/v1/embeddings \"HTTP/1.1 200 OK\" (_client.py:1025)\n",
      "HTTP Request: POST https://api.openai.com/v1/embeddings \"HTTP/1.1 200 OK\" (_client.py:1025)\n",
      "HTTP Request: POST https://api.openai.com/v1/embeddings \"HTTP/1.1 200 OK\" (_client.py:1025)\n",
      "HTTP Request: POST https://api.openai.com/v1/embeddings \"HTTP/1.1 200 OK\" (_client.py:1025)\n",
      "HTTP Request: POST https://api.openai.com/v1/embeddings \"HTTP/1.1 200 OK\" (_client.py:1025)\n",
      "HTTP Request: POST https://api.openai.com/v1/embeddings \"HTTP/1.1 200 OK\" (_client.py:1025)\n",
      "HTTP Request: POST https://api.openai.com/v1/embeddings \"HTTP/1.1 200 OK\" (_client.py:1025)\n",
      "HTTP Request: POST https://api.openai.com/v1/embeddings \"HTTP/1.1 200 OK\" (_client.py:1025)\n",
      "HTTP Request: POST https://api.openai.com/v1/embeddings \"HTTP/1.1 200 OK\" (_client.py:1025)\n",
      "HTTP Request: POST https://api.openai.com/v1/embeddings \"HTTP/1.1 200 OK\" (_client.py:1025)\n",
      "HTTP Request: POST https://api.openai.com/v1/embeddings \"HTTP/1.1 200 OK\" (_client.py:1025)\n",
      "HTTP Request: POST https://api.openai.com/v1/embeddings \"HTTP/1.1 200 OK\" (_client.py:1025)\n",
      "HTTP Request: POST https://api.openai.com/v1/embeddings \"HTTP/1.1 200 OK\" (_client.py:1025)\n",
      "HTTP Request: POST https://api.openai.com/v1/embeddings \"HTTP/1.1 200 OK\" (_client.py:1025)\n",
      "HTTP Request: POST https://api.openai.com/v1/embeddings \"HTTP/1.1 200 OK\" (_client.py:1025)\n",
      "HTTP Request: POST https://api.openai.com/v1/embeddings \"HTTP/1.1 200 OK\" (_client.py:1025)\n",
      "HTTP Request: POST https://api.openai.com/v1/embeddings \"HTTP/1.1 200 OK\" (_client.py:1025)\n",
      "HTTP Request: POST https://api.openai.com/v1/embeddings \"HTTP/1.1 200 OK\" (_client.py:1025)\n",
      "HTTP Request: POST https://api.openai.com/v1/embeddings \"HTTP/1.1 200 OK\" (_client.py:1025)\n",
      "HTTP Request: POST https://api.openai.com/v1/embeddings \"HTTP/1.1 200 OK\" (_client.py:1025)\n",
      "HTTP Request: POST https://api.openai.com/v1/embeddings \"HTTP/1.1 200 OK\" (_client.py:1025)\n",
      "HTTP Request: POST https://api.openai.com/v1/embeddings \"HTTP/1.1 200 OK\" (_client.py:1025)\n",
      "HTTP Request: POST https://api.openai.com/v1/embeddings \"HTTP/1.1 200 OK\" (_client.py:1025)\n",
      "HTTP Request: POST https://api.openai.com/v1/embeddings \"HTTP/1.1 200 OK\" (_client.py:1025)\n",
      "HTTP Request: POST https://api.openai.com/v1/embeddings \"HTTP/1.1 200 OK\" (_client.py:1025)\n",
      "HTTP Request: POST https://api.openai.com/v1/embeddings \"HTTP/1.1 200 OK\" (_client.py:1025)\n",
      "HTTP Request: POST https://api.openai.com/v1/embeddings \"HTTP/1.1 200 OK\" (_client.py:1025)\n",
      "HTTP Request: POST https://api.openai.com/v1/embeddings \"HTTP/1.1 200 OK\" (_client.py:1025)\n",
      "HTTP Request: POST https://api.openai.com/v1/embeddings \"HTTP/1.1 200 OK\" (_client.py:1025)\n",
      "HTTP Request: POST https://api.openai.com/v1/embeddings \"HTTP/1.1 200 OK\" (_client.py:1025)\n",
      "HTTP Request: POST https://api.openai.com/v1/embeddings \"HTTP/1.1 200 OK\" (_client.py:1025)\n",
      "HTTP Request: POST https://api.openai.com/v1/embeddings \"HTTP/1.1 200 OK\" (_client.py:1025)\n",
      "HTTP Request: POST https://api.openai.com/v1/embeddings \"HTTP/1.1 200 OK\" (_client.py:1025)\n",
      "HTTP Request: POST https://api.openai.com/v1/embeddings \"HTTP/1.1 200 OK\" (_client.py:1025)\n",
      "HTTP Request: POST https://api.openai.com/v1/embeddings \"HTTP/1.1 200 OK\" (_client.py:1025)\n",
      "HTTP Request: POST https://api.openai.com/v1/embeddings \"HTTP/1.1 200 OK\" (_client.py:1025)\n",
      "HTTP Request: POST https://api.openai.com/v1/embeddings \"HTTP/1.1 200 OK\" (_client.py:1025)\n",
      "HTTP Request: POST https://api.openai.com/v1/embeddings \"HTTP/1.1 200 OK\" (_client.py:1025)\n",
      "HTTP Request: POST https://api.openai.com/v1/embeddings \"HTTP/1.1 200 OK\" (_client.py:1025)\n",
      "HTTP Request: POST https://api.openai.com/v1/embeddings \"HTTP/1.1 200 OK\" (_client.py:1025)\n",
      "HTTP Request: POST https://api.openai.com/v1/embeddings \"HTTP/1.1 200 OK\" (_client.py:1025)\n",
      "HTTP Request: POST https://api.openai.com/v1/embeddings \"HTTP/1.1 200 OK\" (_client.py:1025)\n",
      "HTTP Request: POST https://api.openai.com/v1/embeddings \"HTTP/1.1 200 OK\" (_client.py:1025)\n",
      "HTTP Request: POST https://api.openai.com/v1/embeddings \"HTTP/1.1 200 OK\" (_client.py:1025)\n",
      "HTTP Request: POST https://api.openai.com/v1/embeddings \"HTTP/1.1 200 OK\" (_client.py:1025)\n",
      "HTTP Request: POST https://api.openai.com/v1/embeddings \"HTTP/1.1 200 OK\" (_client.py:1025)\n",
      "HTTP Request: POST https://api.openai.com/v1/embeddings \"HTTP/1.1 200 OK\" (_client.py:1025)\n",
      "HTTP Request: POST https://api.openai.com/v1/embeddings \"HTTP/1.1 200 OK\" (_client.py:1025)\n",
      "HTTP Request: POST https://api.openai.com/v1/embeddings \"HTTP/1.1 200 OK\" (_client.py:1025)\n",
      "HTTP Request: POST https://api.openai.com/v1/embeddings \"HTTP/1.1 200 OK\" (_client.py:1025)\n",
      "HTTP Request: POST https://api.openai.com/v1/embeddings \"HTTP/1.1 200 OK\" (_client.py:1025)\n",
      "HTTP Request: POST https://api.openai.com/v1/embeddings \"HTTP/1.1 200 OK\" (_client.py:1025)\n",
      "HTTP Request: POST https://api.openai.com/v1/embeddings \"HTTP/1.1 200 OK\" (_client.py:1025)\n",
      "HTTP Request: POST https://api.openai.com/v1/embeddings \"HTTP/1.1 200 OK\" (_client.py:1025)\n",
      "HTTP Request: POST https://api.openai.com/v1/embeddings \"HTTP/1.1 200 OK\" (_client.py:1025)\n",
      "HTTP Request: POST https://api.openai.com/v1/embeddings \"HTTP/1.1 200 OK\" (_client.py:1025)\n",
      "HTTP Request: POST https://api.openai.com/v1/embeddings \"HTTP/1.1 200 OK\" (_client.py:1025)\n",
      "HTTP Request: POST https://api.openai.com/v1/embeddings \"HTTP/1.1 200 OK\" (_client.py:1025)\n",
      "HTTP Request: POST https://api.openai.com/v1/embeddings \"HTTP/1.1 200 OK\" (_client.py:1025)\n",
      "HTTP Request: POST https://api.openai.com/v1/embeddings \"HTTP/1.1 200 OK\" (_client.py:1025)\n",
      "HTTP Request: POST https://api.openai.com/v1/embeddings \"HTTP/1.1 200 OK\" (_client.py:1025)\n",
      "HTTP Request: POST https://api.openai.com/v1/embeddings \"HTTP/1.1 200 OK\" (_client.py:1025)\n",
      "HTTP Request: POST https://api.openai.com/v1/embeddings \"HTTP/1.1 200 OK\" (_client.py:1025)\n",
      "HTTP Request: POST https://api.openai.com/v1/embeddings \"HTTP/1.1 200 OK\" (_client.py:1025)\n",
      "HTTP Request: POST https://api.openai.com/v1/embeddings \"HTTP/1.1 200 OK\" (_client.py:1025)\n",
      "HTTP Request: POST https://api.openai.com/v1/embeddings \"HTTP/1.1 200 OK\" (_client.py:1025)\n",
      "HTTP Request: POST https://api.openai.com/v1/embeddings \"HTTP/1.1 200 OK\" (_client.py:1025)\n",
      "HTTP Request: POST https://api.openai.com/v1/embeddings \"HTTP/1.1 200 OK\" (_client.py:1025)\n",
      "HTTP Request: POST https://api.openai.com/v1/embeddings \"HTTP/1.1 200 OK\" (_client.py:1025)\n",
      "HTTP Request: POST https://api.openai.com/v1/embeddings \"HTTP/1.1 200 OK\" (_client.py:1025)\n",
      "HTTP Request: POST https://api.openai.com/v1/embeddings \"HTTP/1.1 200 OK\" (_client.py:1025)\n",
      "HTTP Request: POST https://api.openai.com/v1/embeddings \"HTTP/1.1 200 OK\" (_client.py:1025)\n",
      "HTTP Request: POST https://api.openai.com/v1/embeddings \"HTTP/1.1 200 OK\" (_client.py:1025)\n",
      "HTTP Request: POST https://api.openai.com/v1/embeddings \"HTTP/1.1 200 OK\" (_client.py:1025)\n",
      "HTTP Request: POST https://api.openai.com/v1/embeddings \"HTTP/1.1 200 OK\" (_client.py:1025)\n",
      "HTTP Request: POST https://api.openai.com/v1/embeddings \"HTTP/1.1 200 OK\" (_client.py:1025)\n",
      "HTTP Request: POST https://api.openai.com/v1/embeddings \"HTTP/1.1 200 OK\" (_client.py:1025)\n",
      "HTTP Request: POST https://api.openai.com/v1/embeddings \"HTTP/1.1 200 OK\" (_client.py:1025)\n",
      "HTTP Request: POST https://api.openai.com/v1/embeddings \"HTTP/1.1 200 OK\" (_client.py:1025)\n",
      "HTTP Request: POST https://api.openai.com/v1/embeddings \"HTTP/1.1 200 OK\" (_client.py:1025)\n",
      "HTTP Request: POST https://api.openai.com/v1/embeddings \"HTTP/1.1 200 OK\" (_client.py:1025)\n",
      "HTTP Request: POST https://api.openai.com/v1/embeddings \"HTTP/1.1 200 OK\" (_client.py:1025)\n",
      "HTTP Request: POST https://api.openai.com/v1/embeddings \"HTTP/1.1 200 OK\" (_client.py:1025)\n",
      "HTTP Request: POST https://api.openai.com/v1/embeddings \"HTTP/1.1 200 OK\" (_client.py:1025)\n",
      "HTTP Request: POST https://api.openai.com/v1/embeddings \"HTTP/1.1 200 OK\" (_client.py:1025)\n",
      "HTTP Request: POST https://api.openai.com/v1/embeddings \"HTTP/1.1 200 OK\" (_client.py:1025)\n",
      "HTTP Request: POST https://api.openai.com/v1/embeddings \"HTTP/1.1 200 OK\" (_client.py:1025)\n",
      "HTTP Request: POST https://api.openai.com/v1/embeddings \"HTTP/1.1 200 OK\" (_client.py:1025)\n",
      "HTTP Request: POST https://api.openai.com/v1/embeddings \"HTTP/1.1 200 OK\" (_client.py:1025)\n",
      "HTTP Request: POST https://api.openai.com/v1/embeddings \"HTTP/1.1 200 OK\" (_client.py:1025)\n",
      "HTTP Request: POST https://api.openai.com/v1/embeddings \"HTTP/1.1 200 OK\" (_client.py:1025)\n",
      "HTTP Request: POST https://api.openai.com/v1/embeddings \"HTTP/1.1 200 OK\" (_client.py:1025)\n",
      "HTTP Request: POST https://api.openai.com/v1/embeddings \"HTTP/1.1 200 OK\" (_client.py:1025)\n",
      "HTTP Request: POST https://api.openai.com/v1/embeddings \"HTTP/1.1 200 OK\" (_client.py:1025)\n",
      "HTTP Request: POST https://api.openai.com/v1/embeddings \"HTTP/1.1 200 OK\" (_client.py:1025)\n",
      "HTTP Request: POST https://api.openai.com/v1/embeddings \"HTTP/1.1 200 OK\" (_client.py:1025)\n",
      "HTTP Request: POST https://api.openai.com/v1/embeddings \"HTTP/1.1 200 OK\" (_client.py:1025)\n",
      "HTTP Request: POST https://api.openai.com/v1/embeddings \"HTTP/1.1 200 OK\" (_client.py:1025)\n",
      "HTTP Request: POST https://api.openai.com/v1/embeddings \"HTTP/1.1 200 OK\" (_client.py:1025)\n",
      "HTTP Request: POST https://api.openai.com/v1/embeddings \"HTTP/1.1 200 OK\" (_client.py:1025)\n",
      "HTTP Request: POST https://api.openai.com/v1/embeddings \"HTTP/1.1 200 OK\" (_client.py:1025)\n",
      "HTTP Request: POST https://api.openai.com/v1/embeddings \"HTTP/1.1 200 OK\" (_client.py:1025)\n",
      "HTTP Request: POST https://api.openai.com/v1/embeddings \"HTTP/1.1 200 OK\" (_client.py:1025)\n",
      "HTTP Request: POST https://api.openai.com/v1/embeddings \"HTTP/1.1 200 OK\" (_client.py:1025)\n",
      "HTTP Request: POST https://api.openai.com/v1/embeddings \"HTTP/1.1 200 OK\" (_client.py:1025)\n",
      "HTTP Request: POST https://api.openai.com/v1/embeddings \"HTTP/1.1 200 OK\" (_client.py:1025)\n",
      "HTTP Request: POST https://api.openai.com/v1/embeddings \"HTTP/1.1 200 OK\" (_client.py:1025)\n",
      "HTTP Request: POST https://api.openai.com/v1/embeddings \"HTTP/1.1 200 OK\" (_client.py:1025)\n",
      "HTTP Request: POST https://api.openai.com/v1/embeddings \"HTTP/1.1 200 OK\" (_client.py:1025)\n",
      "HTTP Request: POST https://api.openai.com/v1/embeddings \"HTTP/1.1 200 OK\" (_client.py:1025)\n",
      "HTTP Request: POST https://api.openai.com/v1/embeddings \"HTTP/1.1 200 OK\" (_client.py:1025)\n",
      "HTTP Request: POST https://api.openai.com/v1/embeddings \"HTTP/1.1 200 OK\" (_client.py:1025)\n",
      "HTTP Request: POST https://api.openai.com/v1/embeddings \"HTTP/1.1 200 OK\" (_client.py:1025)\n",
      "HTTP Request: POST https://api.openai.com/v1/embeddings \"HTTP/1.1 200 OK\" (_client.py:1025)\n",
      "HTTP Request: POST https://api.openai.com/v1/embeddings \"HTTP/1.1 200 OK\" (_client.py:1025)\n",
      "HTTP Request: POST https://api.openai.com/v1/embeddings \"HTTP/1.1 200 OK\" (_client.py:1025)\n",
      "HTTP Request: POST https://api.openai.com/v1/embeddings \"HTTP/1.1 200 OK\" (_client.py:1025)\n",
      "HTTP Request: POST https://api.openai.com/v1/embeddings \"HTTP/1.1 200 OK\" (_client.py:1025)\n",
      "HTTP Request: POST https://api.openai.com/v1/embeddings \"HTTP/1.1 200 OK\" (_client.py:1025)\n",
      "HTTP Request: POST https://api.openai.com/v1/embeddings \"HTTP/1.1 200 OK\" (_client.py:1025)\n",
      "HTTP Request: POST https://api.openai.com/v1/embeddings \"HTTP/1.1 200 OK\" (_client.py:1025)\n",
      "HTTP Request: POST https://api.openai.com/v1/embeddings \"HTTP/1.1 200 OK\" (_client.py:1025)\n",
      "HTTP Request: POST https://api.openai.com/v1/embeddings \"HTTP/1.1 200 OK\" (_client.py:1025)\n",
      "HTTP Request: POST https://api.openai.com/v1/embeddings \"HTTP/1.1 200 OK\" (_client.py:1025)\n",
      "HTTP Request: POST https://api.openai.com/v1/embeddings \"HTTP/1.1 200 OK\" (_client.py:1025)\n",
      "HTTP Request: POST https://api.openai.com/v1/embeddings \"HTTP/1.1 200 OK\" (_client.py:1025)\n",
      "HTTP Request: POST https://api.openai.com/v1/embeddings \"HTTP/1.1 200 OK\" (_client.py:1025)\n",
      "HTTP Request: POST https://api.openai.com/v1/embeddings \"HTTP/1.1 200 OK\" (_client.py:1025)\n",
      "HTTP Request: POST https://api.openai.com/v1/embeddings \"HTTP/1.1 200 OK\" (_client.py:1025)\n",
      "HTTP Request: POST https://api.openai.com/v1/embeddings \"HTTP/1.1 200 OK\" (_client.py:1025)\n",
      "HTTP Request: POST https://api.openai.com/v1/embeddings \"HTTP/1.1 200 OK\" (_client.py:1025)\n",
      "HTTP Request: POST https://api.openai.com/v1/embeddings \"HTTP/1.1 200 OK\" (_client.py:1025)\n",
      "HTTP Request: POST https://api.openai.com/v1/embeddings \"HTTP/1.1 200 OK\" (_client.py:1025)\n",
      "HTTP Request: POST https://api.openai.com/v1/embeddings \"HTTP/1.1 200 OK\" (_client.py:1025)\n",
      "HTTP Request: POST https://api.openai.com/v1/embeddings \"HTTP/1.1 200 OK\" (_client.py:1025)\n",
      "HTTP Request: POST https://api.openai.com/v1/embeddings \"HTTP/1.1 200 OK\" (_client.py:1025)\n",
      "HTTP Request: POST https://api.openai.com/v1/embeddings \"HTTP/1.1 200 OK\" (_client.py:1025)\n",
      "HTTP Request: POST https://api.openai.com/v1/embeddings \"HTTP/1.1 200 OK\" (_client.py:1025)\n",
      "HTTP Request: POST https://api.openai.com/v1/embeddings \"HTTP/1.1 200 OK\" (_client.py:1025)\n",
      "HTTP Request: POST https://api.openai.com/v1/embeddings \"HTTP/1.1 200 OK\" (_client.py:1025)\n",
      "HTTP Request: POST https://api.openai.com/v1/embeddings \"HTTP/1.1 200 OK\" (_client.py:1025)\n",
      "HTTP Request: POST https://api.openai.com/v1/embeddings \"HTTP/1.1 200 OK\" (_client.py:1025)\n",
      "HTTP Request: POST https://api.openai.com/v1/embeddings \"HTTP/1.1 200 OK\" (_client.py:1025)\n",
      "HTTP Request: POST https://api.openai.com/v1/embeddings \"HTTP/1.1 200 OK\" (_client.py:1025)\n",
      "HTTP Request: POST https://api.openai.com/v1/embeddings \"HTTP/1.1 200 OK\" (_client.py:1025)\n",
      "HTTP Request: POST https://api.openai.com/v1/embeddings \"HTTP/1.1 200 OK\" (_client.py:1025)\n",
      "HTTP Request: POST https://api.openai.com/v1/embeddings \"HTTP/1.1 200 OK\" (_client.py:1025)\n",
      "HTTP Request: POST https://api.openai.com/v1/embeddings \"HTTP/1.1 200 OK\" (_client.py:1025)\n",
      "HTTP Request: POST https://api.openai.com/v1/embeddings \"HTTP/1.1 200 OK\" (_client.py:1025)\n",
      "HTTP Request: POST https://api.openai.com/v1/embeddings \"HTTP/1.1 200 OK\" (_client.py:1025)\n",
      "HTTP Request: POST https://api.openai.com/v1/embeddings \"HTTP/1.1 200 OK\" (_client.py:1025)\n",
      "HTTP Request: POST https://api.openai.com/v1/embeddings \"HTTP/1.1 200 OK\" (_client.py:1025)\n",
      "HTTP Request: POST https://api.openai.com/v1/embeddings \"HTTP/1.1 200 OK\" (_client.py:1025)\n",
      "HTTP Request: POST https://api.openai.com/v1/embeddings \"HTTP/1.1 200 OK\" (_client.py:1025)\n",
      "HTTP Request: POST https://api.openai.com/v1/embeddings \"HTTP/1.1 200 OK\" (_client.py:1025)\n",
      "HTTP Request: POST https://api.openai.com/v1/embeddings \"HTTP/1.1 200 OK\" (_client.py:1025)\n",
      "HTTP Request: POST https://api.openai.com/v1/embeddings \"HTTP/1.1 200 OK\" (_client.py:1025)\n",
      "HTTP Request: POST https://api.openai.com/v1/embeddings \"HTTP/1.1 200 OK\" (_client.py:1025)\n",
      "HTTP Request: POST https://api.openai.com/v1/embeddings \"HTTP/1.1 200 OK\" (_client.py:1025)\n",
      "HTTP Request: POST https://api.openai.com/v1/embeddings \"HTTP/1.1 200 OK\" (_client.py:1025)\n",
      "HTTP Request: POST https://api.openai.com/v1/embeddings \"HTTP/1.1 200 OK\" (_client.py:1025)\n",
      "HTTP Request: POST https://api.openai.com/v1/embeddings \"HTTP/1.1 200 OK\" (_client.py:1025)\n",
      "HTTP Request: POST https://api.openai.com/v1/embeddings \"HTTP/1.1 200 OK\" (_client.py:1025)\n",
      "HTTP Request: POST https://api.openai.com/v1/embeddings \"HTTP/1.1 200 OK\" (_client.py:1025)\n",
      "HTTP Request: POST https://api.openai.com/v1/embeddings \"HTTP/1.1 200 OK\" (_client.py:1025)\n",
      "HTTP Request: POST https://api.openai.com/v1/embeddings \"HTTP/1.1 200 OK\" (_client.py:1025)\n",
      "HTTP Request: POST https://api.openai.com/v1/embeddings \"HTTP/1.1 200 OK\" (_client.py:1025)\n",
      "HTTP Request: POST https://api.openai.com/v1/embeddings \"HTTP/1.1 200 OK\" (_client.py:1025)\n",
      "HTTP Request: POST https://api.openai.com/v1/embeddings \"HTTP/1.1 200 OK\" (_client.py:1025)\n",
      "HTTP Request: POST https://api.openai.com/v1/embeddings \"HTTP/1.1 200 OK\" (_client.py:1025)\n",
      "HTTP Request: POST https://api.openai.com/v1/embeddings \"HTTP/1.1 200 OK\" (_client.py:1025)\n",
      "HTTP Request: POST https://api.openai.com/v1/embeddings \"HTTP/1.1 200 OK\" (_client.py:1025)\n",
      "HTTP Request: POST https://api.openai.com/v1/embeddings \"HTTP/1.1 200 OK\" (_client.py:1025)\n",
      "HTTP Request: POST https://api.openai.com/v1/embeddings \"HTTP/1.1 200 OK\" (_client.py:1025)\n",
      "HTTP Request: POST https://api.openai.com/v1/embeddings \"HTTP/1.1 200 OK\" (_client.py:1025)\n",
      "HTTP Request: POST https://api.openai.com/v1/embeddings \"HTTP/1.1 200 OK\" (_client.py:1025)\n",
      "HTTP Request: POST https://api.openai.com/v1/embeddings \"HTTP/1.1 200 OK\" (_client.py:1025)\n",
      "HTTP Request: POST https://api.openai.com/v1/embeddings \"HTTP/1.1 200 OK\" (_client.py:1025)\n",
      "HTTP Request: POST https://api.openai.com/v1/embeddings \"HTTP/1.1 200 OK\" (_client.py:1025)\n",
      "HTTP Request: POST https://api.openai.com/v1/embeddings \"HTTP/1.1 200 OK\" (_client.py:1025)\n",
      "HTTP Request: POST https://api.openai.com/v1/embeddings \"HTTP/1.1 200 OK\" (_client.py:1025)\n",
      "HTTP Request: POST https://api.openai.com/v1/embeddings \"HTTP/1.1 200 OK\" (_client.py:1025)\n",
      "HTTP Request: POST https://api.openai.com/v1/embeddings \"HTTP/1.1 200 OK\" (_client.py:1025)\n",
      "HTTP Request: POST https://api.openai.com/v1/embeddings \"HTTP/1.1 200 OK\" (_client.py:1025)\n",
      "HTTP Request: POST https://api.openai.com/v1/embeddings \"HTTP/1.1 200 OK\" (_client.py:1025)\n",
      "HTTP Request: POST https://api.openai.com/v1/embeddings \"HTTP/1.1 200 OK\" (_client.py:1025)\n",
      "HTTP Request: POST https://api.openai.com/v1/embeddings \"HTTP/1.1 200 OK\" (_client.py:1025)\n",
      "HTTP Request: POST https://api.openai.com/v1/embeddings \"HTTP/1.1 200 OK\" (_client.py:1025)\n",
      "HTTP Request: POST https://api.openai.com/v1/embeddings \"HTTP/1.1 200 OK\" (_client.py:1025)\n",
      "HTTP Request: POST https://api.openai.com/v1/embeddings \"HTTP/1.1 200 OK\" (_client.py:1025)\n",
      "HTTP Request: POST https://api.openai.com/v1/embeddings \"HTTP/1.1 200 OK\" (_client.py:1025)\n",
      "HTTP Request: POST https://api.openai.com/v1/embeddings \"HTTP/1.1 200 OK\" (_client.py:1025)\n",
      "HTTP Request: POST https://api.openai.com/v1/embeddings \"HTTP/1.1 200 OK\" (_client.py:1025)\n",
      "HTTP Request: POST https://api.openai.com/v1/embeddings \"HTTP/1.1 200 OK\" (_client.py:1025)\n",
      "HTTP Request: POST https://api.openai.com/v1/embeddings \"HTTP/1.1 200 OK\" (_client.py:1025)\n",
      "HTTP Request: POST https://api.openai.com/v1/embeddings \"HTTP/1.1 200 OK\" (_client.py:1025)\n",
      "HTTP Request: POST https://api.openai.com/v1/embeddings \"HTTP/1.1 200 OK\" (_client.py:1025)\n",
      "HTTP Request: POST https://api.openai.com/v1/embeddings \"HTTP/1.1 200 OK\" (_client.py:1025)\n",
      "HTTP Request: POST https://api.openai.com/v1/embeddings \"HTTP/1.1 200 OK\" (_client.py:1025)\n",
      "HTTP Request: POST https://api.openai.com/v1/embeddings \"HTTP/1.1 200 OK\" (_client.py:1025)\n",
      "HTTP Request: POST https://api.openai.com/v1/embeddings \"HTTP/1.1 200 OK\" (_client.py:1025)\n",
      "HTTP Request: POST https://api.openai.com/v1/embeddings \"HTTP/1.1 200 OK\" (_client.py:1025)\n",
      "HTTP Request: POST https://api.openai.com/v1/embeddings \"HTTP/1.1 200 OK\" (_client.py:1025)\n",
      "HTTP Request: POST https://api.openai.com/v1/embeddings \"HTTP/1.1 200 OK\" (_client.py:1025)\n",
      "HTTP Request: POST https://api.openai.com/v1/embeddings \"HTTP/1.1 200 OK\" (_client.py:1025)\n",
      "HTTP Request: POST https://api.openai.com/v1/embeddings \"HTTP/1.1 200 OK\" (_client.py:1025)\n",
      "HTTP Request: POST https://api.openai.com/v1/embeddings \"HTTP/1.1 200 OK\" (_client.py:1025)\n",
      "HTTP Request: POST https://api.openai.com/v1/embeddings \"HTTP/1.1 200 OK\" (_client.py:1025)\n",
      "HTTP Request: POST https://api.openai.com/v1/embeddings \"HTTP/1.1 200 OK\" (_client.py:1025)\n",
      "HTTP Request: POST https://api.openai.com/v1/embeddings \"HTTP/1.1 200 OK\" (_client.py:1025)\n",
      "HTTP Request: POST https://api.openai.com/v1/embeddings \"HTTP/1.1 200 OK\" (_client.py:1025)\n",
      "HTTP Request: POST https://api.openai.com/v1/embeddings \"HTTP/1.1 200 OK\" (_client.py:1025)\n",
      "HTTP Request: POST https://api.openai.com/v1/embeddings \"HTTP/1.1 200 OK\" (_client.py:1025)\n",
      "HTTP Request: POST https://api.openai.com/v1/embeddings \"HTTP/1.1 200 OK\" (_client.py:1025)\n",
      "HTTP Request: POST https://api.openai.com/v1/embeddings \"HTTP/1.1 200 OK\" (_client.py:1025)\n",
      "HTTP Request: POST https://api.openai.com/v1/embeddings \"HTTP/1.1 200 OK\" (_client.py:1025)\n",
      "HTTP Request: POST https://api.openai.com/v1/embeddings \"HTTP/1.1 200 OK\" (_client.py:1025)\n",
      "HTTP Request: POST https://api.openai.com/v1/embeddings \"HTTP/1.1 200 OK\" (_client.py:1025)\n",
      "HTTP Request: POST https://api.openai.com/v1/embeddings \"HTTP/1.1 200 OK\" (_client.py:1025)\n",
      "HTTP Request: POST https://api.openai.com/v1/embeddings \"HTTP/1.1 200 OK\" (_client.py:1025)\n",
      "HTTP Request: POST https://api.openai.com/v1/embeddings \"HTTP/1.1 200 OK\" (_client.py:1025)\n",
      "HTTP Request: POST https://api.openai.com/v1/embeddings \"HTTP/1.1 200 OK\" (_client.py:1025)\n",
      "HTTP Request: POST https://api.openai.com/v1/embeddings \"HTTP/1.1 200 OK\" (_client.py:1025)\n",
      "HTTP Request: POST https://api.openai.com/v1/embeddings \"HTTP/1.1 200 OK\" (_client.py:1025)\n",
      "HTTP Request: POST https://api.openai.com/v1/embeddings \"HTTP/1.1 200 OK\" (_client.py:1025)\n",
      "HTTP Request: POST https://api.openai.com/v1/embeddings \"HTTP/1.1 200 OK\" (_client.py:1025)\n",
      "HTTP Request: POST https://api.openai.com/v1/embeddings \"HTTP/1.1 200 OK\" (_client.py:1025)\n",
      "HTTP Request: POST https://api.openai.com/v1/embeddings \"HTTP/1.1 200 OK\" (_client.py:1025)\n",
      "HTTP Request: POST https://api.openai.com/v1/embeddings \"HTTP/1.1 200 OK\" (_client.py:1025)\n",
      "HTTP Request: POST https://api.openai.com/v1/embeddings \"HTTP/1.1 200 OK\" (_client.py:1025)\n",
      "HTTP Request: POST https://api.openai.com/v1/embeddings \"HTTP/1.1 200 OK\" (_client.py:1025)\n",
      "HTTP Request: POST https://api.openai.com/v1/embeddings \"HTTP/1.1 200 OK\" (_client.py:1025)\n",
      "HTTP Request: POST https://api.openai.com/v1/embeddings \"HTTP/1.1 200 OK\" (_client.py:1025)\n",
      "HTTP Request: POST https://api.openai.com/v1/embeddings \"HTTP/1.1 200 OK\" (_client.py:1025)\n",
      "HTTP Request: POST https://api.openai.com/v1/embeddings \"HTTP/1.1 200 OK\" (_client.py:1025)\n",
      "HTTP Request: POST https://api.openai.com/v1/embeddings \"HTTP/1.1 200 OK\" (_client.py:1025)\n",
      "HTTP Request: POST https://api.openai.com/v1/embeddings \"HTTP/1.1 200 OK\" (_client.py:1025)\n",
      "HTTP Request: POST https://api.openai.com/v1/embeddings \"HTTP/1.1 200 OK\" (_client.py:1025)\n",
      "HTTP Request: POST https://api.openai.com/v1/embeddings \"HTTP/1.1 200 OK\" (_client.py:1025)\n",
      "HTTP Request: POST https://api.openai.com/v1/embeddings \"HTTP/1.1 200 OK\" (_client.py:1025)\n",
      "HTTP Request: POST https://api.openai.com/v1/embeddings \"HTTP/1.1 200 OK\" (_client.py:1025)\n",
      "HTTP Request: POST https://api.openai.com/v1/embeddings \"HTTP/1.1 200 OK\" (_client.py:1025)\n",
      "HTTP Request: POST https://api.openai.com/v1/embeddings \"HTTP/1.1 200 OK\" (_client.py:1025)\n",
      "HTTP Request: POST https://api.openai.com/v1/embeddings \"HTTP/1.1 200 OK\" (_client.py:1025)\n",
      "HTTP Request: POST https://api.openai.com/v1/embeddings \"HTTP/1.1 200 OK\" (_client.py:1025)\n",
      "HTTP Request: POST https://api.openai.com/v1/embeddings \"HTTP/1.1 200 OK\" (_client.py:1025)\n",
      "HTTP Request: POST https://api.openai.com/v1/embeddings \"HTTP/1.1 200 OK\" (_client.py:1025)\n",
      "HTTP Request: POST https://api.openai.com/v1/embeddings \"HTTP/1.1 200 OK\" (_client.py:1025)\n",
      "HTTP Request: POST https://api.openai.com/v1/embeddings \"HTTP/1.1 200 OK\" (_client.py:1025)\n",
      "HTTP Request: POST https://api.openai.com/v1/embeddings \"HTTP/1.1 200 OK\" (_client.py:1025)\n",
      "HTTP Request: POST https://api.openai.com/v1/embeddings \"HTTP/1.1 200 OK\" (_client.py:1025)\n",
      "HTTP Request: POST https://api.openai.com/v1/embeddings \"HTTP/1.1 200 OK\" (_client.py:1025)\n",
      "HTTP Request: POST https://api.openai.com/v1/embeddings \"HTTP/1.1 200 OK\" (_client.py:1025)\n",
      "HTTP Request: POST https://api.openai.com/v1/embeddings \"HTTP/1.1 200 OK\" (_client.py:1025)\n",
      "HTTP Request: POST https://api.openai.com/v1/embeddings \"HTTP/1.1 200 OK\" (_client.py:1025)\n",
      "HTTP Request: POST https://api.openai.com/v1/embeddings \"HTTP/1.1 200 OK\" (_client.py:1025)\n",
      "HTTP Request: POST https://api.openai.com/v1/embeddings \"HTTP/1.1 200 OK\" (_client.py:1025)\n",
      "HTTP Request: POST https://api.openai.com/v1/embeddings \"HTTP/1.1 200 OK\" (_client.py:1025)\n",
      "HTTP Request: POST https://api.openai.com/v1/embeddings \"HTTP/1.1 200 OK\" (_client.py:1025)\n",
      "HTTP Request: POST https://api.openai.com/v1/embeddings \"HTTP/1.1 200 OK\" (_client.py:1025)\n",
      "HTTP Request: POST https://api.openai.com/v1/embeddings \"HTTP/1.1 200 OK\" (_client.py:1025)\n",
      "HTTP Request: POST https://api.openai.com/v1/embeddings \"HTTP/1.1 200 OK\" (_client.py:1025)\n",
      "HTTP Request: POST https://api.openai.com/v1/embeddings \"HTTP/1.1 200 OK\" (_client.py:1025)\n",
      "HTTP Request: POST https://api.openai.com/v1/embeddings \"HTTP/1.1 200 OK\" (_client.py:1025)\n",
      "HTTP Request: POST https://api.openai.com/v1/embeddings \"HTTP/1.1 200 OK\" (_client.py:1025)\n",
      "HTTP Request: POST https://api.openai.com/v1/embeddings \"HTTP/1.1 200 OK\" (_client.py:1025)\n",
      "HTTP Request: POST https://api.openai.com/v1/embeddings \"HTTP/1.1 200 OK\" (_client.py:1025)\n",
      "HTTP Request: POST https://api.openai.com/v1/embeddings \"HTTP/1.1 200 OK\" (_client.py:1025)\n",
      "HTTP Request: POST https://api.openai.com/v1/embeddings \"HTTP/1.1 200 OK\" (_client.py:1025)\n",
      "HTTP Request: POST https://api.openai.com/v1/embeddings \"HTTP/1.1 200 OK\" (_client.py:1025)\n",
      "HTTP Request: POST https://api.openai.com/v1/embeddings \"HTTP/1.1 200 OK\" (_client.py:1025)\n",
      "HTTP Request: POST https://api.openai.com/v1/embeddings \"HTTP/1.1 200 OK\" (_client.py:1025)\n",
      "Inserted 458 chunks into Chroma with flat metadata ✅\n"
     ]
    }
   ],
   "source": [
    "for chunk in normalized_chunks:\n",
    "    text = chunk[\"text\"]\n",
    "    chunk_id = chunk[\"chunk_id\"]\n",
    "    grounding = chunk.get(\"grounding\", [])\n",
    "\n",
    "    # Flatten Metadata (Simple Types Only)\n",
    "    metadata = {\n",
    "        \"chunk_type\": chunk[\"chunk_type\"],\n",
    "        \"page\": grounding[0][\"page\"] if grounding else None,\n",
    "        \"image_path\": grounding[0].get(\"image_path\") if grounding and \"image_path\" in grounding[0] else None\n",
    "    }\n",
    "\n",
    "    # Generate Embeddings with OpenAI\n",
    "    emb = openai.embeddings.create(\n",
    "        input=text,\n",
    "        model=\"text-embedding-3-small\"\n",
    "    ).data[0].embedding\n",
    "\n",
    "    # Store in Chroma\n",
    "    collection.add(\n",
    "        documents=[text],\n",
    "        ids=[chunk_id],\n",
    "        metadatas=[metadata],\n",
    "        embeddings=[emb]\n",
    "    )\n",
    "\n",
    "print(f\"Inserted {len(normalized_chunks)} chunks into Chroma with flat metadata ✅\")"
   ]
  },
  {
   "cell_type": "markdown",
   "id": "9857b3ff-e9eb-4f16-9a5a-ece7711a9b39",
   "metadata": {},
   "source": [
    "---"
   ]
  },
  {
   "cell_type": "markdown",
   "id": "9f337c43-1991-428a-bca4-9cdf48872fbc",
   "metadata": {},
   "source": [
    "# RAG Query Function & Visualization"
   ]
  },
  {
   "cell_type": "code",
   "execution_count": 14,
   "id": "7975e100-2c35-40e2-96ed-3ae6d2a45593",
   "metadata": {
    "tags": []
   },
   "outputs": [],
   "source": [
    "def rag_query(question, top_k=3, threshold=0.25):\n",
    "    \"\"\"\n",
    "    Query the ADE Chroma index with a natural language question.\n",
    "    \n",
    "    Args:\n",
    "        question (str): User query\n",
    "        top_k (int): Max results to return\n",
    "        threshold (float): Minimum similarity (1 - distance)\n",
    "    \"\"\"\n",
    "    # 1. Embed Query\n",
    "    q_embed = openai.embeddings.create(\n",
    "        model=\"text-embedding-3-small\",\n",
    "        input=question\n",
    "    ).data[0].embedding\n",
    "\n",
    "    # 2. Query Chroma\n",
    "    results = collection.query(\n",
    "        query_embeddings=[q_embed],\n",
    "        n_results=top_k,\n",
    "        include=[\"documents\", \"metadatas\", \"distances\"]\n",
    "    )\n",
    "\n",
    "    print(f\"\\n🔎 Query: {question}\\n\")\n",
    "\n",
    "    # 3. Parse Results\n",
    "    retrieved_docs   = results[\"documents\"][0]\n",
    "    retrieved_meta   = results[\"metadatas\"][0]\n",
    "    retrieved_dists  = results[\"distances\"][0]\n",
    "    retrieved_ids    = results[\"ids\"][0]\n",
    "\n",
    "    found_any = False\n",
    "    for i, (doc, meta, dist, cid) in enumerate(zip(\n",
    "        retrieved_docs, retrieved_meta, retrieved_dists, retrieved_ids\n",
    "    )):\n",
    "        similarity = 1 - dist\n",
    "        if similarity < threshold:\n",
    "            continue  # Skip Weak Matches\n",
    "\n",
    "        found_any = True\n",
    "        print(f\"Result {i+1} (score={similarity:.3f}): {doc[:160]}...\")\n",
    "        print(f\"Chunk ID: {cid}\")\n",
    "        print(f\"Chunk Type: {meta.get('chunk_type')}, Page: {meta.get('page')}\")\n",
    "        \n",
    "        # Visualize Grounding Crop (If It Exists)\n",
    "        img_path = meta.get(\"image_path\")\n",
    "        if img_path and os.path.exists(img_path):\n",
    "            print(f\"Grounding available → {img_path}\")\n",
    "            display(Image(filename=img_path))\n",
    "        else:\n",
    "            print(\"No grounding crop available\")\n",
    "\n",
    "        print(\"-\" * 80)\n",
    "\n",
    "    if not found_any:\n",
    "        print(\"No results above similarity threshold.\")"
   ]
  },
  {
   "cell_type": "markdown",
   "id": "ef8a97c0-daf6-4537-aec9-60b2ed17d001",
   "metadata": {},
   "source": [
    "---"
   ]
  },
  {
   "cell_type": "markdown",
   "id": "aaedfe8d-7ae5-409d-8fdd-3a12b7165b1a",
   "metadata": {},
   "source": [
    "# Example RAG Query (Local)"
   ]
  },
  {
   "cell_type": "code",
   "execution_count": 18,
   "id": "17ccd5f3-31ae-4344-b4ae-c8fd8a616768",
   "metadata": {
    "tags": []
   },
   "outputs": [
    {
     "name": "stdout",
     "output_type": "stream",
     "text": [
      "HTTP Request: POST https://api.openai.com/v1/embeddings \"HTTP/1.1 200 OK\" (_client.py:1025)\n",
      "\n",
      "🔎 Query: What was Apple’s net sales in 2023?\n",
      "\n",
      "Result 1 (score=0.480): Net sales disaggregated by significant products and services for 2023, 2022 and 2021 were as follows (in millions):\n",
      "<table><thead><tr><th></th><th>2023</th><th>...\n",
      "Chunk ID: 8153133b-df10-4b9a-8cb5-7d034cc41076\n",
      "Chunk Type: table, Page: 46\n",
      "No grounding crop available\n",
      "--------------------------------------------------------------------------------\n",
      "Result 2 (score=0.480): Net sales disaggregated by significant products and services for 2023, 2022 and 2021 were as follows (in millions):\n",
      "<table><thead><tr><th></th><th>2023</th><th>...\n",
      "Chunk ID: e5de7089-d786-4d77-b78e-c9c80e34ad00\n",
      "Chunk Type: table, Page: 46\n",
      "Grounding available → ade_outputs/grounding/apple_10k_20250803_160816/page_46/ChunkType.table_e5de7089-d786-4d77-b78e-c9c80e34ad00_0.png\n"
     ]
    },
    {
     "data": {
      "image/png": "[encoded data removed]",
      "text/plain": [
       "<IPython.core.display.Image object>"
      ]
     },
     "metadata": {},
     "output_type": "display_data"
    },
    {
     "name": "stdout",
     "output_type": "stream",
     "text": [
      "--------------------------------------------------------------------------------\n",
      "Result 3 (score=0.380): *Americas*\n",
      "\n",
      "Americas net sales decreased 4% or $7.1 billion during 2023 compared to 2022 due to lower net sales of iPhone and Mac, partially offset by higher ne...\n",
      "Chunk ID: dcec30b7-f2cf-4ab8-814d-80acc500ca9e\n",
      "Chunk Type: text, Page: 31\n",
      "No grounding crop available\n",
      "--------------------------------------------------------------------------------\n",
      "Result 4 (score=0.380): *Americas*\n",
      "\n",
      "Americas net sales decreased 4% or $7.1 billion during 2023 compared to 2022 due to lower net sales of iPhone and Mac, partially offset by higher ne...\n",
      "Chunk ID: 6c63432a-ea6e-4534-8f9b-7ed138095d8b\n",
      "Chunk Type: text, Page: 31\n",
      "Grounding available → ade_outputs/grounding/apple_10k_20250803_160816/page_31/ChunkType.text_6c63432a-ea6e-4534-8f9b-7ed138095d8b_0.png\n"
     ]
    },
    {
     "data": {
      "image/png": "[encoded data removed]",
      "text/plain": [
       "<IPython.core.display.Image object>"
      ]
     },
     "metadata": {},
     "output_type": "display_data"
    },
    {
     "name": "stdout",
     "output_type": "stream",
     "text": [
      "--------------------------------------------------------------------------------\n",
      "Result 5 (score=0.378): *Mac*\n",
      "Mac net sales decreased 27% or $10.8 billion during 2023 compared to 2022 due primarily to lower net sales of laptops....\n",
      "Chunk ID: 39a047e7-b3a9-45d3-af75-1b755602d8b1\n",
      "Chunk Type: text, Page: 32\n",
      "No grounding crop available\n",
      "--------------------------------------------------------------------------------\n"
     ]
    }
   ],
   "source": [
    "# Pass in Question in Natural Language, Top_K, and Threhold/Cosine Distance\n",
    "rag_query(\"What was Apple’s net sales in 2023?\", top_k=5, threshold=0.32)"
   ]
  },
  {
   "cell_type": "code",
   "execution_count": null,
   "id": "125432a4-d29a-4b3c-94e4-9a35ec9bd430",
   "metadata": {},
   "outputs": [],
   "source": []
  }
 ],
 "metadata": {
  "kernelspec": {
   "display_name": "Python 3 (ipykernel)",
   "language": "python",
   "name": "python3"
  },
  "language_info": {
   "codemirror_mode": {
    "name": "ipython",
    "version": 3
   },
   "file_extension": ".py",
   "mimetype": "text/x-python",
   "name": "python",
   "nbconvert_exporter": "python",
   "pygments_lexer": "ipython3",
   "version": "3.11.7"
  }
 },
 "nbformat": 4,
 "nbformat_minor": 5
}
